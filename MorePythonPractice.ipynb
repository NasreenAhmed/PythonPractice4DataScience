{
  "nbformat": 4,
  "nbformat_minor": 0,
  "metadata": {
    "colab": {
      "name": "MorePythonPractice.ipynb",
      "provenance": [],
      "collapsed_sections": []
    },
    "kernelspec": {
      "name": "python3",
      "display_name": "Python 3"
    },
    "language_info": {
      "name": "python"
    }
  },
  "cells": [
    {
      "cell_type": "markdown",
      "source": [
        "# String"
      ],
      "metadata": {
        "id": "7fzf-k7tlVK_"
      }
    },
    {
      "cell_type": "markdown",
      "source": [
        "1. Python program to check whether the string is Symmetrical or Palindrome"
      ],
      "metadata": {
        "id": "e7KZaHE-lSdG"
      }
    },
    {
      "cell_type": "code",
      "execution_count": null,
      "metadata": {
        "id": "O6zLNwCogYiS"
      },
      "outputs": [],
      "source": [
        "\n",
        "str1 = 'khokho'\n",
        "str2 = 'lateeeetal'\n",
        "str3 = 'uotou'\n",
        "str4 = 'rainyrainy'"
      ]
    },
    {
      "cell_type": "code",
      "source": [
        "# Naive Attemp\n",
        "def checkSymPalindrom(a):\n",
        "  # to check symmetrical it should be even \n",
        " \n",
        "  half = len(a)//2 \n",
        "\n",
        "  if len(a) % 2==0:\n",
        "    \n",
        "    firststr = a[:half]\n",
        "    secondstr = a[half:]\n",
        "  else:\n",
        "    firststr = a[:half]\n",
        "    secondstr = a[half+1:]\n",
        "   \n",
        "  #symmetric \n",
        "  if firststr == secondstr :\n",
        "    print(a, 'string is Symmetrical')\n",
        "  else:\n",
        "    print(a,\"string is not symmetrical\")\n",
        "     \n",
        "\n",
        "  if firststr == secondstr[::-1]:\n",
        "        print(a, 'string is Palindrome')\n",
        "  else:\n",
        "      print(a,\"string is not Palindrom\")"
      ],
      "metadata": {
        "id": "nRBQ0GUkh4wG"
      },
      "execution_count": null,
      "outputs": []
    },
    {
      "cell_type": "code",
      "source": [
        "checkSymPalindrom(str2)"
      ],
      "metadata": {
        "colab": {
          "base_uri": "https://localhost:8080/"
        },
        "id": "rIf4EUs0jpK1",
        "outputId": "99931f79-8a14-4663-bb58-b88d0a05107c"
      },
      "execution_count": null,
      "outputs": [
        {
          "output_type": "stream",
          "name": "stdout",
          "text": [
            "lateeetal string is not symmetrical\n",
            "lateeetal string is Palindrome\n"
          ]
        }
      ]
    },
    {
      "cell_type": "code",
      "source": [
        "# code given by \n",
        "def palindrome(a):\n",
        "  # find the start,mid and last index of the string\n",
        "  mid = (len(a)-1)//2 \n",
        "  print(\"mid\",mid)\n",
        "  last = len(a)- 1\n",
        "  start = 0\n",
        "  flag = 0\n",
        "\n",
        "  while (start <= mid):\n",
        "    if a[start] == a[last]:\n",
        "      start +=1\n",
        "      last -=1\n",
        "    else:\n",
        "      flag = 1\n",
        "      break \n",
        "  \n",
        "  if flag == 0:\n",
        "    print(\"The entered string is Palindrom\")\n",
        "  else:\n",
        "    print(\"The entered string is not Palindrom\")\n",
        "\n",
        "def symmetric(a):\n",
        "\n",
        "  n = len(a)\n",
        "  if n%2==0:\n",
        "    mid = n//2\n",
        "  else:\n",
        "    mid = n//2 + 1\n",
        "\n",
        "  start1 = 0\n",
        "  start2 = mid \n",
        "  flag = 0\n",
        "\n",
        "  while (start1 < mid and start2 < n ):\n",
        "    if a[start1] == a[start2]:\n",
        "      start1 +=1\n",
        "      start2 +=1\n",
        "    else:\n",
        "      flag = 1\n",
        "      break \n",
        "  \n",
        "  if flag == 0:\n",
        "    print(\"The entered string is symmetrical\")\n",
        "  else:\n",
        "    print(\"The entered string is no symmetrical\")"
      ],
      "metadata": {
        "id": "m7ZIeDRrlOnp"
      },
      "execution_count": null,
      "outputs": []
    },
    {
      "cell_type": "code",
      "source": [
        "\n",
        "str1 = 'khokho'\n",
        "str2 = 'lateeeetal'\n",
        "str3 = 'uotou'\n",
        "str4 = 'rainyrainy'"
      ],
      "metadata": {
        "id": "ofvEORMVm9kU"
      },
      "execution_count": null,
      "outputs": []
    },
    {
      "cell_type": "code",
      "source": [
        "symmetric('amaama')"
      ],
      "metadata": {
        "colab": {
          "base_uri": "https://localhost:8080/"
        },
        "id": "Zj6wvSd-m-GK",
        "outputId": "39855d9a-edb9-4437-c94b-00b058e6b860"
      },
      "execution_count": null,
      "outputs": [
        {
          "output_type": "stream",
          "name": "stdout",
          "text": [
            "The entered string is symmetrical\n"
          ]
        }
      ]
    },
    {
      "cell_type": "code",
      "source": [
        "palindrome('amaama')"
      ],
      "metadata": {
        "colab": {
          "base_uri": "https://localhost:8080/"
        },
        "id": "cdGazE9doK6G",
        "outputId": "0ea2323f-bfef-4a75-ce5c-49c25807e4b7"
      },
      "execution_count": null,
      "outputs": [
        {
          "output_type": "stream",
          "name": "stdout",
          "text": [
            "mid 2\n",
            "The entered string is Palindrom\n"
          ]
        }
      ]
    },
    {
      "cell_type": "markdown",
      "source": [
        "2. Reverse words in a given string."
      ],
      "metadata": {
        "id": "TSo5qn8PshkE"
      }
    },
    {
      "cell_type": "code",
      "source": [
        "def reversestring(a):\n",
        "  n = len(a)\n",
        "  str1 =''\n",
        "  i = n-1\n",
        "  print(\"i\",i)\n",
        "  while i > 0:\n",
        "    print(\"i\",i)\n",
        "    lastindex = i\n",
        "    print(\"lastindex\",lastindex,a[lastindex])\n",
        "    for i in range(i-1,-1,-1):\n",
        "      if a[i] == ' ':\n",
        "        print(\"i\",i)\n",
        "        print(a[i+1:lastindex+1])\n",
        "        print(\"before str1\",str1)\n",
        "        str1 +=a[i+1:lastindex+1]+' '\n",
        "        print(\"str1\",str1)\n",
        "        break\n",
        "    \n",
        "  return str1\n"
      ],
      "metadata": {
        "id": "paGIkHYysnfR"
      },
      "execution_count": null,
      "outputs": []
    },
    {
      "cell_type": "code",
      "source": [
        "str1 = \"geeks quiz practice code\"\n",
        "output :'code practice quiz geeks'"
      ],
      "metadata": {
        "id": "Y4EpSqu3soEL"
      },
      "execution_count": null,
      "outputs": []
    },
    {
      "cell_type": "code",
      "source": [
        "def reverseString(s):\n",
        "\n",
        "  # Let's start at the end of string. We will use whitespace as a delimiter\n",
        "  accum = ''\n",
        "  i = len(s)-1\n",
        "  delim = ' '\n",
        "  output = ''\n",
        "\n",
        "  while i >= 0:\n",
        "    if s[i] == delim:\n",
        "      if output == '':\n",
        "        output = accum\n",
        "      else:\n",
        "        output = output + delim + accum\n",
        "      accum = ''\n",
        "    else:\n",
        "      accum = s[i] + accum\n",
        "    i -= 1\n",
        "\n",
        "  output = output + delim + accum\n",
        "  return output"
      ],
      "metadata": {
        "id": "aoIFSrUT0OmX"
      },
      "execution_count": null,
      "outputs": []
    },
    {
      "cell_type": "code",
      "source": [
        "def reverse_sentence(a):\n",
        "\n",
        "  # first split into words\n",
        "  words = a.split(' ')\n",
        "\n",
        "  #then reverse the split string list and join using space\n",
        "  reverse_sentence = ' '.join(reversed(words))\n",
        "\n",
        "  return reverse_sentence"
      ],
      "metadata": {
        "id": "Jd8ZQizm38C1"
      },
      "execution_count": null,
      "outputs": []
    },
    {
      "cell_type": "code",
      "source": [
        "reverseString(str1)"
      ],
      "metadata": {
        "colab": {
          "base_uri": "https://localhost:8080/",
          "height": 35
        },
        "id": "r3BLvi9ns6ph",
        "outputId": "895306b9-39b2-4886-862e-ce9c680009f7"
      },
      "execution_count": null,
      "outputs": [
        {
          "output_type": "execute_result",
          "data": {
            "text/plain": [
              "'code practice quiz geeks'"
            ],
            "application/vnd.google.colaboratory.intrinsic+json": {
              "type": "string"
            }
          },
          "metadata": {},
          "execution_count": 171
        }
      ]
    },
    {
      "cell_type": "code",
      "source": [
        "reverse_sentence(str1)"
      ],
      "metadata": {
        "colab": {
          "base_uri": "https://localhost:8080/",
          "height": 35
        },
        "id": "126i5tS-4MnW",
        "outputId": "a7a745d5-a6e9-4d7e-b9cf-17c95baeedd2"
      },
      "execution_count": null,
      "outputs": [
        {
          "output_type": "execute_result",
          "data": {
            "text/plain": [
              "'code practice quiz geeks'"
            ],
            "application/vnd.google.colaboratory.intrinsic+json": {
              "type": "string"
            }
          },
          "metadata": {},
          "execution_count": 173
        }
      ]
    },
    {
      "cell_type": "markdown",
      "source": [
        "3. Way's to remove the i'th character from string in Python"
      ],
      "metadata": {
        "id": "tjF-DwEL4pLx"
      }
    },
    {
      "cell_type": "code",
      "source": [
        "# Initializing String \n",
        "test_str = \"GeeksForGeeks\"\n",
        "# remove the character in position 3\n",
        "test_str "
      ],
      "metadata": {
        "colab": {
          "base_uri": "https://localhost:8080/",
          "height": 35
        },
        "id": "sSWL7zsS4x4g",
        "outputId": "44a278fe-3790-4d4c-e515-3c4f4599955f"
      },
      "execution_count": null,
      "outputs": [
        {
          "output_type": "execute_result",
          "data": {
            "text/plain": [
              "'GeeksForGeeks'"
            ],
            "application/vnd.google.colaboratory.intrinsic+json": {
              "type": "string"
            }
          },
          "metadata": {},
          "execution_count": 177
        }
      ]
    },
    {
      "cell_type": "code",
      "source": [
        "def removeIchar(a,r):\n",
        "  n = len(a)\n",
        "  accum = ''\n",
        "  for i in range(0,n):\n",
        "    if i != r:\n",
        "      accum +=a[i]\n",
        "    else:\n",
        "      accum += a[i+1:]\n",
        "      break\n",
        "  return accum"
      ],
      "metadata": {
        "id": "9JV74Mam44gV"
      },
      "execution_count": null,
      "outputs": []
    },
    {
      "cell_type": "code",
      "source": [
        "def removeIchar(a,r):\n",
        "  n = len(a)\n",
        "  \n",
        "  newstr = a[0:r] + a[r+1:]\n",
        " \n",
        "  return newstr"
      ],
      "metadata": {
        "id": "yc0A0yeH6YF8"
      },
      "execution_count": null,
      "outputs": []
    },
    {
      "cell_type": "code",
      "source": [
        ""
      ],
      "metadata": {
        "id": "kofYCwyw6YK-"
      },
      "execution_count": null,
      "outputs": []
    },
    {
      "cell_type": "code",
      "source": [
        "removeIchar(test_str,2)"
      ],
      "metadata": {
        "colab": {
          "base_uri": "https://localhost:8080/",
          "height": 35
        },
        "id": "MCeUSSyd5S3O",
        "outputId": "14908d4b-21e7-4ce6-ebab-4973c92f9a7e"
      },
      "execution_count": null,
      "outputs": [
        {
          "output_type": "execute_result",
          "data": {
            "text/plain": [
              "'GeksForGeeks'"
            ],
            "application/vnd.google.colaboratory.intrinsic+json": {
              "type": "string"
            }
          },
          "metadata": {},
          "execution_count": 184
        }
      ]
    },
    {
      "cell_type": "code",
      "source": [
        "#Learning to use the replace function\n",
        "test_str.replace('e','')"
      ],
      "metadata": {
        "colab": {
          "base_uri": "https://localhost:8080/",
          "height": 35
        },
        "id": "9ItdvPVA6Cnj",
        "outputId": "acc8ae13-3ece-4e4d-ee50-7e3447033907"
      },
      "execution_count": null,
      "outputs": [
        {
          "output_type": "execute_result",
          "data": {
            "text/plain": [
              "'GksForGks'"
            ],
            "application/vnd.google.colaboratory.intrinsic+json": {
              "type": "string"
            }
          },
          "metadata": {},
          "execution_count": 186
        }
      ]
    },
    {
      "cell_type": "code",
      "source": [
        "test_str.replace('s','',1)"
      ],
      "metadata": {
        "colab": {
          "base_uri": "https://localhost:8080/",
          "height": 35
        },
        "id": "_6H931BD77rZ",
        "outputId": "63da74b3-f0eb-48bb-9950-09b4a3fbbc82"
      },
      "execution_count": null,
      "outputs": [
        {
          "output_type": "execute_result",
          "data": {
            "text/plain": [
              "'GeekForGeeks'"
            ],
            "application/vnd.google.colaboratory.intrinsic+json": {
              "type": "string"
            }
          },
          "metadata": {},
          "execution_count": 187
        }
      ]
    },
    {
      "cell_type": "markdown",
      "source": [
        "4. Python : Avoid Spaces in string length"
      ],
      "metadata": {
        "id": "eWuudPDP8MZQ"
      }
    },
    {
      "cell_type": "code",
      "source": [
        "def avoidspace(a):\n",
        "  n = len(a)\n",
        "  newstrlen = 0\n",
        "  for i in range(0,n):\n",
        "    if a[i] == ' ':\n",
        "      continue\n",
        "    else:\n",
        "      newstrlen +=1\n",
        "  return newstrlen"
      ],
      "metadata": {
        "id": "MC6jZY1d8QQp"
      },
      "execution_count": null,
      "outputs": []
    },
    {
      "cell_type": "code",
      "source": [
        "test='geeksforgeeks 33 is   best'"
      ],
      "metadata": {
        "id": "rUYBtQJN9kNF"
      },
      "execution_count": null,
      "outputs": []
    },
    {
      "cell_type": "code",
      "source": [
        "# doing the same function using ispace and sum \n",
        "res  = sum(not chr.isspace() for chr in test)\n",
        "print(res)"
      ],
      "metadata": {
        "colab": {
          "base_uri": "https://localhost:8080/"
        },
        "id": "mLpSFufX9VQW",
        "outputId": "47126af5-d8aa-4e1b-f770-9b1f4da88161"
      },
      "execution_count": null,
      "outputs": [
        {
          "output_type": "stream",
          "name": "stdout",
          "text": [
            "21\n"
          ]
        }
      ]
    },
    {
      "cell_type": "code",
      "source": [
        "test_str = 'geeksforgeeks 33 best'\n",
        "avoidspace(test_str)"
      ],
      "metadata": {
        "colab": {
          "base_uri": "https://localhost:8080/"
        },
        "id": "uiKU8gPt8lHJ",
        "outputId": "c9f50873-2736-423f-e3b8-b0247fd8f96e"
      },
      "execution_count": null,
      "outputs": [
        {
          "output_type": "execute_result",
          "data": {
            "text/plain": [
              "19"
            ]
          },
          "metadata": {},
          "execution_count": 193
        }
      ]
    },
    {
      "cell_type": "markdown",
      "source": [
        "5. Python program to print even length words in a string\n",
        "\"Given a string. The task is to print all words with even length in the given string\""
      ],
      "metadata": {
        "id": "W-b7dXmG91dg"
      }
    },
    {
      "cell_type": "code",
      "source": [
        "def evenstring(a):\n",
        "  words = a.split(' ')\n",
        "  for word in words:\n",
        "    if len(word) %2 == 0:\n",
        "      print(word)"
      ],
      "metadata": {
        "id": "g9bCgBUf-Bmu"
      },
      "execution_count": null,
      "outputs": []
    },
    {
      "cell_type": "code",
      "source": [
        "s =\"This is a python language\"\n",
        "evenstring(s)"
      ],
      "metadata": {
        "colab": {
          "base_uri": "https://localhost:8080/"
        },
        "id": "EXzzsS63-T8w",
        "outputId": "efe64b22-d3b9-485b-ad33-a277e2779eb7"
      },
      "execution_count": null,
      "outputs": [
        {
          "output_type": "stream",
          "name": "stdout",
          "text": [
            "This\n",
            "is\n",
            "python\n",
            "language\n"
          ]
        }
      ]
    },
    {
      "cell_type": "markdown",
      "source": [
        "6. Python : Uppercase half string\n",
        "\"Given a String, perform uppercase of later part of the string"
      ],
      "metadata": {
        "id": "OYWXvqMv-mAZ"
      }
    },
    {
      "cell_type": "code",
      "source": [
        "def Uppercasehalf(a):\n",
        "  \n",
        "  n = len(a)\n",
        "  if n%2 ==0:\n",
        "    mid = n//2\n",
        "  else:\n",
        "    mid = n//2 + 1\n",
        "  \n",
        "  newstr  = a[:mid] + a[mid:].upper()\n",
        "\n",
        "  return newstr"
      ],
      "metadata": {
        "id": "Xrcbnhw--1hD"
      },
      "execution_count": null,
      "outputs": []
    },
    {
      "cell_type": "code",
      "source": [
        " test_str = 'geeksforgeek'\n",
        " Uppercasehalf(test_str)"
      ],
      "metadata": {
        "colab": {
          "base_uri": "https://localhost:8080/",
          "height": 35
        },
        "id": "uc2eeBo7_Kqx",
        "outputId": "7426067a-03f0-4ec7-c0fb-40e380825562"
      },
      "execution_count": null,
      "outputs": [
        {
          "output_type": "execute_result",
          "data": {
            "text/plain": [
              "'geeksfORGEEK'"
            ],
            "application/vnd.google.colaboratory.intrinsic+json": {
              "type": "string"
            }
          },
          "metadata": {},
          "execution_count": 204
        }
      ]
    },
    {
      "cell_type": "code",
      "source": [
        "n = len(test_str)\n",
        "if n%2 == 0:\n",
        "  half = n//2\n",
        "else:\n",
        "  half = n//2 + 1\n",
        "\n",
        "ans = ''.join([test_str[idx].upper() if idx >= half else test_str[idx] \n",
        "               for idx in range(0,n)])\n",
        "\n",
        "print(ans)"
      ],
      "metadata": {
        "colab": {
          "base_uri": "https://localhost:8080/"
        },
        "id": "P4GTMaEnAXfE",
        "outputId": "18168099-aa25-498a-cb17-054001cc904d"
      },
      "execution_count": null,
      "outputs": [
        {
          "output_type": "stream",
          "name": "stdout",
          "text": [
            "geeksfORGEEK\n"
          ]
        }
      ]
    },
    {
      "cell_type": "markdown",
      "source": [
        "# List"
      ],
      "metadata": {
        "id": "OX7KATluDCHB"
      }
    },
    {
      "cell_type": "markdown",
      "source": [
        "1. Python program to interchangef first and last elements in a list. \n",
        "\"Given a list, write a program to swap first and last element on the list\""
      ],
      "metadata": {
        "id": "uiT4UlfTDSx5"
      }
    },
    {
      "cell_type": "code",
      "source": [
        "def swapfirstlast(l):\n",
        "  l[0],l[-1] = l[-1],l[0]\n",
        "  return l"
      ],
      "metadata": {
        "id": "-xTZBfbuz3z1"
      },
      "execution_count": null,
      "outputs": []
    },
    {
      "cell_type": "code",
      "source": [
        "# another method\n",
        "def swaplist(l):\n",
        "  get = l[-1],l[0]\n",
        "\n",
        "  l[0],l[-1] = get\n",
        "\n",
        "  return l"
      ],
      "metadata": {
        "id": "8F1Xa0MI0S0p"
      },
      "execution_count": null,
      "outputs": []
    },
    {
      "cell_type": "code",
      "source": [
        "l = [12, 35, 9, 56, 24]\n",
        "swapfirstlast(l)"
      ],
      "metadata": {
        "colab": {
          "base_uri": "https://localhost:8080/"
        },
        "id": "h_9zsvIL0E9s",
        "outputId": "5758c6e6-4dc1-4246-e7ca-b6ffc2609ce5"
      },
      "execution_count": null,
      "outputs": [
        {
          "output_type": "execute_result",
          "data": {
            "text/plain": [
              "[24, 35, 9, 56, 12]"
            ]
          },
          "metadata": {},
          "execution_count": 8
        }
      ]
    },
    {
      "cell_type": "code",
      "source": [
        "l = [12, 35, 9, 56, 24]\n",
        "swaplist(l)"
      ],
      "metadata": {
        "colab": {
          "base_uri": "https://localhost:8080/"
        },
        "id": "Ohl_MM4F0iSx",
        "outputId": "83dbc254-8721-4234-bbf1-cc751a27f76a"
      },
      "execution_count": null,
      "outputs": [
        {
          "output_type": "execute_result",
          "data": {
            "text/plain": [
              "[24, 35, 9, 56, 12]"
            ]
          },
          "metadata": {},
          "execution_count": 13
        }
      ]
    },
    {
      "cell_type": "markdown",
      "source": [
        "Using * Operand:\n",
        "This operand process a change to iterable unpacking syntax, allowing to specify a catch-all name which will be assigned a list of all items not assigned to a \"regular\" name: \n"
      ],
      "metadata": {
        "id": "ylHRGQ0R05k3"
      }
    },
    {
      "cell_type": "code",
      "source": [
        "l= [ 1,2,3,4]\n",
        "a,*b,c = l\n",
        "print(a)\n",
        "print(b)\n",
        "print(c)"
      ],
      "metadata": {
        "colab": {
          "base_uri": "https://localhost:8080/"
        },
        "id": "2VXy3Z4T1S1P",
        "outputId": "8a686fbf-9426-4b0a-ee88-8c9cd883f544"
      },
      "execution_count": null,
      "outputs": [
        {
          "output_type": "stream",
          "name": "stdout",
          "text": [
            "1\n",
            "[2, 3]\n",
            "4\n"
          ]
        }
      ]
    },
    {
      "cell_type": "code",
      "source": [
        "def swaplist(l):\n",
        "  start,*middle,end = l\n",
        "  l = [end,*middle,start]\n",
        "  return l"
      ],
      "metadata": {
        "id": "_fQOrVrh1Z-S"
      },
      "execution_count": null,
      "outputs": []
    },
    {
      "cell_type": "code",
      "source": [
        "l = [12, 35, 9, 56, 24]\n",
        "swaplist(l)"
      ],
      "metadata": {
        "colab": {
          "base_uri": "https://localhost:8080/"
        },
        "id": "nsI0INvM1iup",
        "outputId": "41d03af0-6c81-42b3-8f87-443fe888f3a8"
      },
      "execution_count": null,
      "outputs": [
        {
          "output_type": "execute_result",
          "data": {
            "text/plain": [
              "[24, 35, 9, 56, 12]"
            ]
          },
          "metadata": {},
          "execution_count": 17
        }
      ]
    },
    {
      "cell_type": "markdown",
      "source": [
        "Approach #5. Swap the first and last elements is to use the inbuilt function pop(). Pop the first element and store it in a variable. Similarly, pop the last element and store it  in another variable. Now insert the two popped element at each other's  original position"
      ],
      "metadata": {
        "id": "Fx--2hvc1pHK"
      }
    },
    {
      "cell_type": "code",
      "source": [
        "def swappop(l):\n",
        "  first = l.pop(0)\n",
        "  last = l.pop(-1)\n",
        "  l.insert(0,last)\n",
        "  l.append(first)\n",
        "  return l"
      ],
      "metadata": {
        "id": "TcoWfyRh18n6"
      },
      "execution_count": null,
      "outputs": []
    },
    {
      "cell_type": "code",
      "source": [
        "l = [12, 35, 9, 56, 24]\n",
        "swappop(l)"
      ],
      "metadata": {
        "colab": {
          "base_uri": "https://localhost:8080/"
        },
        "id": "crT7rUy22G2_",
        "outputId": "fd3583cb-27e0-4265-f560-0363013219d7"
      },
      "execution_count": null,
      "outputs": [
        {
          "output_type": "execute_result",
          "data": {
            "text/plain": [
              "[24, 35, 9, 56, 12]"
            ]
          },
          "metadata": {},
          "execution_count": 23
        }
      ]
    },
    {
      "cell_type": "markdown",
      "source": [
        "2. Python program to swap two elements  in a list.\n",
        "\"Given a  list in python and provided the positions of the elements, write a program to swap the two elements in the list. "
      ],
      "metadata": {
        "id": "PqS-W6Cy2V3z"
      }
    },
    {
      "cell_type": "code",
      "source": [
        "def swap(l,pos1,pos2):\n",
        "  l[pos1], l [pos2] = l[pos2],l[pos1]\n",
        "  return l"
      ],
      "metadata": {
        "id": "cqbPIvkf2nt2"
      },
      "execution_count": null,
      "outputs": []
    },
    {
      "cell_type": "code",
      "source": [
        "def swappop(l,pos1,pos2):\n",
        "  first = l.pop(pos1)\n",
        "  second = l.pop(pos2-1)\n",
        "\n",
        "  l.insert(pos1,second)\n",
        "  l.insert(pos2,first)\n",
        "  return l"
      ],
      "metadata": {
        "id": "XUujVEBL3o3n"
      },
      "execution_count": null,
      "outputs": []
    },
    {
      "cell_type": "code",
      "source": [
        "l = [23, 65, 19, 90]\n",
        "pos1 = 1\n",
        "pos2 = 3\n",
        "swap(l,pos1,pos2)"
      ],
      "metadata": {
        "colab": {
          "base_uri": "https://localhost:8080/"
        },
        "id": "HOLC5bM52lNH",
        "outputId": "006ca7b3-cbbe-4b5f-9ce8-4c95e199cbb5"
      },
      "execution_count": null,
      "outputs": [
        {
          "output_type": "execute_result",
          "data": {
            "text/plain": [
              "[23, 90, 19, 65]"
            ]
          },
          "metadata": {},
          "execution_count": 25
        }
      ]
    },
    {
      "cell_type": "code",
      "source": [
        "l = [23, 65, 19, 90]\n",
        "pos1 = 1\n",
        "pos2 = 3\n",
        "swappop(l,pos1,pos2)"
      ],
      "metadata": {
        "colab": {
          "base_uri": "https://localhost:8080/"
        },
        "id": "2bnC-Vzs32OS",
        "outputId": "8fdab6a6-1ba2-4b27-b36f-bf2974c90575"
      },
      "execution_count": null,
      "outputs": [
        {
          "output_type": "stream",
          "name": "stdout",
          "text": [
            "90\n"
          ]
        },
        {
          "output_type": "execute_result",
          "data": {
            "text/plain": [
              "[23, 90, 19, 65]"
            ]
          },
          "metadata": {},
          "execution_count": 32
        }
      ]
    },
    {
      "cell_type": "markdown",
      "source": [
        "3. Python | Ways to find length of a list \n",
        "Performance Anlysis  - Naive vs len() vs length_hint()"
      ],
      "metadata": {
        "id": "OVJICKI75b78"
      }
    },
    {
      "cell_type": "code",
      "source": [
        "# Python code\n",
        "# To demonstrate length of list\n",
        "# Performance Analysis \n",
        "from operator import length_hint\n",
        "import time\n",
        "\n",
        "test_list = [1,4,5,7,8]\n",
        "\n",
        "print(\"The list is :\"+ str(list))\n",
        "start_naive_time = time.time()\n",
        "counter = 0\n",
        "for i in test_list:\n",
        "\n",
        "  #incrementing counter \n",
        "  counter = counter+1\n",
        "\n",
        "end_naive_time = str(time.time() - start_naive_time)\n",
        "\n",
        "#using length of list \n",
        "start_time_len = time.time()\n",
        "list_len = len(test_list)\n",
        "end_time_len = str(time.time() - start_time_len)\n",
        "\n",
        "# finding length of list using \n",
        "#length_hint()\n",
        "\n",
        "start_time_len_hint = time.time()\n",
        "list_len = len(test_list)\n",
        "end_time_len_hint = str(time.time() - start_time_len_hint)\n",
        "\n",
        "#printing time of each \n",
        "print(\"Time taken using naive method :\"+str(end_naive_time))\n",
        "print(\"Time taken using len method :\"+str(end_time_len))\n",
        "print(\"Time taken using len_hint method :\"+str(end_time_len_hint))\n"
      ],
      "metadata": {
        "colab": {
          "base_uri": "https://localhost:8080/"
        },
        "id": "bi2PJCWD5odm",
        "outputId": "c10dde70-f965-4cd5-b110-77bc3e60e5f6"
      },
      "execution_count": null,
      "outputs": [
        {
          "output_type": "stream",
          "name": "stdout",
          "text": [
            "The list is :<class 'list'>\n",
            "Time taken using naive method :6.961822509765625e-05\n",
            "Time taken using len method :3.838539123535156e-05\n",
            "Time taken using len_hint method :3.5762786865234375e-05\n"
          ]
        }
      ]
    },
    {
      "cell_type": "markdown",
      "source": [
        "3. maximum of 2 numbers "
      ],
      "metadata": {
        "id": "U-zAiLjf7BdI"
      }
    },
    {
      "cell_type": "code",
      "source": [
        "a = 3\n",
        "b = 4\n",
        "print(a if a>b else b)"
      ],
      "metadata": {
        "colab": {
          "base_uri": "https://localhost:8080/"
        },
        "id": "EA2dbEPI7DR-",
        "outputId": "907b3402-0f9c-49f0-8d77-d51842d9a372"
      },
      "execution_count": null,
      "outputs": [
        {
          "output_type": "stream",
          "name": "stdout",
          "text": [
            "4\n"
          ]
        }
      ]
    },
    {
      "cell_type": "markdown",
      "source": [
        "4. Check if element exists in list in Python"
      ],
      "metadata": {
        "id": "5alhvNRD7QLH"
      }
    },
    {
      "cell_type": "code",
      "source": [
        "test_list = [ 1, 6, 3, 5, 3, 4 ]\n",
        "check = 4 \n",
        "# using loop \n",
        "for i in test_list:\n",
        "  if i ==4:\n",
        "    print(\"Element Exists\")\n",
        "\n",
        "print(\"Checking if 4 exists in list using in\")\n",
        "if (4 in test_list):\n",
        "  print(\"4 exists in list\")"
      ],
      "metadata": {
        "colab": {
          "base_uri": "https://localhost:8080/"
        },
        "id": "Z7BLMauS7DZy",
        "outputId": "eda2f0f6-0c58-4f61-fdb7-8f505063d488"
      },
      "execution_count": null,
      "outputs": [
        {
          "output_type": "stream",
          "name": "stdout",
          "text": [
            "Element Exists\n",
            "Checking if 4 exists in list using in\n",
            "4 exists in list\n"
          ]
        }
      ]
    },
    {
      "cell_type": "markdown",
      "source": [
        "5. Different ways to clear a list in Python"
      ],
      "metadata": {
        "id": "wSMrADICCI6w"
      }
    },
    {
      "cell_type": "code",
      "source": [
        "GEEK = [ 6,0,4,1]\n",
        "GEEK.clear()\n",
        "print(\"GEEK after clear:\"+str(GEEK))\n",
        "\n",
        "#2 method : Initializing the list \n",
        "lst2 = [5,6,7]\n",
        "lst2 = []\n",
        "print(\"List2 after clearing using initialization :\" +str(lst2))\n",
        "\n",
        "#Method 3: Using \"*=0\". This is a lesser known method, but this method\n",
        "# removes all elements of the list and makes it empty.\n",
        "\n",
        "lst3 = [5,5,2,5,67,9]\n",
        "lst3*=0\n",
        "\n",
        "lst2 = []\n",
        "print(\"List3 after using *=0 using initialization :\" +str(lst3))\n",
        "\n",
        "#method4 : Using del().  del can be used to clear the list elements \n",
        "# in a range. if we don't give a range, all the elements of the lists are deleted\n",
        "\n",
        "list5 = [5,1,2,3,4]\n",
        "del list5[:]\n",
        "print(\"List5 after using del :\" +str(list5))\n"
      ],
      "metadata": {
        "colab": {
          "base_uri": "https://localhost:8080/"
        },
        "id": "Xm5u2tJhCNDe",
        "outputId": "98c4e7d0-582b-46ab-c8da-4e620f2aef7e"
      },
      "execution_count": null,
      "outputs": [
        {
          "output_type": "stream",
          "name": "stdout",
          "text": [
            "GEEK after clear:[]\n",
            "List2 after clearing using initialization :[]\n",
            "List3 after using *=0 using initialization :[]\n",
            "List5 after using del :[]\n"
          ]
        }
      ]
    },
    {
      "cell_type": "markdown",
      "source": [
        "6. Reversing a List "
      ],
      "metadata": {
        "id": "UhW0yjdHDYzH"
      }
    },
    {
      "cell_type": "code",
      "source": [
        "lst = [10, 11, 12, 13, 14, 15]"
      ],
      "metadata": {
        "id": "k-V91rEXDbEy"
      },
      "execution_count": null,
      "outputs": []
    },
    {
      "cell_type": "code",
      "source": [
        "# Method1 : using the reversed() built-in  function \n",
        "def reverse(lst):\n",
        "  return [ ele for ele in reversed(lst)]\n"
      ],
      "metadata": {
        "id": "FK9bCQxvDdHW"
      },
      "execution_count": null,
      "outputs": []
    },
    {
      "cell_type": "code",
      "source": [
        "reverse(lst)"
      ],
      "metadata": {
        "colab": {
          "base_uri": "https://localhost:8080/"
        },
        "id": "vxrT67q7Dm1w",
        "outputId": "e405cd64-b03a-4f4b-dc76-32ca2d48d170"
      },
      "execution_count": null,
      "outputs": [
        {
          "output_type": "execute_result",
          "data": {
            "text/plain": [
              "[15, 14, 13, 12, 11, 10]"
            ]
          },
          "metadata": {},
          "execution_count": 43
        }
      ]
    },
    {
      "cell_type": "markdown",
      "source": [
        "method 2:  Using the reverse() method we can reverse  the contents of the list object in-place i.e we don't need  to create a new list we just copying  the existing elements to the original list in revese order. This method directly modfies the original list."
      ],
      "metadata": {
        "id": "wGLSIpH4DriN"
      }
    },
    {
      "cell_type": "code",
      "source": [
        "def reverse(lst):\n",
        "  lst.reverse()\n",
        "  return lst\n"
      ],
      "metadata": {
        "id": "3TPruZC2ECZ7"
      },
      "execution_count": null,
      "outputs": []
    },
    {
      "cell_type": "code",
      "source": [
        "lst = [10, 11, 12, 13, 14, 15]\n",
        "reverse(lst)"
      ],
      "metadata": {
        "colab": {
          "base_uri": "https://localhost:8080/"
        },
        "id": "1kW5IaqCEHjz",
        "outputId": "8cfb37ab-2c17-429f-dee6-0a7dc064c149"
      },
      "execution_count": null,
      "outputs": [
        {
          "output_type": "execute_result",
          "data": {
            "text/plain": [
              "[15, 14, 13, 12, 11, 10]"
            ]
          },
          "metadata": {},
          "execution_count": 47
        }
      ]
    },
    {
      "cell_type": "markdown",
      "source": [
        "method 3 :  Using the slicing technique \n",
        "In this technique, a copy  of the list is made and the list  is not stored in -place.  Creating a copy requires more space to hold all of the existing elements. This exhausts more memory"
      ],
      "metadata": {
        "id": "YCOfqLmxEWHL"
      }
    },
    {
      "cell_type": "code",
      "source": [
        "def reverse(lst):\n",
        "  new_lst = lst[::-1]\n",
        "  return new_lst"
      ],
      "metadata": {
        "id": "QCzER3iRFcPf"
      },
      "execution_count": null,
      "outputs": []
    },
    {
      "cell_type": "code",
      "source": [
        "lst = [10, 11, 12, 13, 14, 15]\n",
        "reverse(lst)"
      ],
      "metadata": {
        "colab": {
          "base_uri": "https://localhost:8080/"
        },
        "id": "Bdf4IeQsFlPO",
        "outputId": "ce691be5-dbba-4d18-a650-d145519a5364"
      },
      "execution_count": null,
      "outputs": [
        {
          "output_type": "execute_result",
          "data": {
            "text/plain": [
              "[15, 14, 13, 12, 11, 10]"
            ]
          },
          "metadata": {},
          "execution_count": 52
        }
      ]
    },
    {
      "cell_type": "markdown",
      "source": [
        "Python List Comprehension And Slicing\n",
        "\n",
        "List comprehension is an elegant way to define and create  a list in python.  We can create lists just like mathematical statements and in one line only.  The syntax  of list comprehension is easier to grasp.\n",
        "\n",
        "A list comprehension generally consist of three parts: \n",
        "\n",
        "1. Output expression \n",
        "2. Input sequence\n",
        "3. A variable representing a member  of the input sequence. \n",
        "4. An optional predicate part. "
      ],
      "metadata": {
        "id": "klHxG3p4GSad"
      }
    },
    {
      "cell_type": "code",
      "source": [
        "# Python program to demonstrate list comprehensions \n",
        "\n",
        "# below list contains square  of all odd numbers from\n",
        "# range 1 to 10\n",
        "odd_square = [x**2 for x in range(1,11) if x%2 !=0]\n",
        "print(\"odd_square\",odd_square)"
      ],
      "metadata": {
        "colab": {
          "base_uri": "https://localhost:8080/"
        },
        "id": "NKlkMxxzG3fG",
        "outputId": "cbf7bd7c-d5b3-44b8-d827-404a995655bf"
      },
      "execution_count": null,
      "outputs": [
        {
          "output_type": "stream",
          "name": "stdout",
          "text": [
            "odd_square [1, 9, 25, 49, 81]\n"
          ]
        }
      ]
    },
    {
      "cell_type": "code",
      "source": [
        "# below list contains  power of 2 from 1  to 8\n",
        "power_of_2 = [2**x for x in range(1,9)]\n",
        "print(power_of_2)"
      ],
      "metadata": {
        "colab": {
          "base_uri": "https://localhost:8080/"
        },
        "id": "wyswDEAeHMBP",
        "outputId": "092fd78b-6fb3-41b8-e05b-08577a1fe932"
      },
      "execution_count": null,
      "outputs": [
        {
          "output_type": "stream",
          "name": "stdout",
          "text": [
            "[2, 4, 8, 16, 32, 64, 128, 256]\n"
          ]
        }
      ]
    },
    {
      "cell_type": "code",
      "source": [
        "noprimes = [j for i in range(2, 8) for j in range(i*2, 50, i)] \n",
        "primes = [ x for x in range(2,50) if x  not in noprimes]\n",
        "print(primes)"
      ],
      "metadata": {
        "colab": {
          "base_uri": "https://localhost:8080/"
        },
        "id": "LAUHYZUVH67P",
        "outputId": "2cc7c98a-0580-4e60-911a-1df8d0dea9ab"
      },
      "execution_count": null,
      "outputs": [
        {
          "output_type": "stream",
          "name": "stdout",
          "text": [
            "[2, 3, 5, 7, 11, 13, 17, 19, 23, 29, 31, 37, 41, 43, 47]\n"
          ]
        }
      ]
    },
    {
      "cell_type": "code",
      "source": [
        "# list of lowering the characters \n",
        "print([x.lower() for x in ['A','B','C']])"
      ],
      "metadata": {
        "colab": {
          "base_uri": "https://localhost:8080/"
        },
        "id": "YkHLyo3MIlFR",
        "outputId": "c62c2755-832c-4844-b138-9cdd3b1ddb9f"
      },
      "execution_count": null,
      "outputs": [
        {
          "output_type": "stream",
          "name": "stdout",
          "text": [
            "['a', 'b', 'c']\n"
          ]
        }
      ]
    },
    {
      "cell_type": "code",
      "source": [
        "# list which extracts number \n",
        "string = 'my phone number is : 11122 !!'\n",
        "numbers = [ x for x in string if x.isdigit()]\n",
        "print(numbers)"
      ],
      "metadata": {
        "colab": {
          "base_uri": "https://localhost:8080/"
        },
        "id": "3YGlmy4wIt0e",
        "outputId": "84a1d9fe-ca0e-44d4-e697-31305e06ba56"
      },
      "execution_count": null,
      "outputs": [
        {
          "output_type": "stream",
          "name": "stdout",
          "text": [
            "['1', '1', '1', '2', '2']\n"
          ]
        }
      ]
    },
    {
      "cell_type": "markdown",
      "source": [
        "We can use the **filter** function to filter a list based on some condition provided  as a **lambda expression** as the first argument  and list as the second argument "
      ],
      "metadata": {
        "id": "lAyicIcpJITS"
      }
    },
    {
      "cell_type": "code",
      "source": [
        "# filtering odd numbers \n",
        "import functools\n",
        "\n",
        "lst = filter(lambda x: x % 2 == 1,range(1,20))\n",
        "print(list(lst))"
      ],
      "metadata": {
        "colab": {
          "base_uri": "https://localhost:8080/"
        },
        "id": "WQg6217uJHjA",
        "outputId": "f91e88b6-dc9d-4e80-e457-455bf86d3231"
      },
      "execution_count": null,
      "outputs": [
        {
          "output_type": "stream",
          "name": "stdout",
          "text": [
            "[<function <lambda> at 0x7f50e0ea60e0>, range(1, 20)]\n"
          ]
        }
      ]
    },
    {
      "cell_type": "code",
      "source": [
        "#  filtering odd square which are divisible by 5\n",
        "lst = filter(lambda x: x % 5 == 0, [x**2 for x in range(1,20) if x % 2 == 1])\n",
        "print(list(lst))"
      ],
      "metadata": {
        "colab": {
          "base_uri": "https://localhost:8080/"
        },
        "id": "9i-daXXsJrni",
        "outputId": "04ef6d5f-3c2c-436d-a08f-7580226bad54"
      },
      "execution_count": null,
      "outputs": [
        {
          "output_type": "stream",
          "name": "stdout",
          "text": [
            "[25, 225]\n"
          ]
        }
      ]
    },
    {
      "cell_type": "code",
      "source": [
        "# filtering negative numbers \n",
        "lst = filter(lambda x: x< 0,range(-50,50))\n",
        "print(list(lst))"
      ],
      "metadata": {
        "colab": {
          "base_uri": "https://localhost:8080/"
        },
        "id": "uFVi8BNQK4sf",
        "outputId": "ac29750c-b1e9-4dca-8387-a1ba5af51620"
      },
      "execution_count": null,
      "outputs": [
        {
          "output_type": "stream",
          "name": "stdout",
          "text": [
            "[-50, -49, -48, -47, -46, -45, -44, -43, -42, -41, -40, -39, -38, -37, -36, -35, -34, -33, -32, -31, -30, -29, -28, -27, -26, -25, -24, -23, -22, -21, -20, -19, -18, -17, -16, -15, -14, -13, -12, -11, -10, -9, -8, -7, -6, -5, -4, -3, -2, -1]\n"
          ]
        }
      ]
    },
    {
      "cell_type": "markdown",
      "source": [
        "7. Python | Cloning or Copying a list "
      ],
      "metadata": {
        "id": "NH_3wEtQLHmE"
      }
    },
    {
      "cell_type": "code",
      "source": [
        "def cloning(lst):\n",
        "  new_lst = lst[:]\n",
        "  return new_lst"
      ],
      "metadata": {
        "id": "x36SyniwLspc"
      },
      "execution_count": null,
      "outputs": []
    },
    {
      "cell_type": "code",
      "source": [
        "#Driver Code\n",
        "l = [4, 8, 2, 10, 15, 18]\n",
        "cloning(l)"
      ],
      "metadata": {
        "colab": {
          "base_uri": "https://localhost:8080/"
        },
        "id": "h7WU0EIYLyik",
        "outputId": "91e42b11-12ac-42ca-cb3d-fdbff374d3c1"
      },
      "execution_count": null,
      "outputs": [
        {
          "output_type": "execute_result",
          "data": {
            "text/plain": [
              "[4, 8, 2, 10, 15, 18]"
            ]
          },
          "metadata": {},
          "execution_count": 66
        }
      ]
    },
    {
      "cell_type": "code",
      "source": [
        "# using the extend method \n",
        "g = []\n",
        "g.extend(l)\n",
        "print(g)"
      ],
      "metadata": {
        "colab": {
          "base_uri": "https://localhost:8080/"
        },
        "id": "hySzo7jzL8k-",
        "outputId": "057a51a4-2e2e-4838-8fbd-8fbf4c1f66f9"
      },
      "execution_count": null,
      "outputs": [
        {
          "output_type": "stream",
          "name": "stdout",
          "text": [
            "[4, 8, 2, 10, 15, 18]\n"
          ]
        }
      ]
    },
    {
      "cell_type": "code",
      "source": [
        "#using list comprehensions\n",
        "\n",
        "f =   [x for x in l]\n",
        "print(f)"
      ],
      "metadata": {
        "colab": {
          "base_uri": "https://localhost:8080/"
        },
        "id": "IoxgrTsBMFma",
        "outputId": "0cfef059-5c11-4981-bf0d-7b196ce3ea2b"
      },
      "execution_count": null,
      "outputs": [
        {
          "output_type": "stream",
          "name": "stdout",
          "text": [
            "[4, 8, 2, 10, 15, 18]\n"
          ]
        }
      ]
    },
    {
      "cell_type": "code",
      "source": [
        "# append method \n",
        "g = []\n",
        "for i in l: g.append(i)\n",
        "print(g)"
      ],
      "metadata": {
        "colab": {
          "base_uri": "https://localhost:8080/"
        },
        "id": "UzMpirxqMRYM",
        "outputId": "a58ff1fb-50d8-46a2-f00f-c6371716afba"
      },
      "execution_count": null,
      "outputs": [
        {
          "output_type": "stream",
          "name": "stdout",
          "text": [
            "[4, 8, 2, 10, 15, 18]\n"
          ]
        }
      ]
    },
    {
      "cell_type": "markdown",
      "source": [
        "8. Count occurances of an element in a list. "
      ],
      "metadata": {
        "id": "BNPKGFSdM9bg"
      }
    },
    {
      "cell_type": "code",
      "source": [
        "def countElement(l,x):\n",
        "  # naive method looping \n",
        "  count = 0\n",
        "  for i in l:\n",
        "    if i == x:\n",
        "      count +=1\n",
        "  return count\n"
      ],
      "metadata": {
        "id": "avsfahQ4NEZa"
      },
      "execution_count": null,
      "outputs": []
    },
    {
      "cell_type": "code",
      "source": [
        "lst = [15, 6, 7, 10, 12, 20, 10, 28, 10]\n",
        "x = 10"
      ],
      "metadata": {
        "id": "PceCzhBuNC59"
      },
      "execution_count": null,
      "outputs": []
    },
    {
      "cell_type": "code",
      "source": [
        "lst = [8, 6, 8, 10, 8, 20, 10, 8, 8]\n",
        "x = 8"
      ],
      "metadata": {
        "id": "8Vk5Lck7NZyn"
      },
      "execution_count": null,
      "outputs": []
    },
    {
      "cell_type": "code",
      "source": [
        "countElement(lst,x)"
      ],
      "metadata": {
        "colab": {
          "base_uri": "https://localhost:8080/"
        },
        "id": "0TaNFGyGNSBM",
        "outputId": "c140be33-fda6-4451-8360-475a83b3bdf6"
      },
      "execution_count": null,
      "outputs": [
        {
          "output_type": "execute_result",
          "data": {
            "text/plain": [
              "5"
            ]
          },
          "metadata": {},
          "execution_count": 76
        }
      ]
    },
    {
      "cell_type": "code",
      "source": [
        "# To use the list_method_count() to count the number of occurances\n",
        "def count1(lst,x):\n",
        "  return lst.count(x)"
      ],
      "metadata": {
        "id": "YfaJfsvzNdwb"
      },
      "execution_count": null,
      "outputs": []
    },
    {
      "cell_type": "code",
      "source": [
        "lst = [8, 6, 8, 10, 8, 20, 10, 8, 8]\n",
        "x = 8"
      ],
      "metadata": {
        "id": "5r538AiJNoZK"
      },
      "execution_count": null,
      "outputs": []
    },
    {
      "cell_type": "code",
      "source": [
        "count1(lst,x)"
      ],
      "metadata": {
        "colab": {
          "base_uri": "https://localhost:8080/"
        },
        "id": "BuRQxM6XNptB",
        "outputId": "a3a79fc0-c564-4b74-f0ee-36d37959b6fd"
      },
      "execution_count": null,
      "outputs": [
        {
          "output_type": "execute_result",
          "data": {
            "text/plain": [
              "5"
            ]
          },
          "metadata": {},
          "execution_count": 79
        }
      ]
    },
    {
      "cell_type": "markdown",
      "source": [
        "Method 2: (Using Counter())\n",
        "Counter method returns a dictionary  with occurances of all elements as a key-value pair, where key is the element  and value is the number of times that element has occured. "
      ],
      "metadata": {
        "id": "gNLsN0OVNxUM"
      }
    },
    {
      "cell_type": "code",
      "source": [
        "from collections import Counter\n",
        "\n",
        "# declaring the list\n",
        "l = [1, 1, 2, 2, 3, 3, 4, 4, 5, 5]\n",
        "\n",
        "x = 3\n",
        "d = Counter(l)\n",
        "print(x,d[x])\n"
      ],
      "metadata": {
        "colab": {
          "base_uri": "https://localhost:8080/"
        },
        "id": "QZGsF2-QOAwb",
        "outputId": "b94f4ba1-f2da-47f0-c363-6f621e0f4dc1"
      },
      "execution_count": null,
      "outputs": [
        {
          "output_type": "stream",
          "name": "stdout",
          "text": [
            "3 2\n"
          ]
        }
      ]
    },
    {
      "cell_type": "markdown",
      "source": [
        "### List of List "
      ],
      "metadata": {
        "id": "DOagIdQEOfGE"
      }
    },
    {
      "cell_type": "markdown",
      "source": [
        "1. Remove empty list from list."
      ],
      "metadata": {
        "id": "jC9PAMo0OhoR"
      }
    },
    {
      "cell_type": "code",
      "source": [
        "# Initializing list \n",
        "test_list = [5, 6, [], 3, [], [], 9]"
      ],
      "metadata": {
        "id": "lwFat_jhOTnM"
      },
      "execution_count": null,
      "outputs": []
    },
    {
      "cell_type": "code",
      "source": [
        "# try yourslef,first\n",
        "def emptylist(l):\n",
        "  #creating an ewlist \n",
        "  lst = []\n",
        "  for i in range(0,len(l)):\n",
        "    print(l[i])\n",
        "    if l[i]:\n",
        "      lst.append(l[i])\n",
        "      continue\n",
        "    else:\n",
        "      continue\n",
        "  return lst"
      ],
      "metadata": {
        "id": "Fo9qVnDVOqzr"
      },
      "execution_count": null,
      "outputs": []
    },
    {
      "cell_type": "code",
      "source": [
        "emptylist(test_list)"
      ],
      "metadata": {
        "colab": {
          "base_uri": "https://localhost:8080/"
        },
        "id": "wdPyumojO2KY",
        "outputId": "4f201889-52cc-4477-dfe5-e6bd35078fab"
      },
      "execution_count": null,
      "outputs": [
        {
          "output_type": "stream",
          "name": "stdout",
          "text": [
            "5\n",
            "6\n",
            "3\n",
            "9\n"
          ]
        },
        {
          "output_type": "execute_result",
          "data": {
            "text/plain": [
              "[5, 6, 3, 9]"
            ]
          },
          "metadata": {},
          "execution_count": 99
        }
      ]
    },
    {
      "cell_type": "code",
      "source": [
        "[ ele for ele in test_list if ele != []]"
      ],
      "metadata": {
        "colab": {
          "base_uri": "https://localhost:8080/"
        },
        "id": "ohpEKMQ2Rk23",
        "outputId": "2f183341-1f9b-427a-a3e8-cf5306bb8307"
      },
      "execution_count": null,
      "outputs": [
        {
          "output_type": "execute_result",
          "data": {
            "text/plain": [
              "[5, 6, 3, 9]"
            ]
          },
          "metadata": {},
          "execution_count": 100
        }
      ]
    },
    {
      "cell_type": "markdown",
      "source": [
        "Using filter :  This is yet another way in which this task can be performe. In this we  filter none values. The None values include empty lists as well and hence  these get removed. "
      ],
      "metadata": {
        "id": "6bW3PfjQRtv2"
      }
    },
    {
      "cell_type": "code",
      "source": [
        "# Initializing list \n",
        "test_list = [5, 6, [], 3, [], [], 9]"
      ],
      "metadata": {
        "id": "K5JfKfhDR-jU"
      },
      "execution_count": null,
      "outputs": []
    },
    {
      "cell_type": "code",
      "source": [
        "lst = list(filter(None,test_list))\n",
        "print(lst)"
      ],
      "metadata": {
        "colab": {
          "base_uri": "https://localhost:8080/"
        },
        "id": "_Qi1BLjdR_7v",
        "outputId": "da199d7e-0d02-4929-e860-326697c6ff84"
      },
      "execution_count": null,
      "outputs": [
        {
          "output_type": "stream",
          "name": "stdout",
          "text": [
            "[5, 6, 3, 9]\n"
          ]
        }
      ]
    },
    {
      "cell_type": "markdown",
      "source": [
        "#Strings "
      ],
      "metadata": {
        "id": "Wk_sPfcx-DAE"
      }
    },
    {
      "cell_type": "markdown",
      "source": [
        "1.Python program to capitalize the first and last character  of each word in a string.\n",
        "\n",
        "\"Given the string, the task is to capitalize the first and last character of each word in a string.\""
      ],
      "metadata": {
        "id": "Ov4ugBYo-FPT"
      }
    },
    {
      "cell_type": "code",
      "source": [
        "def capitalizeLetter(sentence):\n",
        "\n",
        "  words = sentence.split(' ')\n",
        "  new_words = []\n",
        "\n",
        "  for word in words:\n",
        "    wordl =''\n",
        "    for idx,char in enumerate(word):\n",
        "    \n",
        "      if idx in [0,len(word)-1]:\n",
        "        char = char.upper()\n",
        "      wordl += char\n",
        "    \n",
        "    new_words.append(wordl)\n",
        "  \n",
        "  sentence = ' '.join(chr for chr in new_words)\n",
        "\n",
        "  return sentence"
      ],
      "metadata": {
        "id": "7In91sS5-Ued"
      },
      "execution_count": null,
      "outputs": []
    },
    {
      "cell_type": "code",
      "source": [
        "str1 = 'hello world'\n",
        "capitalizeLetter(str1)"
      ],
      "metadata": {
        "colab": {
          "base_uri": "https://localhost:8080/",
          "height": 35
        },
        "id": "Km6Qjam__TOh",
        "outputId": "3350ac37-baa3-4d01-92d2-fbe9823b4a24"
      },
      "execution_count": null,
      "outputs": [
        {
          "output_type": "execute_result",
          "data": {
            "text/plain": [
              "'HellO WorlD'"
            ],
            "application/vnd.google.colaboratory.intrinsic+json": {
              "type": "string"
            }
          },
          "metadata": {},
          "execution_count": 21
        }
      ]
    },
    {
      "cell_type": "code",
      "source": [
        "str2 = 'welcome to geeksforgeeks'\n",
        "capitalizeLetter(str2)"
      ],
      "metadata": {
        "colab": {
          "base_uri": "https://localhost:8080/",
          "height": 35
        },
        "id": "_BJ6d5i0Bx5s",
        "outputId": "35e746ee-8b7c-49da-c9d7-6314b097b764"
      },
      "execution_count": null,
      "outputs": [
        {
          "output_type": "execute_result",
          "data": {
            "text/plain": [
              "'WelcomE TO GeeksforgeekS'"
            ],
            "application/vnd.google.colaboratory.intrinsic+json": {
              "type": "string"
            }
          },
          "metadata": {},
          "execution_count": 23
        }
      ]
    },
    {
      "cell_type": "markdown",
      "source": [
        "2. Python program to check if a string  has at least one letter and one number.\n",
        "\n",
        "Given a string in Python. The task is to check whether the string has at least one letter(character) and one number. Return \"True\" if the given string full fill above condition else return \"False\" (without quotes)"
      ],
      "metadata": {
        "id": "01PPkKZYB-FY"
      }
    },
    {
      "cell_type": "code",
      "source": [
        "def checkword(s):\n",
        "\n",
        "  alphabet_flag = 0\n",
        "  numeric_flag = 0\n",
        "\n",
        "  for char in s:\n",
        "    if char.isalpha():\n",
        "      alphabet_flag = 1\n",
        "    if char.isdigit():\n",
        "      numeric_flag = 1\n",
        "  \n",
        "  if alphabet_flag == 1 and numeric_flag == 1:\n",
        "    return True\n",
        "  else:\n",
        "    return False"
      ],
      "metadata": {
        "id": "VUfkyxIPC9Y7"
      },
      "execution_count": null,
      "outputs": []
    },
    {
      "cell_type": "code",
      "source": [
        "s = \"welcome2ourcountry34\""
      ],
      "metadata": {
        "id": "SRTQOG1JC5Vd"
      },
      "execution_count": null,
      "outputs": []
    },
    {
      "cell_type": "code",
      "source": [
        "t = 'stringwithoutnum'"
      ],
      "metadata": {
        "id": "pR2-6W8_Ei7X"
      },
      "execution_count": null,
      "outputs": []
    },
    {
      "cell_type": "code",
      "source": [
        "checkword(t)"
      ],
      "metadata": {
        "colab": {
          "base_uri": "https://localhost:8080/"
        },
        "id": "NdUsvJXIElsi",
        "outputId": "db1b1010-e34d-45da-9527-4c68d2d215e3"
      },
      "execution_count": null,
      "outputs": [
        {
          "output_type": "execute_result",
          "data": {
            "text/plain": [
              "False"
            ]
          },
          "metadata": {},
          "execution_count": 30
        }
      ]
    },
    {
      "cell_type": "code",
      "source": [
        "checkword(s)"
      ],
      "metadata": {
        "colab": {
          "base_uri": "https://localhost:8080/"
        },
        "id": "nCaLFgHaDDIc",
        "outputId": "e9633414-e492-4350-f4f9-affd59e23f9f"
      },
      "execution_count": null,
      "outputs": [
        {
          "output_type": "execute_result",
          "data": {
            "text/plain": [
              "True"
            ]
          },
          "metadata": {},
          "execution_count": 28
        }
      ]
    },
    {
      "cell_type": "markdown",
      "source": [
        "3. Program to accept the strings which contain all vowels\n",
        "\n",
        "Given a string, the task is to check if every vowel is present or not. We consider a vowel to be present  if it is present  in upper case or lower case ie.e 'a','e','i','o','u','A','E','I','O','U'.\n",
        "\n",
        "Basically every vowel should be present in either upper or lower case."
      ],
      "metadata": {
        "id": "gvA9UfbdEsD6"
      }
    },
    {
      "cell_type": "code",
      "source": [
        "def vowels(word):\n",
        "  vowel = ['a','e','i','o','u']\n",
        "  count = 0\n",
        "  iterated_vowels = []\n",
        "  for char in word:\n",
        "    if char.lower() in vowel:\n",
        "      if char.lower() in iterated_vowels:\n",
        "        continue\n",
        "      else:\n",
        "        iterated_vowels.append(char.lower())\n",
        "        count +=1\n",
        "  if count == 5:\n",
        "    print(\"All the vowels are present\")\n",
        "  else:\n",
        "    print(\"All vowels are not present\")\n"
      ],
      "metadata": {
        "id": "B-nRO6U_FItX"
      },
      "execution_count": null,
      "outputs": []
    },
    {
      "cell_type": "code",
      "source": [
        "# another Implementation using set \n",
        "def check(string):\n",
        "  string = string.lower()\n",
        "\n",
        "  #set() function convert \"aeiou\"\n",
        "  #string into set of characters \n",
        "  #i.e vowels  = {'a','e','i','o','u'}\n",
        "\n",
        "  vowels = set(\"aeiou\")\n",
        "\n",
        "  # set() function to convert empty \n",
        "  # dictionary to empty set \n",
        "  s = set({})\n",
        "\n",
        "  for char in string:\n",
        "    if char in vowels:\n",
        "      s.add(char)\n",
        "    else:\n",
        "      pass\n",
        "  print(s)\n",
        "  if len(s) == len(vowels):\n",
        "    print(\"Accepted\")\n",
        "  else:\n",
        "    print(\"Not Accepted\")\n",
        "\n"
      ],
      "metadata": {
        "id": "vNAekYMiGKpP"
      },
      "execution_count": null,
      "outputs": []
    },
    {
      "cell_type": "code",
      "source": [
        "word = 'geeksforgeeks'\n",
        "newword = 'ABeeIghiObhkUul'"
      ],
      "metadata": {
        "id": "I3zudFhsF0P2"
      },
      "execution_count": null,
      "outputs": []
    },
    {
      "cell_type": "code",
      "source": [
        "vowels(word)"
      ],
      "metadata": {
        "colab": {
          "base_uri": "https://localhost:8080/"
        },
        "id": "Cf5k_cz7F1XW",
        "outputId": "d74f9b0b-0e2e-47e2-84ee-b1a7219e3253"
      },
      "execution_count": null,
      "outputs": [
        {
          "output_type": "stream",
          "name": "stdout",
          "text": [
            "All vowels are not present\n"
          ]
        }
      ]
    },
    {
      "cell_type": "code",
      "source": [
        "vowels(newword)"
      ],
      "metadata": {
        "colab": {
          "base_uri": "https://localhost:8080/"
        },
        "id": "I4orAmuKF8X7",
        "outputId": "b914cfa4-b584-41ff-cf1d-9e270719de03"
      },
      "execution_count": null,
      "outputs": [
        {
          "output_type": "stream",
          "name": "stdout",
          "text": [
            "All the vowels are present\n"
          ]
        }
      ]
    },
    {
      "cell_type": "code",
      "source": [
        "check(newword)"
      ],
      "metadata": {
        "colab": {
          "base_uri": "https://localhost:8080/"
        },
        "id": "pB7xeIfAG0pE",
        "outputId": "792b3b0b-71d0-4443-b157-cf9cbb6875c9"
      },
      "execution_count": null,
      "outputs": [
        {
          "output_type": "stream",
          "name": "stdout",
          "text": [
            "{'o', 'a', 'i', 'u', 'e'}\n",
            "Accepted\n"
          ]
        }
      ]
    },
    {
      "cell_type": "markdown",
      "source": [
        "4. Count the number of matching character in a pair of string \n",
        "\n",
        "\"Given a pair of nonempty strings. Count the number of matching characters in those strings ( consider the single count for the character  which have duplicates in the string)\""
      ],
      "metadata": {
        "id": "rx6JO7u-HA42"
      }
    },
    {
      "cell_type": "code",
      "source": [
        "def matchingchar(s1,s2):\n",
        "  s1 = s1.lower()\n",
        "  s2 = s2.lower()\n",
        "\n",
        "  count = 0\n",
        "  s = set({})\n",
        "  for char in s1:\n",
        "    if char in s2:\n",
        "      s.add(char)\n",
        "  \n",
        "  count = len(s)\n",
        "  return count"
      ],
      "metadata": {
        "id": "I_YpWwtHIJIa"
      },
      "execution_count": null,
      "outputs": []
    },
    {
      "cell_type": "code",
      "source": [
        "str1 = 'abcdef'\n",
        "str2 = 'defghia'"
      ],
      "metadata": {
        "id": "Jd82QpwFIJE_"
      },
      "execution_count": null,
      "outputs": []
    },
    {
      "cell_type": "code",
      "source": [
        "str1 = 'aabcddekll12@'\n",
        "str2 = 'bb22ll@55k'"
      ],
      "metadata": {
        "id": "VZcupiBBKhND"
      },
      "execution_count": null,
      "outputs": []
    },
    {
      "cell_type": "code",
      "source": [
        "matchingchar(str1,str2)"
      ],
      "metadata": {
        "colab": {
          "base_uri": "https://localhost:8080/"
        },
        "id": "x7Md_MsiKbgr",
        "outputId": "a99aad8c-14ab-4bd5-9d83-fa8f077db3cd"
      },
      "execution_count": null,
      "outputs": [
        {
          "output_type": "execute_result",
          "data": {
            "text/plain": [
              "5"
            ]
          },
          "metadata": {},
          "execution_count": 52
        }
      ]
    },
    {
      "cell_type": "markdown",
      "source": [
        "approach 2:\n",
        "1. In this approach set() is used to remove duplicate on a given string.\n",
        "2. After the concept  of set(intersection) is used on given string\n",
        "3. After that we find the length using len() method.\n",
        "\n"
      ],
      "metadata": {
        "id": "C-dq7AgqLRME"
      }
    },
    {
      "cell_type": "code",
      "source": [
        "def match(s1,s2):\n",
        "  s1 = s1.lower()\n",
        "  s2 = s2.lower()\n",
        "\n",
        "  s1 = set(s1)\n",
        "  s2 = set(s2)\n",
        "\n",
        "  # using (&) intersection mathematical operation on sets\n",
        "  # the unique characters  present in both the strings\n",
        "  # are stored in matche_characters  set variable\n",
        "  matched_char = s1 & s2\n",
        "\n",
        "  print(\"No. of matching characters are : \" + str(len(matched_char)) )\n",
        "\n",
        "  return len(matched_char)"
      ],
      "metadata": {
        "id": "c3nrEcedLk4C"
      },
      "execution_count": null,
      "outputs": []
    },
    {
      "cell_type": "code",
      "source": [
        "str1 = 'aabcddekll12@'\n",
        "str2 = 'bb22ll@55k'"
      ],
      "metadata": {
        "id": "Vps7kSybL1cJ"
      },
      "execution_count": null,
      "outputs": []
    },
    {
      "cell_type": "code",
      "source": [
        "match(str1,str2)"
      ],
      "metadata": {
        "colab": {
          "base_uri": "https://localhost:8080/"
        },
        "id": "7aLUJv4DL2Yx",
        "outputId": "2ec57c9e-b472-45d0-9f4b-c1a4af81d519"
      },
      "execution_count": null,
      "outputs": [
        {
          "output_type": "stream",
          "name": "stdout",
          "text": [
            "No. of matching characters are : 5\n"
          ]
        },
        {
          "output_type": "execute_result",
          "data": {
            "text/plain": [
              "5"
            ]
          },
          "metadata": {},
          "execution_count": 55
        }
      ]
    },
    {
      "cell_type": "markdown",
      "source": [
        "5. Remove all duplicates from a given string in Python.\n",
        "\n",
        "\"We are given a string and we need to remove all duplicates from it? What will be the output if the order of character matters?"
      ],
      "metadata": {
        "id": "GDDNOsbsMYu5"
      }
    },
    {
      "cell_type": "code",
      "source": [
        "def duplicates(s):\n",
        "\n",
        "  strg = ''\n",
        "  for char in s:\n",
        "    if char in strg:\n",
        "      continue\n",
        "    else:\n",
        "      strg += char\n",
        "  \n",
        "  return strg"
      ],
      "metadata": {
        "id": "k9lN0CdVNLIB"
      },
      "execution_count": null,
      "outputs": []
    },
    {
      "cell_type": "code",
      "source": [
        "def duplicatesnoOrder(s):\n",
        "\n",
        "  return ''.join(set(s))\n",
        "  "
      ],
      "metadata": {
        "id": "LdHd6KbpODtR"
      },
      "execution_count": null,
      "outputs": []
    },
    {
      "cell_type": "code",
      "source": [
        "str1 = 'geeksforgeeks'"
      ],
      "metadata": {
        "id": "85kMYBQtMsNJ"
      },
      "execution_count": null,
      "outputs": []
    },
    {
      "cell_type": "code",
      "source": [
        "duplicates(str1)"
      ],
      "metadata": {
        "colab": {
          "base_uri": "https://localhost:8080/",
          "height": 35
        },
        "id": "kzwYxjRGNNUE",
        "outputId": "5b0c7fcc-35e2-4c4e-99e8-7cae593b8231"
      },
      "execution_count": null,
      "outputs": [
        {
          "output_type": "execute_result",
          "data": {
            "text/plain": [
              "'geksfor'"
            ],
            "application/vnd.google.colaboratory.intrinsic+json": {
              "type": "string"
            }
          },
          "metadata": {},
          "execution_count": 65
        }
      ]
    },
    {
      "cell_type": "code",
      "source": [
        "duplicatesnoOrder(str1)"
      ],
      "metadata": {
        "colab": {
          "base_uri": "https://localhost:8080/",
          "height": 35
        },
        "id": "IQ-NXkHrOPyu",
        "outputId": "6387e898-d406-427a-edca-1052401de89c"
      },
      "execution_count": null,
      "outputs": [
        {
          "output_type": "execute_result",
          "data": {
            "text/plain": [
              "'oksfegr'"
            ],
            "application/vnd.google.colaboratory.intrinsic+json": {
              "type": "string"
            }
          },
          "metadata": {},
          "execution_count": 71
        }
      ]
    },
    {
      "cell_type": "markdown",
      "source": [
        "6. Least frequent character in string\n",
        "Naive method "
      ],
      "metadata": {
        "id": "N6wQpSTaOjjY"
      }
    },
    {
      "cell_type": "code",
      "source": [
        "def leastchar(s):\n",
        "\n",
        "  s = s.lower()\n",
        "  d = {}\n",
        "  for char in s:\n",
        "    if char in d.keys():\n",
        "      d[char] +=1\n",
        "    else:\n",
        "      d[char] = 1\n",
        "  print(d)\n",
        "  return min(d,key = d.get)\n"
      ],
      "metadata": {
        "id": "VT9yGXa_Oq8p"
      },
      "execution_count": null,
      "outputs": []
    },
    {
      "cell_type": "code",
      "source": [
        "test_str = \"GeeksforGeeks\""
      ],
      "metadata": {
        "id": "oMj1OMPpOrAp"
      },
      "execution_count": null,
      "outputs": []
    },
    {
      "cell_type": "code",
      "source": [
        "leastchar(test_str)"
      ],
      "metadata": {
        "colab": {
          "base_uri": "https://localhost:8080/",
          "height": 53
        },
        "id": "oqvdPaojPhWB",
        "outputId": "25029e3c-f64b-4b33-9128-4759fb4caf70"
      },
      "execution_count": null,
      "outputs": [
        {
          "output_type": "stream",
          "name": "stdout",
          "text": [
            "{'g': 2, 'e': 4, 'k': 2, 's': 2, 'f': 1, 'o': 1, 'r': 1}\n"
          ]
        },
        {
          "output_type": "execute_result",
          "data": {
            "text/plain": [
              "'f'"
            ],
            "application/vnd.google.colaboratory.intrinsic+json": {
              "type": "string"
            }
          },
          "metadata": {},
          "execution_count": 80
        }
      ]
    },
    {
      "cell_type": "markdown",
      "source": [
        "7. Odd frequency Characters \n"
      ],
      "metadata": {
        "id": "KyQ-oQtcQjFd"
      }
    },
    {
      "cell_type": "code",
      "source": [
        "def odd(s):\n",
        "  s = s.lower()\n",
        "  d = {}\n",
        "  for char in s:\n",
        "    if char in d.keys():\n",
        "      d[char] +=1\n",
        "    else:\n",
        "      d[char] = 1\n",
        "  lst = []\n",
        "  for key,value in d.items():\n",
        "    if value % 2 == 0:\n",
        "      continue\n",
        "    else:\n",
        "      lst.append(key)\n",
        "\n",
        "  return lst"
      ],
      "metadata": {
        "id": "eZ0RP12HQ_YT"
      },
      "execution_count": null,
      "outputs": []
    },
    {
      "cell_type": "code",
      "source": [
        "def odd(s):\n",
        "  s = s.lower()\n",
        "  d = {}\n",
        "  for char in s:\n",
        "    if char in d.keys():\n",
        "      d[char] +=1\n",
        "    else:\n",
        "      d[char] = 1\n",
        "  lst = [val for val,chr in d.items() if chr %2 == 1]\n",
        "\n",
        "\n",
        "  return lst"
      ],
      "metadata": {
        "id": "QSp9zGiyRVwi"
      },
      "execution_count": null,
      "outputs": []
    },
    {
      "cell_type": "code",
      "source": [
        "test_str =\"geekforgeeks\"\n",
        "odd(test_str)"
      ],
      "metadata": {
        "colab": {
          "base_uri": "https://localhost:8080/"
        },
        "id": "rfWJozTeQ8Em",
        "outputId": "f38dc8ff-3691-47fa-fa6b-cfc7acc9a9f4"
      },
      "execution_count": null,
      "outputs": [
        {
          "output_type": "execute_result",
          "data": {
            "text/plain": [
              "['f', 'o', 'r', 's']"
            ]
          },
          "metadata": {},
          "execution_count": 85
        }
      ]
    },
    {
      "cell_type": "markdown",
      "source": [
        "8. Frequency of numbers in string.\n",
        "\n",
        "re.findall() + len() \n",
        "\n",
        "The combination of above functions can be used to perform this task. In this, we check for all numbers and put in list using findall() and count is extracted using len()"
      ],
      "metadata": {
        "id": "_ejWpehNRqWq"
      }
    },
    {
      "cell_type": "code",
      "source": [
        "test_str = \"geeks4feeks is No. 1 4 geeks\""
      ],
      "metadata": {
        "id": "r9BOOiIPSLl7"
      },
      "execution_count": null,
      "outputs": []
    },
    {
      "cell_type": "markdown",
      "source": [
        "Input : test_str = ‘geekforgeeks’\n",
        "Output : [‘r’, ‘o’, ‘f’, ‘s’]"
      ],
      "metadata": {
        "id": "rTGSf7PRQ7P8"
      }
    },
    {
      "cell_type": "markdown",
      "source": [
        "## Programs on Substring"
      ],
      "metadata": {
        "id": "IKjKlCDOSi71"
      }
    },
    {
      "cell_type": "markdown",
      "source": [
        "1. Check if a substring is present in a given string.\n",
        "\n",
        "\"Given two strings, check if s1 is in s2. \n",
        "\n",
        "We can check for every word, but Python provides us an inbuilt function find() which checks if a substring is present in the string. which is done in one line. \n",
        "find() function returns -1 if it is not found,else if returns the first occurance.\n"
      ],
      "metadata": {
        "id": "-p7q_I2bSmDx"
      }
    },
    {
      "cell_type": "code",
      "source": [
        "def findstring(s1,substring):\n",
        "  words = s1.split(' ')\n",
        "  for word in words:\n",
        "\n",
        "    if substring in word:\n",
        "      return True\n",
        "    else:\n",
        "      return False "
      ],
      "metadata": {
        "id": "cOe4Zg3ST8d7"
      },
      "execution_count": null,
      "outputs": []
    },
    {
      "cell_type": "code",
      "source": [
        "s1 =\"geeks for geeks\"\n",
        "s2 = 'gee'"
      ],
      "metadata": {
        "id": "Hj9mt27nUK3F"
      },
      "execution_count": null,
      "outputs": []
    },
    {
      "cell_type": "code",
      "source": [
        "findstring(s1,s2)"
      ],
      "metadata": {
        "colab": {
          "base_uri": "https://localhost:8080/"
        },
        "id": "yV8V8HDMUNSe",
        "outputId": "f184cd5e-03c6-405f-ea96-eabc200e0012"
      },
      "execution_count": null,
      "outputs": [
        {
          "output_type": "execute_result",
          "data": {
            "text/plain": [
              "True"
            ]
          },
          "metadata": {},
          "execution_count": 119
        }
      ]
    },
    {
      "cell_type": "code",
      "source": [
        "def findstring(s1,s2):\n",
        "  if (s1.find(s2) == -1):\n",
        "    print(\"No\")\n",
        "  else:\n",
        "    print(\"Yes\")"
      ],
      "metadata": {
        "id": "tjb3tJJJSz2S"
      },
      "execution_count": null,
      "outputs": []
    },
    {
      "cell_type": "code",
      "source": [
        "\n",
        "s1 =\"geeks for geeks\"\n",
        "s2 = 'geek'"
      ],
      "metadata": {
        "id": "MFfERr7fS8Is"
      },
      "execution_count": null,
      "outputs": []
    },
    {
      "cell_type": "code",
      "source": [
        "findstring(s1,s2)"
      ],
      "metadata": {
        "colab": {
          "base_uri": "https://localhost:8080/"
        },
        "id": "8v4yBqpRTBOD",
        "outputId": "aa1bde89-cf05-4e66-da22-7857cc39e5a4"
      },
      "execution_count": null,
      "outputs": [
        {
          "output_type": "stream",
          "name": "stdout",
          "text": [
            "Yes\n"
          ]
        }
      ]
    },
    {
      "cell_type": "markdown",
      "source": [
        "2. Substring presence in String List.\n",
        "\n",
        "Given list of substrings and list of strings, check for each substring, if they are present in any of strings in List. "
      ],
      "metadata": {
        "id": "AkOO5TGoDrzb"
      }
    },
    {
      "cell_type": "code",
      "source": [
        "def presence(substrn,string):\n",
        "\n",
        "  # naive method by using 2 loops\n",
        "  lst = []\n",
        "  # Initializing the default to False.\n",
        "  for i in substrn:\n",
        "    lst.append(False)\n",
        "  \n",
        "  for idx,word in enumerate(substrn):\n",
        "    for word2 in string:\n",
        "      if word in word2:\n",
        "        lst[idx] = True\n",
        "        break\n",
        "\n",
        "  return lst"
      ],
      "metadata": {
        "id": "9eI0y1hsE6ZF"
      },
      "execution_count": null,
      "outputs": []
    },
    {
      "cell_type": "code",
      "source": [
        "test_list1 = [\"Gfg\", \"is\", \"best\"]\n",
        "test_list2 = [\"I love Gfg\", \"Its Best for Geeks\", \"Gfg means CS\"]"
      ],
      "metadata": {
        "id": "fDJy6SB0EkRa"
      },
      "execution_count": null,
      "outputs": []
    },
    {
      "cell_type": "code",
      "source": [
        "test_list1 = [\"Gfg\", \"is\", \"best\"]\n",
        "test_list2 = [\"I love Gfg\", \"Its is Best for Geeks\",\"Gfg means CS\"]"
      ],
      "metadata": {
        "id": "J5TbJB7xGV5u"
      },
      "execution_count": null,
      "outputs": []
    },
    {
      "cell_type": "code",
      "source": [
        "presence(test_list1,test_list2)"
      ],
      "metadata": {
        "colab": {
          "base_uri": "https://localhost:8080/"
        },
        "id": "OdWxkORBFLbN",
        "outputId": "44e0d6b2-94db-4215-be98-7f1bcf58d182"
      },
      "execution_count": null,
      "outputs": [
        {
          "output_type": "execute_result",
          "data": {
            "text/plain": [
              "[True, True, False]"
            ]
          },
          "metadata": {},
          "execution_count": 19
        }
      ]
    },
    {
      "cell_type": "code",
      "source": [
        "# List Comprehension \n",
        "[True if any(i in j for j in test_list2) else False for i in test_list1]"
      ],
      "metadata": {
        "colab": {
          "base_uri": "https://localhost:8080/"
        },
        "id": "ldMxotUMGq7F",
        "outputId": "33ba0f0b-6da6-4156-b02e-7acd905b5776"
      },
      "execution_count": null,
      "outputs": [
        {
          "output_type": "execute_result",
          "data": {
            "text/plain": [
              "[True, True, False]"
            ]
          },
          "metadata": {},
          "execution_count": 20
        }
      ]
    },
    {
      "cell_type": "markdown",
      "source": [
        "3. All substring Frequency in String\n",
        "\n",
        "Given a String, extract all unique substrings with their frequency "
      ],
      "metadata": {
        "id": "_D-MJNX5G7Eb"
      }
    },
    {
      "cell_type": "code",
      "source": [
        "test_str = \"ababa\"\n",
        "#Output : {‘a’: 3, ‘ab’: 2, ‘aba’: 2, ‘abab’: 1, ‘ababa’: 1, ‘b’: 2, ‘ba’: 2, ‘bab’: 1, ‘baba’: 1}\n",
        "#Explanation : All substrings with their frequency extracted."
      ],
      "metadata": {
        "id": "TyeMBd_ZHv5Q"
      },
      "execution_count": null,
      "outputs": []
    },
    {
      "cell_type": "code",
      "source": [
        "def substrings(s):\n",
        "\n",
        "  # the substrings should be in order of their occurance in the string\n",
        "  # like substring : a is cool, but not \"b\", as \"b\" is preceded by \"a\"/\n",
        "\n",
        "  # the for loop is to get substring of all lengths following upto the complete\n",
        "  # string length.\n",
        "  output = {}\n",
        "  for j in range(0,len(s)): # outer loop to increment the start position \n",
        "  # once the inner loop is exhausted.\n",
        "    for i in range(0,len(s)):\n",
        "      substring = s[j:i+1]\n",
        "      if substring not in output:\n",
        "        output[substring] = 0\n",
        "      else:\n",
        "        continue\n",
        "\n",
        "      # next step is to find all the occurance of substring in the main string\n",
        "      # with substring as key and count as the value, \n",
        "      # hence we will need a dictionary to hold the values. \n",
        "      # but we need to slide along the string, based on the length\n",
        "      # of the substring we are trying to find\n",
        "      k = 0\n",
        "      while k < len(s):\n",
        "        if substring in s[k:k+i+1]:\n",
        "\n",
        "          output[substring] +=1\n",
        "        \n",
        "        k+=i+1\n",
        "\n",
        "  return output"
      ],
      "metadata": {
        "id": "dhdtH8k4H6ij"
      },
      "execution_count": null,
      "outputs": []
    },
    {
      "cell_type": "code",
      "source": [
        "d = 'ababa'\n",
        "substrings(d)"
      ],
      "metadata": {
        "colab": {
          "base_uri": "https://localhost:8080/"
        },
        "id": "pwZnSGh5Il-3",
        "outputId": "6a8b4378-d1de-4a11-830f-1d55ce14e7d8"
      },
      "execution_count": null,
      "outputs": [
        {
          "output_type": "execute_result",
          "data": {
            "text/plain": [
              "{'': 5,\n",
              " 'a': 3,\n",
              " 'ab': 2,\n",
              " 'aba': 1,\n",
              " 'abab': 1,\n",
              " 'ababa': 1,\n",
              " 'b': 2,\n",
              " 'ba': 2,\n",
              " 'bab': 1,\n",
              " 'baba': 1}"
            ]
          },
          "metadata": {},
          "execution_count": 67
        }
      ]
    },
    {
      "cell_type": "code",
      "source": [
        "test_str = \"ababa\""
      ],
      "metadata": {
        "id": "iQ0OVXrYNJaD"
      },
      "execution_count": null,
      "outputs": []
    },
    {
      "cell_type": "code",
      "source": [
        "# Using List Comprehension \n",
        "temp = [test_str[idx:j] for idx in range(0,len(test_str))for j in range(idx+1,len(test_str)+1)]\n",
        "\n",
        "res = {}\n",
        "\n",
        "for idx in temp:\n",
        "  if idx not in res:\n",
        "    res[idx] = 1\n",
        "  else:\n",
        "    res[idx] +=1\n",
        "print(res)"
      ],
      "metadata": {
        "colab": {
          "base_uri": "https://localhost:8080/"
        },
        "id": "DxgRhdPIK3mt",
        "outputId": "04f3566c-7c1f-4264-8058-e7f363c2236f"
      },
      "execution_count": null,
      "outputs": [
        {
          "output_type": "stream",
          "name": "stdout",
          "text": [
            "{'a': 3, 'ab': 2, 'aba': 2, 'abab': 1, 'ababa': 1, 'b': 2, 'ba': 2, 'bab': 1, 'baba': 1}\n"
          ]
        }
      ]
    },
    {
      "cell_type": "markdown",
      "source": [
        "4. Possible Substring count from String\n",
        "\n",
        "Given target string and argument substring, count how many substrings can be constructed using string characters, repetitions not allowed."
      ],
      "metadata": {
        "id": "eKZnXBqPOsSR"
      }
    },
    {
      "cell_type": "code",
      "source": [
        "# initializing arg string\n",
        "arg_str = \"geeks\"\n",
        "test_str = \"gekseforgeeks\"\n",
        " \n",
        "# using min and count to get minimum possible\n",
        "# occurrence of character\n",
        "print(list(test_str.count(char) for char in set(arg_str)))\n",
        "res = min(test_str.count(char) // arg_str.count(char) for char in set(arg_str))\n",
        "\n",
        "print(res)"
      ],
      "metadata": {
        "colab": {
          "base_uri": "https://localhost:8080/"
        },
        "id": "TxDs4Hq0O_NV",
        "outputId": "f4fd558e-9409-444c-e6d8-87bdd175f147"
      },
      "execution_count": null,
      "outputs": [
        {
          "output_type": "stream",
          "name": "stdout",
          "text": [
            "[2, 2, 2, 4]\n",
            "2\n"
          ]
        }
      ]
    },
    {
      "cell_type": "markdown",
      "source": [
        "# Interators in Python"
      ],
      "metadata": {
        "id": "oW3moGiQJHzQ"
      }
    },
    {
      "cell_type": "markdown",
      "source": [
        "Iterator in python is an object that is used to iterate over iterable objects like lists, tuples, dicts and sets. \n",
        "\n",
        "The iterator object is initialized using the iter() method. It uses the next() method for iteration.\n",
        "\n",
        "1. _iter(iterable)_ : Method that is called for the initialization of an iterator. This returns an iterator object\n",
        "\n",
        "2. next(_next_ in Python 3): The next method returns the next value for the iterable. When we use a loop to traverse any iterable object, internally it uses the iter() method to get an iterator object which further uses the next() method to iterate over. \n",
        "This method raises a StopIteration to signal the end of the iteration."
      ],
      "metadata": {
        "id": "-o9Plrkt4ZvI"
      }
    },
    {
      "cell_type": "code",
      "source": [
        "iterable_value = 'Geeks'\n",
        "iterable_obj = iter(iterable_value)\n",
        "\n",
        "while True:\n",
        "  try:\n",
        "    # iterate by called next\n",
        "    item = next(iterable_obj)\n",
        "    print(item)\n",
        "  except StopIteration:\n",
        "\n",
        "    #exception will happen when iteration will over\n",
        "    break\n"
      ],
      "metadata": {
        "colab": {
          "base_uri": "https://localhost:8080/"
        },
        "id": "wLIdDPPsJRS_",
        "outputId": "0fd9d351-ec59-4f69-f2ea-b32aa232a7c3"
      },
      "execution_count": null,
      "outputs": [
        {
          "output_type": "stream",
          "name": "stdout",
          "text": [
            "G\n",
            "e\n",
            "e\n",
            "k\n",
            "s\n"
          ]
        }
      ]
    },
    {
      "cell_type": "code",
      "source": [
        "# A simple python program to demonstrate \n",
        "# working of iterators using an example type\n",
        "# that iteraters from 10 to given value\n",
        "\n",
        "# An iterable user defined type\n",
        "class Test:\n",
        "\n",
        "  #constructor\n",
        "  def __init__(self,limit):\n",
        "    self.limit = limit\n",
        "  \n",
        "  #creates iterator object \n",
        "  #called when iteration is initialized\n",
        "  def __iter__(self):\n",
        "    self.x = 10\n",
        "    return self\n",
        "\n",
        "  # to move to the next element. In python 3,\n",
        "  # we should replace next with __next__\n",
        "  def __next__(self):\n",
        "\n",
        "    x = self.x\n",
        "\n",
        "    #store current value of x\n",
        "    if x > self.limit:\n",
        "      raise StopIteration\n",
        "\n",
        "    self.x = x + 1\n",
        "    return x"
      ],
      "metadata": {
        "id": "u1obQ7QQ5brf"
      },
      "execution_count": null,
      "outputs": []
    },
    {
      "cell_type": "code",
      "source": [
        "for i in Test(15):\n",
        "  print(i)"
      ],
      "metadata": {
        "colab": {
          "base_uri": "https://localhost:8080/"
        },
        "id": "9yBJd1K66NFX",
        "outputId": "fb1ee8bc-9048-44cb-d5c8-e37b0d4d4832"
      },
      "execution_count": null,
      "outputs": [
        {
          "output_type": "stream",
          "name": "stdout",
          "text": [
            "10\n",
            "11\n",
            "12\n",
            "13\n",
            "14\n",
            "15\n"
          ]
        }
      ]
    },
    {
      "cell_type": "markdown",
      "source": [
        "## Generators in Python \n",
        "\n",
        "There are two terms involved when we discuss generators \n",
        "\n",
        "1. Generator-Function : A generator function is defined like a normal function, but whenever it needs to generate a value, it does so with the yield keyword rather than return .\n",
        "If the body of a def contains yield, the function automatically becomes a generator function."
      ],
      "metadata": {
        "id": "nLdFVYvL74UV"
      }
    },
    {
      "cell_type": "code",
      "source": [
        "def simplegeneratorFun():\n",
        "  yield 1\n",
        "  yield 2\n",
        "  yield 3"
      ],
      "metadata": {
        "id": "Nm63UfPq8xU6"
      },
      "execution_count": null,
      "outputs": []
    },
    {
      "cell_type": "code",
      "source": [
        "for value in simplegeneratorFun():\n",
        "  print(value)"
      ],
      "metadata": {
        "colab": {
          "base_uri": "https://localhost:8080/"
        },
        "id": "j2RqnPfZ83HC",
        "outputId": "4bd55148-ec34-4474-f020-f30d7e82f5b0"
      },
      "execution_count": null,
      "outputs": [
        {
          "output_type": "stream",
          "name": "stdout",
          "text": [
            "1\n",
            "2\n",
            "3\n"
          ]
        }
      ]
    },
    {
      "cell_type": "markdown",
      "source": [
        "generator-object : Generator functions return a generator object. Generator objects are used either by calling the next method on the generator object or using the generator object in a \"for in\" loop."
      ],
      "metadata": {
        "id": "Hs3NSDzM9TQo"
      }
    },
    {
      "cell_type": "code",
      "source": [
        "# A python program to demostrate use of generator object \n",
        "# next()\n",
        "\n",
        "def simplegeneratorfun(list1):\n",
        "  for i in list1: \n",
        "    yield i\n",
        "\n"
      ],
      "metadata": {
        "id": "vW7wBIYWCmxV"
      },
      "execution_count": null,
      "outputs": []
    },
    {
      "cell_type": "code",
      "source": [
        "list1 = [[2,3],[4,5],[6,7]]\n",
        "x = simplegeneratorfun(list1)"
      ],
      "metadata": {
        "id": "vLqphpQrFIWh"
      },
      "execution_count": null,
      "outputs": []
    },
    {
      "cell_type": "code",
      "source": [
        "\n",
        "print(next(x))"
      ],
      "metadata": {
        "colab": {
          "base_uri": "https://localhost:8080/"
        },
        "id": "UaXZU8iyC78b",
        "outputId": "351e8068-e3f6-4d81-bcff-81ae88439810"
      },
      "execution_count": null,
      "outputs": [
        {
          "output_type": "stream",
          "name": "stdout",
          "text": [
            "[2, 3]\n"
          ]
        }
      ]
    },
    {
      "cell_type": "markdown",
      "source": [
        "# print the squares of first n natural numbers using a generator"
      ],
      "metadata": {
        "id": "v2Yj7kgVF0VZ"
      }
    },
    {
      "cell_type": "code",
      "source": [
        "def mygenerator(n):\n",
        "\n",
        "  # initializing a to 1\n",
        "  a = 1\n",
        "\n",
        "  while True:\n",
        "    if  a <= n:\n",
        "\n",
        "      yield a**2\n",
        "  \n",
        "    else:\n",
        "      raise StopIteration\n",
        "  \n",
        "    a +=1"
      ],
      "metadata": {
        "id": "XY1rSHqQF5YM"
      },
      "execution_count": null,
      "outputs": []
    },
    {
      "cell_type": "code",
      "source": [
        "x = mygenerator(5)"
      ],
      "metadata": {
        "id": "uaJBZ6i5GckD"
      },
      "execution_count": null,
      "outputs": []
    },
    {
      "cell_type": "markdown",
      "source": [
        "# Dictionaries\n",
        "\n"
      ],
      "metadata": {
        "id": "diptIKSTRVGj"
      }
    },
    {
      "cell_type": "markdown",
      "source": [
        "1. Sort Python dictionaries by Key or Value\n",
        "\n",
        " - Create a dictionary and display its keys alphabetically\n",
        " - Display both the keys and values sorted in alphabetical order by the key \n",
        " - Same as (ii), but sorted in alphabetical order by value."
      ],
      "metadata": {
        "id": "OzYmD3QCHire"
      }
    },
    {
      "cell_type": "code",
      "source": [
        "d = {}\n",
        "d[2] = '64'       \n",
        "d[1] = '69'\n",
        "d[4] = '23'\n",
        "d[5] = '65'\n",
        "d[6] = '34'\n",
        "d[3] = '76'"
      ],
      "metadata": {
        "id": "8DlUtWIkH9nF"
      },
      "execution_count": null,
      "outputs": []
    },
    {
      "cell_type": "code",
      "source": [
        "sortkeys = sorted(d.keys())\n",
        "index = 0\n",
        "while index < len(sortkeys):\n",
        "\n",
        "  for key,value in d.items():\n",
        "    if key == sortkeys[index]:\n",
        "      print(key,\":\",d[key])\n",
        "    else:\n",
        "      continue\n",
        "\n",
        "  index +=1\n"
      ],
      "metadata": {
        "colab": {
          "base_uri": "https://localhost:8080/"
        },
        "id": "TDS6NHfpImMW",
        "outputId": "10648043-9a97-420d-eda2-7127a65c180c"
      },
      "execution_count": null,
      "outputs": [
        {
          "output_type": "stream",
          "name": "stdout",
          "text": [
            "1 : 69\n",
            "2 : 64\n",
            "3 : 76\n",
            "4 : 23\n",
            "5 : 65\n",
            "6 : 34\n"
          ]
        }
      ]
    },
    {
      "cell_type": "markdown",
      "source": [
        "2. Handling missing keys in Python dictionaries.\n"
      ],
      "metadata": {
        "id": "33Z8mZ79JqjG"
      }
    },
    {
      "cell_type": "code",
      "source": [
        "\n",
        "country_code = {'India': 91,\n",
        "                'Australia' :25,\n",
        "                'Nepal' :977,\n",
        "                'Poland': 45,\n",
        "                'Spain' : 34,\n",
        "                'Germany' : 44}\n",
        "\n"
      ],
      "metadata": {
        "id": "xLJZ_aKLIRES"
      },
      "execution_count": null,
      "outputs": []
    },
    {
      "cell_type": "code",
      "source": [
        "# Using get()\n",
        "#get(key,def_val) method is useful when we have to check for the key. If the key is present,\n",
        "# the value associated with the key is printed, else the def_value passed in arguments is returned.\n",
        "\n",
        "print(country_code.get('India',\"Not Found\"))\n",
        "print(country_code.get('Japan',\"Not Found\"))\n",
        "print(country_code.get('Germany',\"Not Found\"))"
      ],
      "metadata": {
        "colab": {
          "base_uri": "https://localhost:8080/"
        },
        "id": "WHkr_Wn1KmQb",
        "outputId": "590407ad-e6a3-4e5b-ac2f-2bc1f9d9834f"
      },
      "execution_count": null,
      "outputs": [
        {
          "output_type": "stream",
          "name": "stdout",
          "text": [
            "91\n",
            "Not Found\n",
            "44\n"
          ]
        }
      ]
    },
    {
      "cell_type": "markdown",
      "source": [
        "3. Python dictionary with keys having multiple Inputs. "
      ],
      "metadata": {
        "id": "x5ENN0BPK7fq"
      }
    },
    {
      "cell_type": "code",
      "source": [
        "# creating an empty dictionary\n",
        "dict1 = {}\n",
        " \n",
        "# Insert first triplet in dictionary\n",
        "x, y, z = 10, 20, 30\n",
        "dict1[x, y, z] = x + y - z;\n",
        " \n",
        "# Insert second triplet in dictionary\n",
        "x, y, z = 5, 2, 4\n",
        "dict1[x, y, z] = x + y - z;\n",
        " \n",
        "# print the dictionary\n",
        "print(dict1)"
      ],
      "metadata": {
        "colab": {
          "base_uri": "https://localhost:8080/"
        },
        "id": "ke895_LJLKuR",
        "outputId": "3b100ab2-4cce-45cb-97e3-a84f6e0806b4"
      },
      "execution_count": null,
      "outputs": [
        {
          "output_type": "stream",
          "name": "stdout",
          "text": [
            "{(10, 20, 30): 0, (5, 2, 4): 3}\n"
          ]
        }
      ]
    },
    {
      "cell_type": "markdown",
      "source": [
        "## Python Nested Dictionary \n",
        "\n",
        "What is Nested Dictionary in Python:\n",
        "\n",
        "In Python, a nested dictionary is a dictionary inside a dictionary. It's a collection of dictionaries into one single dictionary."
      ],
      "metadata": {
        "id": "Q9fQMmzzMRkz"
      }
    },
    {
      "cell_type": "code",
      "source": [
        "nested_dict = { 'dictA' : {'key1':'value1'},\n",
        "               'dictB' : {'key2':'valu2'}}"
      ],
      "metadata": {
        "id": "3oUyPUMoMiTQ"
      },
      "execution_count": null,
      "outputs": []
    },
    {
      "cell_type": "markdown",
      "source": [
        "Here, the nested_dict is a nested dictionary with the dictionary dictA and dictsB. They are two dictionary each having own key and value."
      ],
      "metadata": {
        "id": "9cEnlKNcMt-m"
      }
    },
    {
      "cell_type": "markdown",
      "source": [
        "1. Create a Nested Dictionary "
      ],
      "metadata": {
        "id": "upWFAGoXM7yo"
      }
    },
    {
      "cell_type": "code",
      "source": [
        "people = {1 : {'name':'John','age':'27','sex':'Male'},\n",
        "          2 : {'name':'Marie','age': '22','sex':'female'}}\n",
        "print(people)\n"
      ],
      "metadata": {
        "colab": {
          "base_uri": "https://localhost:8080/"
        },
        "id": "eODQgp33M-L0",
        "outputId": "c5a931e9-9ba9-4608-e69b-5db7206e26c2"
      },
      "execution_count": null,
      "outputs": [
        {
          "output_type": "stream",
          "name": "stdout",
          "text": [
            "{1: {'name': 'John', 'age': '27', 'sex': 'Male'}, 2: {'name': 'Marie', 'age': '22', 'sex': 'female'}}\n"
          ]
        }
      ]
    },
    {
      "cell_type": "markdown",
      "source": [
        "2. Access elements of a Nested Dictionary"
      ],
      "metadata": {
        "id": "3xht1Qa2NSe-"
      }
    },
    {
      "cell_type": "code",
      "source": [
        "print(people[2]['sex'])"
      ],
      "metadata": {
        "colab": {
          "base_uri": "https://localhost:8080/"
        },
        "id": "tz5Il1uvNRYR",
        "outputId": "3e2e444e-2ff4-4ade-a440-bd831ea4f8c2"
      },
      "execution_count": null,
      "outputs": [
        {
          "output_type": "stream",
          "name": "stdout",
          "text": [
            "female\n"
          ]
        }
      ]
    },
    {
      "cell_type": "markdown",
      "source": [
        "3. Add element to a Nested Dictionary "
      ],
      "metadata": {
        "id": "Bm3ZtMlkRPcu"
      }
    },
    {
      "cell_type": "code",
      "source": [
        "people[3] = {}\n",
        "\n",
        "people[3]['Name'] = 'Luna'\n",
        "people[3]['age'] = '24'\n",
        "people[3]['sex'] = 'female'\n",
        "people[3]['married'] = 'No'"
      ],
      "metadata": {
        "id": "1RCCOMf_RTQ6"
      },
      "execution_count": null,
      "outputs": []
    },
    {
      "cell_type": "code",
      "source": [
        "people[4] = {'name':'Peter','age': '27','sex': 'male','married':'Yes'}"
      ],
      "metadata": {
        "id": "g4VhMHxRRg-M"
      },
      "execution_count": null,
      "outputs": []
    },
    {
      "cell_type": "code",
      "source": [
        "print(people)"
      ],
      "metadata": {
        "colab": {
          "base_uri": "https://localhost:8080/"
        },
        "id": "h_IJJfxCRwhK",
        "outputId": "3811d375-5df2-461c-dab3-915e05a8670a"
      },
      "execution_count": null,
      "outputs": [
        {
          "output_type": "stream",
          "name": "stdout",
          "text": [
            "{1: {'name': 'John', 'age': '27', 'sex': 'Male'}, 2: {'name': 'Marie', 'age': '22', 'sex': 'female'}, 3: {'Name': 'Luna', 'age': '24', 'sex': 'female', 'married': 'No'}, 4: {'name': 'Peter', 'age': '27', 'sex': 'male', 'married': 'Yes'}}\n"
          ]
        }
      ]
    },
    {
      "cell_type": "markdown",
      "source": [
        "4. Iterate Through a Nested Dictionary \n",
        "\n",
        "Using the for loops, we can iterate through each elements in a nested dictionary "
      ],
      "metadata": {
        "id": "GgTYAieZR2l3"
      }
    },
    {
      "cell_type": "code",
      "source": [
        "for p_id,p_info in people.items():\n",
        "  print(\"\\nPerson ID\",p_id)\n",
        "\n",
        "  for key in p_info:\n",
        "    print(key +\":\",p_info[key])\n"
      ],
      "metadata": {
        "colab": {
          "base_uri": "https://localhost:8080/"
        },
        "id": "WkXu8rA-R-OO",
        "outputId": "80a8fe02-63bf-4db7-e280-078aafb452a3"
      },
      "execution_count": null,
      "outputs": [
        {
          "output_type": "stream",
          "name": "stdout",
          "text": [
            "\n",
            "Person ID 1\n",
            "name: John\n",
            "age: 27\n",
            "sex: Male\n",
            "\n",
            "Person ID 2\n",
            "name: Marie\n",
            "age: 22\n",
            "sex: female\n",
            "\n",
            "Person ID 3\n",
            "Name: Luna\n",
            "age: 24\n",
            "sex: female\n",
            "married: No\n",
            "\n",
            "Person ID 4\n",
            "name: Peter\n",
            "age: 27\n",
            "sex: male\n",
            "married: Yes\n"
          ]
        }
      ]
    },
    {
      "cell_type": "code",
      "source": [
        "for key,value in people.items():\n",
        "  print(people[key])"
      ],
      "metadata": {
        "colab": {
          "base_uri": "https://localhost:8080/"
        },
        "id": "z56adOJ1UXoE",
        "outputId": "ac97d7ea-542f-42d6-e1fd-457f0fa412a4"
      },
      "execution_count": null,
      "outputs": [
        {
          "output_type": "stream",
          "name": "stdout",
          "text": [
            "{'name': 'John', 'age': '27', 'sex': 'Male'}\n",
            "{'name': 'Marie', 'age': '22', 'sex': 'female'}\n",
            "{'Name': 'Luna', 'age': '24', 'sex': 'female'}\n",
            "{'name': 'Peter', 'age': '27', 'sex': 'male', 'married': 'Yes'}\n"
          ]
        }
      ]
    },
    {
      "cell_type": "markdown",
      "source": [
        "4.Delete elements from a Nested Dictionary "
      ],
      "metadata": {
        "id": "q2E92bsrSbEr"
      }
    },
    {
      "cell_type": "code",
      "source": [
        "del people[3]['married']"
      ],
      "metadata": {
        "id": "D1mjpkLgSe9p"
      },
      "execution_count": null,
      "outputs": []
    },
    {
      "cell_type": "code",
      "source": [
        "print(people[3])"
      ],
      "metadata": {
        "colab": {
          "base_uri": "https://localhost:8080/"
        },
        "id": "IFqjDTbaShEi",
        "outputId": "4833e6aa-f8c8-4be7-d6c6-9886fdf1ec32"
      },
      "execution_count": null,
      "outputs": [
        {
          "output_type": "stream",
          "name": "stdout",
          "text": [
            "{'Name': 'Luna', 'age': '24', 'sex': 'female'}\n"
          ]
        }
      ]
    },
    {
      "cell_type": "markdown",
      "source": [
        "More Examples on Nested Dictionary "
      ],
      "metadata": {
        "id": "r1qc7HzWS1Qw"
      }
    },
    {
      "cell_type": "code",
      "source": [
        "D = {'emp1': {'name': 'Bob', 'job': 'Mgr'},\n",
        "     'emp2': {'name': 'Kim', 'job': 'Dev'},\n",
        "     'emp3': {'name': 'Sam', 'job': 'Dev'}}"
      ],
      "metadata": {
        "id": "2ZsOvIL6S4Yn"
      },
      "execution_count": null,
      "outputs": []
    },
    {
      "cell_type": "markdown",
      "source": [
        "The DICT() constructor\n",
        "\n",
        "There are several ways to create a nested dictionary using a type constructor called\n",
        "dict().\n",
        "\n",
        "To create a nested dictionary, simply pass dictionary key:valye pair as keyword arguments to dict() constructor\n"
      ],
      "metadata": {
        "id": "kd84aFmBTCNS"
      }
    },
    {
      "cell_type": "code",
      "source": [
        "# Merge two Nested Dictionary \n",
        "\n",
        "D1 = {'emp1': {'name': 'Bob', 'job': 'Mgr'},\n",
        "      'emp2': {'name': 'Kim', 'job': 'Dev'}}\n",
        "D2 = {'emp2': {'name': 'Sam', 'job': 'Dev'},\n",
        "      'emp3': {'name': 'Max', 'job': 'Janitor'}}\n",
        "\n",
        "D1.update(D2)\n",
        "print(D1)"
      ],
      "metadata": {
        "colab": {
          "base_uri": "https://localhost:8080/"
        },
        "id": "P2tB5VcvS0nD",
        "outputId": "833f7d9c-aaf8-4379-9ad4-03fdd41e23f4"
      },
      "execution_count": null,
      "outputs": [
        {
          "output_type": "stream",
          "name": "stdout",
          "text": [
            "{'emp1': {'name': 'Bob', 'job': 'Mgr'}, 'emp2': {'name': 'Sam', 'job': 'Dev'}, 'emp3': {'name': 'Max', 'job': 'Janitor'}}\n"
          ]
        }
      ]
    },
    {
      "cell_type": "code",
      "source": [
        "D1.pop('emp3')"
      ],
      "metadata": {
        "colab": {
          "base_uri": "https://localhost:8080/"
        },
        "id": "Fni040ZNUwq-",
        "outputId": "471b331f-299b-4a9b-c632-3895e9ce3394"
      },
      "execution_count": null,
      "outputs": [
        {
          "output_type": "execute_result",
          "data": {
            "text/plain": [
              "{'job': 'Janitor', 'name': 'Max'}"
            ]
          },
          "metadata": {},
          "execution_count": 114
        }
      ]
    },
    {
      "cell_type": "code",
      "source": [
        "print(D1)"
      ],
      "metadata": {
        "colab": {
          "base_uri": "https://localhost:8080/"
        },
        "id": "Ym4l6_iRUy7b",
        "outputId": "44339303-da02-4266-9721-99f88a3c5a1c"
      },
      "execution_count": null,
      "outputs": [
        {
          "output_type": "stream",
          "name": "stdout",
          "text": [
            "{'emp1': {'name': 'Bob', 'job': 'Mgr'}, 'emp2': {'name': 'Sam', 'job': 'Dev'}}\n"
          ]
        }
      ]
    },
    {
      "cell_type": "markdown",
      "source": [
        "## Lambda "
      ],
      "metadata": {
        "id": "F_zQPmXTd0Ym"
      }
    },
    {
      "cell_type": "markdown",
      "source": [
        "In Python, Lambda Function is an anonymous function, which means that it is a function without a name. It can have any number of arguments but only one expression, which is evaluated and returned. \n",
        "It must have a return value. \n",
        "\n",
        "Since a lambda function mut have a return value for every valid input, we cannot define it with \"if\" but without \"else\" as we are not specifyng what will we return if the if-condition will be False i.e its else part. \n",
        "\n"
      ],
      "metadata": {
        "id": "MU4jguIPd22p"
      }
    },
    {
      "cell_type": "markdown",
      "source": [
        "1. Write a Python program to create a lambda function that adds $15$ to a given number passed in as an argument, also create a lambda function that multiplies argument x with argument y and print the result"
      ],
      "metadata": {
        "id": "vxTznDnsfb8V"
      }
    },
    {
      "cell_type": "code",
      "source": [
        "add15 = lambda x : x+ 15\n",
        "mult = lambda x,y : x*y"
      ],
      "metadata": {
        "id": "VkMOqzXneqmF"
      },
      "execution_count": null,
      "outputs": []
    },
    {
      "cell_type": "code",
      "source": [
        "print(add15(10))\n",
        "print(mult(6,8))"
      ],
      "metadata": {
        "colab": {
          "base_uri": "https://localhost:8080/"
        },
        "id": "AOtkat7beuYC",
        "outputId": "8535d1be-2a9b-4fe3-a6be-476c2a0f6e19"
      },
      "execution_count": null,
      "outputs": [
        {
          "output_type": "stream",
          "name": "stdout",
          "text": [
            "25\n",
            "48\n"
          ]
        }
      ]
    },
    {
      "cell_type": "markdown",
      "source": [
        "3. Write a Python program to sort a list of tuples using Lambda.\n",
        "Original list of tuples:\n",
        "[('English', 88), ('Science', 90), ('Maths', 97), ('Social sciences', 82)]\n",
        "Sorting the List of Tuples:\n",
        "[('Social sciences', 82), ('English', 88), ('Science', 90), ('Maths', 97)]"
      ],
      "metadata": {
        "id": "5I1RspEQgRyd"
      }
    },
    {
      "cell_type": "code",
      "source": [
        "gtp =[('English', 88), ('Science', 90), ('Maths', 97), ('Social sciences', 82)]\n"
      ],
      "metadata": {
        "colab": {
          "base_uri": "https://localhost:8080/"
        },
        "id": "npt7F1nLhHN4",
        "outputId": "f5e8a943-1155-4cdb-8bda-62cd69929e6f"
      },
      "execution_count": null,
      "outputs": [
        {
          "output_type": "stream",
          "name": "stdout",
          "text": [
            "[('English', 88), ('Maths', 97), ('Science', 90), ('Social sciences', 82)]\n"
          ]
        }
      ]
    },
    {
      "cell_type": "code",
      "source": [
        "gtp.sort(key = lambda x : x[1])\n"
      ],
      "metadata": {
        "id": "4_xX4jCegS_B"
      },
      "execution_count": null,
      "outputs": []
    },
    {
      "cell_type": "code",
      "source": [
        "print((gtp))"
      ],
      "metadata": {
        "colab": {
          "base_uri": "https://localhost:8080/"
        },
        "id": "U5oFKCimhdSv",
        "outputId": "a123ad62-2a6a-4430-c37a-56a023e09b3e"
      },
      "execution_count": null,
      "outputs": [
        {
          "output_type": "stream",
          "name": "stdout",
          "text": [
            "[('Social sciences', 82), ('English', 88), ('Science', 90), ('Maths', 97)]\n"
          ]
        }
      ]
    },
    {
      "cell_type": "code",
      "source": [
        ""
      ],
      "metadata": {
        "id": "jCVcgRrliPsW"
      },
      "execution_count": null,
      "outputs": []
    },
    {
      "cell_type": "markdown",
      "source": [
        "3.  Write a Python program to filter a list of integers using Lambda"
      ],
      "metadata": {
        "id": "ojYz1enViK9M"
      }
    },
    {
      "cell_type": "code",
      "source": [
        "even = filter(lambda x : x % 2 == 0,lst)"
      ],
      "metadata": {
        "id": "dfJxnnoZimRI"
      },
      "execution_count": null,
      "outputs": []
    },
    {
      "cell_type": "code",
      "source": [
        "lst = [1, 2, 3, 4, 5, 6, 7, 8, 9, 10]"
      ],
      "metadata": {
        "id": "O6pDqeonik3J"
      },
      "execution_count": null,
      "outputs": []
    },
    {
      "cell_type": "code",
      "source": [
        "print(list(even))"
      ],
      "metadata": {
        "colab": {
          "base_uri": "https://localhost:8080/"
        },
        "id": "TWjr5B1FiyB1",
        "outputId": "84a8f5ff-5d43-4b23-96e3-b1802f2f54a3"
      },
      "execution_count": null,
      "outputs": [
        {
          "output_type": "stream",
          "name": "stdout",
          "text": [
            "[2, 4, 6, 8, 10]\n"
          ]
        }
      ]
    },
    {
      "cell_type": "markdown",
      "source": [
        "#Map"
      ],
      "metadata": {
        "id": "FJBFhHGIkCuF"
      }
    },
    {
      "cell_type": "markdown",
      "source": [
        "1.Write a Python program to triple all numbers of a given list of integers"
      ],
      "metadata": {
        "id": "SNcqBat6kHAr"
      }
    },
    {
      "cell_type": "code",
      "source": [
        "r = map(lambda x:x*3,range(1,11))\n",
        "print(list(r))"
      ],
      "metadata": {
        "colab": {
          "base_uri": "https://localhost:8080/"
        },
        "id": "cH8NB1jrkGCi",
        "outputId": "00aeffa3-b5e3-4551-eae5-40a2842a8630"
      },
      "execution_count": null,
      "outputs": [
        {
          "output_type": "stream",
          "name": "stdout",
          "text": [
            "[3, 6, 9, 12, 15, 18, 21, 24, 27, 30]\n"
          ]
        }
      ]
    },
    {
      "cell_type": "markdown",
      "source": [
        "2. Write a Python program to add three given lists using Python map and lambda."
      ],
      "metadata": {
        "id": "7uGrFKmVkh05"
      }
    },
    {
      "cell_type": "code",
      "source": [
        "lst1 = [1,2,3,4,5,6]\n",
        "lst2 = [7,8,9,10,11,12]"
      ],
      "metadata": {
        "id": "BCxUXLjMkqEu"
      },
      "execution_count": null,
      "outputs": []
    },
    {
      "cell_type": "code",
      "source": [
        "f = map(lambda x,y : x+y,lst1,lst2)\n",
        "print(list(f))"
      ],
      "metadata": {
        "colab": {
          "base_uri": "https://localhost:8080/"
        },
        "id": "JTVWO6tbkkoK",
        "outputId": "f0fffac5-7d37-4540-a1be-2daf196b32ec"
      },
      "execution_count": null,
      "outputs": [
        {
          "output_type": "stream",
          "name": "stdout",
          "text": [
            "[8, 10, 12, 14, 16, 18]\n"
          ]
        }
      ]
    },
    {
      "cell_type": "markdown",
      "source": [
        "3. Write a Python program to listify the list of given strings individually using Python map."
      ],
      "metadata": {
        "id": "zLPDqx94kiMO"
      }
    },
    {
      "cell_type": "code",
      "source": [
        "color = ['Red', 'Blue', 'Black', 'White', 'Pink'] \n",
        "\n",
        "f = list(map(list,color))\n",
        "print(f)"
      ],
      "metadata": {
        "colab": {
          "base_uri": "https://localhost:8080/"
        },
        "id": "exnXNLSTkPbq",
        "outputId": "923bda81-e06a-41df-badd-f9e3d7ff6199"
      },
      "execution_count": null,
      "outputs": [
        {
          "output_type": "stream",
          "name": "stdout",
          "text": [
            "[['R', 'e', 'd'], ['B', 'l', 'u', 'e'], ['B', 'l', 'a', 'c', 'k'], ['W', 'h', 'i', 't', 'e'], ['P', 'i', 'n', 'k']]\n"
          ]
        }
      ]
    },
    {
      "cell_type": "markdown",
      "source": [
        "# Ridge"
      ],
      "metadata": {
        "id": "3_R73fTAmo4t"
      }
    },
    {
      "cell_type": "code",
      "source": [
        "from sklearn.datasets import load_diabetes\n",
        "from sklearn.linear_model import RidgeCV\n",
        "X, y = load_diabetes(return_X_y=True)\n",
        "clf = RidgeCV(alphas=[1e-3, 1e-2, 1e-1, 1]).fit(X, y)"
      ],
      "metadata": {
        "id": "eQMQrmF4mp3R"
      },
      "execution_count": null,
      "outputs": []
    },
    {
      "cell_type": "code",
      "source": [
        "clf.predict(X)"
      ],
      "metadata": {
        "colab": {
          "base_uri": "https://localhost:8080/"
        },
        "id": "4YlgoZA8Cnrb",
        "outputId": "7bfcf24d-9d37-4dd8-eaa0-4f5c3fb25198"
      },
      "execution_count": null,
      "outputs": [
        {
          "output_type": "execute_result",
          "data": {
            "text/plain": [
              "array([204.30324008,  69.68600206, 175.22187635, 164.6597524 ,\n",
              "       128.23867015, 105.73535189,  77.21946172, 121.57007705,\n",
              "       159.31851016, 213.18741742,  99.42856179, 101.23084798,\n",
              "       114.80847861, 162.76883194, 102.27544379, 174.7726148 ,\n",
              "       209.51670809, 182.23487077, 146.86561085, 122.65445219,\n",
              "       119.08758001,  89.50385419, 116.33717225, 265.72345543,\n",
              "       164.03700391, 145.79026763,  96.68176523, 177.98394823,\n",
              "       127.95128615, 183.55022744, 158.86498565,  69.59667632,\n",
              "       257.27008944, 108.94124894,  80.05043639,  85.12957427,\n",
              "       206.47812632, 155.27953569, 241.57381353, 136.11010577,\n",
              "       153.57965855,  74.02848707, 144.15154599,  78.90306881,\n",
              "       218.30760284, 124.4782497 , 140.5475606 , 107.73561017,\n",
              "        76.45948512, 186.93051945, 157.50464005, 167.92394722,\n",
              "       133.75078853, 157.75403489, 140.35101701,  74.03752195,\n",
              "       205.35950246,  79.95832119,  98.66460064, 134.33846834,\n",
              "       114.57897492, 177.07131046,  65.49834471, 100.09326653,\n",
              "       113.25107286, 186.9285915 , 146.58389604, 124.18515411,\n",
              "       113.59014233, 123.20893753,  75.8538939 , 235.49599353,\n",
              "       145.85055454, 123.60267019, 150.6762393 , 126.85110837,\n",
              "       190.74125795,  80.72120243, 163.9006104 ,  93.85518958,\n",
              "       173.14497528, 121.59634949,  65.70756522, 150.78518934,\n",
              "        56.39680771, 167.58005191,  49.17035022, 151.12192045,\n",
              "        80.68913565, 105.54331012,  83.11926087, 186.5366361 ,\n",
              "       189.39270437,  60.77632763, 106.6814866 , 123.24687724,\n",
              "       206.83324894, 213.20097265, 123.11195439, 136.67364524,\n",
              "       167.24227888, 107.01259862, 149.88968285, 158.6806029 ,\n",
              "       155.10912045, 115.08055796,  74.77086808, 157.65980003,\n",
              "       227.74889565, 144.03966806,  47.685192  , 121.37942336,\n",
              "       152.61794719, 207.36856829, 295.06598599, 189.88797469,\n",
              "       211.89146903, 236.10027895, 164.33494373, 148.54622173,\n",
              "       156.37847099, 198.34773882, 218.31768274, 173.25355866,\n",
              "       167.65274816, 189.02775327,  63.0241166 , 107.02044133,\n",
              "        92.71938137, 208.86049865, 243.5254418 ,  71.26658869,\n",
              "       113.9499438 ,  71.21170566, 140.95877599, 236.95121031,\n",
              "        60.56330188, 232.48510863, 252.77290632, 251.26062894,\n",
              "       156.88498298, 227.4851329 , 170.83658449, 118.2055941 ,\n",
              "       177.04053319, 238.63142332, 189.13951474, 226.88042848,\n",
              "       115.48136013, 175.98878731, 208.3124014 , 142.77351694,\n",
              "       197.7777431 , 122.53128082, 150.13551587, 198.99724785,\n",
              "       145.2867354 , 123.34789658,  85.7596563 , 233.69818427,\n",
              "        83.33183103, 233.51518876, 143.81123398, 197.09641834,\n",
              "       143.43023087,  77.70022048,  62.76872539, 263.71960112,\n",
              "       225.10781523, 233.2208423 ,  52.62728837,  89.48607238,\n",
              "       222.96609167,  95.82921162, 162.42978339, 120.13166487,\n",
              "       157.26550177, 222.63912979, 101.10910048, 164.4504322 ,\n",
              "       177.2281638 ,  90.1267646 , 170.74394099, 156.93065917,\n",
              "       199.75122128, 185.88791448, 194.91660266,  70.03752732,\n",
              "       153.86664338, 114.80880828, 192.92404457, 126.35822542,\n",
              "        92.73487336, 140.13836859, 153.22195461, 169.23929508,\n",
              "        98.91973646, 188.61815577, 146.51992533, 179.81346479,\n",
              "        96.24259377,  71.39281376, 168.25159647, 195.88356302,\n",
              "       176.50557208, 226.51796794, 159.30193035, 211.4046812 ,\n",
              "       221.20851168, 171.34528351, 126.40316944, 175.0619832 ,\n",
              "       151.61866919,  98.75137259,  97.84795644, 261.0037916 ,\n",
              "       220.25822066, 220.23145379, 131.37236493, 142.05250293,\n",
              "        59.95801497, 140.55000449, 152.64621722, 123.12968301,\n",
              "        77.72975398, 228.98614831,  79.31968959, 105.60413038,\n",
              "       117.25322424,  99.43001531, 168.2246978 , 157.36428515,\n",
              "       157.09261274, 141.88348335, 231.04254649, 175.17536377,\n",
              "       185.82723306,  67.13641933, 187.04845933, 179.87251938,\n",
              "       232.71642011, 120.47372008,  89.19390807, 101.4589178 ,\n",
              "       140.83324471, 101.3295942 , 119.92870423,  80.346599  ,\n",
              "       234.28201458, 245.31864552, 264.05101551, 275.74854884,\n",
              "       179.56738204, 202.27613637, 263.00817556, 116.60966199,\n",
              "       265.30347398, 102.74586289, 116.75805056, 141.69935313,\n",
              "        61.12759541, 126.13502375, 261.43139061,  48.95192036,\n",
              "       126.83552084, 129.77460297,  38.83163011, 137.73205471,\n",
              "       242.11012925,  87.44231856, 189.8711726 , 163.93408661,\n",
              "       146.36807387, 198.33945847, 174.43530244, 156.87419702,\n",
              "       189.8186521 , 114.47793234, 110.98256782, 117.06584135,\n",
              "       163.79962319,  95.11248685, 139.88845824,  86.80662675,\n",
              "       158.24165888, 199.43936451,  76.28074239, 146.97978508,\n",
              "        83.557842  , 190.86363509, 219.63453432, 204.14977048,\n",
              "        93.84542931, 181.78969445,  87.04285561, 152.13574972,\n",
              "        78.48228994, 100.99446612, 107.00641106, 123.37621565,\n",
              "       216.68987784, 125.73588583, 205.21858729, 231.50763149,\n",
              "       123.19760741, 132.64954   , 128.03983215, 147.51668831,\n",
              "        89.0352182 , 139.17783562, 203.45913552, 171.87504217,\n",
              "       123.62881041, 212.75287348, 173.3476189 , 109.7932476 ,\n",
              "       198.57573826, 172.26557476, 161.18648371, 189.44274692,\n",
              "       189.75886937, 286.21964174, 289.54720685, 226.98578945,\n",
              "       208.99051389, 218.31235758, 155.10316721, 222.72741093,\n",
              "       186.88156675, 103.14824151, 177.85439016, 112.39653933,\n",
              "       289.60838572, 180.82633126,  81.61418964,  87.20331257,\n",
              "       249.37308823, 172.30312605, 122.41745745, 146.07613425,\n",
              "       171.04238502, 183.96281372, 164.55122401, 159.49024168,\n",
              "       142.99622123, 124.85287042, 179.30449913, 102.77318957,\n",
              "       129.42588465,  96.66729181, 250.43703194,  87.64096394,\n",
              "        58.44895219, 170.20638727, 195.38121205, 133.4957391 ,\n",
              "        93.56027327, 200.68259422,  56.56972443, 172.87763172,\n",
              "       194.55342775, 121.67037628, 233.49414399, 162.50933596,\n",
              "       158.62293825, 161.1193727 , 254.2190476 , 255.89900237,\n",
              "       199.51998062, 182.9322031 ,  60.01771052, 203.61043412,\n",
              "       109.43243366, 142.26085744, 125.60556028, 178.37976865,\n",
              "       210.90414801, 167.46851564, 162.55157214, 135.78237053,\n",
              "       175.71242887,  73.5208315 , 251.84198209, 114.04062395,\n",
              "       111.98581676, 139.0863868 , 109.45867644,  98.07539021,\n",
              "       161.50564939,  75.91410899, 259.72860477,  57.7915915 ,\n",
              "       100.43475   , 101.27210391, 269.50969276, 167.29385271,\n",
              "        67.181882  , 180.08964451, 170.85998609, 188.7196994 ,\n",
              "       185.28343406,  87.58704068, 146.07703761, 250.88909792,\n",
              "       199.28969646, 280.22575739,  51.63246701, 174.54885941,\n",
              "       203.16227849, 172.34402548, 158.62368271, 152.22387129,\n",
              "       231.29882551, 122.28989519, 164.94746462, 170.02363968,\n",
              "       226.85973388, 151.20840288,  99.81726654,  83.24647506,\n",
              "       140.81635905, 190.47068984, 199.20851997, 150.96655451,\n",
              "       169.64182652, 109.83312762, 161.80114015, 130.76078328,\n",
              "       258.62680037, 101.11261131, 115.01659239, 120.99918468,\n",
              "       218.1055661 ,  61.37880078, 133.25225406, 120.2288604 ,\n",
              "        53.88391588, 192.01838679, 102.61450598, 123.18863444,\n",
              "       209.99165207,  50.04249278])"
            ]
          },
          "metadata": {},
          "execution_count": 167
        }
      ]
    },
    {
      "cell_type": "code",
      "source": [
        "clf.score(X,y)v"
      ],
      "metadata": {
        "colab": {
          "base_uri": "https://localhost:8080/"
        },
        "id": "FTN55ja1C57H",
        "outputId": "917d1226-4804-49d5-a2b9-f9b70cfca44b"
      },
      "execution_count": null,
      "outputs": [
        {
          "output_type": "execute_result",
          "data": {
            "text/plain": [
              "0.5166287840315833"
            ]
          },
          "metadata": {},
          "execution_count": 168
        }
      ]
    }
  ]
}