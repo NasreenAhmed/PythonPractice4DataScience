{
  "nbformat": 4,
  "nbformat_minor": 0,
  "metadata": {
    "colab": {
      "name": "Chapter-4.Regression&Prediction.ipynb",
      "provenance": [],
      "collapsed_sections": []
    },
    "kernelspec": {
      "name": "python3",
      "display_name": "Python 3"
    },
    "language_info": {
      "name": "python"
    }
  },
  "cells": [
    {
      "cell_type": "code",
      "execution_count": null,
      "metadata": {
        "colab": {
          "base_uri": "https://localhost:8080/"
        },
        "id": "Q-eJgZc4k69d",
        "outputId": "b99d1d59-9079-4422-cabc-34703c73e83c"
      },
      "outputs": [
        {
          "output_type": "stream",
          "name": "stdout",
          "text": [
            "Requirement already satisfied: dmba in /usr/local/lib/python3.7/dist-packages (0.1.0)\n"
          ]
        }
      ],
      "source": [
        "import pandas as pd\n",
        "import numpy as np\n",
        "import matplotlib.pyplot as plt\n",
        "import sklearn.linear_model as lm\n",
        "from sklearn.metrics import r2_score,mean_squared_error\n",
        "import statsmodels.api as sm\n",
        "!pip install dmba\n",
        "from dmba import stepwise_selection\n",
        "from dmba import AIC_score"
      ]
    },
    {
      "cell_type": "code",
      "source": [
        "df = pd.read_csv('https://raw.githubusercontent.com/gedeck/practical-statistics-for-data-scientists/master/data/LungDisease.csv')"
      ],
      "metadata": {
        "id": "UhK39Pb4mjvY"
      },
      "execution_count": null,
      "outputs": []
    },
    {
      "cell_type": "code",
      "source": [
        "df.head()"
      ],
      "metadata": {
        "colab": {
          "base_uri": "https://localhost:8080/",
          "height": 206
        },
        "id": "yEYt6lF1mqxD",
        "outputId": "eee51fc6-4c5e-475c-c7ea-76e246627192"
      },
      "execution_count": null,
      "outputs": [
        {
          "output_type": "execute_result",
          "data": {
            "text/plain": [
              "   PEFR  Exposure\n",
              "0   390         0\n",
              "1   410         0\n",
              "2   430         0\n",
              "3   460         0\n",
              "4   420         1"
            ],
            "text/html": [
              "\n",
              "  <div id=\"df-7371785a-da8b-4c8c-9654-4fae5436ef37\">\n",
              "    <div class=\"colab-df-container\">\n",
              "      <div>\n",
              "<style scoped>\n",
              "    .dataframe tbody tr th:only-of-type {\n",
              "        vertical-align: middle;\n",
              "    }\n",
              "\n",
              "    .dataframe tbody tr th {\n",
              "        vertical-align: top;\n",
              "    }\n",
              "\n",
              "    .dataframe thead th {\n",
              "        text-align: right;\n",
              "    }\n",
              "</style>\n",
              "<table border=\"1\" class=\"dataframe\">\n",
              "  <thead>\n",
              "    <tr style=\"text-align: right;\">\n",
              "      <th></th>\n",
              "      <th>PEFR</th>\n",
              "      <th>Exposure</th>\n",
              "    </tr>\n",
              "  </thead>\n",
              "  <tbody>\n",
              "    <tr>\n",
              "      <th>0</th>\n",
              "      <td>390</td>\n",
              "      <td>0</td>\n",
              "    </tr>\n",
              "    <tr>\n",
              "      <th>1</th>\n",
              "      <td>410</td>\n",
              "      <td>0</td>\n",
              "    </tr>\n",
              "    <tr>\n",
              "      <th>2</th>\n",
              "      <td>430</td>\n",
              "      <td>0</td>\n",
              "    </tr>\n",
              "    <tr>\n",
              "      <th>3</th>\n",
              "      <td>460</td>\n",
              "      <td>0</td>\n",
              "    </tr>\n",
              "    <tr>\n",
              "      <th>4</th>\n",
              "      <td>420</td>\n",
              "      <td>1</td>\n",
              "    </tr>\n",
              "  </tbody>\n",
              "</table>\n",
              "</div>\n",
              "      <button class=\"colab-df-convert\" onclick=\"convertToInteractive('df-7371785a-da8b-4c8c-9654-4fae5436ef37')\"\n",
              "              title=\"Convert this dataframe to an interactive table.\"\n",
              "              style=\"display:none;\">\n",
              "        \n",
              "  <svg xmlns=\"http://www.w3.org/2000/svg\" height=\"24px\"viewBox=\"0 0 24 24\"\n",
              "       width=\"24px\">\n",
              "    <path d=\"M0 0h24v24H0V0z\" fill=\"none\"/>\n",
              "    <path d=\"M18.56 5.44l.94 2.06.94-2.06 2.06-.94-2.06-.94-.94-2.06-.94 2.06-2.06.94zm-11 1L8.5 8.5l.94-2.06 2.06-.94-2.06-.94L8.5 2.5l-.94 2.06-2.06.94zm10 10l.94 2.06.94-2.06 2.06-.94-2.06-.94-.94-2.06-.94 2.06-2.06.94z\"/><path d=\"M17.41 7.96l-1.37-1.37c-.4-.4-.92-.59-1.43-.59-.52 0-1.04.2-1.43.59L10.3 9.45l-7.72 7.72c-.78.78-.78 2.05 0 2.83L4 21.41c.39.39.9.59 1.41.59.51 0 1.02-.2 1.41-.59l7.78-7.78 2.81-2.81c.8-.78.8-2.07 0-2.86zM5.41 20L4 18.59l7.72-7.72 1.47 1.35L5.41 20z\"/>\n",
              "  </svg>\n",
              "      </button>\n",
              "      \n",
              "  <style>\n",
              "    .colab-df-container {\n",
              "      display:flex;\n",
              "      flex-wrap:wrap;\n",
              "      gap: 12px;\n",
              "    }\n",
              "\n",
              "    .colab-df-convert {\n",
              "      background-color: #E8F0FE;\n",
              "      border: none;\n",
              "      border-radius: 50%;\n",
              "      cursor: pointer;\n",
              "      display: none;\n",
              "      fill: #1967D2;\n",
              "      height: 32px;\n",
              "      padding: 0 0 0 0;\n",
              "      width: 32px;\n",
              "    }\n",
              "\n",
              "    .colab-df-convert:hover {\n",
              "      background-color: #E2EBFA;\n",
              "      box-shadow: 0px 1px 2px rgba(60, 64, 67, 0.3), 0px 1px 3px 1px rgba(60, 64, 67, 0.15);\n",
              "      fill: #174EA6;\n",
              "    }\n",
              "\n",
              "    [theme=dark] .colab-df-convert {\n",
              "      background-color: #3B4455;\n",
              "      fill: #D2E3FC;\n",
              "    }\n",
              "\n",
              "    [theme=dark] .colab-df-convert:hover {\n",
              "      background-color: #434B5C;\n",
              "      box-shadow: 0px 1px 3px 1px rgba(0, 0, 0, 0.15);\n",
              "      filter: drop-shadow(0px 1px 2px rgba(0, 0, 0, 0.3));\n",
              "      fill: #FFFFFF;\n",
              "    }\n",
              "  </style>\n",
              "\n",
              "      <script>\n",
              "        const buttonEl =\n",
              "          document.querySelector('#df-7371785a-da8b-4c8c-9654-4fae5436ef37 button.colab-df-convert');\n",
              "        buttonEl.style.display =\n",
              "          google.colab.kernel.accessAllowed ? 'block' : 'none';\n",
              "\n",
              "        async function convertToInteractive(key) {\n",
              "          const element = document.querySelector('#df-7371785a-da8b-4c8c-9654-4fae5436ef37');\n",
              "          const dataTable =\n",
              "            await google.colab.kernel.invokeFunction('convertToInteractive',\n",
              "                                                     [key], {});\n",
              "          if (!dataTable) return;\n",
              "\n",
              "          const docLinkHtml = 'Like what you see? Visit the ' +\n",
              "            '<a target=\"_blank\" href=https://colab.research.google.com/notebooks/data_table.ipynb>data table notebook</a>'\n",
              "            + ' to learn more about interactive tables.';\n",
              "          element.innerHTML = '';\n",
              "          dataTable['output_type'] = 'display_data';\n",
              "          await google.colab.output.renderOutput(dataTable, element);\n",
              "          const docLink = document.createElement('div');\n",
              "          docLink.innerHTML = docLinkHtml;\n",
              "          element.appendChild(docLink);\n",
              "        }\n",
              "      </script>\n",
              "    </div>\n",
              "  </div>\n",
              "  "
            ]
          },
          "metadata": {},
          "execution_count": 47
        }
      ]
    },
    {
      "cell_type": "code",
      "source": [
        "plt.figure(figsize=(5,5))\n",
        "plt.scatter(df.iloc[:,1],df.iloc[:,0],color='green',alpha=0.5)\n",
        "plt.show()"
      ],
      "metadata": {
        "colab": {
          "base_uri": "https://localhost:8080/",
          "height": 320
        },
        "id": "zsnOgQnomymA",
        "outputId": "1ca271e8-b25d-4bda-a0af-8dd42cfec728"
      },
      "execution_count": null,
      "outputs": [
        {
          "output_type": "display_data",
          "data": {
            "text/plain": [
              "<Figure size 360x360 with 1 Axes>"
            ],
            "image/png": "[encoded data removed]"
          },
          "metadata": {
            "needs_background": "light"
          }
        }
      ]
    },
    {
      "cell_type": "markdown",
      "source": [
        "In Python we use, LinearRegression from the scikit-learn package."
      ],
      "metadata": {
        "id": "Mg6aywEEnAfP"
      }
    },
    {
      "cell_type": "code",
      "source": [
        "predictors = ['Exposure']\n",
        "outcome = 'PEFR'\n",
        "\n",
        "model = lm.LinearRegression()\n",
        "model.fit(df[predictors],df[outcome])\n",
        "\n",
        "print(f'Intercept: {model.intercept_:.3f}')\n",
        "print(f'Coefficient Exposure: {model.coef_[0]:.3f}')"
      ],
      "metadata": {
        "colab": {
          "base_uri": "https://localhost:8080/"
        },
        "id": "TjO7YCTsnH8_",
        "outputId": "699a6c47-d923-42ea-e06e-501a930d33d0"
      },
      "execution_count": null,
      "outputs": [
        {
          "output_type": "stream",
          "name": "stdout",
          "text": [
            "Intercept: 424.583\n",
            "Coefficient Exposure: -4.185\n"
          ]
        }
      ]
    },
    {
      "cell_type": "code",
      "source": [
        "\"\"\"\n",
        "With scikit-learn’s LinearRegression model, we use the predict method on the\n",
        "training data to get the fitted values and subsequently the residuals. As we will see,\n",
        "this is a general pattern that all models in scikit-learn follow\n",
        "\"\"\"\n",
        "\n",
        "fitted = model.predict(df[predictors])\n",
        "residuals = df[outcome] - fitted"
      ],
      "metadata": {
        "id": "hLLtEKN2oQ57"
      },
      "execution_count": null,
      "outputs": []
    },
    {
      "cell_type": "code",
      "source": [
        "ax = df.plot.scatter(x='Exposure', y='PEFR', figsize=(5, 5))\n",
        "ax.plot(df.Exposure, fitted)\n",
        "for x, yactual, yfitted in zip(df.Exposure, df.PEFR, fitted): \n",
        "    ax.plot((x, x), (yactual, yfitted), '--', color='C1')\n",
        "\n",
        "plt.tight_layout()\n",
        "plt.show()"
      ],
      "metadata": {
        "colab": {
          "base_uri": "https://localhost:8080/",
          "height": 369
        },
        "id": "OkYEQ8qaouKy",
        "outputId": "260c3d66-7f52-4151-f962-697ddfc0af18"
      },
      "execution_count": null,
      "outputs": [
        {
          "output_type": "display_data",
          "data": {
            "text/plain": [
              "<Figure size 360x360 with 1 Axes>"
            ],
            "image/png": "[encoded data removed]"
          },
          "metadata": {
            "needs_background": "light"
          }
        }
      ]
    },
    {
      "cell_type": "markdown",
      "source": [
        "# Multiple Linear Regression"
      ],
      "metadata": {
        "id": "vTK8EdO2s4sD"
      }
    },
    {
      "cell_type": "code",
      "source": [
        "import random\n",
        "from google.colab import drive\n",
        "drive.mount('/content/drive')"
      ],
      "metadata": {
        "colab": {
          "base_uri": "https://localhost:8080/"
        },
        "id": "cPduEDWUs69q",
        "outputId": "2ce22693-374b-4450-80f8-e49444043ddb"
      },
      "execution_count": null,
      "outputs": [
        {
          "output_type": "stream",
          "name": "stdout",
          "text": [
            "Mounted at /content/drive\n"
          ]
        }
      ]
    },
    {
      "cell_type": "code",
      "source": [
        "%cd /content/drive/My\\ Drive/colab_notebooks/machine_learning/Interview_prep/Statistics4DataScientist/\n",
        "df = pd.read_csv(\"house_sales.csv\",sep='\\t')"
      ],
      "metadata": {
        "colab": {
          "base_uri": "https://localhost:8080/"
        },
        "id": "ihkmowaNtAEn",
        "outputId": "5eedb062-fb84-43ce-f4f2-4ec162b14081"
      },
      "execution_count": null,
      "outputs": [
        {
          "output_type": "stream",
          "name": "stdout",
          "text": [
            "/content/drive/My Drive/colab_notebooks/machine_learning/Interview_prep/Statistics4DataScientist\n"
          ]
        }
      ]
    },
    {
      "cell_type": "code",
      "source": [
        "df\n",
        "subset = ['AdjSalePrice', 'SqFtTotLiving', 'SqFtLot', 'Bathrooms', \n",
        "          'Bedrooms', 'BldgGrade']\n",
        "df = df[subset]\n",
        "df.head()"
      ],
      "metadata": {
        "colab": {
          "base_uri": "https://localhost:8080/",
          "height": 206
        },
        "id": "9Wf4vtkTuSoV",
        "outputId": "47cfa30c-48fd-40b6-8c19-b6397b3d58e2"
      },
      "execution_count": null,
      "outputs": [
        {
          "output_type": "execute_result",
          "data": {
            "text/plain": [
              "   AdjSalePrice  SqFtTotLiving  SqFtLot  Bathrooms  Bedrooms  BldgGrade\n",
              "1      300805.0           2400     9373       3.00         6          7\n",
              "2     1076162.0           3764    20156       3.75         4         10\n",
              "3      761805.0           2060    26036       1.75         4          8\n",
              "4      442065.0           3200     8618       3.75         5          7\n",
              "5      297065.0           1720     8620       1.75         4          7"
            ],
            "text/html": [
              "\n",
              "  <div id=\"df-cfbb9d7d-29cd-4a15-98ff-fecf492346da\">\n",
              "    <div class=\"colab-df-container\">\n",
              "      <div>\n",
              "<style scoped>\n",
              "    .dataframe tbody tr th:only-of-type {\n",
              "        vertical-align: middle;\n",
              "    }\n",
              "\n",
              "    .dataframe tbody tr th {\n",
              "        vertical-align: top;\n",
              "    }\n",
              "\n",
              "    .dataframe thead th {\n",
              "        text-align: right;\n",
              "    }\n",
              "</style>\n",
              "<table border=\"1\" class=\"dataframe\">\n",
              "  <thead>\n",
              "    <tr style=\"text-align: right;\">\n",
              "      <th></th>\n",
              "      <th>AdjSalePrice</th>\n",
              "      <th>SqFtTotLiving</th>\n",
              "      <th>SqFtLot</th>\n",
              "      <th>Bathrooms</th>\n",
              "      <th>Bedrooms</th>\n",
              "      <th>BldgGrade</th>\n",
              "    </tr>\n",
              "  </thead>\n",
              "  <tbody>\n",
              "    <tr>\n",
              "      <th>1</th>\n",
              "      <td>300805.0</td>\n",
              "      <td>2400</td>\n",
              "      <td>9373</td>\n",
              "      <td>3.00</td>\n",
              "      <td>6</td>\n",
              "      <td>7</td>\n",
              "    </tr>\n",
              "    <tr>\n",
              "      <th>2</th>\n",
              "      <td>1076162.0</td>\n",
              "      <td>3764</td>\n",
              "      <td>20156</td>\n",
              "      <td>3.75</td>\n",
              "      <td>4</td>\n",
              "      <td>10</td>\n",
              "    </tr>\n",
              "    <tr>\n",
              "      <th>3</th>\n",
              "      <td>761805.0</td>\n",
              "      <td>2060</td>\n",
              "      <td>26036</td>\n",
              "      <td>1.75</td>\n",
              "      <td>4</td>\n",
              "      <td>8</td>\n",
              "    </tr>\n",
              "    <tr>\n",
              "      <th>4</th>\n",
              "      <td>442065.0</td>\n",
              "      <td>3200</td>\n",
              "      <td>8618</td>\n",
              "      <td>3.75</td>\n",
              "      <td>5</td>\n",
              "      <td>7</td>\n",
              "    </tr>\n",
              "    <tr>\n",
              "      <th>5</th>\n",
              "      <td>297065.0</td>\n",
              "      <td>1720</td>\n",
              "      <td>8620</td>\n",
              "      <td>1.75</td>\n",
              "      <td>4</td>\n",
              "      <td>7</td>\n",
              "    </tr>\n",
              "  </tbody>\n",
              "</table>\n",
              "</div>\n",
              "      <button class=\"colab-df-convert\" onclick=\"convertToInteractive('df-cfbb9d7d-29cd-4a15-98ff-fecf492346da')\"\n",
              "              title=\"Convert this dataframe to an interactive table.\"\n",
              "              style=\"display:none;\">\n",
              "        \n",
              "  <svg xmlns=\"http://www.w3.org/2000/svg\" height=\"24px\"viewBox=\"0 0 24 24\"\n",
              "       width=\"24px\">\n",
              "    <path d=\"M0 0h24v24H0V0z\" fill=\"none\"/>\n",
              "    <path d=\"M18.56 5.44l.94 2.06.94-2.06 2.06-.94-2.06-.94-.94-2.06-.94 2.06-2.06.94zm-11 1L8.5 8.5l.94-2.06 2.06-.94-2.06-.94L8.5 2.5l-.94 2.06-2.06.94zm10 10l.94 2.06.94-2.06 2.06-.94-2.06-.94-.94-2.06-.94 2.06-2.06.94z\"/><path d=\"M17.41 7.96l-1.37-1.37c-.4-.4-.92-.59-1.43-.59-.52 0-1.04.2-1.43.59L10.3 9.45l-7.72 7.72c-.78.78-.78 2.05 0 2.83L4 21.41c.39.39.9.59 1.41.59.51 0 1.02-.2 1.41-.59l7.78-7.78 2.81-2.81c.8-.78.8-2.07 0-2.86zM5.41 20L4 18.59l7.72-7.72 1.47 1.35L5.41 20z\"/>\n",
              "  </svg>\n",
              "      </button>\n",
              "      \n",
              "  <style>\n",
              "    .colab-df-container {\n",
              "      display:flex;\n",
              "      flex-wrap:wrap;\n",
              "      gap: 12px;\n",
              "    }\n",
              "\n",
              "    .colab-df-convert {\n",
              "      background-color: #E8F0FE;\n",
              "      border: none;\n",
              "      border-radius: 50%;\n",
              "      cursor: pointer;\n",
              "      display: none;\n",
              "      fill: #1967D2;\n",
              "      height: 32px;\n",
              "      padding: 0 0 0 0;\n",
              "      width: 32px;\n",
              "    }\n",
              "\n",
              "    .colab-df-convert:hover {\n",
              "      background-color: #E2EBFA;\n",
              "      box-shadow: 0px 1px 2px rgba(60, 64, 67, 0.3), 0px 1px 3px 1px rgba(60, 64, 67, 0.15);\n",
              "      fill: #174EA6;\n",
              "    }\n",
              "\n",
              "    [theme=dark] .colab-df-convert {\n",
              "      background-color: #3B4455;\n",
              "      fill: #D2E3FC;\n",
              "    }\n",
              "\n",
              "    [theme=dark] .colab-df-convert:hover {\n",
              "      background-color: #434B5C;\n",
              "      box-shadow: 0px 1px 3px 1px rgba(0, 0, 0, 0.15);\n",
              "      filter: drop-shadow(0px 1px 2px rgba(0, 0, 0, 0.3));\n",
              "      fill: #FFFFFF;\n",
              "    }\n",
              "  </style>\n",
              "\n",
              "      <script>\n",
              "        const buttonEl =\n",
              "          document.querySelector('#df-cfbb9d7d-29cd-4a15-98ff-fecf492346da button.colab-df-convert');\n",
              "        buttonEl.style.display =\n",
              "          google.colab.kernel.accessAllowed ? 'block' : 'none';\n",
              "\n",
              "        async function convertToInteractive(key) {\n",
              "          const element = document.querySelector('#df-cfbb9d7d-29cd-4a15-98ff-fecf492346da');\n",
              "          const dataTable =\n",
              "            await google.colab.kernel.invokeFunction('convertToInteractive',\n",
              "                                                     [key], {});\n",
              "          if (!dataTable) return;\n",
              "\n",
              "          const docLinkHtml = 'Like what you see? Visit the ' +\n",
              "            '<a target=\"_blank\" href=https://colab.research.google.com/notebooks/data_table.ipynb>data table notebook</a>'\n",
              "            + ' to learn more about interactive tables.';\n",
              "          element.innerHTML = '';\n",
              "          dataTable['output_type'] = 'display_data';\n",
              "          await google.colab.output.renderOutput(dataTable, element);\n",
              "          const docLink = document.createElement('div');\n",
              "          docLink.innerHTML = docLinkHtml;\n",
              "          element.appendChild(docLink);\n",
              "        }\n",
              "      </script>\n",
              "    </div>\n",
              "  </div>\n",
              "  "
            ]
          },
          "metadata": {},
          "execution_count": 54
        }
      ]
    },
    {
      "cell_type": "markdown",
      "source": [
        "The goal is to predict the house price from other variables "
      ],
      "metadata": {
        "id": "YjoDuVW6uxWQ"
      }
    },
    {
      "cell_type": "code",
      "source": [
        "predictors = ['SqFtTotLiving', 'SqFtLot', 'Bathrooms', \n",
        "          'Bedrooms', 'BldgGrade']\n",
        "outcome = 'AdjSalePrice'\n",
        "\n",
        "house_lm = lm.LinearRegression()\n",
        "house_lm.fit(df[predictors],df[outcome])"
      ],
      "metadata": {
        "colab": {
          "base_uri": "https://localhost:8080/"
        },
        "id": "I_s-2Mt_u1gx",
        "outputId": "af314a99-2ce2-4632-f2bb-936070611089"
      },
      "execution_count": null,
      "outputs": [
        {
          "output_type": "execute_result",
          "data": {
            "text/plain": [
              "LinearRegression()"
            ]
          },
          "metadata": {},
          "execution_count": 31
        }
      ]
    },
    {
      "cell_type": "code",
      "source": [
        "print(f'Intercept: {house_lm.intercept_:.3f}')\n",
        "print('Coefficients:')\n",
        "for name, coef in zip(predictors, house_lm.coef_):\n",
        "    print(f' {name}: {coef}')"
      ],
      "metadata": {
        "colab": {
          "base_uri": "https://localhost:8080/"
        },
        "id": "gOyeFSpnvfQE",
        "outputId": "5d1b4106-b57c-4714-f0df-09197ec2640a"
      },
      "execution_count": null,
      "outputs": [
        {
          "output_type": "stream",
          "name": "stdout",
          "text": [
            "Intercept: -521871.368\n",
            "Coefficients:\n",
            " SqFtTotLiving: 228.83060360240796\n",
            " SqFtLot: -0.06046682065307607\n",
            " Bathrooms: -19442.840398321056\n",
            " Bedrooms: -47769.95518521438\n",
            " BldgGrade: 106106.96307898083\n"
          ]
        }
      ]
    },
    {
      "cell_type": "code",
      "source": [
        "import numpy as np\n",
        "#mean square error and r2_Score\n",
        "fitted = house_lm.predict(df[predictors])\n",
        "RMSE = np.sqrt(mean_squared_error(df[outcome],fitted))\n",
        "r2 = r2_score(df[outcome],fitted)\n",
        "\n",
        "print(\"RMSE:\",RMSE)\n",
        "print(\"r2_Score:\",r2)"
      ],
      "metadata": {
        "colab": {
          "base_uri": "https://localhost:8080/"
        },
        "id": "N8spC7lw2BYe",
        "outputId": "cb493290-3ad2-457d-d512-85d270f14deb"
      },
      "execution_count": null,
      "outputs": [
        {
          "output_type": "stream",
          "name": "stdout",
          "text": [
            "RMSE: 261220.19743696266\n",
            "r2_Score: 0.5405875253381902\n"
          ]
        }
      ]
    },
    {
      "cell_type": "code",
      "source": [
        "print(f'RMSE: {RMSE:.0f}')\n",
        "print(f'r2: {r2:.4f}')"
      ],
      "metadata": {
        "colab": {
          "base_uri": "https://localhost:8080/"
        },
        "id": "1LCt5LqB3dQy",
        "outputId": "dad75496-97e5-47fc-fc2d-9692435ad074"
      },
      "execution_count": null,
      "outputs": [
        {
          "output_type": "stream",
          "name": "stdout",
          "text": [
            "RMSE: 261220\n",
            "r2: 0.5406\n"
          ]
        }
      ]
    },
    {
      "cell_type": "code",
      "source": [
        "# Use statmodels, to get a more detailed analysis  of the regression model in Python\n",
        "import statsmodels.api as sm\n",
        "\n",
        "model = sm.OLS(df[outcome],df[predictors].assign(const=1))\n",
        "results = model.fit()\n",
        "print(results.summary())"
      ],
      "metadata": {
        "colab": {
          "base_uri": "https://localhost:8080/"
        },
        "id": "ZzaTwrpz3hEq",
        "outputId": "3340e416-4877-403a-c2a5-102304523885"
      },
      "execution_count": null,
      "outputs": [
        {
          "output_type": "stream",
          "name": "stdout",
          "text": [
            "                            OLS Regression Results                            \n",
            "==============================================================================\n",
            "Dep. Variable:           AdjSalePrice   R-squared:                       0.541\n",
            "Model:                            OLS   Adj. R-squared:                  0.540\n",
            "Method:                 Least Squares   F-statistic:                     5338.\n",
            "Date:                Mon, 11 Apr 2022   Prob (F-statistic):               0.00\n",
            "Time:                        09:06:31   Log-Likelihood:            -3.1517e+05\n",
            "No. Observations:               22687   AIC:                         6.304e+05\n",
            "Df Residuals:                   22681   BIC:                         6.304e+05\n",
            "Df Model:                           5                                         \n",
            "Covariance Type:            nonrobust                                         \n",
            "=================================================================================\n",
            "                    coef    std err          t      P>|t|      [0.025      0.975]\n",
            "---------------------------------------------------------------------------------\n",
            "SqFtTotLiving   228.8306      3.899     58.694      0.000     221.189     236.472\n",
            "SqFtLot          -0.0605      0.061     -0.988      0.323      -0.180       0.059\n",
            "Bathrooms     -1.944e+04   3625.388     -5.363      0.000   -2.65e+04   -1.23e+04\n",
            "Bedrooms      -4.777e+04   2489.732    -19.187      0.000   -5.27e+04   -4.29e+04\n",
            "BldgGrade      1.061e+05   2396.445     44.277      0.000    1.01e+05    1.11e+05\n",
            "const         -5.219e+05   1.57e+04    -33.342      0.000   -5.53e+05   -4.91e+05\n",
            "==============================================================================\n",
            "Omnibus:                    29676.557   Durbin-Watson:                   1.247\n",
            "Prob(Omnibus):                  0.000   Jarque-Bera (JB):         19390738.346\n",
            "Skew:                           6.889   Prob(JB):                         0.00\n",
            "Kurtosis:                     145.559   Cond. No.                     2.86e+05\n",
            "==============================================================================\n",
            "\n",
            "Warnings:\n",
            "[1] Standard Errors assume that the covariance matrix of the errors is correctly specified.\n",
            "[2] The condition number is large, 2.86e+05. This might indicate that there are\n",
            "strong multicollinearity or other numerical problems.\n"
          ]
        }
      ]
    },
    {
      "cell_type": "code",
      "source": [
        "columns = df.columns"
      ],
      "metadata": {
        "id": "3Ob5P7xM3hLJ"
      },
      "execution_count": null,
      "outputs": []
    },
    {
      "cell_type": "code",
      "source": [
        "print(df.head())\n",
        "df.info()"
      ],
      "metadata": {
        "colab": {
          "base_uri": "https://localhost:8080/"
        },
        "id": "kbz32wVw7tQP",
        "outputId": "79944f99-dd8e-432e-d192-c71de658bc86"
      },
      "execution_count": null,
      "outputs": [
        {
          "output_type": "stream",
          "name": "stdout",
          "text": [
            "  DocumentDate  SalePrice  PropertyID   PropertyType          ym  zhvi_px  \\\n",
            "1   2014-09-16     280000     1000102      Multiplex  2014-09-01   405100   \n",
            "2   2006-06-16    1000000     1200013  Single Family  2006-06-01   404400   \n",
            "3   2007-01-29     745000     1200019  Single Family  2007-01-01   425600   \n",
            "4   2008-02-25     425000     2800016  Single Family  2008-02-01   418400   \n",
            "5   2013-03-29     240000     2800024  Single Family  2013-03-01   351600   \n",
            "\n",
            "   zhvi_idx  AdjSalePrice  NbrLivingUnits  SqFtLot  ...  Bathrooms  Bedrooms  \\\n",
            "1  0.930836      300805.0               2     9373  ...       3.00         6   \n",
            "2  0.929228     1076162.0               1    20156  ...       3.75         4   \n",
            "3  0.977941      761805.0               1    26036  ...       1.75         4   \n",
            "4  0.961397      442065.0               1     8618  ...       3.75         5   \n",
            "5  0.807904      297065.0               1     8620  ...       1.75         4   \n",
            "\n",
            "   BldgGrade  YrBuilt  YrRenovated  TrafficNoise  LandVal  ImpsVal  ZipCode  \\\n",
            "1          7     1991            0             0    70000   229000    98002   \n",
            "2         10     2005            0             0   203000   590000    98166   \n",
            "3          8     1947            0             0   183000   275000    98166   \n",
            "4          7     1966            0             0   104000   229000    98168   \n",
            "5          7     1948            0             0   104000   205000    98168   \n",
            "\n",
            "   NewConstruction  \n",
            "1            False  \n",
            "2             True  \n",
            "3            False  \n",
            "4            False  \n",
            "5            False  \n",
            "\n",
            "[5 rows x 22 columns]\n",
            "<class 'pandas.core.frame.DataFrame'>\n",
            "Int64Index: 22687 entries, 1 to 27063\n",
            "Data columns (total 22 columns):\n",
            " #   Column           Non-Null Count  Dtype  \n",
            "---  ------           --------------  -----  \n",
            " 0   DocumentDate     22687 non-null  object \n",
            " 1   SalePrice        22687 non-null  int64  \n",
            " 2   PropertyID       22687 non-null  int64  \n",
            " 3   PropertyType     22687 non-null  object \n",
            " 4   ym               22687 non-null  object \n",
            " 5   zhvi_px          22687 non-null  int64  \n",
            " 6   zhvi_idx         22687 non-null  float64\n",
            " 7   AdjSalePrice     22687 non-null  float64\n",
            " 8   NbrLivingUnits   22687 non-null  int64  \n",
            " 9   SqFtLot          22687 non-null  int64  \n",
            " 10  SqFtTotLiving    22687 non-null  int64  \n",
            " 11  SqFtFinBasement  22687 non-null  int64  \n",
            " 12  Bathrooms        22687 non-null  float64\n",
            " 13  Bedrooms         22687 non-null  int64  \n",
            " 14  BldgGrade        22687 non-null  int64  \n",
            " 15  YrBuilt          22687 non-null  int64  \n",
            " 16  YrRenovated      22687 non-null  int64  \n",
            " 17  TrafficNoise     22687 non-null  int64  \n",
            " 18  LandVal          22687 non-null  int64  \n",
            " 19  ImpsVal          22687 non-null  int64  \n",
            " 20  ZipCode          22687 non-null  int64  \n",
            " 21  NewConstruction  22687 non-null  bool   \n",
            "dtypes: bool(1), float64(3), int64(15), object(3)\n",
            "memory usage: 3.8+ MB\n"
          ]
        }
      ]
    },
    {
      "cell_type": "code",
      "source": [
        "columns"
      ],
      "metadata": {
        "colab": {
          "base_uri": "https://localhost:8080/"
        },
        "id": "QTLs-lRj8JBb",
        "outputId": "01f2a218-294a-4513-9e91-6b8a298e5f1b"
      },
      "execution_count": null,
      "outputs": [
        {
          "output_type": "execute_result",
          "data": {
            "text/plain": [
              "Index(['DocumentDate', 'SalePrice', 'PropertyID', 'PropertyType', 'ym',\n",
              "       'zhvi_px', 'zhvi_idx', 'AdjSalePrice', 'NbrLivingUnits', 'SqFtLot',\n",
              "       'SqFtTotLiving', 'SqFtFinBasement', 'Bathrooms', 'Bedrooms',\n",
              "       'BldgGrade', 'YrBuilt', 'YrRenovated', 'TrafficNoise', 'LandVal',\n",
              "       'ImpsVal', 'ZipCode', 'NewConstruction'],\n",
              "      dtype='object')"
            ]
          },
          "metadata": {},
          "execution_count": 76
        }
      ]
    },
    {
      "cell_type": "code",
      "source": [
        "# In Python, we need to convert  the categorical and boolean variables into numbers \n",
        "\n",
        "predictors = ['SqFtTotLiving','SqFtLot','Bathrooms','Bedrooms','BldgGrade',\n",
        "              'PropertyType','NbrLivingUnits','SqFtFinBasement','YrBuilt',\n",
        "              'YrRenovated','NewConstruction']\n",
        "X = pd.get_dummies(df[predictors],drop_first=True) # adds a new column for categorial\n",
        "X['NewConstruction'] = [ 1 if nc else 0 for nc  in X['NewConstruction']]"
      ],
      "metadata": {
        "id": "5ZSihOjx79bc"
      },
      "execution_count": null,
      "outputs": []
    },
    {
      "cell_type": "code",
      "source": [
        "house_full = sm.OLS(df[outcome],X.assign(const=1))\n",
        "results = house_full.fit()\n",
        "print(results.summary())"
      ],
      "metadata": {
        "colab": {
          "base_uri": "https://localhost:8080/"
        },
        "id": "11nnCldr82GC",
        "outputId": "1ccc6658-3f30-473e-f897-b90a946c71ca"
      },
      "execution_count": null,
      "outputs": [
        {
          "output_type": "stream",
          "name": "stdout",
          "text": [
            "                            OLS Regression Results                            \n",
            "==============================================================================\n",
            "Dep. Variable:           AdjSalePrice   R-squared:                       0.595\n",
            "Model:                            OLS   Adj. R-squared:                  0.594\n",
            "Method:                 Least Squares   F-statistic:                     2771.\n",
            "Date:                Mon, 11 Apr 2022   Prob (F-statistic):               0.00\n",
            "Time:                        09:46:30   Log-Likelihood:            -3.1375e+05\n",
            "No. Observations:               22687   AIC:                         6.275e+05\n",
            "Df Residuals:                   22674   BIC:                         6.276e+05\n",
            "Df Model:                          12                                         \n",
            "Covariance Type:            nonrobust                                         \n",
            "==============================================================================================\n",
            "                                 coef    std err          t      P>|t|      [0.025      0.975]\n",
            "----------------------------------------------------------------------------------------------\n",
            "SqFtTotLiving                198.6364      4.234     46.920      0.000     190.338     206.934\n",
            "SqFtLot                        0.0771      0.058      1.330      0.184      -0.037       0.191\n",
            "Bathrooms                   4.286e+04   3808.114     11.255      0.000    3.54e+04    5.03e+04\n",
            "Bedrooms                   -5.187e+04   2396.904    -21.638      0.000   -5.66e+04   -4.72e+04\n",
            "BldgGrade                   1.373e+05   2441.242     56.228      0.000    1.32e+05    1.42e+05\n",
            "NbrLivingUnits              5723.8438   1.76e+04      0.326      0.744   -2.87e+04    4.01e+04\n",
            "SqFtFinBasement                7.0611      4.627      1.526      0.127      -2.009      16.131\n",
            "YrBuilt                    -3574.2210     77.228    -46.282      0.000   -3725.593   -3422.849\n",
            "YrRenovated                   -2.5311      3.924     -0.645      0.519     -10.222       5.160\n",
            "NewConstruction            -2489.1122   5936.692     -0.419      0.675   -1.41e+04    9147.211\n",
            "PropertyType_Single Family  2.997e+04   2.61e+04      1.149      0.251   -2.12e+04    8.11e+04\n",
            "PropertyType_Townhouse      9.286e+04    2.7e+04      3.438      0.001    3.99e+04    1.46e+05\n",
            "const                       6.182e+06   1.55e+05     39.902      0.000    5.88e+06    6.49e+06\n",
            "==============================================================================\n",
            "Omnibus:                    31006.128   Durbin-Watson:                   1.393\n",
            "Prob(Omnibus):                  0.000   Jarque-Bera (JB):         26251977.078\n",
            "Skew:                           7.427   Prob(JB):                         0.00\n",
            "Kurtosis:                     168.984   Cond. No.                     2.98e+06\n",
            "==============================================================================\n",
            "\n",
            "Warnings:\n",
            "[1] Standard Errors assume that the covariance matrix of the errors is correctly specified.\n",
            "[2] The condition number is large, 2.98e+06. This might indicate that there are\n",
            "strong multicollinearity or other numerical problems.\n"
          ]
        }
      ]
    },
    {
      "cell_type": "code",
      "source": [
        "# We can use the stepwise selection using the _dmba_ package.\n",
        "\n",
        "y = df[outcome]\n",
        "\n",
        "def train_model(variables):\n",
        "  #print(\"variables\",variables)\n",
        "  if len(variables) == 0:\n",
        "    return None\n",
        "  model = lm.LinearRegression()\n",
        "  model.fit(X[variables],y)\n",
        "  return model\n"
      ],
      "metadata": {
        "id": "iPwLflJZBQco"
      },
      "execution_count": null,
      "outputs": []
    },
    {
      "cell_type": "code",
      "source": [
        "def score_model(model,variables):\n",
        "  if len(variables) == 0:\n",
        "    return AIC_score(y,[y.mean()]*len(y),model,df=1)\n",
        "  return AIC_score(y, model.predict(X[variables]), model)"
      ],
      "metadata": {
        "id": "4YO-z05-BwbW"
      },
      "execution_count": null,
      "outputs": []
    },
    {
      "cell_type": "code",
      "source": [
        "best_model, best_variables = stepwise_selection(X.columns,train_model,score_model,verbose=True)"
      ],
      "metadata": {
        "colab": {
          "base_uri": "https://localhost:8080/"
        },
        "id": "AULsebieCh2U",
        "outputId": "3ea0d723-32e6-4951-8e6c-6681aa525060"
      },
      "execution_count": null,
      "outputs": [
        {
          "output_type": "stream",
          "name": "stdout",
          "text": [
            "Variables: SqFtTotLiving, SqFtLot, Bathrooms, Bedrooms, BldgGrade\n",
            "Start: score=647988.32, constant\n",
            "Step: score=633013.35, add SqFtTotLiving\n",
            "Step: score=630793.74, add BldgGrade\n",
            "Step: score=630377.45, add Bedrooms\n",
            "Step: score=630351.20, add Bathrooms\n",
            "Step: score=630351.20, unchanged None\n"
          ]
        }
      ]
    },
    {
      "cell_type": "code",
      "source": [
        "\n",
        "print()\n",
        "print(f'Intercept: {best_model.intercept_:.3f}')\n",
        "print('Coefficients:')\n",
        "for name, coef in zip(best_variables, best_model.coef_):\n",
        "    print(f' {name}: {coef}')"
      ],
      "metadata": {
        "colab": {
          "base_uri": "https://localhost:8080/"
        },
        "id": "GoTq_z1CC7XD",
        "outputId": "ccd114f3-c7ad-4592-b6f8-7486888ad48f"
      },
      "execution_count": null,
      "outputs": [
        {
          "output_type": "stream",
          "name": "stdout",
          "text": [
            "\n",
            "Intercept: 6178645.017\n",
            "Coefficients:\n",
            " SqFtTotLiving: 199.27755304201884\n",
            " BldgGrade: 137159.56022619773\n",
            " YrBuilt: -3565.4249392492993\n",
            " Bedrooms: -51947.38367361318\n",
            " Bathrooms: 42396.164527717796\n",
            " PropertyType_Townhouse: 84479.16203300405\n",
            " SqFtFinBasement: 7.046974967553979\n",
            " PropertyType_Single Family: 22912.055187017682\n"
          ]
        }
      ]
    },
    {
      "cell_type": "markdown",
      "source": [
        "# Factor Variables in Regression\n",
        "\n",
        "Factor variables, also termed categorical variables, take on a limited number of discrete values. For example, a loan purpose can be “debt consolidation,” “wedding,”\n",
        "“car,” and so on. The binary (yes/no) variable, also called an indicator variable, is a\n",
        "special case of a factor variable. Regression requires numerical inputs, so factor variables\n",
        "need to be recoded to use in the model. The most common approach is to convert\n",
        "a variable into a set of binary dummy variables"
      ],
      "metadata": {
        "id": "cIFxDF1pJN90"
      }
    },
    {
      "cell_type": "code",
      "source": [
        "print(df['PropertyType'].unique())\n",
        "pd.get_dummies(df['PropertyType'],drop_first=True).head()"
      ],
      "metadata": {
        "colab": {
          "base_uri": "https://localhost:8080/",
          "height": 223
        },
        "id": "mCU1OHhrJk2x",
        "outputId": "c4b90e48-2653-41db-9e55-47e7c7873de6"
      },
      "execution_count": null,
      "outputs": [
        {
          "output_type": "stream",
          "name": "stdout",
          "text": [
            "['Multiplex' 'Single Family' 'Townhouse']\n"
          ]
        },
        {
          "output_type": "execute_result",
          "data": {
            "text/plain": [
              "   Single Family  Townhouse\n",
              "1              0          0\n",
              "2              1          0\n",
              "3              1          0\n",
              "4              1          0\n",
              "5              1          0"
            ],
            "text/html": [
              "\n",
              "  <div id=\"df-6a9db380-f50e-4d5f-80d3-5f6e900d21bb\">\n",
              "    <div class=\"colab-df-container\">\n",
              "      <div>\n",
              "<style scoped>\n",
              "    .dataframe tbody tr th:only-of-type {\n",
              "        vertical-align: middle;\n",
              "    }\n",
              "\n",
              "    .dataframe tbody tr th {\n",
              "        vertical-align: top;\n",
              "    }\n",
              "\n",
              "    .dataframe thead th {\n",
              "        text-align: right;\n",
              "    }\n",
              "</style>\n",
              "<table border=\"1\" class=\"dataframe\">\n",
              "  <thead>\n",
              "    <tr style=\"text-align: right;\">\n",
              "      <th></th>\n",
              "      <th>Single Family</th>\n",
              "      <th>Townhouse</th>\n",
              "    </tr>\n",
              "  </thead>\n",
              "  <tbody>\n",
              "    <tr>\n",
              "      <th>1</th>\n",
              "      <td>0</td>\n",
              "      <td>0</td>\n",
              "    </tr>\n",
              "    <tr>\n",
              "      <th>2</th>\n",
              "      <td>1</td>\n",
              "      <td>0</td>\n",
              "    </tr>\n",
              "    <tr>\n",
              "      <th>3</th>\n",
              "      <td>1</td>\n",
              "      <td>0</td>\n",
              "    </tr>\n",
              "    <tr>\n",
              "      <th>4</th>\n",
              "      <td>1</td>\n",
              "      <td>0</td>\n",
              "    </tr>\n",
              "    <tr>\n",
              "      <th>5</th>\n",
              "      <td>1</td>\n",
              "      <td>0</td>\n",
              "    </tr>\n",
              "  </tbody>\n",
              "</table>\n",
              "</div>\n",
              "      <button class=\"colab-df-convert\" onclick=\"convertToInteractive('df-6a9db380-f50e-4d5f-80d3-5f6e900d21bb')\"\n",
              "              title=\"Convert this dataframe to an interactive table.\"\n",
              "              style=\"display:none;\">\n",
              "        \n",
              "  <svg xmlns=\"http://www.w3.org/2000/svg\" height=\"24px\"viewBox=\"0 0 24 24\"\n",
              "       width=\"24px\">\n",
              "    <path d=\"M0 0h24v24H0V0z\" fill=\"none\"/>\n",
              "    <path d=\"M18.56 5.44l.94 2.06.94-2.06 2.06-.94-2.06-.94-.94-2.06-.94 2.06-2.06.94zm-11 1L8.5 8.5l.94-2.06 2.06-.94-2.06-.94L8.5 2.5l-.94 2.06-2.06.94zm10 10l.94 2.06.94-2.06 2.06-.94-2.06-.94-.94-2.06-.94 2.06-2.06.94z\"/><path d=\"M17.41 7.96l-1.37-1.37c-.4-.4-.92-.59-1.43-.59-.52 0-1.04.2-1.43.59L10.3 9.45l-7.72 7.72c-.78.78-.78 2.05 0 2.83L4 21.41c.39.39.9.59 1.41.59.51 0 1.02-.2 1.41-.59l7.78-7.78 2.81-2.81c.8-.78.8-2.07 0-2.86zM5.41 20L4 18.59l7.72-7.72 1.47 1.35L5.41 20z\"/>\n",
              "  </svg>\n",
              "      </button>\n",
              "      \n",
              "  <style>\n",
              "    .colab-df-container {\n",
              "      display:flex;\n",
              "      flex-wrap:wrap;\n",
              "      gap: 12px;\n",
              "    }\n",
              "\n",
              "    .colab-df-convert {\n",
              "      background-color: #E8F0FE;\n",
              "      border: none;\n",
              "      border-radius: 50%;\n",
              "      cursor: pointer;\n",
              "      display: none;\n",
              "      fill: #1967D2;\n",
              "      height: 32px;\n",
              "      padding: 0 0 0 0;\n",
              "      width: 32px;\n",
              "    }\n",
              "\n",
              "    .colab-df-convert:hover {\n",
              "      background-color: #E2EBFA;\n",
              "      box-shadow: 0px 1px 2px rgba(60, 64, 67, 0.3), 0px 1px 3px 1px rgba(60, 64, 67, 0.15);\n",
              "      fill: #174EA6;\n",
              "    }\n",
              "\n",
              "    [theme=dark] .colab-df-convert {\n",
              "      background-color: #3B4455;\n",
              "      fill: #D2E3FC;\n",
              "    }\n",
              "\n",
              "    [theme=dark] .colab-df-convert:hover {\n",
              "      background-color: #434B5C;\n",
              "      box-shadow: 0px 1px 3px 1px rgba(0, 0, 0, 0.15);\n",
              "      filter: drop-shadow(0px 1px 2px rgba(0, 0, 0, 0.3));\n",
              "      fill: #FFFFFF;\n",
              "    }\n",
              "  </style>\n",
              "\n",
              "      <script>\n",
              "        const buttonEl =\n",
              "          document.querySelector('#df-6a9db380-f50e-4d5f-80d3-5f6e900d21bb button.colab-df-convert');\n",
              "        buttonEl.style.display =\n",
              "          google.colab.kernel.accessAllowed ? 'block' : 'none';\n",
              "\n",
              "        async function convertToInteractive(key) {\n",
              "          const element = document.querySelector('#df-6a9db380-f50e-4d5f-80d3-5f6e900d21bb');\n",
              "          const dataTable =\n",
              "            await google.colab.kernel.invokeFunction('convertToInteractive',\n",
              "                                                     [key], {});\n",
              "          if (!dataTable) return;\n",
              "\n",
              "          const docLinkHtml = 'Like what you see? Visit the ' +\n",
              "            '<a target=\"_blank\" href=https://colab.research.google.com/notebooks/data_table.ipynb>data table notebook</a>'\n",
              "            + ' to learn more about interactive tables.';\n",
              "          element.innerHTML = '';\n",
              "          dataTable['output_type'] = 'display_data';\n",
              "          await google.colab.output.renderOutput(dataTable, element);\n",
              "          const docLink = document.createElement('div');\n",
              "          docLink.innerHTML = docLinkHtml;\n",
              "          element.appendChild(docLink);\n",
              "        }\n",
              "      </script>\n",
              "    </div>\n",
              "  </div>\n",
              "  "
            ]
          },
          "metadata": {},
          "execution_count": 106
        }
      ]
    },
    {
      "cell_type": "code",
      "source": [
        "predictors = ['SqFtTotLiving', 'SqFtLot', 'Bathrooms', 'Bedrooms',\n",
        "'BldgGrade', 'PropertyType']"
      ],
      "metadata": {
        "id": "jCG0kiYqLqhR"
      },
      "execution_count": null,
      "outputs": []
    },
    {
      "cell_type": "code",
      "source": [
        "X = pd.get_dummies(df[predictors],drop_first=True)\n",
        "house_lm_factor = lm.LinearRegression()\n",
        "house_lm_factor.fit(X,df[outcome])\n",
        "\n",
        "print(f'Intercept: {house_lm_factor.intercept_:.3f}')\n",
        "print('Coefficients:')\n",
        "for name, coef in zip(X.columns, house_lm_factor.coef_):\n",
        "  print(f' {name}: {coef}')"
      ],
      "metadata": {
        "colab": {
          "base_uri": "https://localhost:8080/"
        },
        "id": "JygIklipLrmK",
        "outputId": "3eac1c03-bb01-4ec8-afdf-bf5c32244170"
      },
      "execution_count": null,
      "outputs": [
        {
          "output_type": "stream",
          "name": "stdout",
          "text": [
            "Intercept: -521871.368\n",
            "Coefficients:\n",
            " SqFtTotLiving: 228.83060360240796\n",
            " SqFtLot: -0.06046682065307607\n",
            " Bathrooms: -19442.840398321056\n",
            " Bedrooms: -47769.95518521438\n",
            " BldgGrade: 106106.96307898083\n"
          ]
        }
      ]
    },
    {
      "cell_type": "code",
      "source": [
        "pd.DataFrame(df['ZipCode'].value_counts()).transpose()"
      ],
      "metadata": {
        "colab": {
          "base_uri": "https://localhost:8080/",
          "height": 110
        },
        "id": "8JUEpesYM0g-",
        "outputId": "ceb69e35-7f9c-474f-9655-68ddc40f7b5a"
      },
      "execution_count": null,
      "outputs": [
        {
          "output_type": "execute_result",
          "data": {
            "text/plain": [
              "         98038  98103  98042  98115  98117  98052  98034  98033  98059  98074  \\\n",
              "ZipCode    788    671    641    620    619    614    575    517    513    502   \n",
              "\n",
              "         ...  98051  98024  98354  98050  98057  98288  98224  98068  98113  \\\n",
              "ZipCode  ...     32     31      9      7      4      4      3      1      1   \n",
              "\n",
              "         98043  \n",
              "ZipCode      1  \n",
              "\n",
              "[1 rows x 80 columns]"
            ],
            "text/html": [
              "\n",
              "  <div id=\"df-131a1378-1e99-4566-b49c-6592db723f5e\">\n",
              "    <div class=\"colab-df-container\">\n",
              "      <div>\n",
              "<style scoped>\n",
              "    .dataframe tbody tr th:only-of-type {\n",
              "        vertical-align: middle;\n",
              "    }\n",
              "\n",
              "    .dataframe tbody tr th {\n",
              "        vertical-align: top;\n",
              "    }\n",
              "\n",
              "    .dataframe thead th {\n",
              "        text-align: right;\n",
              "    }\n",
              "</style>\n",
              "<table border=\"1\" class=\"dataframe\">\n",
              "  <thead>\n",
              "    <tr style=\"text-align: right;\">\n",
              "      <th></th>\n",
              "      <th>98038</th>\n",
              "      <th>98103</th>\n",
              "      <th>98042</th>\n",
              "      <th>98115</th>\n",
              "      <th>98117</th>\n",
              "      <th>98052</th>\n",
              "      <th>98034</th>\n",
              "      <th>98033</th>\n",
              "      <th>98059</th>\n",
              "      <th>98074</th>\n",
              "      <th>...</th>\n",
              "      <th>98051</th>\n",
              "      <th>98024</th>\n",
              "      <th>98354</th>\n",
              "      <th>98050</th>\n",
              "      <th>98057</th>\n",
              "      <th>98288</th>\n",
              "      <th>98224</th>\n",
              "      <th>98068</th>\n",
              "      <th>98113</th>\n",
              "      <th>98043</th>\n",
              "    </tr>\n",
              "  </thead>\n",
              "  <tbody>\n",
              "    <tr>\n",
              "      <th>ZipCode</th>\n",
              "      <td>788</td>\n",
              "      <td>671</td>\n",
              "      <td>641</td>\n",
              "      <td>620</td>\n",
              "      <td>619</td>\n",
              "      <td>614</td>\n",
              "      <td>575</td>\n",
              "      <td>517</td>\n",
              "      <td>513</td>\n",
              "      <td>502</td>\n",
              "      <td>...</td>\n",
              "      <td>32</td>\n",
              "      <td>31</td>\n",
              "      <td>9</td>\n",
              "      <td>7</td>\n",
              "      <td>4</td>\n",
              "      <td>4</td>\n",
              "      <td>3</td>\n",
              "      <td>1</td>\n",
              "      <td>1</td>\n",
              "      <td>1</td>\n",
              "    </tr>\n",
              "  </tbody>\n",
              "</table>\n",
              "<p>1 rows × 80 columns</p>\n",
              "</div>\n",
              "      <button class=\"colab-df-convert\" onclick=\"convertToInteractive('df-131a1378-1e99-4566-b49c-6592db723f5e')\"\n",
              "              title=\"Convert this dataframe to an interactive table.\"\n",
              "              style=\"display:none;\">\n",
              "        \n",
              "  <svg xmlns=\"http://www.w3.org/2000/svg\" height=\"24px\"viewBox=\"0 0 24 24\"\n",
              "       width=\"24px\">\n",
              "    <path d=\"M0 0h24v24H0V0z\" fill=\"none\"/>\n",
              "    <path d=\"M18.56 5.44l.94 2.06.94-2.06 2.06-.94-2.06-.94-.94-2.06-.94 2.06-2.06.94zm-11 1L8.5 8.5l.94-2.06 2.06-.94-2.06-.94L8.5 2.5l-.94 2.06-2.06.94zm10 10l.94 2.06.94-2.06 2.06-.94-2.06-.94-.94-2.06-.94 2.06-2.06.94z\"/><path d=\"M17.41 7.96l-1.37-1.37c-.4-.4-.92-.59-1.43-.59-.52 0-1.04.2-1.43.59L10.3 9.45l-7.72 7.72c-.78.78-.78 2.05 0 2.83L4 21.41c.39.39.9.59 1.41.59.51 0 1.02-.2 1.41-.59l7.78-7.78 2.81-2.81c.8-.78.8-2.07 0-2.86zM5.41 20L4 18.59l7.72-7.72 1.47 1.35L5.41 20z\"/>\n",
              "  </svg>\n",
              "      </button>\n",
              "      \n",
              "  <style>\n",
              "    .colab-df-container {\n",
              "      display:flex;\n",
              "      flex-wrap:wrap;\n",
              "      gap: 12px;\n",
              "    }\n",
              "\n",
              "    .colab-df-convert {\n",
              "      background-color: #E8F0FE;\n",
              "      border: none;\n",
              "      border-radius: 50%;\n",
              "      cursor: pointer;\n",
              "      display: none;\n",
              "      fill: #1967D2;\n",
              "      height: 32px;\n",
              "      padding: 0 0 0 0;\n",
              "      width: 32px;\n",
              "    }\n",
              "\n",
              "    .colab-df-convert:hover {\n",
              "      background-color: #E2EBFA;\n",
              "      box-shadow: 0px 1px 2px rgba(60, 64, 67, 0.3), 0px 1px 3px 1px rgba(60, 64, 67, 0.15);\n",
              "      fill: #174EA6;\n",
              "    }\n",
              "\n",
              "    [theme=dark] .colab-df-convert {\n",
              "      background-color: #3B4455;\n",
              "      fill: #D2E3FC;\n",
              "    }\n",
              "\n",
              "    [theme=dark] .colab-df-convert:hover {\n",
              "      background-color: #434B5C;\n",
              "      box-shadow: 0px 1px 3px 1px rgba(0, 0, 0, 0.15);\n",
              "      filter: drop-shadow(0px 1px 2px rgba(0, 0, 0, 0.3));\n",
              "      fill: #FFFFFF;\n",
              "    }\n",
              "  </style>\n",
              "\n",
              "      <script>\n",
              "        const buttonEl =\n",
              "          document.querySelector('#df-131a1378-1e99-4566-b49c-6592db723f5e button.colab-df-convert');\n",
              "        buttonEl.style.display =\n",
              "          google.colab.kernel.accessAllowed ? 'block' : 'none';\n",
              "\n",
              "        async function convertToInteractive(key) {\n",
              "          const element = document.querySelector('#df-131a1378-1e99-4566-b49c-6592db723f5e');\n",
              "          const dataTable =\n",
              "            await google.colab.kernel.invokeFunction('convertToInteractive',\n",
              "                                                     [key], {});\n",
              "          if (!dataTable) return;\n",
              "\n",
              "          const docLinkHtml = 'Like what you see? Visit the ' +\n",
              "            '<a target=\"_blank\" href=https://colab.research.google.com/notebooks/data_table.ipynb>data table notebook</a>'\n",
              "            + ' to learn more about interactive tables.';\n",
              "          element.innerHTML = '';\n",
              "          dataTable['output_type'] = 'display_data';\n",
              "          await google.colab.output.renderOutput(dataTable, element);\n",
              "          const docLink = document.createElement('div');\n",
              "          docLink.innerHTML = docLinkHtml;\n",
              "          element.appendChild(docLink);\n",
              "        }\n",
              "      </script>\n",
              "    </div>\n",
              "  </div>\n",
              "  "
            ]
          },
          "metadata": {},
          "execution_count": 112
        }
      ]
    },
    {
      "cell_type": "code",
      "source": [
        "df['BldgGrade'].unique()"
      ],
      "metadata": {
        "colab": {
          "base_uri": "https://localhost:8080/"
        },
        "id": "mqJr3kUvmM6a",
        "outputId": "f94a2096-84b0-4bf9-f169-bcd5848f32c5"
      },
      "execution_count": null,
      "outputs": [
        {
          "output_type": "execute_result",
          "data": {
            "text/plain": [
              "array([ 7, 10,  8,  6,  9,  5, 11, 12, 13,  4,  3])"
            ]
          },
          "metadata": {},
          "execution_count": 12
        }
      ]
    },
    {
      "cell_type": "markdown",
      "source": [
        "# Interpreting the Regression Equation"
      ],
      "metadata": {
        "id": "vN-xCRliqc0a"
      }
    },
    {
      "cell_type": "code",
      "source": [
        "print(f'Intercept : {best_model.intercept_:.3f}')\n",
        "print('Coefficients:')\n",
        "for name,coef in zip(best_variables,best_model.coef_):\n",
        "  print(f'{name}:{coef}')"
      ],
      "metadata": {
        "colab": {
          "base_uri": "https://localhost:8080/"
        },
        "id": "HLOrtnZHqbeA",
        "outputId": "fb2712df-ee1a-4ce9-a62a-33f479b5ad57"
      },
      "execution_count": null,
      "outputs": [
        {
          "output_type": "stream",
          "name": "stdout",
          "text": [
            "Intercept : -522362.016\n",
            "Coefficients:\n",
            "SqFtTotLiving:228.22879342614846\n",
            "BldgGrade:106128.13639233696\n",
            "Bedrooms:-47639.40670734163\n",
            "Bathrooms:-19245.29184107606\n"
          ]
        }
      ]
    },
    {
      "cell_type": "code",
      "source": [
        "predictors = ['Bedrooms', 'BldgGrade', 'PropertyType', 'YrBuilt']\n",
        "outcome = 'AdjSalePrice'\n",
        "X = pd.get_dummies(df[predictors],drop_first=True)\n",
        "\n",
        "reduced_lm = lm.LinearRegression()\n",
        "reduced_lm.fit(X,df[outcome])\n"
      ],
      "metadata": {
        "colab": {
          "base_uri": "https://localhost:8080/"
        },
        "id": "pE55o9-nt7ch",
        "outputId": "41892d03-c3cd-407c-9624-94e7347f82c7"
      },
      "execution_count": null,
      "outputs": [
        {
          "output_type": "execute_result",
          "data": {
            "text/plain": [
              "LinearRegression()"
            ]
          },
          "metadata": {},
          "execution_count": 19
        }
      ]
    },
    {
      "cell_type": "code",
      "source": [
        "print(f'Intercept : {reduced_lm.intercept_:.3f}')\n",
        "print('Coefficients:')\n",
        "for name,coef in zip(predictors,reduced_lm.coef_):\n",
        "  print(f'{name}:{coef}')"
      ],
      "metadata": {
        "colab": {
          "base_uri": "https://localhost:8080/"
        },
        "id": "ecgXWWKPua0z",
        "outputId": "7b990e07-f768-48dc-9c4f-86f6ad44f0d0"
      },
      "execution_count": null,
      "outputs": [
        {
          "output_type": "stream",
          "name": "stdout",
          "text": [
            "Intercept : 4913973.344\n",
            "Coefficients:\n",
            "Bedrooms:27150.537230215377\n",
            "BldgGrade:248997.79366213758\n",
            "PropertyType:-3211.7448621550866\n",
            "YrBuilt:-19898.495340502435\n"
          ]
        }
      ]
    },
    {
      "cell_type": "code",
      "source": [
        "zip_groups = pd.DataFrame([\n",
        "*pd.DataFrame({\n",
        "'ZipCode': df['ZipCode'],\n",
        "'residual' : df[outcome] - house_lm.predict(df[predictors]),\n",
        "}).groupby(['ZipCode']).apply(lambda x: {\n",
        "'ZipCode': x.iloc[0,0],\n",
        "'count': len(x),\n",
        "'median_residual': x.residual.median()\n",
        "})\n",
        "]).sort_values('median_residual')\n"
      ],
      "metadata": {
        "id": "KyfUFcY8v6Pe"
      },
      "execution_count": null,
      "outputs": []
    },
    {
      "cell_type": "code",
      "source": [
        "zip_groups"
      ],
      "metadata": {
        "colab": {
          "base_uri": "https://localhost:8080/",
          "height": 423
        },
        "id": "79MvbJWXz3Sj",
        "outputId": "24ca9b5b-1fad-4cb6-bc6c-28840ade95f9"
      },
      "execution_count": null,
      "outputs": [
        {
          "output_type": "execute_result",
          "data": {
            "text/plain": [
              "    ZipCode  count  median_residual  cum_count  ZipGroup\n",
              "36    98057      4   -537321.644462          4         0\n",
              "27    98043      1   -307661.343614          5         0\n",
              "46    98092    289   -193569.183599        294         0\n",
              "23    98038    788   -150066.477035       1082         0\n",
              "31    98051     32   -142352.869593       1114         0\n",
              "..      ...    ...              ...        ...       ...\n",
              "60    98119    260    174462.549290      21746         4\n",
              "54    98112    357    232788.487256      22103         4\n",
              "25    98040    244    254004.002463      22347         4\n",
              "3     98004    293    383596.028729      22640         4\n",
              "24    98039     47    740960.478872      22687         4\n",
              "\n",
              "[80 rows x 5 columns]"
            ],
            "text/html": [
              "\n",
              "  <div id=\"df-1dd961f9-7eb5-4536-aaf8-f256767e51da\">\n",
              "    <div class=\"colab-df-container\">\n",
              "      <div>\n",
              "<style scoped>\n",
              "    .dataframe tbody tr th:only-of-type {\n",
              "        vertical-align: middle;\n",
              "    }\n",
              "\n",
              "    .dataframe tbody tr th {\n",
              "        vertical-align: top;\n",
              "    }\n",
              "\n",
              "    .dataframe thead th {\n",
              "        text-align: right;\n",
              "    }\n",
              "</style>\n",
              "<table border=\"1\" class=\"dataframe\">\n",
              "  <thead>\n",
              "    <tr style=\"text-align: right;\">\n",
              "      <th></th>\n",
              "      <th>ZipCode</th>\n",
              "      <th>count</th>\n",
              "      <th>median_residual</th>\n",
              "      <th>cum_count</th>\n",
              "      <th>ZipGroup</th>\n",
              "    </tr>\n",
              "  </thead>\n",
              "  <tbody>\n",
              "    <tr>\n",
              "      <th>36</th>\n",
              "      <td>98057</td>\n",
              "      <td>4</td>\n",
              "      <td>-537321.644462</td>\n",
              "      <td>4</td>\n",
              "      <td>0</td>\n",
              "    </tr>\n",
              "    <tr>\n",
              "      <th>27</th>\n",
              "      <td>98043</td>\n",
              "      <td>1</td>\n",
              "      <td>-307661.343614</td>\n",
              "      <td>5</td>\n",
              "      <td>0</td>\n",
              "    </tr>\n",
              "    <tr>\n",
              "      <th>46</th>\n",
              "      <td>98092</td>\n",
              "      <td>289</td>\n",
              "      <td>-193569.183599</td>\n",
              "      <td>294</td>\n",
              "      <td>0</td>\n",
              "    </tr>\n",
              "    <tr>\n",
              "      <th>23</th>\n",
              "      <td>98038</td>\n",
              "      <td>788</td>\n",
              "      <td>-150066.477035</td>\n",
              "      <td>1082</td>\n",
              "      <td>0</td>\n",
              "    </tr>\n",
              "    <tr>\n",
              "      <th>31</th>\n",
              "      <td>98051</td>\n",
              "      <td>32</td>\n",
              "      <td>-142352.869593</td>\n",
              "      <td>1114</td>\n",
              "      <td>0</td>\n",
              "    </tr>\n",
              "    <tr>\n",
              "      <th>...</th>\n",
              "      <td>...</td>\n",
              "      <td>...</td>\n",
              "      <td>...</td>\n",
              "      <td>...</td>\n",
              "      <td>...</td>\n",
              "    </tr>\n",
              "    <tr>\n",
              "      <th>60</th>\n",
              "      <td>98119</td>\n",
              "      <td>260</td>\n",
              "      <td>174462.549290</td>\n",
              "      <td>21746</td>\n",
              "      <td>4</td>\n",
              "    </tr>\n",
              "    <tr>\n",
              "      <th>54</th>\n",
              "      <td>98112</td>\n",
              "      <td>357</td>\n",
              "      <td>232788.487256</td>\n",
              "      <td>22103</td>\n",
              "      <td>4</td>\n",
              "    </tr>\n",
              "    <tr>\n",
              "      <th>25</th>\n",
              "      <td>98040</td>\n",
              "      <td>244</td>\n",
              "      <td>254004.002463</td>\n",
              "      <td>22347</td>\n",
              "      <td>4</td>\n",
              "    </tr>\n",
              "    <tr>\n",
              "      <th>3</th>\n",
              "      <td>98004</td>\n",
              "      <td>293</td>\n",
              "      <td>383596.028729</td>\n",
              "      <td>22640</td>\n",
              "      <td>4</td>\n",
              "    </tr>\n",
              "    <tr>\n",
              "      <th>24</th>\n",
              "      <td>98039</td>\n",
              "      <td>47</td>\n",
              "      <td>740960.478872</td>\n",
              "      <td>22687</td>\n",
              "      <td>4</td>\n",
              "    </tr>\n",
              "  </tbody>\n",
              "</table>\n",
              "<p>80 rows × 5 columns</p>\n",
              "</div>\n",
              "      <button class=\"colab-df-convert\" onclick=\"convertToInteractive('df-1dd961f9-7eb5-4536-aaf8-f256767e51da')\"\n",
              "              title=\"Convert this dataframe to an interactive table.\"\n",
              "              style=\"display:none;\">\n",
              "        \n",
              "  <svg xmlns=\"http://www.w3.org/2000/svg\" height=\"24px\"viewBox=\"0 0 24 24\"\n",
              "       width=\"24px\">\n",
              "    <path d=\"M0 0h24v24H0V0z\" fill=\"none\"/>\n",
              "    <path d=\"M18.56 5.44l.94 2.06.94-2.06 2.06-.94-2.06-.94-.94-2.06-.94 2.06-2.06.94zm-11 1L8.5 8.5l.94-2.06 2.06-.94-2.06-.94L8.5 2.5l-.94 2.06-2.06.94zm10 10l.94 2.06.94-2.06 2.06-.94-2.06-.94-.94-2.06-.94 2.06-2.06.94z\"/><path d=\"M17.41 7.96l-1.37-1.37c-.4-.4-.92-.59-1.43-.59-.52 0-1.04.2-1.43.59L10.3 9.45l-7.72 7.72c-.78.78-.78 2.05 0 2.83L4 21.41c.39.39.9.59 1.41.59.51 0 1.02-.2 1.41-.59l7.78-7.78 2.81-2.81c.8-.78.8-2.07 0-2.86zM5.41 20L4 18.59l7.72-7.72 1.47 1.35L5.41 20z\"/>\n",
              "  </svg>\n",
              "      </button>\n",
              "      \n",
              "  <style>\n",
              "    .colab-df-container {\n",
              "      display:flex;\n",
              "      flex-wrap:wrap;\n",
              "      gap: 12px;\n",
              "    }\n",
              "\n",
              "    .colab-df-convert {\n",
              "      background-color: #E8F0FE;\n",
              "      border: none;\n",
              "      border-radius: 50%;\n",
              "      cursor: pointer;\n",
              "      display: none;\n",
              "      fill: #1967D2;\n",
              "      height: 32px;\n",
              "      padding: 0 0 0 0;\n",
              "      width: 32px;\n",
              "    }\n",
              "\n",
              "    .colab-df-convert:hover {\n",
              "      background-color: #E2EBFA;\n",
              "      box-shadow: 0px 1px 2px rgba(60, 64, 67, 0.3), 0px 1px 3px 1px rgba(60, 64, 67, 0.15);\n",
              "      fill: #174EA6;\n",
              "    }\n",
              "\n",
              "    [theme=dark] .colab-df-convert {\n",
              "      background-color: #3B4455;\n",
              "      fill: #D2E3FC;\n",
              "    }\n",
              "\n",
              "    [theme=dark] .colab-df-convert:hover {\n",
              "      background-color: #434B5C;\n",
              "      box-shadow: 0px 1px 3px 1px rgba(0, 0, 0, 0.15);\n",
              "      filter: drop-shadow(0px 1px 2px rgba(0, 0, 0, 0.3));\n",
              "      fill: #FFFFFF;\n",
              "    }\n",
              "  </style>\n",
              "\n",
              "      <script>\n",
              "        const buttonEl =\n",
              "          document.querySelector('#df-1dd961f9-7eb5-4536-aaf8-f256767e51da button.colab-df-convert');\n",
              "        buttonEl.style.display =\n",
              "          google.colab.kernel.accessAllowed ? 'block' : 'none';\n",
              "\n",
              "        async function convertToInteractive(key) {\n",
              "          const element = document.querySelector('#df-1dd961f9-7eb5-4536-aaf8-f256767e51da');\n",
              "          const dataTable =\n",
              "            await google.colab.kernel.invokeFunction('convertToInteractive',\n",
              "                                                     [key], {});\n",
              "          if (!dataTable) return;\n",
              "\n",
              "          const docLinkHtml = 'Like what you see? Visit the ' +\n",
              "            '<a target=\"_blank\" href=https://colab.research.google.com/notebooks/data_table.ipynb>data table notebook</a>'\n",
              "            + ' to learn more about interactive tables.';\n",
              "          element.innerHTML = '';\n",
              "          dataTable['output_type'] = 'display_data';\n",
              "          await google.colab.output.renderOutput(dataTable, element);\n",
              "          const docLink = document.createElement('div');\n",
              "          docLink.innerHTML = docLinkHtml;\n",
              "          element.appendChild(docLink);\n",
              "        }\n",
              "      </script>\n",
              "    </div>\n",
              "  </div>\n",
              "  "
            ]
          },
          "metadata": {},
          "execution_count": 53
        }
      ]
    },
    {
      "cell_type": "code",
      "source": [
        "zip_groups['cum_count'] = np.cumsum(zip_groups['count'])"
      ],
      "metadata": {
        "id": "ZLPg5kxtybTw"
      },
      "execution_count": null,
      "outputs": []
    },
    {
      "cell_type": "code",
      "source": [
        "zip_groups['ZipGroup'] = pd.qcut(zip_groups['cum_count'], 5, labels=False,\n",
        "retbins=False)\n",
        "\n",
        "to_join = zip_groups[['ZipCode', 'ZipGroup']].set_index('ZipCode')\n",
        "house = df.join(to_join, on='ZipCode')\n",
        "house['ZipGroup'] = house['ZipGroup'].astype('category')"
      ],
      "metadata": {
        "id": "jf1IpvP4yphR"
      },
      "execution_count": null,
      "outputs": []
    },
    {
      "cell_type": "code",
      "source": [
        "house"
      ],
      "metadata": {
        "colab": {
          "base_uri": "https://localhost:8080/",
          "height": 661
        },
        "id": "Tse4Pl-DwuLn",
        "outputId": "0b016ec8-c2c3-4ce0-ea83-0f8b29e55b53"
      },
      "execution_count": null,
      "outputs": [
        {
          "output_type": "execute_result",
          "data": {
            "text/plain": [
              "      DocumentDate  SalePrice  PropertyID   PropertyType          ym  zhvi_px  \\\n",
              "1       2014-09-16     280000     1000102      Multiplex  2014-09-01   405100   \n",
              "2       2006-06-16    1000000     1200013  Single Family  2006-06-01   404400   \n",
              "3       2007-01-29     745000     1200019  Single Family  2007-01-01   425600   \n",
              "4       2008-02-25     425000     2800016  Single Family  2008-02-01   418400   \n",
              "5       2013-03-29     240000     2800024  Single Family  2013-03-01   351600   \n",
              "...            ...        ...         ...            ...         ...      ...   \n",
              "27057   2011-04-08     325000  9842300710  Single Family  2011-04-01   318700   \n",
              "27058   2007-09-28    1580000  9845500010  Single Family  2007-09-01   433500   \n",
              "27061   2012-07-09     165000  9899200010  Single Family  2012-07-01   325300   \n",
              "27062   2006-05-26     315000  9900000355  Single Family  2006-05-01   400600   \n",
              "27063   2007-01-09     465000  9906000035  Single Family  2007-01-01   425600   \n",
              "\n",
              "       zhvi_idx  AdjSalePrice  NbrLivingUnits  SqFtLot  ...  Bedrooms  \\\n",
              "1      0.930836      300805.0               2     9373  ...         6   \n",
              "2      0.929228     1076162.0               1    20156  ...         4   \n",
              "3      0.977941      761805.0               1    26036  ...         4   \n",
              "4      0.961397      442065.0               1     8618  ...         5   \n",
              "5      0.807904      297065.0               1     8620  ...         4   \n",
              "...         ...           ...             ...      ...  ...       ...   \n",
              "27057  0.732307      443803.0               1     5468  ...         3   \n",
              "27058  0.996094     1586196.0               1    23914  ...         4   \n",
              "27061  0.747472      220744.0               1    11170  ...         4   \n",
              "27062  0.920496      342207.0               1     6223  ...         3   \n",
              "27063  0.977941      475489.0               1     4400  ...         3   \n",
              "\n",
              "       BldgGrade  YrBuilt  YrRenovated  TrafficNoise  LandVal  ImpsVal  \\\n",
              "1              7     1991            0             0    70000   229000   \n",
              "2             10     2005            0             0   203000   590000   \n",
              "3              8     1947            0             0   183000   275000   \n",
              "4              7     1966            0             0   104000   229000   \n",
              "5              7     1948            0             0   104000   205000   \n",
              "...          ...      ...          ...           ...      ...      ...   \n",
              "27057          7     1951            0             0   201000   172000   \n",
              "27058         11     2000            0             1   703000   951000   \n",
              "27061          6     1971            0             0    92000   130000   \n",
              "27062          7     1939            0             0   103000   212000   \n",
              "27063          7     1928            0             0   311000   268000   \n",
              "\n",
              "       ZipCode  NewConstruction  ZipGroup  \n",
              "1        98002            False         2  \n",
              "2        98166             True         2  \n",
              "3        98166            False         2  \n",
              "4        98168            False         2  \n",
              "5        98168            False         2  \n",
              "...        ...              ...       ...  \n",
              "27057    98126            False         3  \n",
              "27058    98040            False         4  \n",
              "27061    98055            False         0  \n",
              "27062    98166            False         2  \n",
              "27063    98103            False         4  \n",
              "\n",
              "[22687 rows x 23 columns]"
            ],
            "text/html": [
              "\n",
              "  <div id=\"df-137dcc1b-3cee-4d8c-b66c-0bcd0e178405\">\n",
              "    <div class=\"colab-df-container\">\n",
              "      <div>\n",
              "<style scoped>\n",
              "    .dataframe tbody tr th:only-of-type {\n",
              "        vertical-align: middle;\n",
              "    }\n",
              "\n",
              "    .dataframe tbody tr th {\n",
              "        vertical-align: top;\n",
              "    }\n",
              "\n",
              "    .dataframe thead th {\n",
              "        text-align: right;\n",
              "    }\n",
              "</style>\n",
              "<table border=\"1\" class=\"dataframe\">\n",
              "  <thead>\n",
              "    <tr style=\"text-align: right;\">\n",
              "      <th></th>\n",
              "      <th>DocumentDate</th>\n",
              "      <th>SalePrice</th>\n",
              "      <th>PropertyID</th>\n",
              "      <th>PropertyType</th>\n",
              "      <th>ym</th>\n",
              "      <th>zhvi_px</th>\n",
              "      <th>zhvi_idx</th>\n",
              "      <th>AdjSalePrice</th>\n",
              "      <th>NbrLivingUnits</th>\n",
              "      <th>SqFtLot</th>\n",
              "      <th>...</th>\n",
              "      <th>Bedrooms</th>\n",
              "      <th>BldgGrade</th>\n",
              "      <th>YrBuilt</th>\n",
              "      <th>YrRenovated</th>\n",
              "      <th>TrafficNoise</th>\n",
              "      <th>LandVal</th>\n",
              "      <th>ImpsVal</th>\n",
              "      <th>ZipCode</th>\n",
              "      <th>NewConstruction</th>\n",
              "      <th>ZipGroup</th>\n",
              "    </tr>\n",
              "  </thead>\n",
              "  <tbody>\n",
              "    <tr>\n",
              "      <th>1</th>\n",
              "      <td>2014-09-16</td>\n",
              "      <td>280000</td>\n",
              "      <td>1000102</td>\n",
              "      <td>Multiplex</td>\n",
              "      <td>2014-09-01</td>\n",
              "      <td>405100</td>\n",
              "      <td>0.930836</td>\n",
              "      <td>300805.0</td>\n",
              "      <td>2</td>\n",
              "      <td>9373</td>\n",
              "      <td>...</td>\n",
              "      <td>6</td>\n",
              "      <td>7</td>\n",
              "      <td>1991</td>\n",
              "      <td>0</td>\n",
              "      <td>0</td>\n",
              "      <td>70000</td>\n",
              "      <td>229000</td>\n",
              "      <td>98002</td>\n",
              "      <td>False</td>\n",
              "      <td>2</td>\n",
              "    </tr>\n",
              "    <tr>\n",
              "      <th>2</th>\n",
              "      <td>2006-06-16</td>\n",
              "      <td>1000000</td>\n",
              "      <td>1200013</td>\n",
              "      <td>Single Family</td>\n",
              "      <td>2006-06-01</td>\n",
              "      <td>404400</td>\n",
              "      <td>0.929228</td>\n",
              "      <td>1076162.0</td>\n",
              "      <td>1</td>\n",
              "      <td>20156</td>\n",
              "      <td>...</td>\n",
              "      <td>4</td>\n",
              "      <td>10</td>\n",
              "      <td>2005</td>\n",
              "      <td>0</td>\n",
              "      <td>0</td>\n",
              "      <td>203000</td>\n",
              "      <td>590000</td>\n",
              "      <td>98166</td>\n",
              "      <td>True</td>\n",
              "      <td>2</td>\n",
              "    </tr>\n",
              "    <tr>\n",
              "      <th>3</th>\n",
              "      <td>2007-01-29</td>\n",
              "      <td>745000</td>\n",
              "      <td>1200019</td>\n",
              "      <td>Single Family</td>\n",
              "      <td>2007-01-01</td>\n",
              "      <td>425600</td>\n",
              "      <td>0.977941</td>\n",
              "      <td>761805.0</td>\n",
              "      <td>1</td>\n",
              "      <td>26036</td>\n",
              "      <td>...</td>\n",
              "      <td>4</td>\n",
              "      <td>8</td>\n",
              "      <td>1947</td>\n",
              "      <td>0</td>\n",
              "      <td>0</td>\n",
              "      <td>183000</td>\n",
              "      <td>275000</td>\n",
              "      <td>98166</td>\n",
              "      <td>False</td>\n",
              "      <td>2</td>\n",
              "    </tr>\n",
              "    <tr>\n",
              "      <th>4</th>\n",
              "      <td>2008-02-25</td>\n",
              "      <td>425000</td>\n",
              "      <td>2800016</td>\n",
              "      <td>Single Family</td>\n",
              "      <td>2008-02-01</td>\n",
              "      <td>418400</td>\n",
              "      <td>0.961397</td>\n",
              "      <td>442065.0</td>\n",
              "      <td>1</td>\n",
              "      <td>8618</td>\n",
              "      <td>...</td>\n",
              "      <td>5</td>\n",
              "      <td>7</td>\n",
              "      <td>1966</td>\n",
              "      <td>0</td>\n",
              "      <td>0</td>\n",
              "      <td>104000</td>\n",
              "      <td>229000</td>\n",
              "      <td>98168</td>\n",
              "      <td>False</td>\n",
              "      <td>2</td>\n",
              "    </tr>\n",
              "    <tr>\n",
              "      <th>5</th>\n",
              "      <td>2013-03-29</td>\n",
              "      <td>240000</td>\n",
              "      <td>2800024</td>\n",
              "      <td>Single Family</td>\n",
              "      <td>2013-03-01</td>\n",
              "      <td>351600</td>\n",
              "      <td>0.807904</td>\n",
              "      <td>297065.0</td>\n",
              "      <td>1</td>\n",
              "      <td>8620</td>\n",
              "      <td>...</td>\n",
              "      <td>4</td>\n",
              "      <td>7</td>\n",
              "      <td>1948</td>\n",
              "      <td>0</td>\n",
              "      <td>0</td>\n",
              "      <td>104000</td>\n",
              "      <td>205000</td>\n",
              "      <td>98168</td>\n",
              "      <td>False</td>\n",
              "      <td>2</td>\n",
              "    </tr>\n",
              "    <tr>\n",
              "      <th>...</th>\n",
              "      <td>...</td>\n",
              "      <td>...</td>\n",
              "      <td>...</td>\n",
              "      <td>...</td>\n",
              "      <td>...</td>\n",
              "      <td>...</td>\n",
              "      <td>...</td>\n",
              "      <td>...</td>\n",
              "      <td>...</td>\n",
              "      <td>...</td>\n",
              "      <td>...</td>\n",
              "      <td>...</td>\n",
              "      <td>...</td>\n",
              "      <td>...</td>\n",
              "      <td>...</td>\n",
              "      <td>...</td>\n",
              "      <td>...</td>\n",
              "      <td>...</td>\n",
              "      <td>...</td>\n",
              "      <td>...</td>\n",
              "      <td>...</td>\n",
              "    </tr>\n",
              "    <tr>\n",
              "      <th>27057</th>\n",
              "      <td>2011-04-08</td>\n",
              "      <td>325000</td>\n",
              "      <td>9842300710</td>\n",
              "      <td>Single Family</td>\n",
              "      <td>2011-04-01</td>\n",
              "      <td>318700</td>\n",
              "      <td>0.732307</td>\n",
              "      <td>443803.0</td>\n",
              "      <td>1</td>\n",
              "      <td>5468</td>\n",
              "      <td>...</td>\n",
              "      <td>3</td>\n",
              "      <td>7</td>\n",
              "      <td>1951</td>\n",
              "      <td>0</td>\n",
              "      <td>0</td>\n",
              "      <td>201000</td>\n",
              "      <td>172000</td>\n",
              "      <td>98126</td>\n",
              "      <td>False</td>\n",
              "      <td>3</td>\n",
              "    </tr>\n",
              "    <tr>\n",
              "      <th>27058</th>\n",
              "      <td>2007-09-28</td>\n",
              "      <td>1580000</td>\n",
              "      <td>9845500010</td>\n",
              "      <td>Single Family</td>\n",
              "      <td>2007-09-01</td>\n",
              "      <td>433500</td>\n",
              "      <td>0.996094</td>\n",
              "      <td>1586196.0</td>\n",
              "      <td>1</td>\n",
              "      <td>23914</td>\n",
              "      <td>...</td>\n",
              "      <td>4</td>\n",
              "      <td>11</td>\n",
              "      <td>2000</td>\n",
              "      <td>0</td>\n",
              "      <td>1</td>\n",
              "      <td>703000</td>\n",
              "      <td>951000</td>\n",
              "      <td>98040</td>\n",
              "      <td>False</td>\n",
              "      <td>4</td>\n",
              "    </tr>\n",
              "    <tr>\n",
              "      <th>27061</th>\n",
              "      <td>2012-07-09</td>\n",
              "      <td>165000</td>\n",
              "      <td>9899200010</td>\n",
              "      <td>Single Family</td>\n",
              "      <td>2012-07-01</td>\n",
              "      <td>325300</td>\n",
              "      <td>0.747472</td>\n",
              "      <td>220744.0</td>\n",
              "      <td>1</td>\n",
              "      <td>11170</td>\n",
              "      <td>...</td>\n",
              "      <td>4</td>\n",
              "      <td>6</td>\n",
              "      <td>1971</td>\n",
              "      <td>0</td>\n",
              "      <td>0</td>\n",
              "      <td>92000</td>\n",
              "      <td>130000</td>\n",
              "      <td>98055</td>\n",
              "      <td>False</td>\n",
              "      <td>0</td>\n",
              "    </tr>\n",
              "    <tr>\n",
              "      <th>27062</th>\n",
              "      <td>2006-05-26</td>\n",
              "      <td>315000</td>\n",
              "      <td>9900000355</td>\n",
              "      <td>Single Family</td>\n",
              "      <td>2006-05-01</td>\n",
              "      <td>400600</td>\n",
              "      <td>0.920496</td>\n",
              "      <td>342207.0</td>\n",
              "      <td>1</td>\n",
              "      <td>6223</td>\n",
              "      <td>...</td>\n",
              "      <td>3</td>\n",
              "      <td>7</td>\n",
              "      <td>1939</td>\n",
              "      <td>0</td>\n",
              "      <td>0</td>\n",
              "      <td>103000</td>\n",
              "      <td>212000</td>\n",
              "      <td>98166</td>\n",
              "      <td>False</td>\n",
              "      <td>2</td>\n",
              "    </tr>\n",
              "    <tr>\n",
              "      <th>27063</th>\n",
              "      <td>2007-01-09</td>\n",
              "      <td>465000</td>\n",
              "      <td>9906000035</td>\n",
              "      <td>Single Family</td>\n",
              "      <td>2007-01-01</td>\n",
              "      <td>425600</td>\n",
              "      <td>0.977941</td>\n",
              "      <td>475489.0</td>\n",
              "      <td>1</td>\n",
              "      <td>4400</td>\n",
              "      <td>...</td>\n",
              "      <td>3</td>\n",
              "      <td>7</td>\n",
              "      <td>1928</td>\n",
              "      <td>0</td>\n",
              "      <td>0</td>\n",
              "      <td>311000</td>\n",
              "      <td>268000</td>\n",
              "      <td>98103</td>\n",
              "      <td>False</td>\n",
              "      <td>4</td>\n",
              "    </tr>\n",
              "  </tbody>\n",
              "</table>\n",
              "<p>22687 rows × 23 columns</p>\n",
              "</div>\n",
              "      <button class=\"colab-df-convert\" onclick=\"convertToInteractive('df-137dcc1b-3cee-4d8c-b66c-0bcd0e178405')\"\n",
              "              title=\"Convert this dataframe to an interactive table.\"\n",
              "              style=\"display:none;\">\n",
              "        \n",
              "  <svg xmlns=\"http://www.w3.org/2000/svg\" height=\"24px\"viewBox=\"0 0 24 24\"\n",
              "       width=\"24px\">\n",
              "    <path d=\"M0 0h24v24H0V0z\" fill=\"none\"/>\n",
              "    <path d=\"M18.56 5.44l.94 2.06.94-2.06 2.06-.94-2.06-.94-.94-2.06-.94 2.06-2.06.94zm-11 1L8.5 8.5l.94-2.06 2.06-.94-2.06-.94L8.5 2.5l-.94 2.06-2.06.94zm10 10l.94 2.06.94-2.06 2.06-.94-2.06-.94-.94-2.06-.94 2.06-2.06.94z\"/><path d=\"M17.41 7.96l-1.37-1.37c-.4-.4-.92-.59-1.43-.59-.52 0-1.04.2-1.43.59L10.3 9.45l-7.72 7.72c-.78.78-.78 2.05 0 2.83L4 21.41c.39.39.9.59 1.41.59.51 0 1.02-.2 1.41-.59l7.78-7.78 2.81-2.81c.8-.78.8-2.07 0-2.86zM5.41 20L4 18.59l7.72-7.72 1.47 1.35L5.41 20z\"/>\n",
              "  </svg>\n",
              "      </button>\n",
              "      \n",
              "  <style>\n",
              "    .colab-df-container {\n",
              "      display:flex;\n",
              "      flex-wrap:wrap;\n",
              "      gap: 12px;\n",
              "    }\n",
              "\n",
              "    .colab-df-convert {\n",
              "      background-color: #E8F0FE;\n",
              "      border: none;\n",
              "      border-radius: 50%;\n",
              "      cursor: pointer;\n",
              "      display: none;\n",
              "      fill: #1967D2;\n",
              "      height: 32px;\n",
              "      padding: 0 0 0 0;\n",
              "      width: 32px;\n",
              "    }\n",
              "\n",
              "    .colab-df-convert:hover {\n",
              "      background-color: #E2EBFA;\n",
              "      box-shadow: 0px 1px 2px rgba(60, 64, 67, 0.3), 0px 1px 3px 1px rgba(60, 64, 67, 0.15);\n",
              "      fill: #174EA6;\n",
              "    }\n",
              "\n",
              "    [theme=dark] .colab-df-convert {\n",
              "      background-color: #3B4455;\n",
              "      fill: #D2E3FC;\n",
              "    }\n",
              "\n",
              "    [theme=dark] .colab-df-convert:hover {\n",
              "      background-color: #434B5C;\n",
              "      box-shadow: 0px 1px 3px 1px rgba(0, 0, 0, 0.15);\n",
              "      filter: drop-shadow(0px 1px 2px rgba(0, 0, 0, 0.3));\n",
              "      fill: #FFFFFF;\n",
              "    }\n",
              "  </style>\n",
              "\n",
              "      <script>\n",
              "        const buttonEl =\n",
              "          document.querySelector('#df-137dcc1b-3cee-4d8c-b66c-0bcd0e178405 button.colab-df-convert');\n",
              "        buttonEl.style.display =\n",
              "          google.colab.kernel.accessAllowed ? 'block' : 'none';\n",
              "\n",
              "        async function convertToInteractive(key) {\n",
              "          const element = document.querySelector('#df-137dcc1b-3cee-4d8c-b66c-0bcd0e178405');\n",
              "          const dataTable =\n",
              "            await google.colab.kernel.invokeFunction('convertToInteractive',\n",
              "                                                     [key], {});\n",
              "          if (!dataTable) return;\n",
              "\n",
              "          const docLinkHtml = 'Like what you see? Visit the ' +\n",
              "            '<a target=\"_blank\" href=https://colab.research.google.com/notebooks/data_table.ipynb>data table notebook</a>'\n",
              "            + ' to learn more about interactive tables.';\n",
              "          element.innerHTML = '';\n",
              "          dataTable['output_type'] = 'display_data';\n",
              "          await google.colab.output.renderOutput(dataTable, element);\n",
              "          const docLink = document.createElement('div');\n",
              "          docLink.innerHTML = docLinkHtml;\n",
              "          element.appendChild(docLink);\n",
              "        }\n",
              "      </script>\n",
              "    </div>\n",
              "  </div>\n",
              "  "
            ]
          },
          "metadata": {},
          "execution_count": 52
        }
      ]
    },
    {
      "cell_type": "code",
      "source": [
        "predictors = ['SqFtTotLiving', 'SqFtLot', 'Bathrooms', 'Bedrooms',\n",
        "'BldgGrade', 'PropertyType', 'ZipGroup']\n",
        "\n",
        "outcome = 'AdjSalePrice'\n",
        "\n",
        "X = pd.get_dummies(house[predictors],drop_first=True)\n",
        "confounding_lm = lm.LinearRegression()\n",
        "confounding_lm.fit(X,house[outcome])\n",
        "print(f'Intercept: {confounding_lm.intercept_:.3f}')\n",
        "print('Coefficients:')\n",
        "for name, coef in zip(X.columns, confounding_lm.coef_):\n",
        "  print(f' {name}: {coef}')"
      ],
      "metadata": {
        "colab": {
          "base_uri": "https://localhost:8080/"
        },
        "id": "WVUyuUa508fR",
        "outputId": "fb6b0b8f-08be-4785-c594-db0d6f682b60"
      },
      "execution_count": null,
      "outputs": [
        {
          "output_type": "stream",
          "name": "stdout",
          "text": [
            "Intercept: -666637.469\n",
            "Coefficients:\n",
            " SqFtTotLiving: 210.61266005580157\n",
            " SqFtLot: 0.45498713854659023\n",
            " Bathrooms: 5928.425640001543\n",
            " Bedrooms: -41682.87184074475\n",
            " BldgGrade: 98541.18352725971\n",
            " PropertyType_Single Family: 19323.625287919334\n",
            " PropertyType_Townhouse: -78198.72092762387\n",
            " ZipGroup_1: 53317.17330659817\n",
            " ZipGroup_2: 116251.58883563544\n",
            " ZipGroup_3: 178360.53178793355\n",
            " ZipGroup_4: 338408.60185652005\n"
          ]
        }
      ]
    },
    {
      "cell_type": "code",
      "source": [
        "\n",
        "model = sm.OLS(house[outcome],X.assign(const=1))\n",
        "results = model.fit()\n",
        "print(results.summary())"
      ],
      "metadata": {
        "colab": {
          "base_uri": "https://localhost:8080/"
        },
        "id": "n0YRmaQM1Vbm",
        "outputId": "1282a4e4-63d8-4ea3-f643-1be5892d87cf"
      },
      "execution_count": null,
      "outputs": [
        {
          "output_type": "stream",
          "name": "stdout",
          "text": [
            "                            OLS Regression Results                            \n",
            "==============================================================================\n",
            "Dep. Variable:           AdjSalePrice   R-squared:                       0.638\n",
            "Model:                            OLS   Adj. R-squared:                  0.637\n",
            "Method:                 Least Squares   F-statistic:                     3626.\n",
            "Date:                Mon, 11 Apr 2022   Prob (F-statistic):               0.00\n",
            "Time:                        13:35:47   Log-Likelihood:            -3.1248e+05\n",
            "No. Observations:               22687   AIC:                         6.250e+05\n",
            "Df Residuals:                   22675   BIC:                         6.251e+05\n",
            "Df Model:                          11                                         \n",
            "Covariance Type:            nonrobust                                         \n",
            "==============================================================================================\n",
            "                                 coef    std err          t      P>|t|      [0.025      0.975]\n",
            "----------------------------------------------------------------------------------------------\n",
            "SqFtTotLiving                210.6127      3.679     57.249      0.000     203.402     217.824\n",
            "SqFtLot                        0.4550      0.055      8.288      0.000       0.347       0.563\n",
            "Bathrooms                   5928.4256   3406.349      1.740      0.082    -748.253    1.26e+04\n",
            "Bedrooms                   -4.168e+04   2260.875    -18.437      0.000   -4.61e+04   -3.73e+04\n",
            "BldgGrade                   9.854e+04   2198.695     44.818      0.000    9.42e+04    1.03e+05\n",
            "PropertyType_Single Family  1.932e+04   1.49e+04      1.300      0.194   -9813.581    4.85e+04\n",
            "PropertyType_Townhouse      -7.82e+04   1.62e+04     -4.839      0.000    -1.1e+05   -4.65e+04\n",
            "ZipGroup_1                  5.332e+04   5141.118     10.371      0.000    4.32e+04    6.34e+04\n",
            "ZipGroup_2                  1.163e+05   4835.157     24.043      0.000    1.07e+05    1.26e+05\n",
            "ZipGroup_3                  1.784e+05   4968.852     35.896      0.000    1.69e+05    1.88e+05\n",
            "ZipGroup_4                  3.384e+05   4724.478     71.629      0.000    3.29e+05    3.48e+05\n",
            "const                      -6.666e+05   2.04e+04    -32.739      0.000   -7.07e+05   -6.27e+05\n",
            "==============================================================================\n",
            "Omnibus:                    33232.769   Durbin-Watson:                   1.466\n",
            "Prob(Omnibus):                  0.000   Jarque-Bera (JB):         39575049.715\n",
            "Skew:                           8.440   Prob(JB):                         0.00\n",
            "Kurtosis:                     206.913   Cond. No.                     5.50e+05\n",
            "==============================================================================\n",
            "\n",
            "Warnings:\n",
            "[1] Standard Errors assume that the covariance matrix of the errors is correctly specified.\n",
            "[2] The condition number is large, 5.5e+05. This might indicate that there are\n",
            "strong multicollinearity or other numerical problems.\n"
          ]
        }
      ]
    },
    {
      "cell_type": "code",
      "source": [
        "model = sm.ols(formula='AdjSalePrice ~ SqFtTotLiving*ZipGroup + SqFtLot + +\n",
        "'Bathrooms + Bedrooms + BldgGrade + PropertyType', data=house)"
      ],
      "metadata": {
        "id": "scG0sz0d2wDL"
      },
      "execution_count": null,
      "outputs": []
    },
    {
      "cell_type": "markdown",
      "source": [
        "# Regression Diagnostics\n"
      ],
      "metadata": {
        "id": "qbt4XR6L86DC"
      }
    },
    {
      "cell_type": "code",
      "source": [
        "house_98105 = house.loc[house['ZipCode'] == 98105, ]\n",
        "predictors = ['SqFtTotLiving', 'SqFtLot', 'Bathrooms', 'Bedrooms', 'BldgGrade']\n",
        "outcome = 'AdjSalePrice'\n",
        "house_outlier = sm.OLS(house_98105[outcome],house_98105[predictors].assign(const=1))\n",
        "result_98105 = house_outlier.fit()\n",
        "print(result_98105.summary())"
      ],
      "metadata": {
        "colab": {
          "base_uri": "https://localhost:8080/"
        },
        "id": "TIVlMABw8-YL",
        "outputId": "eb593f59-a5f3-4e6b-ef48-3130587ca66c"
      },
      "execution_count": null,
      "outputs": [
        {
          "output_type": "stream",
          "name": "stdout",
          "text": [
            "                            OLS Regression Results                            \n",
            "==============================================================================\n",
            "Dep. Variable:           AdjSalePrice   R-squared:                       0.795\n",
            "Model:                            OLS   Adj. R-squared:                  0.792\n",
            "Method:                 Least Squares   F-statistic:                     238.7\n",
            "Date:                Mon, 11 Apr 2022   Prob (F-statistic):          1.69e-103\n",
            "Time:                        14:09:58   Log-Likelihood:                -4226.0\n",
            "No. Observations:                 313   AIC:                             8464.\n",
            "Df Residuals:                     307   BIC:                             8486.\n",
            "Df Model:                           5                                         \n",
            "Covariance Type:            nonrobust                                         \n",
            "=================================================================================\n",
            "                    coef    std err          t      P>|t|      [0.025      0.975]\n",
            "---------------------------------------------------------------------------------\n",
            "SqFtTotLiving   209.6023     24.408      8.587      0.000     161.574     257.631\n",
            "SqFtLot          38.9333      5.330      7.305      0.000      28.445      49.421\n",
            "Bathrooms      2282.2641      2e+04      0.114      0.909    -3.7e+04    4.16e+04\n",
            "Bedrooms      -2.632e+04   1.29e+04     -2.043      0.042   -5.17e+04    -973.867\n",
            "BldgGrade        1.3e+05   1.52e+04      8.533      0.000       1e+05     1.6e+05\n",
            "const         -7.725e+05   9.83e+04     -7.861      0.000   -9.66e+05   -5.79e+05\n",
            "==============================================================================\n",
            "Omnibus:                       82.127   Durbin-Watson:                   1.508\n",
            "Prob(Omnibus):                  0.000   Jarque-Bera (JB):              586.561\n",
            "Skew:                           0.859   Prob(JB):                    4.26e-128\n",
            "Kurtosis:                       9.483   Cond. No.                     5.63e+04\n",
            "==============================================================================\n",
            "\n",
            "Warnings:\n",
            "[1] Standard Errors assume that the covariance matrix of the errors is correctly specified.\n",
            "[2] The condition number is large, 5.63e+04. This might indicate that there are\n",
            "strong multicollinearity or other numerical problems.\n"
          ]
        }
      ]
    },
    {
      "cell_type": "code",
      "source": [
        "influence = OLSInfluence(result_98105)\n",
        "sresiduals = influence.resid_studentized_internal\n",
        "\n",
        "print(sresiduals.idxmin(), sresiduals.min())\n",
        "\n",
        "print(result_98105.resid.loc[sresiduals.idxmin()])\n",
        "\n",
        "outlier = house_98105.loc[sresiduals.idxmin(), :]\n",
        "print('AdjSalePrice', outlier[outcome])\n",
        "print(outlier[predictors])"
      ],
      "metadata": {
        "id": "nwozefKD9zXK",
        "outputId": "d03a2b2d-41f4-4aab-ee9c-d1823f7e2c57",
        "colab": {
          "base_uri": "https://localhost:8080/",
          "height": 234
        }
      },
      "execution_count": null,
      "outputs": [
        {
          "output_type": "error",
          "ename": "NameError",
          "evalue": "ignored",
          "traceback": [
            "\u001b[0;31m---------------------------------------------------------------------------\u001b[0m",
            "\u001b[0;31mNameError\u001b[0m                                 Traceback (most recent call last)",
            "\u001b[0;32m<ipython-input-59-4ce94f113c74>\u001b[0m in \u001b[0;36m<module>\u001b[0;34m()\u001b[0m\n\u001b[0;32m----> 1\u001b[0;31m \u001b[0minfluence\u001b[0m \u001b[0;34m=\u001b[0m \u001b[0mOLSInfluence\u001b[0m\u001b[0;34m(\u001b[0m\u001b[0mresult_98105\u001b[0m\u001b[0;34m)\u001b[0m\u001b[0;34m\u001b[0m\u001b[0;34m\u001b[0m\u001b[0m\n\u001b[0m\u001b[1;32m      2\u001b[0m \u001b[0msresiduals\u001b[0m \u001b[0;34m=\u001b[0m \u001b[0minfluence\u001b[0m\u001b[0;34m.\u001b[0m\u001b[0mresid_studentized_internal\u001b[0m\u001b[0;34m\u001b[0m\u001b[0;34m\u001b[0m\u001b[0m\n\u001b[1;32m      3\u001b[0m \u001b[0;34m\u001b[0m\u001b[0m\n\u001b[1;32m      4\u001b[0m \u001b[0mprint\u001b[0m\u001b[0;34m(\u001b[0m\u001b[0msresiduals\u001b[0m\u001b[0;34m.\u001b[0m\u001b[0midxmin\u001b[0m\u001b[0;34m(\u001b[0m\u001b[0;34m)\u001b[0m\u001b[0;34m,\u001b[0m \u001b[0msresiduals\u001b[0m\u001b[0;34m.\u001b[0m\u001b[0mmin\u001b[0m\u001b[0;34m(\u001b[0m\u001b[0;34m)\u001b[0m\u001b[0;34m)\u001b[0m\u001b[0;34m\u001b[0m\u001b[0;34m\u001b[0m\u001b[0m\n\u001b[1;32m      5\u001b[0m \u001b[0;34m\u001b[0m\u001b[0m\n",
            "\u001b[0;31mNameError\u001b[0m: name 'OLSInfluence' is not defined"
          ]
        }
      ]
    },
    {
      "cell_type": "code",
      "source": [
        "influence = OLSInfluence()"
      ],
      "metadata": {
        "id": "nBzoMOhq9NFO"
      },
      "execution_count": null,
      "outputs": []
    }
  ]
}