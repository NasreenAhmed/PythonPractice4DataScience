{
  "nbformat": 4,
  "nbformat_minor": 0,
  "metadata": {
    "colab": {
      "name": "Numpy.ipynb",
      "provenance": [],
      "collapsed_sections": []
    },
    "kernelspec": {
      "name": "python3",
      "display_name": "Python 3"
    },
    "language_info": {
      "name": "python"
    }
  },
  "cells": [
    {
      "cell_type": "markdown",
      "source": [
        "#Numpy"
      ],
      "metadata": {
        "id": "9zpfmssbVcL0"
      }
    },
    {
      "cell_type": "code",
      "execution_count": null,
      "metadata": {
        "colab": {
          "base_uri": "https://localhost:8080/"
        },
        "id": "IzoGV2-WVBaS",
        "outputId": "700b8655-5b08-4657-e16a-521b3e74f1e5"
      },
      "outputs": [
        {
          "output_type": "stream",
          "name": "stdout",
          "text": [
            "  (1, 1)\t1\n",
            "  (2, 0)\t3\n"
          ]
        }
      ],
      "source": [
        "#1. Creating a sparse Matrix\n",
        "# Problem :\n",
        "#Given data with very few nonzero values, you want to efficiently represent it.\n",
        "\n",
        "import numpy as np\n",
        "from scipy import sparse\n",
        "\n",
        "\n",
        "#create a matrix\n",
        "matrix = np.array([[0,0],\n",
        "                  [0,1],\n",
        "                  [3,0]])\n",
        "\n",
        "#create compressed sparse matrix\n",
        "matrix_sparse = sparse.csr_matrix(matrix)\n",
        "print(matrix_sparse)"
      ]
    },
    {
      "cell_type": "code",
      "source": [
        "# create large matrix\n",
        "#csr = compressed sparse row\n",
        "matrix_large = np.array([[0, 0, 0, 0, 0, 0, 0, 0, 0, 0],\n",
        "                        [0, 1, 0, 0, 0, 0, 0, 0, 0, 0],\n",
        "                        [3, 0, 0, 0, 0, 0, 0, 0, 0, 0]])\n",
        "\n",
        "matrix_large_sparse = sparse.csr_matrix(matrix_large)\n",
        "\n",
        "print(matrix_large_sparse)"
      ],
      "metadata": {
        "colab": {
          "base_uri": "https://localhost:8080/"
        },
        "id": "_sEVq8MTWlAh",
        "outputId": "a296344f-2861-4ed2-e0c7-fd19fd93d56a"
      },
      "execution_count": null,
      "outputs": [
        {
          "output_type": "stream",
          "name": "stdout",
          "text": [
            "  (1, 1)\t1\n",
            "  (2, 0)\t3\n"
          ]
        }
      ]
    },
    {
      "cell_type": "code",
      "source": [
        "#2.You want to describe the shape, size and dimension of the Matrix\n",
        "matrix = np.array([[1, 2, 3, 4],\n",
        "                  [5, 6, 7, 8],\n",
        "                  [9, 10, 11, 12]])\n",
        "\n",
        "print(\"shape\",matrix.shape)\n",
        "print(\"size\",matrix.size)\n",
        "print(\"dimension\",matrix.ndim)"
      ],
      "metadata": {
        "colab": {
          "base_uri": "https://localhost:8080/"
        },
        "id": "AqIe69TzXzkP",
        "outputId": "d8b380b2-e060-44e4-d167-200ae41dc542"
      },
      "execution_count": null,
      "outputs": [
        {
          "output_type": "stream",
          "name": "stdout",
          "text": [
            "shape (3, 4)\n",
            "size 12\n",
            "dimension 2\n"
          ]
        }
      ]
    },
    {
      "cell_type": "code",
      "source": [
        "#3. You want to apply some function to multiple elements in an array\n",
        "# Use Numpy Vectorize\n",
        "\n",
        "# Create matrix\n",
        "matrix = np.array([[1, 2, 3],\n",
        "                  [4, 5, 6],\n",
        "                  [7, 8, 9]])\n",
        "\n",
        "#Create function that adds 100 to something\n",
        "add_100 = lambda i: i + 100\n",
        "\n",
        "#create vectorized function\n",
        "vectorized_add_100 = np.vectorize(add_100)\n",
        "\n",
        "#apply function to all the elements in the matrix\n",
        "\n",
        "vectorized_add_100(matrix)\n",
        "\n",
        "\"\"\"NumPy’s vectorize class converts a function into a function that can apply to all elements\n",
        "in an array or slice of an array. It’s worth noting that vectorize is essentially a\n",
        "for loop over the elements and does not increase performance. Furthermore, NumPy\n",
        "arrays allow us to perform operations between arrays even if their dimensions are not\n",
        "the same (a process called broadcasting).\"\"\""
      ],
      "metadata": {
        "colab": {
          "base_uri": "https://localhost:8080/"
        },
        "id": "ZHKMEHtCYZPW",
        "outputId": "ef6bfa68-b0f5-4e58-c3f6-7f5d05ad58ff"
      },
      "execution_count": null,
      "outputs": [
        {
          "output_type": "execute_result",
          "data": {
            "text/plain": [
              "array([[101, 102, 103],\n",
              "       [104, 105, 106],\n",
              "       [107, 108, 109]])"
            ]
          },
          "metadata": {},
          "execution_count": 7
        }
      ]
    },
    {
      "cell_type": "code",
      "source": [
        "#4. You want to calculate some descriptive statistics about an array\n",
        "\n",
        "#mean,var,std\n",
        "matrix = np.array([[1, 2, 3],\n",
        "                  [4, 5, 6],\n",
        "                  [7, 8, 9]])\n",
        "\n",
        "print(\"mean:\",np.mean(matrix))\n",
        "print(\"var\",np.var(matrix))\n",
        "print(\"std:\",np.std(matrix))\n",
        "\n",
        "# find the mean value in each column\n",
        "print(\"Mean along column axis\",np.mean(matrix,axis=0))"
      ],
      "metadata": {
        "colab": {
          "base_uri": "https://localhost:8080/"
        },
        "id": "YKFOgbXgaI6B",
        "outputId": "66a03a71-aef8-4ea6-ad6e-ee0ec5e63d54"
      },
      "execution_count": null,
      "outputs": [
        {
          "output_type": "stream",
          "name": "stdout",
          "text": [
            "mean: 5.0\n",
            "var 6.666666666666667\n",
            "std: 2.581988897471611\n",
            "Mean along column axis [4. 5. 6.]\n"
          ]
        }
      ]
    },
    {
      "cell_type": "code",
      "source": [
        "#5.You want to change the shape of the array(number of rows and columns) of an array\n",
        "# without changing the element values\n",
        "\n",
        "# Create 4x3 matrix\n",
        "matrix = np.array([[1, 2, 3],\n",
        "                  [4, 5, 6],\n",
        "                  [7, 8, 9],\n",
        "                  [10, 11, 12]])\n",
        "\n",
        "print(matrix.reshape(2,6))\n",
        "\n",
        "\"\"\"One useful argument in reshape is -1 which effectively means  \"as many as needed\",\n",
        "so reshape(1,-1)  means one row and as many columns as needed\"\"\"\n",
        "\n",
        "print(matrix.reshape(1,-1))\n",
        "\n",
        "\"\"\"Finally, if we provide one interger, reshape  will return 1D array of \n",
        "that length\"\"\"\n",
        "\n",
        "print(matrix.reshape(12))"
      ],
      "metadata": {
        "colab": {
          "base_uri": "https://localhost:8080/"
        },
        "id": "cGzixfV3asJI",
        "outputId": "059b8ef2-8818-4726-eae2-944654e3d554"
      },
      "execution_count": null,
      "outputs": [
        {
          "output_type": "stream",
          "name": "stdout",
          "text": [
            "[[ 1  2  3  4  5  6]\n",
            " [ 7  8  9 10 11 12]]\n",
            "[[ 1  2  3  4  5  6  7  8  9 10 11 12]]\n",
            "[ 1  2  3  4  5  6  7  8  9 10 11 12]\n"
          ]
        }
      ]
    },
    {
      "cell_type": "code",
      "source": [
        "#6. Flattening a Matrix\n",
        "#You need to transform a matrix into a one-dimensional array.\n",
        "\n",
        "matrix = np.array([[1, 2, 3],\n",
        "                  [4, 5, 6],\n",
        "                  [7, 8, 9]])\n",
        "\n",
        "#flatten matrix\n",
        "matrix.flatten()\n",
        "\n",
        "\"\"\"Flatten is a simple  method to transform a matrix into a one-dimensional array. Alternatively, we can use \n",
        "reshape to create  a row vector \"\"\""
      ],
      "metadata": {
        "colab": {
          "base_uri": "https://localhost:8080/"
        },
        "id": "45w0wz0Nbq3Q",
        "outputId": "650adff6-63f8-4563-8b94-4e8523b5fba6"
      },
      "execution_count": null,
      "outputs": [
        {
          "output_type": "execute_result",
          "data": {
            "text/plain": [
              "array([1, 2, 3, 4, 5, 6, 7, 8, 9])"
            ]
          },
          "metadata": {},
          "execution_count": 15
        }
      ]
    },
    {
      "cell_type": "code",
      "source": [
        "#7.Finding the rank of a matrix\n",
        "\n",
        "#You need to know the rank of a matrix\n",
        "# Create matrix\n",
        "matrix = np.array([[1, 1, 1],\n",
        "                  [1, 1, 10],\n",
        "                  [1, 1, 15]])\n",
        "np.linalg.matrix_rank(matrix)\n",
        "\n",
        "\"\"\"The rank of a matrix is the dimensions of the vector space spanned by its columns or\n",
        "rows. Finding the rank of a matrix is easy in NumPy thanks to matrix_rank\"\"\"\n"
      ],
      "metadata": {
        "colab": {
          "base_uri": "https://localhost:8080/"
        },
        "id": "GlWcJ-2kcwXn",
        "outputId": "4b6f52cb-b83d-4b82-c5da-e3a43762c1ee"
      },
      "execution_count": null,
      "outputs": [
        {
          "output_type": "execute_result",
          "data": {
            "text/plain": [
              "2"
            ]
          },
          "metadata": {},
          "execution_count": 16
        }
      ]
    },
    {
      "cell_type": "code",
      "source": [
        "#8. Calculating the determinant of the matrix\n",
        "\n",
        "matrix = np.array([[1, 2, 3],\n",
        "                  [2, 4, 6],\n",
        "                  [3, 8, 9]])\n",
        "\n",
        "np.linalg.det(matrix)"
      ],
      "metadata": {
        "colab": {
          "base_uri": "https://localhost:8080/"
        },
        "id": "QlSs5kQNdJWG",
        "outputId": "f39dc9b7-958f-4549-88de-a9f2b8d11b10"
      },
      "execution_count": null,
      "outputs": [
        {
          "output_type": "execute_result",
          "data": {
            "text/plain": [
              "0.0"
            ]
          },
          "metadata": {},
          "execution_count": 17
        }
      ]
    },
    {
      "cell_type": "code",
      "source": [
        "#9. Getting the diagonal of the matrix. \n",
        "# Create matrix\n",
        "matrix = np.array([[1, 2, 3],\n",
        "                  [2, 4, 6],\n",
        "                  [3, 8, 9]])\n",
        "\n",
        "print(matrix.diagonal())\n",
        "\n",
        "\"\"\"It is also possible to get a diagonal off from the main diagonal by using  the offset parameter\"\"\"\n",
        "\n",
        "# return diagonal one above the main diagonal \n",
        "print(matrix.diagonal(offset=1))\n",
        "\n",
        "# return diagonal one below the main diagonal \n",
        "print(matrix.diagonal(offset=-1))"
      ],
      "metadata": {
        "colab": {
          "base_uri": "https://localhost:8080/"
        },
        "id": "G5TnqU9odV7H",
        "outputId": "2e7ea054-21ed-4e48-f4b6-8a070252a984"
      },
      "execution_count": null,
      "outputs": [
        {
          "output_type": "stream",
          "name": "stdout",
          "text": [
            "[1 4 9]\n",
            "[2 6]\n",
            "[2 8]\n"
          ]
        }
      ]
    },
    {
      "cell_type": "code",
      "source": [
        "#10. Calculating the trace of the matrix\n",
        "\"\"\"The trace of a matrix is the sum of the diagonal elements and is often used under the\n",
        "hood in machine learning methods\"\"\" \n",
        "matrix = np.array([[1, 2, 3],\n",
        "                  [2, 4, 6],\n",
        "                  [3, 8, 9]])\n",
        "print(matrix.trace())\n",
        "\n",
        "print(sum(matrix.diagonal()))"
      ],
      "metadata": {
        "colab": {
          "base_uri": "https://localhost:8080/"
        },
        "id": "EJ9749cihIoW",
        "outputId": "d5ebcf16-93ae-4ef8-d623-9c42a8c95f6b"
      },
      "execution_count": null,
      "outputs": [
        {
          "output_type": "stream",
          "name": "stdout",
          "text": [
            "14\n",
            "14\n"
          ]
        }
      ]
    },
    {
      "cell_type": "code",
      "source": [
        "#11. Finding the eigen values and eigen vectors. \n",
        "\n",
        "# Create matrix\n",
        "matrix = np.array([[1, -1, 3],\n",
        "                  [1, 1, 6],\n",
        "                  [3, 8, 9]])\n",
        "\n",
        "# create eigenvalues and eigenvectors \n",
        "\n",
        "eigenvalues, eigenvectors =   np.linalg.eig(matrix)\n",
        "\n",
        "#view Eigen values\n",
        "print(\"eigenvalues\",\"\\n\",eigenvalues)\n",
        "\n",
        "#view eigen vectors\n",
        "print(\"eigenvectors\",\"\\n\",eigenvectors)"
      ],
      "metadata": {
        "colab": {
          "base_uri": "https://localhost:8080/"
        },
        "id": "Wkq5NHI5hcoP",
        "outputId": "d8e70ce8-ca97-4d0b-d4df-92c1605e42c8"
      },
      "execution_count": null,
      "outputs": [
        {
          "output_type": "stream",
          "name": "stdout",
          "text": [
            "eigenvalues \n",
            " [13.55075847  0.74003145 -3.29078992]\n",
            "eigenvectors \n",
            " [[-0.17622017 -0.96677403 -0.53373322]\n",
            " [-0.435951    0.2053623  -0.64324848]\n",
            " [-0.88254925  0.15223105  0.54896288]]\n"
          ]
        }
      ]
    },
    {
      "cell_type": "code",
      "source": [
        "#12. You need to calculate the dot product of two vectors\n",
        "\n",
        "# Create two vectors\n",
        "vector_a = np.array([1,2,3])\n",
        "vector_b = np.array([4,5,6])\n",
        "\n",
        "print(np.dot(vector_a,vector_b))\n",
        "\n",
        "\n",
        "vector_a @ vector_b"
      ],
      "metadata": {
        "colab": {
          "base_uri": "https://localhost:8080/"
        },
        "id": "Msh69bCsjoxE",
        "outputId": "d89c5700-bb08-4b46-9ee3-be569f9c205e"
      },
      "execution_count": null,
      "outputs": [
        {
          "output_type": "stream",
          "name": "stdout",
          "text": [
            "32\n"
          ]
        },
        {
          "output_type": "execute_result",
          "data": {
            "text/plain": [
              "32"
            ]
          },
          "metadata": {},
          "execution_count": 29
        }
      ]
    },
    {
      "cell_type": "code",
      "source": [
        "#13. Subtracting matrix\n",
        "# Create matrix\n",
        "matrix_a = np.array([[1, 1, 1],\n",
        "                    [1, 1, 1],\n",
        "                    [1, 1, 2]])\n",
        "# Create matrix\n",
        "matrix_b = np.array([[1, 3, 1],\n",
        "                    [1, 3, 1],\n",
        "                    [1, 3, 8]])\n",
        "\n",
        "np.subtract(matrix_a,matrix_b)"
      ],
      "metadata": {
        "colab": {
          "base_uri": "https://localhost:8080/"
        },
        "id": "ML88dKlHj8li",
        "outputId": "1f0b261d-2299-4ea0-d4d8-2c19cfa59051"
      },
      "execution_count": null,
      "outputs": [
        {
          "output_type": "execute_result",
          "data": {
            "text/plain": [
              "array([[ 0, -2,  0],\n",
              "       [ 0, -2,  0],\n",
              "       [ 0, -2, -6]])"
            ]
          },
          "metadata": {},
          "execution_count": 30
        }
      ]
    },
    {
      "cell_type": "code",
      "source": [
        "#14. Multiple 2 matrices\n",
        "# Create matrix\n",
        "matrix_a = np.array([[1, 1],\n",
        "                    [1, 2]])\n",
        "# Create matrix\n",
        "matrix_b = np.array([[1, 3],\n",
        "                    [1, 2]])\n",
        "\n",
        "print(np.dot(matrix_a,matrix_b))\n",
        "\n",
        "#If we want to do element-wise multiplication, we can use the * operator:\n",
        "\n",
        "print(matrix_a * matrix_b)"
      ],
      "metadata": {
        "colab": {
          "base_uri": "https://localhost:8080/"
        },
        "id": "DSx497QykJkA",
        "outputId": "fc02eb10-6b09-42de-a284-1d2de31e6ff0"
      },
      "execution_count": null,
      "outputs": [
        {
          "output_type": "stream",
          "name": "stdout",
          "text": [
            "[[2 5]\n",
            " [3 7]]\n",
            "[[1 3]\n",
            " [1 4]]\n"
          ]
        }
      ]
    },
    {
      "cell_type": "code",
      "source": [
        "#15. Inverting a matrix\n",
        "\n",
        "matrix = np.array([[1, 4],\n",
        "                  [2, 5]])\n",
        "\n",
        "print(np.linalg.inv(matrix))\n",
        "\n",
        "matrix @ np.linalg.inv(matrix)"
      ],
      "metadata": {
        "colab": {
          "base_uri": "https://localhost:8080/"
        },
        "id": "8szDO_Zwk8NR",
        "outputId": "4ebf0826-30ae-431d-9ce2-7ae03b727821"
      },
      "execution_count": null,
      "outputs": [
        {
          "output_type": "stream",
          "name": "stdout",
          "text": [
            "[[-1.66666667  1.33333333]\n",
            " [ 0.66666667 -0.33333333]]\n"
          ]
        },
        {
          "output_type": "execute_result",
          "data": {
            "text/plain": [
              "array([[1.00000000e+00, 0.00000000e+00],\n",
              "       [1.11022302e-16, 1.00000000e+00]])"
            ]
          },
          "metadata": {},
          "execution_count": 34
        }
      ]
    },
    {
      "cell_type": "code",
      "source": [
        "#16.  You want to generate pseudorandom numbers \n",
        "\"\"\"Random processes with the same seed will\n",
        "always produce the same output.\"\"\"\n",
        "\n",
        "np.random.seed(0)\n",
        "\n",
        "print(np.random.random(3),\"\\n\")\n",
        "\n",
        "# Generate three random integers  between 1 and 10\n",
        "print(\"Random Int\",\"\\n\",np.random.randint(0,11,3),\"\\n\")\n",
        "\n",
        "#Alternately we can generate numbers by drawing them from a distribution\n",
        "\n",
        "# Draw three numbers from a normal distribution with mean 0.0 and standard deviation 1.0\n",
        "print(\"Normal Distribution\",\"\\n\",np.random.normal(0.0,1.0,3),\"\\n\")\n",
        "\n",
        "#Draw three numbers from a logistic distribution with mean 0.0 and standard deviation 1.0 \n",
        "print(\"Logistic Distribution\",\"\\n\",np.random.logistic(0.0,1.0,3),\"\\n\")\n",
        "\n",
        "#Draw three numbers greater than 1.0 and less than 2.0\n",
        "print(\"Uniform Distribution\",\"\\n\",np.random.uniform(1.0,2.0,3))\n"
      ],
      "metadata": {
        "colab": {
          "base_uri": "https://localhost:8080/"
        },
        "id": "iEF831uOlONd",
        "outputId": "451c654f-48e1-4df3-b42f-3f41322ec974"
      },
      "execution_count": null,
      "outputs": [
        {
          "output_type": "stream",
          "name": "stdout",
          "text": [
            "[0.5488135  0.71518937 0.60276338] \n",
            "\n",
            "Random Int \n",
            " [3 7 9] \n",
            "\n",
            "Normal Distribution \n",
            " [-1.42232584  1.52006949 -0.29139398] \n",
            "\n",
            "Logistic Distribution \n",
            " [-0.98118713 -0.08939902  1.46416405] \n",
            "\n",
            "Uniform Distribution \n",
            " [1.47997717 1.3927848  1.83607876]\n"
          ]
        }
      ]
    }
  ]
}