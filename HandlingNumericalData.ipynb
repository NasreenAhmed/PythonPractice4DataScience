{
  "nbformat": 4,
  "nbformat_minor": 0,
  "metadata": {
    "colab": {
      "name": "HandlingNumericalData.ipynb",
      "provenance": [],
      "collapsed_sections": []
    },
    "kernelspec": {
      "name": "python3",
      "display_name": "Python 3"
    },
    "language_info": {
      "name": "python"
    }
  },
  "cells": [
    {
      "cell_type": "markdown",
      "source": [
        "Quantitative data is the measurement of something—whether class size, monthly\n",
        "sales, or student scores. The natural way to represent these quantities is numerically\n",
        "(e.g., 29 students, $529,392 in sales)."
      ],
      "metadata": {
        "id": "VmVZkt5PXRqC"
      }
    },
    {
      "cell_type": "markdown",
      "source": [
        "<font color='blue'>**1. Rescaling a Feature**</font>\n",
        "\n",
        "Problem : You need to rescale the value of a numerical feature to be between two values."
      ],
      "metadata": {
        "id": "9wIH6Tg_XUeu"
      }
    },
    {
      "cell_type": "code",
      "execution_count": null,
      "metadata": {
        "colab": {
          "base_uri": "https://localhost:8080/"
        },
        "id": "ZnOD4hn6XP5k",
        "outputId": "b811df8f-f842-40d2-8495-13b97ac9cee0"
      },
      "outputs": [
        {
          "output_type": "execute_result",
          "data": {
            "text/plain": [
              "array([[-1.        ],\n",
              "       [-0.42857143],\n",
              "       [-0.28571429],\n",
              "       [-0.14285714],\n",
              "       [ 1.        ]])"
            ]
          },
          "metadata": {},
          "execution_count": 3
        }
      ],
      "source": [
        "# Use scikit-learn's MinMaxScaler to rescale a feature array\n",
        "\n",
        "#load libraries\n",
        "import numpy as np\n",
        "from sklearn import preprocessing\n",
        "\n",
        "#Create Feature\n",
        "feature = np.array([[-500.5],\n",
        "                    [-100.1],\n",
        "                    [0],\n",
        "                    [100.1],\n",
        "                    [900.9]])\n",
        "\n",
        "minmax_scale = preprocessing.MinMaxScaler(feature_range=(-1,1))\n",
        "#scale feature\n",
        "scaled_feature = minmax_scale.fit_transform(feature)\n",
        "\n",
        "#show feature\n",
        "scaled_feature"
      ]
    },
    {
      "cell_type": "markdown",
      "source": [
        "<font color='blue'>**2. Standardize a Feature**</font>\n",
        "\n",
        "Problem : You need to transform a feature to have mean of 0 and standard deviation of 1."
      ],
      "metadata": {
        "id": "jO__8iUTYhe9"
      }
    },
    {
      "cell_type": "code",
      "source": [
        "#load libraries\n",
        "from sklearn import preprocessing\n",
        "\n",
        "#Create feature\n",
        "x = np.array([[-1000.1],\n",
        "              [-200.2],\n",
        "              [500.5],\n",
        "              [600.6],\n",
        "              [9000.9]])\n",
        "\n",
        "scaler = preprocessing.StandardScaler()\n",
        "\n",
        "standardized = scaler.fit_transform(x)\n",
        "print(standardized)"
      ],
      "metadata": {
        "colab": {
          "base_uri": "https://localhost:8080/"
        },
        "id": "0lEbODM6Yqv6",
        "outputId": "719f6185-b777-42c2-eb43-06801e2ee570"
      },
      "execution_count": null,
      "outputs": [
        {
          "output_type": "stream",
          "name": "stdout",
          "text": [
            "[[-0.76058269]\n",
            " [-0.54177196]\n",
            " [-0.35009716]\n",
            " [-0.32271504]\n",
            " [ 1.97516685]]\n"
          ]
        }
      ]
    },
    {
      "cell_type": "code",
      "source": [
        "#print the mean and standard deviation\n",
        "\n",
        "print(\"Mean\",round(standardized.mean()))\n",
        "print(\"Standard Deviation\",standardized.std())"
      ],
      "metadata": {
        "colab": {
          "base_uri": "https://localhost:8080/"
        },
        "id": "saQ-8_eoZE1R",
        "outputId": "7974cbcf-e87f-496c-bc55-30c7d661ede4"
      },
      "execution_count": null,
      "outputs": [
        {
          "output_type": "stream",
          "name": "stdout",
          "text": [
            "Mean 0\n",
            "Standard Deviation 1.0\n"
          ]
        }
      ]
    },
    {
      "cell_type": "markdown",
      "source": [
        "<font color='blue'>**3. Normalizing Observations**</font>\n",
        "\n",
        "Problem : You want to rescale the feature values of observations to have unit norm ( a total length of 1 ).\n",
        "\n",
        "Solution: Use Normalizer with a norm argument"
      ],
      "metadata": {
        "id": "gpxsXlmya1Kb"
      }
    },
    {
      "cell_type": "code",
      "source": [
        "import numpy as np\n",
        "from sklearn.preprocessing import Normalizer\n",
        "\n",
        "#create feature matrix\n",
        "features = np.array([[0.5, 0.5],\n",
        "                      [1.1, 3.4],\n",
        "                      [1.5, 20.2],\n",
        "                      [1.63, 34.4],\n",
        "                      [10.9, 3.3]])\n",
        "\n",
        "normalizer = Normalizer(norm='l2')\n",
        "\n",
        "#transform Feature matrix \n",
        "normalizer.transform(features)"
      ],
      "metadata": {
        "colab": {
          "base_uri": "https://localhost:8080/"
        },
        "id": "Dz1u8bKegwZE",
        "outputId": "5fa353b4-8cd8-4f21-aa7f-8c25ac75c1ca"
      },
      "execution_count": null,
      "outputs": [
        {
          "output_type": "execute_result",
          "data": {
            "text/plain": [
              "array([[0.70710678, 0.70710678],\n",
              "       [0.30782029, 0.95144452],\n",
              "       [0.07405353, 0.99725427],\n",
              "       [0.04733062, 0.99887928],\n",
              "       [0.95709822, 0.28976368]])"
            ]
          },
          "metadata": {},
          "execution_count": 1
        }
      ]
    },
    {
      "cell_type": "code",
      "source": [
        "#Alternatively, we can specify Manhattan Norm(L1):\n",
        "\n",
        "feature_l1_norm = Normalizer(norm='l1').transform(features)\n",
        "\n",
        "feature_l1_norm"
      ],
      "metadata": {
        "colab": {
          "base_uri": "https://localhost:8080/"
        },
        "id": "lFZ0AowIhYAr",
        "outputId": "c2eb10ae-0582-43f7-f38c-9e70f1045de5"
      },
      "execution_count": null,
      "outputs": [
        {
          "output_type": "execute_result",
          "data": {
            "text/plain": [
              "array([[0.5       , 0.5       ],\n",
              "       [0.24444444, 0.75555556],\n",
              "       [0.06912442, 0.93087558],\n",
              "       [0.04524008, 0.95475992],\n",
              "       [0.76760563, 0.23239437]])"
            ]
          },
          "metadata": {},
          "execution_count": 2
        }
      ]
    },
    {
      "cell_type": "markdown",
      "source": [
        "<font color='blue'>**4. Generating Polynomial and Interaction Features**</font>\n",
        "\n",
        "Problem : You want to create Polynomial and Interaction Features\n",
        "\n",
        "Solution: Even though some choose to create polynomial and interaction features manually, scikit-learn offers a build-in method"
      ],
      "metadata": {
        "id": "CTqcXmhthtFG"
      }
    },
    {
      "cell_type": "code",
      "source": [
        "from sklearn.preprocessing import PolynomialFeatures\n",
        "\n",
        "features = np.array([[2,3],\n",
        "                     [2,3],\n",
        "                     [2,3]])\n",
        "\n",
        "#create PolynomialFeature OBject\n",
        "\n",
        "polynomial_interaction = PolynomialFeatures(degree=2,include_bias=False)\n",
        "\n",
        "polynomial_interaction.fit_transform(features)"
      ],
      "metadata": {
        "colab": {
          "base_uri": "https://localhost:8080/"
        },
        "id": "NZsMzEFwiDQd",
        "outputId": "9e767079-5e9e-473c-fc1e-b70e3bc3c53b"
      },
      "execution_count": null,
      "outputs": [
        {
          "output_type": "execute_result",
          "data": {
            "text/plain": [
              "array([[2., 3., 4., 6., 9.],\n",
              "       [2., 3., 4., 6., 9.],\n",
              "       [2., 3., 4., 6., 9.]])"
            ]
          },
          "metadata": {},
          "execution_count": 3
        }
      ]
    },
    {
      "cell_type": "markdown",
      "source": [
        "The `degree` parameter determines the maximum degree of the polynomial, For example, degree-2 will create new features raise to the second power. \n",
        "\n",
        "$x_1,x_2,x_1^2,x_2^2$\n",
        "\n",
        "Furthermore, by default PolynomialFeatures includes interaction features.: \n",
        "\n",
        "$x_1x_2$\n",
        "\n",
        "We can restrict the feature only to interaction by setting `interaction_only` to `True`."
      ],
      "metadata": {
        "id": "DgCoaU07inY9"
      }
    },
    {
      "cell_type": "code",
      "source": [
        "interaction = PolynomialFeatures(degree=2,interaction_only=True,include_bias=False)\n",
        "\n",
        "interaction.fit_transform(features)"
      ],
      "metadata": {
        "colab": {
          "base_uri": "https://localhost:8080/"
        },
        "id": "BxVMUB4sjIqk",
        "outputId": "6cc06f48-14ea-4a52-899d-03188577b325"
      },
      "execution_count": null,
      "outputs": [
        {
          "output_type": "execute_result",
          "data": {
            "text/plain": [
              "array([[2., 3., 6.],\n",
              "       [2., 3., 6.],\n",
              "       [2., 3., 6.]])"
            ]
          },
          "metadata": {},
          "execution_count": 4
        }
      ]
    },
    {
      "cell_type": "markdown",
      "source": [
        "<font color='blue'>**5. Transforming Features**</font>\n",
        "\n",
        "Problem : You want to make a custom transformation to one or more features\n",
        "\n",
        "Solution: In skicit-learn, use FunctionTransformer to apply a function to a set of Features:"
      ],
      "metadata": {
        "id": "-ZYydkxgjmRm"
      }
    },
    {
      "cell_type": "code",
      "source": [
        "import numpy as np\n",
        "from sklearn.preprocessing import FunctionTransformer\n",
        "\n",
        "features = np.array([[2,3],\n",
        "                     [2,3],\n",
        "                     [2,3]])\n",
        "\n",
        "#define a simple function\n",
        "def add_ten(x):\n",
        "  return x+10\n",
        "\n",
        "#create transformer\n",
        "ten_transformer = FunctionTransformer(add_ten)\n",
        "ten_transformer.fit_transform(features)"
      ],
      "metadata": {
        "colab": {
          "base_uri": "https://localhost:8080/"
        },
        "id": "GrZJ8SSejw-t",
        "outputId": "ecdc6a86-7aed-4184-eeb6-6617f1e71205"
      },
      "execution_count": null,
      "outputs": [
        {
          "output_type": "execute_result",
          "data": {
            "text/plain": [
              "array([[12, 13],\n",
              "       [12, 13],\n",
              "       [12, 13]])"
            ]
          },
          "metadata": {},
          "execution_count": 6
        }
      ]
    },
    {
      "cell_type": "code",
      "source": [
        "# We can create the same transformation in pandas using apply\n",
        "import pandas as pd\n",
        "df = pd.DataFrame(features,columns=['Feature1','Feature2'])\n",
        "\n",
        "df.apply(add_ten)"
      ],
      "metadata": {
        "colab": {
          "base_uri": "https://localhost:8080/",
          "height": 143
        },
        "id": "Cqb_31o-kPaZ",
        "outputId": "a9d2d2de-a550-41cf-cca7-31e6372641c8"
      },
      "execution_count": null,
      "outputs": [
        {
          "output_type": "execute_result",
          "data": {
            "text/plain": [
              "   Feature1  Feature2\n",
              "0        12        13\n",
              "1        12        13\n",
              "2        12        13"
            ],
            "text/html": [
              "\n",
              "  <div id=\"df-2bf8379f-88ed-4df9-b150-56ffc585dae2\">\n",
              "    <div class=\"colab-df-container\">\n",
              "      <div>\n",
              "<style scoped>\n",
              "    .dataframe tbody tr th:only-of-type {\n",
              "        vertical-align: middle;\n",
              "    }\n",
              "\n",
              "    .dataframe tbody tr th {\n",
              "        vertical-align: top;\n",
              "    }\n",
              "\n",
              "    .dataframe thead th {\n",
              "        text-align: right;\n",
              "    }\n",
              "</style>\n",
              "<table border=\"1\" class=\"dataframe\">\n",
              "  <thead>\n",
              "    <tr style=\"text-align: right;\">\n",
              "      <th></th>\n",
              "      <th>Feature1</th>\n",
              "      <th>Feature2</th>\n",
              "    </tr>\n",
              "  </thead>\n",
              "  <tbody>\n",
              "    <tr>\n",
              "      <th>0</th>\n",
              "      <td>12</td>\n",
              "      <td>13</td>\n",
              "    </tr>\n",
              "    <tr>\n",
              "      <th>1</th>\n",
              "      <td>12</td>\n",
              "      <td>13</td>\n",
              "    </tr>\n",
              "    <tr>\n",
              "      <th>2</th>\n",
              "      <td>12</td>\n",
              "      <td>13</td>\n",
              "    </tr>\n",
              "  </tbody>\n",
              "</table>\n",
              "</div>\n",
              "      <button class=\"colab-df-convert\" onclick=\"convertToInteractive('df-2bf8379f-88ed-4df9-b150-56ffc585dae2')\"\n",
              "              title=\"Convert this dataframe to an interactive table.\"\n",
              "              style=\"display:none;\">\n",
              "        \n",
              "  <svg xmlns=\"http://www.w3.org/2000/svg\" height=\"24px\"viewBox=\"0 0 24 24\"\n",
              "       width=\"24px\">\n",
              "    <path d=\"M0 0h24v24H0V0z\" fill=\"none\"/>\n",
              "    <path d=\"M18.56 5.44l.94 2.06.94-2.06 2.06-.94-2.06-.94-.94-2.06-.94 2.06-2.06.94zm-11 1L8.5 8.5l.94-2.06 2.06-.94-2.06-.94L8.5 2.5l-.94 2.06-2.06.94zm10 10l.94 2.06.94-2.06 2.06-.94-2.06-.94-.94-2.06-.94 2.06-2.06.94z\"/><path d=\"M17.41 7.96l-1.37-1.37c-.4-.4-.92-.59-1.43-.59-.52 0-1.04.2-1.43.59L10.3 9.45l-7.72 7.72c-.78.78-.78 2.05 0 2.83L4 21.41c.39.39.9.59 1.41.59.51 0 1.02-.2 1.41-.59l7.78-7.78 2.81-2.81c.8-.78.8-2.07 0-2.86zM5.41 20L4 18.59l7.72-7.72 1.47 1.35L5.41 20z\"/>\n",
              "  </svg>\n",
              "      </button>\n",
              "      \n",
              "  <style>\n",
              "    .colab-df-container {\n",
              "      display:flex;\n",
              "      flex-wrap:wrap;\n",
              "      gap: 12px;\n",
              "    }\n",
              "\n",
              "    .colab-df-convert {\n",
              "      background-color: #E8F0FE;\n",
              "      border: none;\n",
              "      border-radius: 50%;\n",
              "      cursor: pointer;\n",
              "      display: none;\n",
              "      fill: #1967D2;\n",
              "      height: 32px;\n",
              "      padding: 0 0 0 0;\n",
              "      width: 32px;\n",
              "    }\n",
              "\n",
              "    .colab-df-convert:hover {\n",
              "      background-color: #E2EBFA;\n",
              "      box-shadow: 0px 1px 2px rgba(60, 64, 67, 0.3), 0px 1px 3px 1px rgba(60, 64, 67, 0.15);\n",
              "      fill: #174EA6;\n",
              "    }\n",
              "\n",
              "    [theme=dark] .colab-df-convert {\n",
              "      background-color: #3B4455;\n",
              "      fill: #D2E3FC;\n",
              "    }\n",
              "\n",
              "    [theme=dark] .colab-df-convert:hover {\n",
              "      background-color: #434B5C;\n",
              "      box-shadow: 0px 1px 3px 1px rgba(0, 0, 0, 0.15);\n",
              "      filter: drop-shadow(0px 1px 2px rgba(0, 0, 0, 0.3));\n",
              "      fill: #FFFFFF;\n",
              "    }\n",
              "  </style>\n",
              "\n",
              "      <script>\n",
              "        const buttonEl =\n",
              "          document.querySelector('#df-2bf8379f-88ed-4df9-b150-56ffc585dae2 button.colab-df-convert');\n",
              "        buttonEl.style.display =\n",
              "          google.colab.kernel.accessAllowed ? 'block' : 'none';\n",
              "\n",
              "        async function convertToInteractive(key) {\n",
              "          const element = document.querySelector('#df-2bf8379f-88ed-4df9-b150-56ffc585dae2');\n",
              "          const dataTable =\n",
              "            await google.colab.kernel.invokeFunction('convertToInteractive',\n",
              "                                                     [key], {});\n",
              "          if (!dataTable) return;\n",
              "\n",
              "          const docLinkHtml = 'Like what you see? Visit the ' +\n",
              "            '<a target=\"_blank\" href=https://colab.research.google.com/notebooks/data_table.ipynb>data table notebook</a>'\n",
              "            + ' to learn more about interactive tables.';\n",
              "          element.innerHTML = '';\n",
              "          dataTable['output_type'] = 'display_data';\n",
              "          await google.colab.output.renderOutput(dataTable, element);\n",
              "          const docLink = document.createElement('div');\n",
              "          docLink.innerHTML = docLinkHtml;\n",
              "          element.appendChild(docLink);\n",
              "        }\n",
              "      </script>\n",
              "    </div>\n",
              "  </div>\n",
              "  "
            ]
          },
          "metadata": {},
          "execution_count": 8
        }
      ]
    },
    {
      "cell_type": "markdown",
      "source": [
        "<font color='blue'>**6. Detecting Outliers**</font>\n",
        "\n",
        "Problem : You want to identify extreme observations\n",
        "\n",
        "Solution: Detecting outliers is unfortunately more of an art than a science. However, a common method is to assume the data is normally distributied and based on that assumption \" draw\" an ellipse around the data, classifying any observation inside the ellipse as an outlier(labelled as 1) and any observation outside the ellipse as an outlier (labelled as -1)"
      ],
      "metadata": {
        "id": "XrQLLnlKkgmm"
      }
    },
    {
      "cell_type": "code",
      "source": [
        "#load libraries \n",
        "import numpy as np\n",
        "from sklearn.covariance import EllipticEnvelope\n",
        "from sklearn.datasets import make_blobs\n",
        "\n",
        "#Create simulated data\n",
        "features,_ = make_blobs(n_samples =10,\n",
        "                        n_features = 2,\n",
        "                        centers = 1,\n",
        "                        random_state =1)\n",
        "#Replace the first observation's values with extreme values \n",
        "features[0,0] = 1000\n",
        "features[0,1] = 1000\n",
        "\n",
        "#create detector\n",
        "outlier_detector = EllipticEnvelope(contamination=.1)\n",
        "\n",
        "#Fit Detector\n",
        "outlier_detector.fit(features)\n",
        "outlier_detector.predict(features)"
      ],
      "metadata": {
        "colab": {
          "base_uri": "https://localhost:8080/"
        },
        "id": "BONt8juAn4J9",
        "outputId": "9c3bd36f-d8cf-4c0b-a673-ac6bf6f638ca"
      },
      "execution_count": null,
      "outputs": [
        {
          "output_type": "execute_result",
          "data": {
            "text/plain": [
              "array([-1,  1,  1,  1,  1,  1,  1,  1,  1,  1])"
            ]
          },
          "metadata": {},
          "execution_count": 9
        }
      ]
    },
    {
      "cell_type": "markdown",
      "source": [
        "major limitation of this approach is the need to specify a contamination parameter,\n",
        "which is the proportion of observations that are outliers—a value that we don’t\n",
        "know. Think of contamination as our estimate of the cleanliness of our data. If we\n",
        "expect our data to have few outliers, we can set contamination to something small.\n"
      ],
      "metadata": {
        "id": "IQKFLpCjokQK"
      }
    },
    {
      "cell_type": "markdown",
      "source": [
        "Instead of looking at observations as a whole, we can instead loop at individual features and identify extreme values in those features using the interquartile range(IQR)"
      ],
      "metadata": {
        "id": "LIeaFiYMoos3"
      }
    },
    {
      "cell_type": "code",
      "source": [
        "#create one feature\n",
        "feature = features[:,0]\n",
        "\n",
        "# create a function to return index of outliers \n",
        "def indices_of_outliers(x):\n",
        "  q1,q3 = np.percentile(x,[25,75])\n",
        "  iqr = q3 - q1\n",
        "  lower_bound = q1 - (iqr * 1.5)\n",
        "  upper_bound = q3 +( iqr * 1.5)\n",
        "  return np.where((x> upper_bound)|(x<lower_bound))"
      ],
      "metadata": {
        "id": "TrWWDyzio0oM"
      },
      "execution_count": null,
      "outputs": []
    },
    {
      "cell_type": "code",
      "source": [
        "indices_of_outliers(feature)"
      ],
      "metadata": {
        "colab": {
          "base_uri": "https://localhost:8080/"
        },
        "id": "rWLzioQ0pBaG",
        "outputId": "e3c57a04-9886-4ddf-b444-ffcbe4527654"
      },
      "execution_count": null,
      "outputs": [
        {
          "output_type": "execute_result",
          "data": {
            "text/plain": [
              "(array([0]),)"
            ]
          },
          "metadata": {},
          "execution_count": 17
        }
      ]
    },
    {
      "cell_type": "markdown",
      "source": [
        "IQR is the difference between the first and third quartile of a data set. You can think of IQR as the spread of the bulk of the data, with outliers being observations far from the main concentration of data. **Outliers are commonly defined as any value 1.5 IQR's less than the first quartile or 1.5 IQR's greater than the third quartile.**"
      ],
      "metadata": {
        "id": "W-RLl8lKpdB3"
      }
    },
    {
      "cell_type": "markdown",
      "source": [
        "<font color='blue'>**7. Handling Outliers**</font>\n",
        "\n",
        "Problem : You have Outliers"
      ],
      "metadata": {
        "id": "joH52IVHqQtw"
      }
    },
    {
      "cell_type": "code",
      "source": [
        "# Load library\n",
        "import pandas as pd\n",
        "# Create DataFrame\n",
        "houses = pd.DataFrame()\n",
        "houses['Price'] = [534433, 392333, 293222, 4322032]\n",
        "houses['Bathrooms'] = [2, 3.5, 2, 116]\n",
        "houses['Square_Feet'] = [1500, 2500, 1500, 48000]\n",
        "# Filter observations\n",
        "houses[houses['Bathrooms'] < 20]"
      ],
      "metadata": {
        "colab": {
          "base_uri": "https://localhost:8080/",
          "height": 143
        },
        "id": "etm3cn9iqWsy",
        "outputId": "d94526de-a4d4-4e90-8355-62fa979ca42e"
      },
      "execution_count": null,
      "outputs": [
        {
          "output_type": "execute_result",
          "data": {
            "text/plain": [
              "    Price  Bathrooms  Square_Feet\n",
              "0  534433        2.0         1500\n",
              "1  392333        3.5         2500\n",
              "2  293222        2.0         1500"
            ],
            "text/html": [
              "\n",
              "  <div id=\"df-ff115af3-3be6-47d4-8aa4-ae536b6de3ab\">\n",
              "    <div class=\"colab-df-container\">\n",
              "      <div>\n",
              "<style scoped>\n",
              "    .dataframe tbody tr th:only-of-type {\n",
              "        vertical-align: middle;\n",
              "    }\n",
              "\n",
              "    .dataframe tbody tr th {\n",
              "        vertical-align: top;\n",
              "    }\n",
              "\n",
              "    .dataframe thead th {\n",
              "        text-align: right;\n",
              "    }\n",
              "</style>\n",
              "<table border=\"1\" class=\"dataframe\">\n",
              "  <thead>\n",
              "    <tr style=\"text-align: right;\">\n",
              "      <th></th>\n",
              "      <th>Price</th>\n",
              "      <th>Bathrooms</th>\n",
              "      <th>Square_Feet</th>\n",
              "    </tr>\n",
              "  </thead>\n",
              "  <tbody>\n",
              "    <tr>\n",
              "      <th>0</th>\n",
              "      <td>534433</td>\n",
              "      <td>2.0</td>\n",
              "      <td>1500</td>\n",
              "    </tr>\n",
              "    <tr>\n",
              "      <th>1</th>\n",
              "      <td>392333</td>\n",
              "      <td>3.5</td>\n",
              "      <td>2500</td>\n",
              "    </tr>\n",
              "    <tr>\n",
              "      <th>2</th>\n",
              "      <td>293222</td>\n",
              "      <td>2.0</td>\n",
              "      <td>1500</td>\n",
              "    </tr>\n",
              "  </tbody>\n",
              "</table>\n",
              "</div>\n",
              "      <button class=\"colab-df-convert\" onclick=\"convertToInteractive('df-ff115af3-3be6-47d4-8aa4-ae536b6de3ab')\"\n",
              "              title=\"Convert this dataframe to an interactive table.\"\n",
              "              style=\"display:none;\">\n",
              "        \n",
              "  <svg xmlns=\"http://www.w3.org/2000/svg\" height=\"24px\"viewBox=\"0 0 24 24\"\n",
              "       width=\"24px\">\n",
              "    <path d=\"M0 0h24v24H0V0z\" fill=\"none\"/>\n",
              "    <path d=\"M18.56 5.44l.94 2.06.94-2.06 2.06-.94-2.06-.94-.94-2.06-.94 2.06-2.06.94zm-11 1L8.5 8.5l.94-2.06 2.06-.94-2.06-.94L8.5 2.5l-.94 2.06-2.06.94zm10 10l.94 2.06.94-2.06 2.06-.94-2.06-.94-.94-2.06-.94 2.06-2.06.94z\"/><path d=\"M17.41 7.96l-1.37-1.37c-.4-.4-.92-.59-1.43-.59-.52 0-1.04.2-1.43.59L10.3 9.45l-7.72 7.72c-.78.78-.78 2.05 0 2.83L4 21.41c.39.39.9.59 1.41.59.51 0 1.02-.2 1.41-.59l7.78-7.78 2.81-2.81c.8-.78.8-2.07 0-2.86zM5.41 20L4 18.59l7.72-7.72 1.47 1.35L5.41 20z\"/>\n",
              "  </svg>\n",
              "      </button>\n",
              "      \n",
              "  <style>\n",
              "    .colab-df-container {\n",
              "      display:flex;\n",
              "      flex-wrap:wrap;\n",
              "      gap: 12px;\n",
              "    }\n",
              "\n",
              "    .colab-df-convert {\n",
              "      background-color: #E8F0FE;\n",
              "      border: none;\n",
              "      border-radius: 50%;\n",
              "      cursor: pointer;\n",
              "      display: none;\n",
              "      fill: #1967D2;\n",
              "      height: 32px;\n",
              "      padding: 0 0 0 0;\n",
              "      width: 32px;\n",
              "    }\n",
              "\n",
              "    .colab-df-convert:hover {\n",
              "      background-color: #E2EBFA;\n",
              "      box-shadow: 0px 1px 2px rgba(60, 64, 67, 0.3), 0px 1px 3px 1px rgba(60, 64, 67, 0.15);\n",
              "      fill: #174EA6;\n",
              "    }\n",
              "\n",
              "    [theme=dark] .colab-df-convert {\n",
              "      background-color: #3B4455;\n",
              "      fill: #D2E3FC;\n",
              "    }\n",
              "\n",
              "    [theme=dark] .colab-df-convert:hover {\n",
              "      background-color: #434B5C;\n",
              "      box-shadow: 0px 1px 3px 1px rgba(0, 0, 0, 0.15);\n",
              "      filter: drop-shadow(0px 1px 2px rgba(0, 0, 0, 0.3));\n",
              "      fill: #FFFFFF;\n",
              "    }\n",
              "  </style>\n",
              "\n",
              "      <script>\n",
              "        const buttonEl =\n",
              "          document.querySelector('#df-ff115af3-3be6-47d4-8aa4-ae536b6de3ab button.colab-df-convert');\n",
              "        buttonEl.style.display =\n",
              "          google.colab.kernel.accessAllowed ? 'block' : 'none';\n",
              "\n",
              "        async function convertToInteractive(key) {\n",
              "          const element = document.querySelector('#df-ff115af3-3be6-47d4-8aa4-ae536b6de3ab');\n",
              "          const dataTable =\n",
              "            await google.colab.kernel.invokeFunction('convertToInteractive',\n",
              "                                                     [key], {});\n",
              "          if (!dataTable) return;\n",
              "\n",
              "          const docLinkHtml = 'Like what you see? Visit the ' +\n",
              "            '<a target=\"_blank\" href=https://colab.research.google.com/notebooks/data_table.ipynb>data table notebook</a>'\n",
              "            + ' to learn more about interactive tables.';\n",
              "          element.innerHTML = '';\n",
              "          dataTable['output_type'] = 'display_data';\n",
              "          await google.colab.output.renderOutput(dataTable, element);\n",
              "          const docLink = document.createElement('div');\n",
              "          docLink.innerHTML = docLinkHtml;\n",
              "          element.appendChild(docLink);\n",
              "        }\n",
              "      </script>\n",
              "    </div>\n",
              "  </div>\n",
              "  "
            ]
          },
          "metadata": {},
          "execution_count": 18
        }
      ]
    },
    {
      "cell_type": "markdown",
      "source": [
        "Second, we can mark them as outliers and include it as a feature"
      ],
      "metadata": {
        "id": "JYrmzqfkqZ01"
      }
    },
    {
      "cell_type": "code",
      "source": [
        "import numpy as np\n",
        "\n",
        "houses['Outlier'] = np.where(houses['Bathrooms']<20,0,1)\n",
        "#show data\n",
        "houses"
      ],
      "metadata": {
        "colab": {
          "base_uri": "https://localhost:8080/",
          "height": 174
        },
        "id": "AE7ZVyPpqgjl",
        "outputId": "b34ac313-f8eb-47b4-a555-da02683a7e51"
      },
      "execution_count": null,
      "outputs": [
        {
          "output_type": "execute_result",
          "data": {
            "text/plain": [
              "     Price  Bathrooms  Square_Feet  Outlier\n",
              "0   534433        2.0         1500        0\n",
              "1   392333        3.5         2500        0\n",
              "2   293222        2.0         1500        0\n",
              "3  4322032      116.0        48000        1"
            ],
            "text/html": [
              "\n",
              "  <div id=\"df-b9ae73a5-3164-44ef-b5a9-5b4fa4f3e377\">\n",
              "    <div class=\"colab-df-container\">\n",
              "      <div>\n",
              "<style scoped>\n",
              "    .dataframe tbody tr th:only-of-type {\n",
              "        vertical-align: middle;\n",
              "    }\n",
              "\n",
              "    .dataframe tbody tr th {\n",
              "        vertical-align: top;\n",
              "    }\n",
              "\n",
              "    .dataframe thead th {\n",
              "        text-align: right;\n",
              "    }\n",
              "</style>\n",
              "<table border=\"1\" class=\"dataframe\">\n",
              "  <thead>\n",
              "    <tr style=\"text-align: right;\">\n",
              "      <th></th>\n",
              "      <th>Price</th>\n",
              "      <th>Bathrooms</th>\n",
              "      <th>Square_Feet</th>\n",
              "      <th>Outlier</th>\n",
              "    </tr>\n",
              "  </thead>\n",
              "  <tbody>\n",
              "    <tr>\n",
              "      <th>0</th>\n",
              "      <td>534433</td>\n",
              "      <td>2.0</td>\n",
              "      <td>1500</td>\n",
              "      <td>0</td>\n",
              "    </tr>\n",
              "    <tr>\n",
              "      <th>1</th>\n",
              "      <td>392333</td>\n",
              "      <td>3.5</td>\n",
              "      <td>2500</td>\n",
              "      <td>0</td>\n",
              "    </tr>\n",
              "    <tr>\n",
              "      <th>2</th>\n",
              "      <td>293222</td>\n",
              "      <td>2.0</td>\n",
              "      <td>1500</td>\n",
              "      <td>0</td>\n",
              "    </tr>\n",
              "    <tr>\n",
              "      <th>3</th>\n",
              "      <td>4322032</td>\n",
              "      <td>116.0</td>\n",
              "      <td>48000</td>\n",
              "      <td>1</td>\n",
              "    </tr>\n",
              "  </tbody>\n",
              "</table>\n",
              "</div>\n",
              "      <button class=\"colab-df-convert\" onclick=\"convertToInteractive('df-b9ae73a5-3164-44ef-b5a9-5b4fa4f3e377')\"\n",
              "              title=\"Convert this dataframe to an interactive table.\"\n",
              "              style=\"display:none;\">\n",
              "        \n",
              "  <svg xmlns=\"http://www.w3.org/2000/svg\" height=\"24px\"viewBox=\"0 0 24 24\"\n",
              "       width=\"24px\">\n",
              "    <path d=\"M0 0h24v24H0V0z\" fill=\"none\"/>\n",
              "    <path d=\"M18.56 5.44l.94 2.06.94-2.06 2.06-.94-2.06-.94-.94-2.06-.94 2.06-2.06.94zm-11 1L8.5 8.5l.94-2.06 2.06-.94-2.06-.94L8.5 2.5l-.94 2.06-2.06.94zm10 10l.94 2.06.94-2.06 2.06-.94-2.06-.94-.94-2.06-.94 2.06-2.06.94z\"/><path d=\"M17.41 7.96l-1.37-1.37c-.4-.4-.92-.59-1.43-.59-.52 0-1.04.2-1.43.59L10.3 9.45l-7.72 7.72c-.78.78-.78 2.05 0 2.83L4 21.41c.39.39.9.59 1.41.59.51 0 1.02-.2 1.41-.59l7.78-7.78 2.81-2.81c.8-.78.8-2.07 0-2.86zM5.41 20L4 18.59l7.72-7.72 1.47 1.35L5.41 20z\"/>\n",
              "  </svg>\n",
              "      </button>\n",
              "      \n",
              "  <style>\n",
              "    .colab-df-container {\n",
              "      display:flex;\n",
              "      flex-wrap:wrap;\n",
              "      gap: 12px;\n",
              "    }\n",
              "\n",
              "    .colab-df-convert {\n",
              "      background-color: #E8F0FE;\n",
              "      border: none;\n",
              "      border-radius: 50%;\n",
              "      cursor: pointer;\n",
              "      display: none;\n",
              "      fill: #1967D2;\n",
              "      height: 32px;\n",
              "      padding: 0 0 0 0;\n",
              "      width: 32px;\n",
              "    }\n",
              "\n",
              "    .colab-df-convert:hover {\n",
              "      background-color: #E2EBFA;\n",
              "      box-shadow: 0px 1px 2px rgba(60, 64, 67, 0.3), 0px 1px 3px 1px rgba(60, 64, 67, 0.15);\n",
              "      fill: #174EA6;\n",
              "    }\n",
              "\n",
              "    [theme=dark] .colab-df-convert {\n",
              "      background-color: #3B4455;\n",
              "      fill: #D2E3FC;\n",
              "    }\n",
              "\n",
              "    [theme=dark] .colab-df-convert:hover {\n",
              "      background-color: #434B5C;\n",
              "      box-shadow: 0px 1px 3px 1px rgba(0, 0, 0, 0.15);\n",
              "      filter: drop-shadow(0px 1px 2px rgba(0, 0, 0, 0.3));\n",
              "      fill: #FFFFFF;\n",
              "    }\n",
              "  </style>\n",
              "\n",
              "      <script>\n",
              "        const buttonEl =\n",
              "          document.querySelector('#df-b9ae73a5-3164-44ef-b5a9-5b4fa4f3e377 button.colab-df-convert');\n",
              "        buttonEl.style.display =\n",
              "          google.colab.kernel.accessAllowed ? 'block' : 'none';\n",
              "\n",
              "        async function convertToInteractive(key) {\n",
              "          const element = document.querySelector('#df-b9ae73a5-3164-44ef-b5a9-5b4fa4f3e377');\n",
              "          const dataTable =\n",
              "            await google.colab.kernel.invokeFunction('convertToInteractive',\n",
              "                                                     [key], {});\n",
              "          if (!dataTable) return;\n",
              "\n",
              "          const docLinkHtml = 'Like what you see? Visit the ' +\n",
              "            '<a target=\"_blank\" href=https://colab.research.google.com/notebooks/data_table.ipynb>data table notebook</a>'\n",
              "            + ' to learn more about interactive tables.';\n",
              "          element.innerHTML = '';\n",
              "          dataTable['output_type'] = 'display_data';\n",
              "          await google.colab.output.renderOutput(dataTable, element);\n",
              "          const docLink = document.createElement('div');\n",
              "          docLink.innerHTML = docLinkHtml;\n",
              "          element.appendChild(docLink);\n",
              "        }\n",
              "      </script>\n",
              "    </div>\n",
              "  </div>\n",
              "  "
            ]
          },
          "metadata": {},
          "execution_count": 19
        }
      ]
    },
    {
      "cell_type": "code",
      "source": [
        "#finally, we can transform the feature to damper the effect of the \n",
        "#outlier\n",
        "\n",
        "houses['log_of_Square_feet'] = [np.log(x) for x in houses['Square_Feet']]\n",
        "\n",
        "#Show Data\n",
        "houses\n",
        "                                "
      ],
      "metadata": {
        "colab": {
          "base_uri": "https://localhost:8080/",
          "height": 174
        },
        "id": "CEU6Z4phqqeb",
        "outputId": "208a8013-a84f-4489-8f47-9a1f05887079"
      },
      "execution_count": null,
      "outputs": [
        {
          "output_type": "execute_result",
          "data": {
            "text/plain": [
              "     Price  Bathrooms  Square_Feet  Outlier  log_of_Square_feet\n",
              "0   534433        2.0         1500        0            7.313220\n",
              "1   392333        3.5         2500        0            7.824046\n",
              "2   293222        2.0         1500        0            7.313220\n",
              "3  4322032      116.0        48000        1           10.778956"
            ],
            "text/html": [
              "\n",
              "  <div id=\"df-2f3438a6-5478-4a9b-8843-1596e4b6b72a\">\n",
              "    <div class=\"colab-df-container\">\n",
              "      <div>\n",
              "<style scoped>\n",
              "    .dataframe tbody tr th:only-of-type {\n",
              "        vertical-align: middle;\n",
              "    }\n",
              "\n",
              "    .dataframe tbody tr th {\n",
              "        vertical-align: top;\n",
              "    }\n",
              "\n",
              "    .dataframe thead th {\n",
              "        text-align: right;\n",
              "    }\n",
              "</style>\n",
              "<table border=\"1\" class=\"dataframe\">\n",
              "  <thead>\n",
              "    <tr style=\"text-align: right;\">\n",
              "      <th></th>\n",
              "      <th>Price</th>\n",
              "      <th>Bathrooms</th>\n",
              "      <th>Square_Feet</th>\n",
              "      <th>Outlier</th>\n",
              "      <th>log_of_Square_feet</th>\n",
              "    </tr>\n",
              "  </thead>\n",
              "  <tbody>\n",
              "    <tr>\n",
              "      <th>0</th>\n",
              "      <td>534433</td>\n",
              "      <td>2.0</td>\n",
              "      <td>1500</td>\n",
              "      <td>0</td>\n",
              "      <td>7.313220</td>\n",
              "    </tr>\n",
              "    <tr>\n",
              "      <th>1</th>\n",
              "      <td>392333</td>\n",
              "      <td>3.5</td>\n",
              "      <td>2500</td>\n",
              "      <td>0</td>\n",
              "      <td>7.824046</td>\n",
              "    </tr>\n",
              "    <tr>\n",
              "      <th>2</th>\n",
              "      <td>293222</td>\n",
              "      <td>2.0</td>\n",
              "      <td>1500</td>\n",
              "      <td>0</td>\n",
              "      <td>7.313220</td>\n",
              "    </tr>\n",
              "    <tr>\n",
              "      <th>3</th>\n",
              "      <td>4322032</td>\n",
              "      <td>116.0</td>\n",
              "      <td>48000</td>\n",
              "      <td>1</td>\n",
              "      <td>10.778956</td>\n",
              "    </tr>\n",
              "  </tbody>\n",
              "</table>\n",
              "</div>\n",
              "      <button class=\"colab-df-convert\" onclick=\"convertToInteractive('df-2f3438a6-5478-4a9b-8843-1596e4b6b72a')\"\n",
              "              title=\"Convert this dataframe to an interactive table.\"\n",
              "              style=\"display:none;\">\n",
              "        \n",
              "  <svg xmlns=\"http://www.w3.org/2000/svg\" height=\"24px\"viewBox=\"0 0 24 24\"\n",
              "       width=\"24px\">\n",
              "    <path d=\"M0 0h24v24H0V0z\" fill=\"none\"/>\n",
              "    <path d=\"M18.56 5.44l.94 2.06.94-2.06 2.06-.94-2.06-.94-.94-2.06-.94 2.06-2.06.94zm-11 1L8.5 8.5l.94-2.06 2.06-.94-2.06-.94L8.5 2.5l-.94 2.06-2.06.94zm10 10l.94 2.06.94-2.06 2.06-.94-2.06-.94-.94-2.06-.94 2.06-2.06.94z\"/><path d=\"M17.41 7.96l-1.37-1.37c-.4-.4-.92-.59-1.43-.59-.52 0-1.04.2-1.43.59L10.3 9.45l-7.72 7.72c-.78.78-.78 2.05 0 2.83L4 21.41c.39.39.9.59 1.41.59.51 0 1.02-.2 1.41-.59l7.78-7.78 2.81-2.81c.8-.78.8-2.07 0-2.86zM5.41 20L4 18.59l7.72-7.72 1.47 1.35L5.41 20z\"/>\n",
              "  </svg>\n",
              "      </button>\n",
              "      \n",
              "  <style>\n",
              "    .colab-df-container {\n",
              "      display:flex;\n",
              "      flex-wrap:wrap;\n",
              "      gap: 12px;\n",
              "    }\n",
              "\n",
              "    .colab-df-convert {\n",
              "      background-color: #E8F0FE;\n",
              "      border: none;\n",
              "      border-radius: 50%;\n",
              "      cursor: pointer;\n",
              "      display: none;\n",
              "      fill: #1967D2;\n",
              "      height: 32px;\n",
              "      padding: 0 0 0 0;\n",
              "      width: 32px;\n",
              "    }\n",
              "\n",
              "    .colab-df-convert:hover {\n",
              "      background-color: #E2EBFA;\n",
              "      box-shadow: 0px 1px 2px rgba(60, 64, 67, 0.3), 0px 1px 3px 1px rgba(60, 64, 67, 0.15);\n",
              "      fill: #174EA6;\n",
              "    }\n",
              "\n",
              "    [theme=dark] .colab-df-convert {\n",
              "      background-color: #3B4455;\n",
              "      fill: #D2E3FC;\n",
              "    }\n",
              "\n",
              "    [theme=dark] .colab-df-convert:hover {\n",
              "      background-color: #434B5C;\n",
              "      box-shadow: 0px 1px 3px 1px rgba(0, 0, 0, 0.15);\n",
              "      filter: drop-shadow(0px 1px 2px rgba(0, 0, 0, 0.3));\n",
              "      fill: #FFFFFF;\n",
              "    }\n",
              "  </style>\n",
              "\n",
              "      <script>\n",
              "        const buttonEl =\n",
              "          document.querySelector('#df-2f3438a6-5478-4a9b-8843-1596e4b6b72a button.colab-df-convert');\n",
              "        buttonEl.style.display =\n",
              "          google.colab.kernel.accessAllowed ? 'block' : 'none';\n",
              "\n",
              "        async function convertToInteractive(key) {\n",
              "          const element = document.querySelector('#df-2f3438a6-5478-4a9b-8843-1596e4b6b72a');\n",
              "          const dataTable =\n",
              "            await google.colab.kernel.invokeFunction('convertToInteractive',\n",
              "                                                     [key], {});\n",
              "          if (!dataTable) return;\n",
              "\n",
              "          const docLinkHtml = 'Like what you see? Visit the ' +\n",
              "            '<a target=\"_blank\" href=https://colab.research.google.com/notebooks/data_table.ipynb>data table notebook</a>'\n",
              "            + ' to learn more about interactive tables.';\n",
              "          element.innerHTML = '';\n",
              "          dataTable['output_type'] = 'display_data';\n",
              "          await google.colab.output.renderOutput(dataTable, element);\n",
              "          const docLink = document.createElement('div');\n",
              "          docLink.innerHTML = docLinkHtml;\n",
              "          element.appendChild(docLink);\n",
              "        }\n",
              "      </script>\n",
              "    </div>\n",
              "  </div>\n",
              "  "
            ]
          },
          "metadata": {},
          "execution_count": 20
        }
      ]
    },
    {
      "cell_type": "markdown",
      "source": [
        "<font color='blue'>**8. Discretizating Features**</font>\n",
        "\n",
        "Problem : You have a numerical feature and want to break it up into discrete bins."
      ],
      "metadata": {
        "id": "28a5RJCzqe4O"
      }
    },
    {
      "cell_type": "code",
      "source": [
        "from sklearn.preprocessing import Binarizer\n",
        "\n",
        "age = np.array([[6],\n",
        "                [12],\n",
        "                [20],\n",
        "                [36],\n",
        "                [65]])\n",
        "\n",
        "#Create Binarizer\n",
        "binarizer1 = Binarizer()\n",
        "binarizer1.fit_transform(age)\n",
        "\n",
        "#show data\n",
        "binarizer1"
      ],
      "metadata": {
        "colab": {
          "base_uri": "https://localhost:8080/",
          "height": 234
        },
        "id": "4qV5sPwYsWKV",
        "outputId": "40149675-0eca-4934-b9c3-c4d433df4581"
      },
      "execution_count": null,
      "outputs": [
        {
          "output_type": "error",
          "ename": "TypeError",
          "evalue": "ignored",
          "traceback": [
            "\u001b[0;31m---------------------------------------------------------------------------\u001b[0m",
            "\u001b[0;31mTypeError\u001b[0m                                 Traceback (most recent call last)",
            "\u001b[0;32m<ipython-input-27-29d41e6181d1>\u001b[0m in \u001b[0;36m<module>\u001b[0;34m()\u001b[0m\n\u001b[1;32m      8\u001b[0m \u001b[0;34m\u001b[0m\u001b[0m\n\u001b[1;32m      9\u001b[0m \u001b[0;31m#Create Binarizer\u001b[0m\u001b[0;34m\u001b[0m\u001b[0;34m\u001b[0m\u001b[0;34m\u001b[0m\u001b[0m\n\u001b[0;32m---> 10\u001b[0;31m \u001b[0mbinarizer1\u001b[0m \u001b[0;34m=\u001b[0m \u001b[0mBinarizer\u001b[0m\u001b[0;34m(\u001b[0m\u001b[0;36m6\u001b[0m\u001b[0;34m)\u001b[0m\u001b[0;34m\u001b[0m\u001b[0;34m\u001b[0m\u001b[0m\n\u001b[0m\u001b[1;32m     11\u001b[0m \u001b[0mbinarizer1\u001b[0m\u001b[0;34m.\u001b[0m\u001b[0mfit_transform\u001b[0m\u001b[0;34m(\u001b[0m\u001b[0mage\u001b[0m\u001b[0;34m)\u001b[0m\u001b[0;34m\u001b[0m\u001b[0;34m\u001b[0m\u001b[0m\n\u001b[1;32m     12\u001b[0m \u001b[0;34m\u001b[0m\u001b[0m\n",
            "\u001b[0;31mTypeError\u001b[0m: __init__() takes 1 positional argument but 2 were given"
          ]
        }
      ]
    },
    {
      "cell_type": "markdown",
      "source": [
        "<font color='blue'>**9. Grouping Observations Using Clustering**</font>\n",
        "\n",
        "Problem : You want to cluster observations so that similar observations are grouped togeter\n",
        "\n",
        "Solution : If you know that you have $k$ groups you can use k-means clustering to group similar observations and output a new feature contraining each observation's group membership"
      ],
      "metadata": {
        "id": "xAwyJCcJtFaY"
      }
    },
    {
      "cell_type": "code",
      "source": [
        "import pandas as pd\n",
        "from sklearn.datasets import make_blobs\n",
        "from sklearn.cluster import KMeans\n",
        "\n",
        "#Make simulated feature matrix \n",
        "features,_ = make_blobs(n_samples=50,\n",
        "                        n_features = 2,\n",
        "                        centers = 3,\n",
        "                        random_state =1)\n",
        "#create Dataframe\n",
        "df = pd.DataFrame(features,columns=['Feature1','Feature2'])\n",
        "\n",
        "#Make k-means clusters\n",
        "clusterer = KMeans(3,random_state=0)\n",
        "clusterer.fit(features)\n",
        "\n",
        "#Predict values \n",
        "df['group'] = clusterer.predict(features)\n",
        "df.head(5)"
      ],
      "metadata": {
        "colab": {
          "base_uri": "https://localhost:8080/",
          "height": 206
        },
        "id": "0qLVI61Mta0A",
        "outputId": "ef60fa39-2805-4c68-a9cc-f459ce1e0071"
      },
      "execution_count": null,
      "outputs": [
        {
          "output_type": "execute_result",
          "data": {
            "text/plain": [
              "   Feature1  Feature2  group\n",
              "0 -9.877554 -3.336145      0\n",
              "1 -7.287210 -8.353986      2\n",
              "2 -6.943061 -7.023744      2\n",
              "3 -7.440167 -8.791959      2\n",
              "4 -6.641388 -8.075888      2"
            ],
            "text/html": [
              "\n",
              "  <div id=\"df-f61b0651-1eb5-4b1d-82d2-ca7830ffbc58\">\n",
              "    <div class=\"colab-df-container\">\n",
              "      <div>\n",
              "<style scoped>\n",
              "    .dataframe tbody tr th:only-of-type {\n",
              "        vertical-align: middle;\n",
              "    }\n",
              "\n",
              "    .dataframe tbody tr th {\n",
              "        vertical-align: top;\n",
              "    }\n",
              "\n",
              "    .dataframe thead th {\n",
              "        text-align: right;\n",
              "    }\n",
              "</style>\n",
              "<table border=\"1\" class=\"dataframe\">\n",
              "  <thead>\n",
              "    <tr style=\"text-align: right;\">\n",
              "      <th></th>\n",
              "      <th>Feature1</th>\n",
              "      <th>Feature2</th>\n",
              "      <th>group</th>\n",
              "    </tr>\n",
              "  </thead>\n",
              "  <tbody>\n",
              "    <tr>\n",
              "      <th>0</th>\n",
              "      <td>-9.877554</td>\n",
              "      <td>-3.336145</td>\n",
              "      <td>0</td>\n",
              "    </tr>\n",
              "    <tr>\n",
              "      <th>1</th>\n",
              "      <td>-7.287210</td>\n",
              "      <td>-8.353986</td>\n",
              "      <td>2</td>\n",
              "    </tr>\n",
              "    <tr>\n",
              "      <th>2</th>\n",
              "      <td>-6.943061</td>\n",
              "      <td>-7.023744</td>\n",
              "      <td>2</td>\n",
              "    </tr>\n",
              "    <tr>\n",
              "      <th>3</th>\n",
              "      <td>-7.440167</td>\n",
              "      <td>-8.791959</td>\n",
              "      <td>2</td>\n",
              "    </tr>\n",
              "    <tr>\n",
              "      <th>4</th>\n",
              "      <td>-6.641388</td>\n",
              "      <td>-8.075888</td>\n",
              "      <td>2</td>\n",
              "    </tr>\n",
              "  </tbody>\n",
              "</table>\n",
              "</div>\n",
              "      <button class=\"colab-df-convert\" onclick=\"convertToInteractive('df-f61b0651-1eb5-4b1d-82d2-ca7830ffbc58')\"\n",
              "              title=\"Convert this dataframe to an interactive table.\"\n",
              "              style=\"display:none;\">\n",
              "        \n",
              "  <svg xmlns=\"http://www.w3.org/2000/svg\" height=\"24px\"viewBox=\"0 0 24 24\"\n",
              "       width=\"24px\">\n",
              "    <path d=\"M0 0h24v24H0V0z\" fill=\"none\"/>\n",
              "    <path d=\"M18.56 5.44l.94 2.06.94-2.06 2.06-.94-2.06-.94-.94-2.06-.94 2.06-2.06.94zm-11 1L8.5 8.5l.94-2.06 2.06-.94-2.06-.94L8.5 2.5l-.94 2.06-2.06.94zm10 10l.94 2.06.94-2.06 2.06-.94-2.06-.94-.94-2.06-.94 2.06-2.06.94z\"/><path d=\"M17.41 7.96l-1.37-1.37c-.4-.4-.92-.59-1.43-.59-.52 0-1.04.2-1.43.59L10.3 9.45l-7.72 7.72c-.78.78-.78 2.05 0 2.83L4 21.41c.39.39.9.59 1.41.59.51 0 1.02-.2 1.41-.59l7.78-7.78 2.81-2.81c.8-.78.8-2.07 0-2.86zM5.41 20L4 18.59l7.72-7.72 1.47 1.35L5.41 20z\"/>\n",
              "  </svg>\n",
              "      </button>\n",
              "      \n",
              "  <style>\n",
              "    .colab-df-container {\n",
              "      display:flex;\n",
              "      flex-wrap:wrap;\n",
              "      gap: 12px;\n",
              "    }\n",
              "\n",
              "    .colab-df-convert {\n",
              "      background-color: #E8F0FE;\n",
              "      border: none;\n",
              "      border-radius: 50%;\n",
              "      cursor: pointer;\n",
              "      display: none;\n",
              "      fill: #1967D2;\n",
              "      height: 32px;\n",
              "      padding: 0 0 0 0;\n",
              "      width: 32px;\n",
              "    }\n",
              "\n",
              "    .colab-df-convert:hover {\n",
              "      background-color: #E2EBFA;\n",
              "      box-shadow: 0px 1px 2px rgba(60, 64, 67, 0.3), 0px 1px 3px 1px rgba(60, 64, 67, 0.15);\n",
              "      fill: #174EA6;\n",
              "    }\n",
              "\n",
              "    [theme=dark] .colab-df-convert {\n",
              "      background-color: #3B4455;\n",
              "      fill: #D2E3FC;\n",
              "    }\n",
              "\n",
              "    [theme=dark] .colab-df-convert:hover {\n",
              "      background-color: #434B5C;\n",
              "      box-shadow: 0px 1px 3px 1px rgba(0, 0, 0, 0.15);\n",
              "      filter: drop-shadow(0px 1px 2px rgba(0, 0, 0, 0.3));\n",
              "      fill: #FFFFFF;\n",
              "    }\n",
              "  </style>\n",
              "\n",
              "      <script>\n",
              "        const buttonEl =\n",
              "          document.querySelector('#df-f61b0651-1eb5-4b1d-82d2-ca7830ffbc58 button.colab-df-convert');\n",
              "        buttonEl.style.display =\n",
              "          google.colab.kernel.accessAllowed ? 'block' : 'none';\n",
              "\n",
              "        async function convertToInteractive(key) {\n",
              "          const element = document.querySelector('#df-f61b0651-1eb5-4b1d-82d2-ca7830ffbc58');\n",
              "          const dataTable =\n",
              "            await google.colab.kernel.invokeFunction('convertToInteractive',\n",
              "                                                     [key], {});\n",
              "          if (!dataTable) return;\n",
              "\n",
              "          const docLinkHtml = 'Like what you see? Visit the ' +\n",
              "            '<a target=\"_blank\" href=https://colab.research.google.com/notebooks/data_table.ipynb>data table notebook</a>'\n",
              "            + ' to learn more about interactive tables.';\n",
              "          element.innerHTML = '';\n",
              "          dataTable['output_type'] = 'display_data';\n",
              "          await google.colab.output.renderOutput(dataTable, element);\n",
              "          const docLink = document.createElement('div');\n",
              "          docLink.innerHTML = docLinkHtml;\n",
              "          element.appendChild(docLink);\n",
              "        }\n",
              "      </script>\n",
              "    </div>\n",
              "  </div>\n",
              "  "
            ]
          },
          "metadata": {},
          "execution_count": 35
        }
      ]
    },
    {
      "cell_type": "markdown",
      "source": [
        "<font color='blue'>**10. Detecting Observations with Missing Values**</font>\n",
        "\n",
        "Problem : You want to delete observations containing missing values.\n",
        "\n",
        "Solution : Deleting observations with missing value is easy with a cleaver line in Numpy"
      ],
      "metadata": {
        "id": "HS22dQoAuVZE"
      }
    },
    {
      "cell_type": "code",
      "source": [
        "# Create feature matrix\n",
        "features = np.array([[1.1, 11.1],\n",
        "                    [2.2, 22.2],\n",
        "                    [3.3, 33.3],\n",
        "                    [4.4, 44.4],\n",
        "                    [np.nan, 55]])\n",
        "\n",
        "#Keep only the observations that are not (denoted by ~)missing\n",
        "features[~np.isnan(features).any(axis=1)]"
      ],
      "metadata": {
        "colab": {
          "base_uri": "https://localhost:8080/"
        },
        "id": "c-AhpODRufqT",
        "outputId": "4fb2124d-03b2-4839-c2c2-c3989f941dae"
      },
      "execution_count": null,
      "outputs": [
        {
          "output_type": "execute_result",
          "data": {
            "text/plain": [
              "array([[ 1.1, 11.1],\n",
              "       [ 2.2, 22.2],\n",
              "       [ 3.3, 33.3],\n",
              "       [ 4.4, 44.4]])"
            ]
          },
          "metadata": {},
          "execution_count": 38
        }
      ]
    },
    {
      "cell_type": "code",
      "source": [
        "#Alternatively, we can drop missing observations using Pandas\n",
        "\n",
        "df = pd.DataFrame(features,columns=[1,2])\n",
        "df.dropna()"
      ],
      "metadata": {
        "colab": {
          "base_uri": "https://localhost:8080/",
          "height": 174
        },
        "id": "kJEbzGEixDI1",
        "outputId": "18632def-b488-4f6c-f3f0-74935c8d8f31"
      },
      "execution_count": null,
      "outputs": [
        {
          "output_type": "execute_result",
          "data": {
            "text/plain": [
              "     1     2\n",
              "0  1.1  11.1\n",
              "1  2.2  22.2\n",
              "2  3.3  33.3\n",
              "3  4.4  44.4"
            ],
            "text/html": [
              "\n",
              "  <div id=\"df-1ec0af78-3a05-459a-a698-dd3c076fe972\">\n",
              "    <div class=\"colab-df-container\">\n",
              "      <div>\n",
              "<style scoped>\n",
              "    .dataframe tbody tr th:only-of-type {\n",
              "        vertical-align: middle;\n",
              "    }\n",
              "\n",
              "    .dataframe tbody tr th {\n",
              "        vertical-align: top;\n",
              "    }\n",
              "\n",
              "    .dataframe thead th {\n",
              "        text-align: right;\n",
              "    }\n",
              "</style>\n",
              "<table border=\"1\" class=\"dataframe\">\n",
              "  <thead>\n",
              "    <tr style=\"text-align: right;\">\n",
              "      <th></th>\n",
              "      <th>1</th>\n",
              "      <th>2</th>\n",
              "    </tr>\n",
              "  </thead>\n",
              "  <tbody>\n",
              "    <tr>\n",
              "      <th>0</th>\n",
              "      <td>1.1</td>\n",
              "      <td>11.1</td>\n",
              "    </tr>\n",
              "    <tr>\n",
              "      <th>1</th>\n",
              "      <td>2.2</td>\n",
              "      <td>22.2</td>\n",
              "    </tr>\n",
              "    <tr>\n",
              "      <th>2</th>\n",
              "      <td>3.3</td>\n",
              "      <td>33.3</td>\n",
              "    </tr>\n",
              "    <tr>\n",
              "      <th>3</th>\n",
              "      <td>4.4</td>\n",
              "      <td>44.4</td>\n",
              "    </tr>\n",
              "  </tbody>\n",
              "</table>\n",
              "</div>\n",
              "      <button class=\"colab-df-convert\" onclick=\"convertToInteractive('df-1ec0af78-3a05-459a-a698-dd3c076fe972')\"\n",
              "              title=\"Convert this dataframe to an interactive table.\"\n",
              "              style=\"display:none;\">\n",
              "        \n",
              "  <svg xmlns=\"http://www.w3.org/2000/svg\" height=\"24px\"viewBox=\"0 0 24 24\"\n",
              "       width=\"24px\">\n",
              "    <path d=\"M0 0h24v24H0V0z\" fill=\"none\"/>\n",
              "    <path d=\"M18.56 5.44l.94 2.06.94-2.06 2.06-.94-2.06-.94-.94-2.06-.94 2.06-2.06.94zm-11 1L8.5 8.5l.94-2.06 2.06-.94-2.06-.94L8.5 2.5l-.94 2.06-2.06.94zm10 10l.94 2.06.94-2.06 2.06-.94-2.06-.94-.94-2.06-.94 2.06-2.06.94z\"/><path d=\"M17.41 7.96l-1.37-1.37c-.4-.4-.92-.59-1.43-.59-.52 0-1.04.2-1.43.59L10.3 9.45l-7.72 7.72c-.78.78-.78 2.05 0 2.83L4 21.41c.39.39.9.59 1.41.59.51 0 1.02-.2 1.41-.59l7.78-7.78 2.81-2.81c.8-.78.8-2.07 0-2.86zM5.41 20L4 18.59l7.72-7.72 1.47 1.35L5.41 20z\"/>\n",
              "  </svg>\n",
              "      </button>\n",
              "      \n",
              "  <style>\n",
              "    .colab-df-container {\n",
              "      display:flex;\n",
              "      flex-wrap:wrap;\n",
              "      gap: 12px;\n",
              "    }\n",
              "\n",
              "    .colab-df-convert {\n",
              "      background-color: #E8F0FE;\n",
              "      border: none;\n",
              "      border-radius: 50%;\n",
              "      cursor: pointer;\n",
              "      display: none;\n",
              "      fill: #1967D2;\n",
              "      height: 32px;\n",
              "      padding: 0 0 0 0;\n",
              "      width: 32px;\n",
              "    }\n",
              "\n",
              "    .colab-df-convert:hover {\n",
              "      background-color: #E2EBFA;\n",
              "      box-shadow: 0px 1px 2px rgba(60, 64, 67, 0.3), 0px 1px 3px 1px rgba(60, 64, 67, 0.15);\n",
              "      fill: #174EA6;\n",
              "    }\n",
              "\n",
              "    [theme=dark] .colab-df-convert {\n",
              "      background-color: #3B4455;\n",
              "      fill: #D2E3FC;\n",
              "    }\n",
              "\n",
              "    [theme=dark] .colab-df-convert:hover {\n",
              "      background-color: #434B5C;\n",
              "      box-shadow: 0px 1px 3px 1px rgba(0, 0, 0, 0.15);\n",
              "      filter: drop-shadow(0px 1px 2px rgba(0, 0, 0, 0.3));\n",
              "      fill: #FFFFFF;\n",
              "    }\n",
              "  </style>\n",
              "\n",
              "      <script>\n",
              "        const buttonEl =\n",
              "          document.querySelector('#df-1ec0af78-3a05-459a-a698-dd3c076fe972 button.colab-df-convert');\n",
              "        buttonEl.style.display =\n",
              "          google.colab.kernel.accessAllowed ? 'block' : 'none';\n",
              "\n",
              "        async function convertToInteractive(key) {\n",
              "          const element = document.querySelector('#df-1ec0af78-3a05-459a-a698-dd3c076fe972');\n",
              "          const dataTable =\n",
              "            await google.colab.kernel.invokeFunction('convertToInteractive',\n",
              "                                                     [key], {});\n",
              "          if (!dataTable) return;\n",
              "\n",
              "          const docLinkHtml = 'Like what you see? Visit the ' +\n",
              "            '<a target=\"_blank\" href=https://colab.research.google.com/notebooks/data_table.ipynb>data table notebook</a>'\n",
              "            + ' to learn more about interactive tables.';\n",
              "          element.innerHTML = '';\n",
              "          dataTable['output_type'] = 'display_data';\n",
              "          await google.colab.output.renderOutput(dataTable, element);\n",
              "          const docLink = document.createElement('div');\n",
              "          docLink.innerHTML = docLinkHtml;\n",
              "          element.appendChild(docLink);\n",
              "        }\n",
              "      </script>\n",
              "    </div>\n",
              "  </div>\n",
              "  "
            ]
          },
          "metadata": {},
          "execution_count": 39
        }
      ]
    },
    {
      "cell_type": "markdown",
      "source": [
        "<font color='blue'>**11. Imputing Missing Values**</font>\n",
        "\n",
        "Problem : You have missing values in your data and want to fill in or predict their value.\n",
        "\n",
        "Solution : If you have a small amount of data, predict the missing values using the k-nearest neighbours(KNN):"
      ],
      "metadata": {
        "id": "_gvLfmggxUim"
      }
    },
    {
      "cell_type": "code",
      "source": [
        "import numpy as np\n",
        "!pip install fancyimpute\n",
        "from fancyimpute import KNN"
      ],
      "metadata": {
        "colab": {
          "base_uri": "https://localhost:8080/"
        },
        "id": "omIbryizxlQp",
        "outputId": "9d252395-d60a-42b6-fea2-99259d1bb4de"
      },
      "execution_count": null,
      "outputs": [
        {
          "output_type": "stream",
          "name": "stdout",
          "text": [
            "Collecting fancyimpute\n",
            "  Downloading fancyimpute-0.7.0.tar.gz (25 kB)\n",
            "Collecting knnimpute>=0.1.0\n",
            "  Downloading knnimpute-0.1.0.tar.gz (8.3 kB)\n",
            "Requirement already satisfied: scikit-learn>=0.24.2 in /usr/local/lib/python3.7/dist-packages (from fancyimpute) (1.0.2)\n",
            "Requirement already satisfied: cvxpy in /usr/local/lib/python3.7/dist-packages (from fancyimpute) (1.0.31)\n",
            "Requirement already satisfied: cvxopt in /usr/local/lib/python3.7/dist-packages (from fancyimpute) (1.2.7)\n",
            "Requirement already satisfied: pytest in /usr/local/lib/python3.7/dist-packages (from fancyimpute) (3.6.4)\n",
            "Collecting nose\n",
            "  Downloading nose-1.3.7-py3-none-any.whl (154 kB)\n",
            "\u001b[K     |████████████████████████████████| 154 kB 39.8 MB/s \n",
            "\u001b[?25hRequirement already satisfied: six in /usr/local/lib/python3.7/dist-packages (from knnimpute>=0.1.0->fancyimpute) (1.15.0)\n",
            "Requirement already satisfied: numpy>=1.10 in /usr/local/lib/python3.7/dist-packages (from knnimpute>=0.1.0->fancyimpute) (1.21.5)\n",
            "Requirement already satisfied: threadpoolctl>=2.0.0 in /usr/local/lib/python3.7/dist-packages (from scikit-learn>=0.24.2->fancyimpute) (3.1.0)\n",
            "Requirement already satisfied: joblib>=0.11 in /usr/local/lib/python3.7/dist-packages (from scikit-learn>=0.24.2->fancyimpute) (1.1.0)\n",
            "Requirement already satisfied: scipy>=1.1.0 in /usr/local/lib/python3.7/dist-packages (from scikit-learn>=0.24.2->fancyimpute) (1.4.1)\n",
            "Requirement already satisfied: ecos>=2 in /usr/local/lib/python3.7/dist-packages (from cvxpy->fancyimpute) (2.0.10)\n",
            "Requirement already satisfied: multiprocess in /usr/local/lib/python3.7/dist-packages (from cvxpy->fancyimpute) (0.70.12.2)\n",
            "Requirement already satisfied: osqp>=0.4.1 in /usr/local/lib/python3.7/dist-packages (from cvxpy->fancyimpute) (0.6.2.post0)\n",
            "Requirement already satisfied: scs>=1.1.3 in /usr/local/lib/python3.7/dist-packages (from cvxpy->fancyimpute) (3.2.0)\n",
            "Requirement already satisfied: qdldl in /usr/local/lib/python3.7/dist-packages (from osqp>=0.4.1->cvxpy->fancyimpute) (0.1.5.post2)\n",
            "Requirement already satisfied: dill>=0.3.4 in /usr/local/lib/python3.7/dist-packages (from multiprocess->cvxpy->fancyimpute) (0.3.4)\n",
            "Requirement already satisfied: attrs>=17.4.0 in /usr/local/lib/python3.7/dist-packages (from pytest->fancyimpute) (21.4.0)\n",
            "Requirement already satisfied: setuptools in /usr/local/lib/python3.7/dist-packages (from pytest->fancyimpute) (57.4.0)\n",
            "Requirement already satisfied: atomicwrites>=1.0 in /usr/local/lib/python3.7/dist-packages (from pytest->fancyimpute) (1.4.0)\n",
            "Requirement already satisfied: py>=1.5.0 in /usr/local/lib/python3.7/dist-packages (from pytest->fancyimpute) (1.11.0)\n",
            "Requirement already satisfied: pluggy<0.8,>=0.5 in /usr/local/lib/python3.7/dist-packages (from pytest->fancyimpute) (0.7.1)\n",
            "Requirement already satisfied: more-itertools>=4.0.0 in /usr/local/lib/python3.7/dist-packages (from pytest->fancyimpute) (8.12.0)\n",
            "Building wheels for collected packages: fancyimpute, knnimpute\n",
            "  Building wheel for fancyimpute (setup.py) ... \u001b[?25l\u001b[?25hdone\n",
            "  Created wheel for fancyimpute: filename=fancyimpute-0.7.0-py3-none-any.whl size=29899 sha256=e289b5d5dcdfb26c2f62a6f6cb647cbf0d8d9cd29722fa8dcf5d321350befcab\n",
            "  Stored in directory: /root/.cache/pip/wheels/e3/04/06/a1a7d89ef4e631ce6268ea2d8cde04f7290651c1ff1025ce68\n",
            "  Building wheel for knnimpute (setup.py) ... \u001b[?25l\u001b[?25hdone\n",
            "  Created wheel for knnimpute: filename=knnimpute-0.1.0-py3-none-any.whl size=11353 sha256=c7ed30d103185617d5ae1e33f73b027bd6362173e280ca5a6054daea87a2a369\n",
            "  Stored in directory: /root/.cache/pip/wheels/72/21/a8/a045cacd9838abd5643f6bfa852c0796a99d6b1494760494e0\n",
            "Successfully built fancyimpute knnimpute\n",
            "Installing collected packages: nose, knnimpute, fancyimpute\n",
            "Successfully installed fancyimpute-0.7.0 knnimpute-0.1.0 nose-1.3.7\n"
          ]
        }
      ]
    },
    {
      "cell_type": "code",
      "source": [
        "from sklearn.preprocessing import StandardScaler\n",
        "from sklearn.datasets import make_blobs\n",
        "\n",
        "# Make a simulated feature matrix\n",
        "features, _ = make_blobs(n_samples = 1000,\n",
        "                        n_features = 2,\n",
        "                        random_state = 1)\n",
        "\n",
        "#Standardize the features\n",
        "scaler = StandardScaler()\n",
        "standardized_Features = scaler.fit_transform(features)\n",
        "\n",
        "# Replace the first feature's first value with a missing value\n",
        "true_value = standardized_Features[0,0]\n",
        "standardized_Features[0,0] = np.nan\n",
        "\n",
        "\n",
        "#Predict the missing value in the feature matrix\n",
        "knn_imputer = KNN()\n",
        "standardized_Features[:,:] = knn_imputer.fit_transform(standardized_Features)\n",
        "\n",
        "#Compare the true and Imputed values \n",
        "print(\"True Value\",true_value)\n",
        "print(\"Imputed Value\",standardized_Features[0,0])"
      ],
      "metadata": {
        "colab": {
          "base_uri": "https://localhost:8080/"
        },
        "id": "S-vQH3J8x0xP",
        "outputId": "1775d217-a982-4abd-a5ae-91ebe01a2a41"
      },
      "execution_count": null,
      "outputs": [
        {
          "output_type": "stream",
          "name": "stdout",
          "text": [
            "Imputing row 1/1000 with 1 missing, elapsed time: 0.211\n",
            "Imputing row 101/1000 with 0 missing, elapsed time: 0.212\n",
            "Imputing row 201/1000 with 0 missing, elapsed time: 0.213\n",
            "Imputing row 301/1000 with 0 missing, elapsed time: 0.214\n",
            "Imputing row 401/1000 with 0 missing, elapsed time: 0.215\n",
            "Imputing row 501/1000 with 0 missing, elapsed time: 0.216\n",
            "Imputing row 601/1000 with 0 missing, elapsed time: 0.217\n",
            "Imputing row 701/1000 with 0 missing, elapsed time: 0.218\n",
            "Imputing row 801/1000 with 0 missing, elapsed time: 0.219\n",
            "Imputing row 901/1000 with 0 missing, elapsed time: 0.220\n",
            "True Value 0.8730186113995938\n",
            "Imputed Value 1.0955332713113226\n"
          ]
        }
      ]
    }
  ]
}