{
  "nbformat": 4,
  "nbformat_minor": 0,
  "metadata": {
    "colab": {
      "name": "PracticePython-1.ipynb",
      "provenance": [],
      "collapsed_sections": []
    },
    "kernelspec": {
      "name": "python3",
      "display_name": "Python 3"
    },
    "language_info": {
      "name": "python"
    }
  },
  "cells": [
    {
      "cell_type": "markdown",
      "source": [
        "# LIST Comprehension"
      ],
      "metadata": {
        "id": "aVHQKAXMxVeb"
      }
    },
    {
      "cell_type": "markdown",
      "source": [
        "Question : For first n natural numbers, find all distinct pair of numbers, whose product is odd"
      ],
      "metadata": {
        "id": "GFdonejsm0B3"
      }
    },
    {
      "cell_type": "code",
      "source": [
        "# Trying to write this in form of list comprehension\n",
        "n = 10\n",
        "g = [(x,y) for x in range(1,n) for y in range(x+1,n) if x*y %2 != 0]\n",
        "print(g)"
      ],
      "metadata": {
        "colab": {
          "base_uri": "https://localhost:8080/"
        },
        "id": "T4CpWZoaoUCQ",
        "outputId": "0d43407a-71b1-4304-bf89-6325235402f6"
      },
      "execution_count": null,
      "outputs": [
        {
          "output_type": "stream",
          "name": "stdout",
          "text": [
            "[(1, 3), (1, 5), (1, 7), (1, 9), (3, 5), (3, 7), (3, 9), (5, 7), (5, 9), (7, 9)]\n"
          ]
        }
      ]
    },
    {
      "cell_type": "code",
      "source": [
        " lst = [['Harry', 37.21], ['Berry', 37.21], ['Tina', 37.2], ['Akriti', 41], ['Harsh', 39]]"
      ],
      "metadata": {
        "id": "3QcjZYVmOgWY"
      },
      "execution_count": null,
      "outputs": []
    },
    {
      "cell_type": "code",
      "source": [
        "test = []\n",
        "for i in range(0,len(lst)):\n",
        "  val = lst[i][1]\n",
        "  test.append(val)\n",
        "print(test)"
      ],
      "metadata": {
        "colab": {
          "base_uri": "https://localhost:8080/"
        },
        "id": "RrwsjcYlOgMP",
        "outputId": "a28769c8-1dbf-44c3-ebc9-2cb4596313c5"
      },
      "execution_count": null,
      "outputs": [
        {
          "output_type": "stream",
          "name": "stdout",
          "text": [
            "[37.21, 37.21, 37.2, 41, 39]\n"
          ]
        }
      ]
    },
    {
      "cell_type": "code",
      "source": [
        "\n",
        "# 2-D List\n",
        "matrix = [[1, 2, 3], [4, 5], [6, 7, 8, 9]]\n",
        "  \n",
        "# Nested List Comprehension to flatten a given 2-D matrix\n",
        "flatten_matrix = [val for sublist in matrix for val in sublist]"
      ],
      "metadata": {
        "id": "06dRnlu6QwlF"
      },
      "execution_count": null,
      "outputs": []
    },
    {
      "cell_type": "code",
      "source": [
        "[val for i in sublist in lst ]"
      ],
      "metadata": {
        "colab": {
          "base_uri": "https://localhost:8080/"
        },
        "id": "hK3ySyxBQH2w",
        "outputId": "f83f150d-7f4c-46a0-874e-ec0bd9dc4f0a"
      },
      "execution_count": null,
      "outputs": [
        {
          "output_type": "execute_result",
          "data": {
            "text/plain": [
              "[39, 39, 39, 39, 39]"
            ]
          },
          "metadata": {},
          "execution_count": 35
        }
      ]
    },
    {
      "cell_type": "code",
      "source": [
        "[print(val) for sublist in lst for val in sublist]"
      ],
      "metadata": {
        "colab": {
          "base_uri": "https://localhost:8080/"
        },
        "id": "6UjnLo1HPEE9",
        "outputId": "b6e520c2-046f-4b8c-d1ba-ef4058c5de15"
      },
      "execution_count": null,
      "outputs": [
        {
          "output_type": "stream",
          "name": "stdout",
          "text": [
            "Harry\n",
            "37.21\n",
            "Berry\n",
            "37.21\n",
            "Tina\n",
            "37.2\n",
            "Akriti\n",
            "41\n",
            "Harsh\n",
            "39\n"
          ]
        },
        {
          "output_type": "execute_result",
          "data": {
            "text/plain": [
              "[None, None, None, None, None, None, None, None, None, None]"
            ]
          },
          "metadata": {},
          "execution_count": 36
        }
      ]
    },
    {
      "cell_type": "code",
      "source": [
        "lst = [[3,1],[1,3]]\n"
      ],
      "metadata": {
        "colab": {
          "base_uri": "https://localhost:8080/",
          "height": 182
        },
        "id": "1GGL5r4BVJo6",
        "outputId": "c51a5c92-db6c-4a8f-e8d4-aadff4df6d70"
      },
      "execution_count": null,
      "outputs": [
        {
          "output_type": "error",
          "ename": "AttributeError",
          "evalue": "ignored",
          "traceback": [
            "\u001b[0;31m---------------------------------------------------------------------------\u001b[0m",
            "\u001b[0;31mAttributeError\u001b[0m                            Traceback (most recent call last)",
            "\u001b[0;32m<ipython-input-1-e91784d3b3c9>\u001b[0m in \u001b[0;36m<module>\u001b[0;34m()\u001b[0m\n\u001b[1;32m      1\u001b[0m \u001b[0mlst\u001b[0m \u001b[0;34m=\u001b[0m \u001b[0;34m[\u001b[0m\u001b[0;34m[\u001b[0m\u001b[0;36m3\u001b[0m\u001b[0;34m,\u001b[0m\u001b[0;36m1\u001b[0m\u001b[0;34m]\u001b[0m\u001b[0;34m,\u001b[0m\u001b[0;34m[\u001b[0m\u001b[0;36m1\u001b[0m\u001b[0;34m,\u001b[0m\u001b[0;36m3\u001b[0m\u001b[0;34m]\u001b[0m\u001b[0;34m]\u001b[0m\u001b[0;34m\u001b[0m\u001b[0;34m\u001b[0m\u001b[0m\n\u001b[0;32m----> 2\u001b[0;31m \u001b[0mlst\u001b[0m\u001b[0;34m.\u001b[0m\u001b[0munique\u001b[0m\u001b[0;34m(\u001b[0m\u001b[0;34m)\u001b[0m\u001b[0;34m\u001b[0m\u001b[0;34m\u001b[0m\u001b[0m\n\u001b[0m",
            "\u001b[0;31mAttributeError\u001b[0m: 'list' object has no attribute 'unique'"
          ]
        }
      ]
    },
    {
      "cell_type": "markdown",
      "source": [
        ""
      ],
      "metadata": {
        "id": "tn5BtSg_C1iy"
      }
    },
    {
      "cell_type": "markdown",
      "source": [
        "# Dictionary "
      ],
      "metadata": {
        "id": "wpyx5g4wC1sz"
      }
    },
    {
      "cell_type": "code",
      "source": [
        "dict1 = {(3,4,8):4,(5,6,9):3}\n",
        "print(dict1)"
      ],
      "metadata": {
        "colab": {
          "base_uri": "https://localhost:8080/"
        },
        "id": "j_siCeAPC0hs",
        "outputId": "30b67b8e-36da-4765-9eaf-9e5614ad413b"
      },
      "execution_count": null,
      "outputs": [
        {
          "output_type": "stream",
          "name": "stdout",
          "text": [
            "{(3, 4, 8): 4, (5, 6, 9): 3}\n"
          ]
        }
      ]
    },
    {
      "cell_type": "code",
      "source": [
        "print('output',dict1[3,4,8])"
      ],
      "metadata": {
        "colab": {
          "base_uri": "https://localhost:8080/"
        },
        "id": "yKhl_ZNaDGgc",
        "outputId": "11820c4e-e85b-45dd-bbc3-fc75c6cd2d7f"
      },
      "execution_count": null,
      "outputs": [
        {
          "output_type": "stream",
          "name": "stdout",
          "text": [
            "output 4\n"
          ]
        }
      ]
    },
    {
      "cell_type": "markdown",
      "source": [
        "2. Get keys[\"name\",\"age\"] from dictionary and create new dictionary\n",
        "\n",
        "Key, values we have to get. We are using the dictionary comprehension with IN Operatior to find the keys ['name','age']"
      ],
      "metadata": {
        "id": "StPOQrxRDizO"
      }
    },
    {
      "cell_type": "code",
      "source": [
        "animaldict = {\n",
        "\"name\":\"Dog\",\n",
        " \"age\":5,\n",
        " \"weight\":4,\n",
        " \"country\":\"US\",\n",
        " \"city\":\"California\"}\n",
        " "
      ],
      "metadata": {
        "id": "NKULHS0LDxC3"
      },
      "execution_count": null,
      "outputs": []
    },
    {
      "cell_type": "code",
      "source": [
        "outdict = {key : animaldict[key] for key in [\"name\",\"age\"] }\n",
        "print(outdict)"
      ],
      "metadata": {
        "colab": {
          "base_uri": "https://localhost:8080/"
        },
        "id": "uO3y3ZK0D98e",
        "outputId": "e3c315d8-f9eb-48c5-ed6a-75bbfd1ee8ee"
      },
      "execution_count": null,
      "outputs": [
        {
          "output_type": "stream",
          "name": "stdout",
          "text": [
            "{'name': 'Dog', 'age': 5}\n"
          ]
        }
      ]
    },
    {
      "cell_type": "markdown",
      "source": [
        "#3. Program to delete set of keys from dictionary \n",
        "\n",
        "Keys to delete = ['name','age']"
      ],
      "metadata": {
        "id": "DIPxRTykEV25"
      }
    },
    {
      "cell_type": "code",
      "source": [
        "outdict = {key :animaldict[key] for key in animaldict.keys() - [\"name\",\"age\"]}\n",
        "print(outdict)"
      ],
      "metadata": {
        "colab": {
          "base_uri": "https://localhost:8080/"
        },
        "id": "4_dS0bzTEdFz",
        "outputId": "d99669ea-0c7c-4945-b945-81edae2a7adb"
      },
      "execution_count": null,
      "outputs": [
        {
          "output_type": "stream",
          "name": "stdout",
          "text": [
            "{'country': 'US', 'weight': 4, 'city': 'California'}\n"
          ]
        }
      ]
    },
    {
      "cell_type": "code",
      "source": [
        "#What will be the output of the program \n",
        "dictlang = {'c#':6, 'GO':89,'Python':4,\"Rust\":10}\n",
        "print(sorted(dictlang))\n",
        "for _ in sorted(dictlang):\n",
        "  print(dictlang[_])"
      ],
      "metadata": {
        "colab": {
          "base_uri": "https://localhost:8080/"
        },
        "id": "MmeTazm-ErJD",
        "outputId": "690182bd-849c-4668-d6d5-6b5f3debda90"
      },
      "execution_count": null,
      "outputs": [
        {
          "output_type": "stream",
          "name": "stdout",
          "text": [
            "['GO', 'Python', 'Rust', 'c#']\n",
            "89\n",
            "4\n",
            "10\n",
            "6\n"
          ]
        }
      ]
    },
    {
      "cell_type": "markdown",
      "source": [
        "Here, we are checking coping one dictionary to another dictionary has the same ID. It will return true of False"
      ],
      "metadata": {
        "id": "nYgkJSntFZ_q"
      }
    },
    {
      "cell_type": "code",
      "source": [
        "cpydict = dictlang.copy()\n",
        "print(id(cpydict))\n",
        "print(id(dictlang))\n",
        "print(id(cpydict) == id(dictlang))"
      ],
      "metadata": {
        "colab": {
          "base_uri": "https://localhost:8080/"
        },
        "id": "cx4F8-jSFkl3",
        "outputId": "31b330bc-3d51-49e4-eb64-b86540397394"
      },
      "execution_count": null,
      "outputs": [
        {
          "output_type": "stream",
          "name": "stdout",
          "text": [
            "139913295337664\n",
            "139913295514192\n",
            "False\n"
          ]
        }
      ]
    },
    {
      "cell_type": "markdown",
      "source": [
        "How to change Names in dictionary "
      ],
      "metadata": {
        "id": "tJMkc84CF1k7"
      }
    },
    {
      "cell_type": "code",
      "source": [
        "animaldict['animalname'] = animaldict.pop('name')\n",
        "print(animaldict)"
      ],
      "metadata": {
        "colab": {
          "base_uri": "https://localhost:8080/"
        },
        "id": "90IoOB2oF46I",
        "outputId": "8ff6519e-f075-47b0-f90f-75253d55a1eb"
      },
      "execution_count": null,
      "outputs": [
        {
          "output_type": "stream",
          "name": "stdout",
          "text": [
            "{'age': 5, 'weight': 4, 'country': 'US', 'city': 'California', 'animalname': 'Dog'}\n"
          ]
        }
      ]
    },
    {
      "cell_type": "code",
      "source": [
        "print(dictlang['c#','GO'])"
      ],
      "metadata": {
        "colab": {
          "base_uri": "https://localhost:8080/",
          "height": 165
        },
        "id": "KB-bpEhRGGWy",
        "outputId": "32f3ff59-f434-4448-c4c7-6c1cdc3457f8"
      },
      "execution_count": null,
      "outputs": [
        {
          "output_type": "error",
          "ename": "KeyError",
          "evalue": "ignored",
          "traceback": [
            "\u001b[0;31m---------------------------------------------------------------------------\u001b[0m",
            "\u001b[0;31mKeyError\u001b[0m                                  Traceback (most recent call last)",
            "\u001b[0;32m<ipython-input-26-0008864bdff6>\u001b[0m in \u001b[0;36m<module>\u001b[0;34m()\u001b[0m\n\u001b[0;32m----> 1\u001b[0;31m \u001b[0mprint\u001b[0m\u001b[0;34m(\u001b[0m\u001b[0mdictlang\u001b[0m\u001b[0;34m[\u001b[0m\u001b[0;34m'c#'\u001b[0m\u001b[0;34m,\u001b[0m\u001b[0;34m'GO'\u001b[0m\u001b[0;34m]\u001b[0m\u001b[0;34m)\u001b[0m\u001b[0;34m\u001b[0m\u001b[0;34m\u001b[0m\u001b[0m\n\u001b[0m",
            "\u001b[0;31mKeyError\u001b[0m: ('c#', 'GO')"
          ]
        }
      ]
    },
    {
      "cell_type": "markdown",
      "source": [
        "How to change the value of any key in nested dictionary "
      ],
      "metadata": {
        "id": "i9UvwmvCGWSU"
      }
    },
    {
      "cell_type": "code",
      "source": [
        "animaldict = {\n",
        "    \"animal\" :{\n",
        "        \"name\" :'Dog',\n",
        "        \"age\" :5\n",
        "    },\n",
        "    \"animal1\" : {\n",
        "        \"name\" : \"cat\",\n",
        "        \"age\":2\n",
        "    },\n",
        "    \"animal2\" : {\n",
        "        \"name\":\"Rabbit\",\n",
        "        \"age\": 1\n",
        "    },\n",
        "}"
      ],
      "metadata": {
        "id": "v3cK_lYuIJAy"
      },
      "execution_count": null,
      "outputs": []
    },
    {
      "cell_type": "code",
      "source": [
        "animaldict"
      ],
      "metadata": {
        "colab": {
          "base_uri": "https://localhost:8080/"
        },
        "id": "TCPegpceIkxt",
        "outputId": "fa92cd68-9490-49aa-f932-035e1f71dc01"
      },
      "execution_count": null,
      "outputs": [
        {
          "output_type": "execute_result",
          "data": {
            "text/plain": [
              "{'animal': {'age': 5, 'name': 'Dog'},\n",
              " 'animal1': {'age': 2, 'name': 'cat'},\n",
              " 'animal2': {'age': 1, 'name': 'Rabbit'}}"
            ]
          },
          "metadata": {},
          "execution_count": 30
        }
      ]
    },
    {
      "cell_type": "code",
      "source": [
        "#change name of catin nested animal1\n",
        "animaldict[\"animal1\"][\"age\"] = 5"
      ],
      "metadata": {
        "id": "vV-vxFmfIs2j"
      },
      "execution_count": null,
      "outputs": []
    },
    {
      "cell_type": "code",
      "source": [
        "animaldict"
      ],
      "metadata": {
        "colab": {
          "base_uri": "https://localhost:8080/"
        },
        "id": "lS1xmR5OI2ps",
        "outputId": "ed1719b9-3b51-4c33-900f-402bcf04635d"
      },
      "execution_count": null,
      "outputs": [
        {
          "output_type": "execute_result",
          "data": {
            "text/plain": [
              "{'animal': {'age': 5, 'name': 'Dog'},\n",
              " 'animal1': {'age': 5, 'name': 'cat'},\n",
              " 'animal2': {'age': 1, 'name': 'Rabbit'}}"
            ]
          },
          "metadata": {},
          "execution_count": 33
        }
      ]
    },
    {
      "cell_type": "markdown",
      "source": [
        "delete a key from dictionary"
      ],
      "metadata": {
        "id": "yRCqz_pgJHmE"
      }
    },
    {
      "cell_type": "code",
      "source": [
        "fruitsdict = { \n",
        "    \"Apple\" : 100,\n",
        "    \"Orange\" : 200,\n",
        "    \"Banana\" : 400,\n",
        "    \"pomegranate\":600\n",
        "}\n",
        "#if 'Apple' in fruitsdict:\n",
        " # del fruitsdict['Apple']"
      ],
      "metadata": {
        "id": "4K0E6pHEJK35"
      },
      "execution_count": null,
      "outputs": []
    },
    {
      "cell_type": "code",
      "source": [
        "fruitsdict"
      ],
      "metadata": {
        "colab": {
          "base_uri": "https://localhost:8080/"
        },
        "id": "IoxZSyqLJdFk",
        "outputId": "a42958c0-a968-4908-f865-feca0f4e1ef4"
      },
      "execution_count": null,
      "outputs": [
        {
          "output_type": "execute_result",
          "data": {
            "text/plain": [
              "{'Banana': 400, 'Orange': 200, 'pomegranate': 600}"
            ]
          },
          "metadata": {},
          "execution_count": 40
        }
      ]
    },
    {
      "cell_type": "markdown",
      "source": [
        "How to get min and max keys corresponding to mon and max value in the dictionary "
      ],
      "metadata": {
        "id": "z7DrbCiAJsTx"
      }
    },
    {
      "cell_type": "code",
      "source": [
        "print(\"Min value key \", min(fruitsdict,key=fruitsdict.get))\n",
        "print(\"Max value key\",max(fruitsdict,key = fruitsdict.get))"
      ],
      "metadata": {
        "colab": {
          "base_uri": "https://localhost:8080/"
        },
        "id": "agRrQ3htpz9o",
        "outputId": "4ec80dce-9e78-4efb-b6d5-5b50dc73129a"
      },
      "execution_count": null,
      "outputs": [
        {
          "output_type": "stream",
          "name": "stdout",
          "text": [
            "Min value key  Apple\n",
            "Max value key pomegranate\n"
          ]
        }
      ]
    },
    {
      "cell_type": "code",
      "source": [
        "print(\"Min value key \", min(fruitsdict))\n",
        "print(\"Max value key\",max(fruitsdict))"
      ],
      "metadata": {
        "colab": {
          "base_uri": "https://localhost:8080/"
        },
        "id": "3J1rumXmqJni",
        "outputId": "96130732-c58e-4654-a218-a276f8aa5b73"
      },
      "execution_count": null,
      "outputs": [
        {
          "output_type": "stream",
          "name": "stdout",
          "text": [
            "Min value key  Apple\n",
            "Max value key pomegranate\n"
          ]
        }
      ]
    },
    {
      "cell_type": "markdown",
      "source": [
        "How to concatenate multiple dictionary in one"
      ],
      "metadata": {
        "id": "hlx4okYGqQar"
      }
    },
    {
      "cell_type": "code",
      "source": [
        "Fruit = {'Apple': 100, 'banana': 5}\n",
        "Subject = {'Math': 100,'English':98}\n",
        "animal = {'name': 'Rabbit','age':1}\n",
        "concate_dict = {}\n",
        "\n",
        "for dict1 in (Fruit,Subject,animal) : concate_dict.update(dict1)\n",
        "print(concate_dict)"
      ],
      "metadata": {
        "colab": {
          "base_uri": "https://localhost:8080/"
        },
        "id": "lw132JYOqTzG",
        "outputId": "3b42653b-b080-403f-e2d4-9158f191052f"
      },
      "execution_count": null,
      "outputs": [
        {
          "output_type": "stream",
          "name": "stdout",
          "text": [
            "{'Apple': 100, 'banana': 5, 'Math': 100, 'English': 98, 'name': 'Rabbit', 'age': 1}\n"
          ]
        }
      ]
    },
    {
      "cell_type": "markdown",
      "source": [
        "Using the sum() method we can sum the Dictionary elements"
      ],
      "metadata": {
        "id": "J4YkZFHRq3VO"
      }
    },
    {
      "cell_type": "code",
      "source": [
        "Fruit = {'Apple': 100,'banana':5,'orage':45,'guava':60}\n",
        "print(\"Sum of dict elements\", sum(Fruit.values()))"
      ],
      "metadata": {
        "colab": {
          "base_uri": "https://localhost:8080/"
        },
        "id": "zJb9fnsFq7Hn",
        "outputId": "6bbd710f-c34f-4030-f320-827d64d11f5a"
      },
      "execution_count": null,
      "outputs": [
        {
          "output_type": "stream",
          "name": "stdout",
          "text": [
            "Sum of dict elements 210\n"
          ]
        }
      ]
    },
    {
      "cell_type": "markdown",
      "source": [
        "how to multiply all elements of dictionary"
      ],
      "metadata": {
        "id": "n_DP6eDVrMBH"
      }
    },
    {
      "cell_type": "code",
      "source": [
        "multi = 1\n",
        "for key in Fruit:\n",
        "  multi += multi * Fruit[key]\n",
        "\n",
        "print(multi)"
      ],
      "metadata": {
        "colab": {
          "base_uri": "https://localhost:8080/"
        },
        "id": "HwPy51LmrP5f",
        "outputId": "f0fdfce7-d878-4628-e75d-d86038c34695"
      },
      "execution_count": null,
      "outputs": [
        {
          "output_type": "stream",
          "name": "stdout",
          "text": [
            "1700436\n"
          ]
        }
      ]
    },
    {
      "cell_type": "markdown",
      "source": [
        "How to sort a Dictionary by key "
      ],
      "metadata": {
        "id": "I5olLgtOrbkj"
      }
    },
    {
      "cell_type": "code",
      "source": [
        "print(\"Sorted Dictionary:\")\n",
        "for key in sorted(Fruit):\n",
        "  print(key,\":\",Fruit[key])"
      ],
      "metadata": {
        "colab": {
          "base_uri": "https://localhost:8080/"
        },
        "id": "LK4NZ4Y3rel8",
        "outputId": "5555d9be-a0e4-421b-ef98-dbe9f3edd4c1"
      },
      "execution_count": null,
      "outputs": [
        {
          "output_type": "stream",
          "name": "stdout",
          "text": [
            "Sorted Dictionary:\n",
            "Apple : 100\n",
            "banana : 5\n",
            "guava : 60\n",
            "orage : 45\n"
          ]
        }
      ]
    },
    {
      "cell_type": "markdown",
      "source": [
        "How to remove no value items from Dictionary "
      ],
      "metadata": {
        "id": "LY6n8MJ7r-ZM"
      }
    },
    {
      "cell_type": "code",
      "source": [
        "mutidict = {'lang': 'C#','Fruit':'Apple','Subj':None,'Animal': None}\n",
        "Outdict = {Key:value for (Key,value) in mutidict.items() if value is not None}\n",
        "print(Outdict)"
      ],
      "metadata": {
        "colab": {
          "base_uri": "https://localhost:8080/"
        },
        "id": "oIJ0kbV1rwd7",
        "outputId": "b86da7d4-c6cd-46b4-d44c-2dd3b3764e6c"
      },
      "execution_count": null,
      "outputs": [
        {
          "output_type": "stream",
          "name": "stdout",
          "text": [
            "{'lang': 'C#', 'Fruit': 'Apple'}\n"
          ]
        }
      ]
    },
    {
      "cell_type": "markdown",
      "source": [
        "How to filter dictionary based on value "
      ],
      "metadata": {
        "id": "kgUDzJU4sYd_"
      }
    },
    {
      "cell_type": "code",
      "source": [
        "empdict = {'jack': 12000,'Max':20000,'Hack':25000,'Nack':80000}\n",
        "filterEmpDict = {key:value for (key,value) in empdict.items() if value<= 70000}"
      ],
      "metadata": {
        "id": "aTFVvF7xsjv3"
      },
      "execution_count": null,
      "outputs": []
    },
    {
      "cell_type": "code",
      "source": [
        "filterEmpDict"
      ],
      "metadata": {
        "colab": {
          "base_uri": "https://localhost:8080/"
        },
        "id": "OICAn4qTs00F",
        "outputId": "44220d50-1b20-4f5c-eaa0-6e632b929098"
      },
      "execution_count": null,
      "outputs": [
        {
          "output_type": "execute_result",
          "data": {
            "text/plain": [
              "{'Hack': 25000, 'Max': 20000, 'jack': 12000}"
            ]
          },
          "metadata": {},
          "execution_count": 20
        }
      ]
    },
    {
      "cell_type": "markdown",
      "source": [
        "How to check number of keys have same value."
      ],
      "metadata": {
        "id": "YOj8kdWKtFzz"
      }
    },
    {
      "cell_type": "code",
      "source": [
        "empdict = {'Racx':12000,'Max':80000,'Stack':80000,'John':80000,}\n",
        "\n",
        "valuetofind = 80000\n",
        "\n",
        "count = sum(val == valuetofind for val in empdict.values())\n",
        "\n",
        "print(\"number of keys have same value\",count)"
      ],
      "metadata": {
        "colab": {
          "base_uri": "https://localhost:8080/"
        },
        "id": "G-gi6DUAs06S",
        "outputId": "cd6ab6f0-baf1-4d3f-a25d-38b95e82401d"
      },
      "execution_count": null,
      "outputs": [
        {
          "output_type": "stream",
          "name": "stdout",
          "text": [
            "number of keys have same value 3\n"
          ]
        }
      ]
    },
    {
      "cell_type": "markdown",
      "source": [
        "How to convert dictionary object into string"
      ],
      "metadata": {
        "id": "-2m-YK5NuJ6X"
      }
    },
    {
      "cell_type": "code",
      "source": [
        "personDict = {'Name':'Simulen',\n",
        "              'City': 'CA',\n",
        "              'Country':'USA'}\n",
        "print(\"Type before conversion =\",type(personDict))\n",
        "\n",
        "dicttostring = str(personDict)\n",
        "print(dicttostring)"
      ],
      "metadata": {
        "colab": {
          "base_uri": "https://localhost:8080/"
        },
        "id": "RORrsmahuMq5",
        "outputId": "20f3724c-4541-4b43-d131-5b4254caf844"
      },
      "execution_count": null,
      "outputs": [
        {
          "output_type": "stream",
          "name": "stdout",
          "text": [
            "Type before conversion = <class 'dict'>\n",
            "{'Name': 'Simulen', 'City': 'CA', 'Country': 'USA'}\n"
          ]
        }
      ]
    },
    {
      "cell_type": "markdown",
      "source": [
        "Program to add multiple keys into dictionary "
      ],
      "metadata": {
        "id": "lQZsZePAukap"
      }
    },
    {
      "cell_type": "code",
      "source": [
        "persondict = {'person':{\"name\":'Simulat',\n",
        "                        \"city\":\"CA\",\n",
        "                        \"country\":'USA'},\n",
        "             'person1':{\"name\":'gogo',\n",
        "                        \"city\":\"Ct\",\n",
        "                        \"country\":'UK'}, }\n",
        "\n",
        "persondict['person']['Company'] = 'Morgan Stanley'\n",
        "\n",
        "print(\"Dictionary after adding key =\\n\",persondict)"
      ],
      "metadata": {
        "colab": {
          "base_uri": "https://localhost:8080/"
        },
        "id": "92F94DBxunUu",
        "outputId": "04c443ee-6970-49f7-cd77-1c063f9c8bfd"
      },
      "execution_count": null,
      "outputs": [
        {
          "output_type": "stream",
          "name": "stdout",
          "text": [
            "Dictionary after adding key =\n",
            " {'person': {'name': 'Simulat', 'city': 'CA', 'country': 'USA', 'Company': 'Morgan Stanley'}, 'person1': {'name': 'gogo', 'city': 'Ct', 'country': 'UK'}}\n"
          ]
        }
      ]
    },
    {
      "cell_type": "code",
      "source": [
        "persondict['person1']['Company'] = 'Credit Suisse'\n",
        "persondict"
      ],
      "metadata": {
        "colab": {
          "base_uri": "https://localhost:8080/"
        },
        "id": "FQ-tUKtlvH0c",
        "outputId": "261c7ba8-d89b-4784-a041-b34a0b28e792"
      },
      "execution_count": null,
      "outputs": [
        {
          "output_type": "execute_result",
          "data": {
            "text/plain": [
              "{'person': {'Company': 'Morgan Stanley',\n",
              "  'city': 'CA',\n",
              "  'country': 'USA',\n",
              "  'name': 'Simulat'},\n",
              " 'person1': {'Company': 'Credit Suisse',\n",
              "  'city': 'Ct',\n",
              "  'country': 'UK',\n",
              "  'name': 'gogo'}}"
            ]
          },
          "metadata": {},
          "execution_count": 25
        }
      ]
    },
    {
      "cell_type": "markdown",
      "source": [
        "# Map()\n",
        "\n",
        "source : https://www.guru99.com/python-map-function.html"
      ],
      "metadata": {
        "id": "IuDrjNk4xOGd"
      }
    },
    {
      "cell_type": "markdown",
      "source": [
        "Python map() applies a function on all the items of an iterator given as input. \n",
        "\n",
        "An iterator, for example, can be a list, a tuple, a set, a dictionary, a string, and it returns an iterable map object.\n",
        "\n",
        "Python map() is a built-in function\n",
        "\n",
        "```\n",
        "Syntax\n",
        "map(function,iterator1,iterator2....iteratorN)\n",
        "```\n",
        "Here are two important **Parameters**: \n",
        "\n",
        "- **Function** : A mandatory function to be given to map, that will be applied to all the items available in the iterator. \n",
        "\n",
        "- **Iterator** : An iterable compulsory object. It can be a list, a tuple, etc. \n",
        "You can pass multiple iterator objects to map() function.\n",
        "\n",
        "**Return Value**\n",
        "\n",
        "The map() function is going to apply the given function on all the items inside the iterator and return an iterable map object i.e a tuple, a list ,etc "
      ],
      "metadata": {
        "id": "dZbwKOacxcRo"
      }
    },
    {
      "cell_type": "markdown",
      "source": [
        "1. Consider you have a list of numbers , and you want to find the square of each of the numbers."
      ],
      "metadata": {
        "id": "2AJ4-M6X2fdm"
      }
    },
    {
      "cell_type": "code",
      "source": [
        "def square(n):\n",
        "  return n*n\n",
        "\n",
        "my_list = [ 2,3,4,5,6,7,8,9]\n",
        "updatelist = map(square,my_list)\n",
        "print(updatelist)\n",
        "print(list(updatelist))"
      ],
      "metadata": {
        "colab": {
          "base_uri": "https://localhost:8080/"
        },
        "id": "t_mdMiQn2d3w",
        "outputId": "ceea9728-3ff5-44c9-92b3-c16620f4ecc8"
      },
      "execution_count": null,
      "outputs": [
        {
          "output_type": "stream",
          "name": "stdout",
          "text": [
            "<map object at 0x7fe5d393ae50>\n",
            "[4, 9, 16, 25, 36, 49, 64, 81]\n"
          ]
        }
      ]
    },
    {
      "cell_type": "markdown",
      "source": [
        "The outper of the map() function ,as seen in the output, is a map object displayed in the screen.\n",
        "\n",
        "Using map() with python built-in functions"
      ],
      "metadata": {
        "id": "R-lR5pax250C"
      }
    },
    {
      "cell_type": "code",
      "source": [
        "my_list = [2.6743,3.63526,4.2325,5.9687967,6.3265,7.6988,8.232,9.6907]\n",
        "updated_list = map(round,my_list)\n",
        "print(list(updated_list))"
      ],
      "metadata": {
        "colab": {
          "base_uri": "https://localhost:8080/"
        },
        "id": "e-8Dcn2L3G_t",
        "outputId": "fce53207-a44f-4fe4-fa78-40c961ea692a"
      },
      "execution_count": null,
      "outputs": [
        {
          "output_type": "stream",
          "name": "stdout",
          "text": [
            "[3, 4, 4, 6, 6, 8, 8, 10]\n"
          ]
        }
      ]
    },
    {
      "cell_type": "markdown",
      "source": [
        "The round() function is applied to all the items in the list, and it returns back with all values rounded.\n",
        "\n",
        "Using Map() with a string as an iterator"
      ],
      "metadata": {
        "id": "9frQGWpX3Oyx"
      }
    },
    {
      "cell_type": "code",
      "source": [
        "def myMapfunc(s):\n",
        "  return s.upper()\n",
        "my_str = 'welcome to guru99 tutorials'\n",
        "update_str = map(myMapfunc,my_str)\n",
        "print(update_str)\n",
        "for i in update_str:\n",
        "  print(i,end=\"\")"
      ],
      "metadata": {
        "colab": {
          "base_uri": "https://localhost:8080/"
        },
        "id": "ECVNCWtc3cmd",
        "outputId": "64ff5659-1b05-4676-c58f-8af0a15e283e"
      },
      "execution_count": null,
      "outputs": [
        {
          "output_type": "stream",
          "name": "stdout",
          "text": [
            "<map object at 0x7fe5d3883790>\n",
            "WELCOME TO GURU99 TUTORIALS"
          ]
        }
      ]
    },
    {
      "cell_type": "markdown",
      "source": [
        "Using map() with list of numbers "
      ],
      "metadata": {
        "id": "1qMzn45z32Ea"
      }
    },
    {
      "cell_type": "code",
      "source": [
        "def mymapfunc(n):\n",
        "  return n*10\n",
        "\n",
        "my_list = [2,3,4,5,6,7,8,9]\n",
        "updated_list = map(mymapfunc,my_list)\n",
        "print(list(updated_list))"
      ],
      "metadata": {
        "colab": {
          "base_uri": "https://localhost:8080/"
        },
        "id": "zuffcGI034GA",
        "outputId": "ca9b57f6-b566-4480-d3bf-5294822dbffb"
      },
      "execution_count": null,
      "outputs": [
        {
          "output_type": "stream",
          "name": "stdout",
          "text": [
            "[20, 30, 40, 50, 60, 70, 80, 90]\n"
          ]
        }
      ]
    },
    {
      "cell_type": "markdown",
      "source": [
        "using Map() with tuple\n",
        "\n",
        "A tuple is an object in Python that has items seperated by commas and enclosed in round brackets. In the example, we will take a tuple with string values.\n",
        "\n",
        "The function that we will use will convert the values given to uppercase."
      ],
      "metadata": {
        "id": "FY45-OyD4F84"
      }
    },
    {
      "cell_type": "code",
      "source": [
        "def mymapfunc(n):\n",
        "  return n.upper()\n",
        "\n",
        "my_tuple = ('php','java','python','c++','c')\n",
        "updated_list = map(mymapfunc,my_tuple)\n",
        "print(list(updated_list))"
      ],
      "metadata": {
        "colab": {
          "base_uri": "https://localhost:8080/"
        },
        "id": "5M02VWtf4DPB",
        "outputId": "7aa84632-6cd0-4c3f-a544-807aa03be1ce"
      },
      "execution_count": null,
      "outputs": [
        {
          "output_type": "stream",
          "name": "stdout",
          "text": [
            "['PHP', 'JAVA', 'PYTHON', 'C++', 'C']\n"
          ]
        }
      ]
    },
    {
      "cell_type": "markdown",
      "source": [
        "Using Map() with Dictionary \n",
        "\n",
        "A dictionary in Python is created using curly brackets({}). Since the dictionary is an iterator, you can make use of it inside map function,"
      ],
      "metadata": {
        "id": "clIuZFJ64p_F"
      }
    },
    {
      "cell_type": "code",
      "source": [
        "def mymapfunc(n):\n",
        "  return n*10\n",
        "\n",
        "my_dict = {2,3,4,5,6,7,8,9}\n",
        "updated_list = map(mymapfunc,my_dict)\n",
        "print(list(updated_list))"
      ],
      "metadata": {
        "colab": {
          "base_uri": "https://localhost:8080/"
        },
        "id": "YpyvYDgI4zqx",
        "outputId": "44e5b35a-1c4b-45d7-aac4-a4c66f86cb90"
      },
      "execution_count": null,
      "outputs": [
        {
          "output_type": "stream",
          "name": "stdout",
          "text": [
            "[20, 30, 40, 50, 60, 70, 80, 90]\n"
          ]
        }
      ]
    },
    {
      "cell_type": "markdown",
      "source": [
        "Using Multiple Iterators inside Map() function \n",
        "\n",
        "You can send more than one iterator ie. a list, a tuple, etc all at the ame time to the map() function \n",
        "\n",
        "For example, if you want to add two lists. The same can be done using the map() function. We are going to make use of two lists my_list1 and my_list2\n"
      ],
      "metadata": {
        "id": "-wwthlds4_jD"
      }
    },
    {
      "cell_type": "code",
      "source": [
        "def myMapFunc(list1,list2):\n",
        "  return list1 + list2\n",
        "\n",
        "my_list1 = [2,3,4,5,6,7,8,9]\n",
        "my_list2 = [4,8,12,16,20,24,28]\n",
        "\n",
        "updated_list = map(myMapFunc,my_list1,my_list2)\n",
        "print(updated_list)\n",
        "print(list(updated_list))"
      ],
      "metadata": {
        "colab": {
          "base_uri": "https://localhost:8080/"
        },
        "id": "I02gF7HA_Az9",
        "outputId": "6364e0e2-aedb-490c-8a34-179756d7f31d"
      },
      "execution_count": null,
      "outputs": [
        {
          "output_type": "stream",
          "name": "stdout",
          "text": [
            "<map object at 0x7fe5d3885d10>\n",
            "[6, 11, 16, 21, 26, 31, 36]\n"
          ]
        }
      ]
    },
    {
      "cell_type": "markdown",
      "source": [
        "Passing one Tuple and a list iterator to map()"
      ],
      "metadata": {
        "id": "9KorWC0O_UFU"
      }
    },
    {
      "cell_type": "code",
      "source": [
        "def myMapFunction(list1,tuple1):\n",
        "  return list1+\"_\"+tuple1\n",
        "\n",
        "my_list = ['a','b', 'b', 'd', 'e']\n",
        "my_tuple = ('PHP','Java','Python','C++','C')\n",
        "\n",
        "updated_list = map(myMapFunction,my_list,my_tuple)\n",
        "print(updated_list)\n",
        "print(list(updated_list))"
      ],
      "metadata": {
        "colab": {
          "base_uri": "https://localhost:8080/"
        },
        "id": "NAyXiScr_dPf",
        "outputId": "553bc982-d6ce-4907-a0a3-8849bb3fca39"
      },
      "execution_count": null,
      "outputs": [
        {
          "output_type": "stream",
          "name": "stdout",
          "text": [
            "<map object at 0x7fe5d38a0c10>\n",
            "['a_PHP', 'b_Java', 'b_Python', 'd_C++', 'e_C']\n"
          ]
        }
      ]
    },
    {
      "cell_type": "markdown",
      "source": [
        "# Lambda Functions "
      ],
      "metadata": {
        "id": "U65AexMU_1pW"
      }
    },
    {
      "cell_type": "markdown",
      "source": [
        "A **Lambda Function in Python** programming is an anonymous function or a function having no name.\n",
        "It is a small and restricted function having no more than one line.\n",
        "Just like a normal function, a Lambda function can have multiple arguments with one expression\n",
        "\n",
        "In Python, lambda expression ( or lambda forms) are utilized to construct anonymous functions. \n",
        "\n",
        "**3 Essential parts**\n",
        "\n",
        "1. The lambda keyword\n",
        "2. The parameters ( or bound variables), and \n",
        "3. The function body.\n",
        "\n",
        "A Lambda function can have any number of parameters, but the function body can only contain **one** expression. Moreover, a lambda is written in a single line of code and can also be invoked immediately. \n",
        "\n",
        "Syntax\n",
        "```\n",
        "lambda p1,p2 : expression\n",
        "```\n",
        "\n",
        "Here, p1 and p2 are the parameters which are passed to the lambda function.  You can add as many or few parameters as you need. \n"
      ],
      "metadata": {
        "id": "L3BsyFyvDJiv"
      }
    },
    {
      "cell_type": "code",
      "source": [
        "adder = lambda x,y : x+y\n",
        "print(adder(1,2))"
      ],
      "metadata": {
        "colab": {
          "base_uri": "https://localhost:8080/"
        },
        "id": "di2zWHndEINa",
        "outputId": "76797084-8356-4c11-c338-faa0cb537eea"
      },
      "execution_count": null,
      "outputs": [
        {
          "output_type": "stream",
          "name": "stdout",
          "text": [
            "3\n"
          ]
        }
      ]
    },
    {
      "cell_type": "markdown",
      "source": [
        "Using lambdas with Python built-ins\n",
        "\n",
        "Lambda functions provide an elegant and powerful way to perform operations using built-in methods in Python. "
      ],
      "metadata": {
        "id": "UBeLEZxkEQ1-"
      }
    },
    {
      "cell_type": "markdown",
      "source": [
        "lambdas with filter()\n",
        "\n",
        "The filter function is used to select some particular elements from a sequence of elements. The sequence can be any iterator like ists, sets, tuples \n",
        "\n",
        "The elements which will be selected is based on some pre-defined constraints. \n",
        "It takes 2 parameters \n",
        "\n",
        "- A function that defines the filtering constraint.\n",
        "- A sequence ( any iterator like lists,tuples, etc.)\n"
      ],
      "metadata": {
        "id": "LpNMQPuhE4WK"
      }
    },
    {
      "cell_type": "code",
      "source": [
        "sequences = [10,2,8,7,5,4,3,11,0,1]\n",
        "filtered_result = filter ( lambda x: x>4,sequences)\n",
        "print(list(filtered_result))"
      ],
      "metadata": {
        "colab": {
          "base_uri": "https://localhost:8080/"
        },
        "id": "m1kMq5yfGAuL",
        "outputId": "922a917d-ebcb-42fc-d5d1-b5b967282ce8"
      },
      "execution_count": null,
      "outputs": [
        {
          "output_type": "stream",
          "name": "stdout",
          "text": [
            "[10, 8, 7, 5, 11]\n"
          ]
        }
      ]
    },
    {
      "cell_type": "markdown",
      "source": [
        "lambdas in Map()\n",
        "\n",
        "The map function is used to apply a particular operation to every elements in a sequence. Like filter(), it also takes 2 parameters. \n",
        "\n",
        "1. Function\n",
        "2. ONe of more sequences"
      ],
      "metadata": {
        "id": "IWXn1uayGw14"
      }
    },
    {
      "cell_type": "code",
      "source": [
        "sequences = [10,2,8,7,5,4,3,11,0,1]\n",
        "filtered_result = map(lambda x : x*x,sequences)\n",
        "print(list(filtered_result))"
      ],
      "metadata": {
        "colab": {
          "base_uri": "https://localhost:8080/"
        },
        "id": "bKXTdVKUGRv2",
        "outputId": "236cb9fb-659e-4388-d7a8-8854ff05a497"
      },
      "execution_count": null,
      "outputs": [
        {
          "output_type": "stream",
          "name": "stdout",
          "text": [
            "[100, 4, 64, 49, 25, 16, 9, 121, 0, 1]\n"
          ]
        }
      ]
    },
    {
      "cell_type": "markdown",
      "source": [
        "# Pandas  \n"
      ],
      "metadata": {
        "id": "To880kBwJ8ed"
      }
    },
    {
      "cell_type": "markdown",
      "source": [
        "How to fill nan values in pandas with zero\n",
        "\n",
        "Replace() : it can be used to replace 'string','regx','dictionary','list'"
      ],
      "metadata": {
        "id": "eQumYT7bPduT"
      }
    },
    {
      "cell_type": "code",
      "source": [
        "import pandas as pd\n",
        "import numpy as np\n",
        "\n",
        "Student_dict = {\n",
        "    \"Name\" : ['Jack','Rack',np.nan],\n",
        "    \"Marks\" :[ 100.5,np.nan,np.nan],\n",
        "    'Subject' : [np.nan,'Math','Music']\n",
        "}"
      ],
      "metadata": {
        "id": "BwO9vVjvP-sz"
      },
      "execution_count": null,
      "outputs": []
    },
    {
      "cell_type": "code",
      "source": [
        "dfobj = pd.DataFrame(Student_dict)\n",
        "\n",
        "dfobj['Marks'] = dfobj['Marks'].fillna(0)\n",
        "print(dfobj)"
      ],
      "metadata": {
        "colab": {
          "base_uri": "https://localhost:8080/"
        },
        "id": "lz4mGjXYQRtJ",
        "outputId": "b44684c7-acae-4c0d-df6c-6622b37b517f"
      },
      "execution_count": null,
      "outputs": [
        {
          "output_type": "stream",
          "name": "stdout",
          "text": [
            "   Name  Marks Subject\n",
            "0  Jack  100.5     NaN\n",
            "1  Rack    0.0    Math\n",
            "2   NaN    0.0   Music\n"
          ]
        }
      ]
    },
    {
      "cell_type": "code",
      "source": [
        "# While df\n",
        "df = dfobj.fillna(0)\n",
        "print(df)"
      ],
      "metadata": {
        "colab": {
          "base_uri": "https://localhost:8080/"
        },
        "id": "rU5eGktHQesn",
        "outputId": "f00df89f-2f8f-40f4-886c-3c2aa354acdf"
      },
      "execution_count": null,
      "outputs": [
        {
          "output_type": "stream",
          "name": "stdout",
          "text": [
            "   Name  Marks Subject\n",
            "0  Jack  100.5       0\n",
            "1  Rack    0.0    Math\n",
            "2     0    0.0   Music\n"
          ]
        }
      ]
    },
    {
      "cell_type": "markdown",
      "source": [
        "Replace() Method"
      ],
      "metadata": {
        "id": "rzAXI-wFQlMD"
      }
    },
    {
      "cell_type": "code",
      "source": [
        "#single column \n",
        "dfobj['Marks'] = dfobj['Marks'].replace(np.nan,0)\n",
        "print(dfobj)"
      ],
      "metadata": {
        "colab": {
          "base_uri": "https://localhost:8080/"
        },
        "id": "OoHGMZPCQoFx",
        "outputId": "8fc441ee-d8c2-4f56-dc29-b7033d99b15d"
      },
      "execution_count": null,
      "outputs": [
        {
          "output_type": "stream",
          "name": "stdout",
          "text": [
            "   Name  Marks Subject\n",
            "0  Jack  100.5     NaN\n",
            "1  Rack    0.0    Math\n",
            "2   NaN    0.0   Music\n"
          ]
        }
      ]
    },
    {
      "cell_type": "code",
      "source": [
        "df = dfobj.replace(np.nan,0)\n",
        "print(df)"
      ],
      "metadata": {
        "colab": {
          "base_uri": "https://localhost:8080/"
        },
        "id": "V8KMVNT7Q2w4",
        "outputId": "9f428e92-73eb-4585-af73-840dfee304d1"
      },
      "execution_count": null,
      "outputs": [
        {
          "output_type": "stream",
          "name": "stdout",
          "text": [
            "   Name  Marks Subject\n",
            "0  Jack  100.5       0\n",
            "1  Rack    0.0    Math\n",
            "2     0    0.0   Music\n"
          ]
        }
      ]
    },
    {
      "cell_type": "markdown",
      "source": [
        ""
      ],
      "metadata": {
        "id": "2K8Ck06nRlNa"
      }
    },
    {
      "cell_type": "markdown",
      "source": [
        "How to replace nan value with custom value"
      ],
      "metadata": {
        "id": "v-axEx2RRlQ_"
      }
    },
    {
      "cell_type": "code",
      "source": [
        "\n",
        "Student_dict = {\n",
        "    \"Name\" : ['Jack','Rack',np.nan],\n",
        "    \"Marks\" :[ 100.5,np.nan,np.nan],\n",
        "    'Subject' : [np.nan,'Math','Music']\n",
        "}\n",
        "dfobj = pd.DataFrame(Student_dict)\n",
        "\n",
        "dfobj['Name'].fillna('Max',inplace=True)\n",
        "\n",
        "print(dfobj.iloc[0:3,0])"
      ],
      "metadata": {
        "colab": {
          "base_uri": "https://localhost:8080/"
        },
        "id": "LLgPneEgRoiB",
        "outputId": "c440d30c-e785-4ddf-caa8-aa2203b207fe"
      },
      "execution_count": null,
      "outputs": [
        {
          "output_type": "stream",
          "name": "stdout",
          "text": [
            "0    Jack\n",
            "1    Rack\n",
            "2     Max\n",
            "Name: Name, dtype: object\n"
          ]
        }
      ]
    },
    {
      "cell_type": "markdown",
      "source": [
        "How to filter data in pandas \n",
        "\n",
        "- isin()\n",
        "- logical operator()\n",
        "- str()\n",
        "-Tilde(~)\n",
        "-Query\n",
        "-Nlargest or nsmallest\n",
        "-iloc or loc"
      ],
      "metadata": {
        "id": "2iTq_xexSKaQ"
      }
    },
    {
      "cell_type": "code",
      "source": [
        "import pandas as pd\n",
        "\n",
        "Student_dict = {\n",
        "    'Name': ['Jack','Rack','Max'],\n",
        "    'Marks':[70,80,100],\n",
        "    'Subj' :['Math','Math','Music']\n",
        "}\n",
        "\n",
        "dfobj = pd.DataFrame(Student_dict)\n",
        "\n",
        "#logical Operator\n",
        "\n",
        "dflog = dfobj[(dfobj.Marks > 70)& (dfobj.Subj == 'Math')]\n",
        "print('\\n logical:\\n',dflog)\n",
        "\n",
        "#isin()\n",
        "\n",
        "dfisin = dfobj[dfobj.Name.isin(['Max'])]\n",
        "print('\\n Isin:\\n',dfisin)\n",
        "\n",
        "#str\n",
        "\n",
        "dfstr = dfobj[dfobj.Name.str.startswith('J')]\n",
        "print('\\n str:\\n',dfstr)\n",
        "\n",
        "\n",
        "#Tilde: not\n",
        "\n",
        "dftilde = dfobj[~dfobj.Name.str.startswith('J')]\n",
        "print('\\n Tilde:\\n',dftilde)\n",
        "\n",
        "#Query\n",
        "\n",
        "dfquery = dfobj.query('Marks> 80 and Subj==\"Music\"')\n",
        "print('\\n Query:\\n',dfquery)\n"
      ],
      "metadata": {
        "colab": {
          "base_uri": "https://localhost:8080/"
        },
        "id": "VX9RLEH5Se24",
        "outputId": "c678fe8c-e1dd-401d-df75-c94b56ede452"
      },
      "execution_count": null,
      "outputs": [
        {
          "output_type": "stream",
          "name": "stdout",
          "text": [
            "\n",
            " logical:\n",
            "    Name  Marks  Subj\n",
            "1  Rack     80  Math\n",
            "\n",
            " Isin:\n",
            "   Name  Marks   Subj\n",
            "2  Max    100  Music\n",
            "\n",
            " str:\n",
            "    Name  Marks  Subj\n",
            "0  Jack     70  Math\n",
            "\n",
            " Tilde:\n",
            "    Name  Marks   Subj\n",
            "1  Rack     80   Math\n",
            "2   Max    100  Music\n",
            "\n",
            " Query:\n",
            "   Name  Marks   Subj\n",
            "2  Max    100  Music\n"
          ]
        }
      ]
    },
    {
      "cell_type": "markdown",
      "source": [
        "how to filter null values in pandas dataframe\n",
        "\n",
        "Find rows and columns with missing values we will use isnull() function that creates a boolean series of True for nan or missing values."
      ],
      "metadata": {
        "id": "l4mfIb7bUqr2"
      }
    },
    {
      "cell_type": "code",
      "source": [
        "Student_dict = {\n",
        "    'Name': [np.nan, 'Rack', 'Max'],\n",
        "    'Marks':[70,80, 100],\n",
        "    'Subj': ['Math', 'Math', np.nan]\n",
        "}\n",
        "\n",
        "dfobj = pd.DataFrame(Student_dict)\n",
        "\n",
        "#columns with missing values \n",
        "print(\"Column with missing values :\\n\",dfobj.isnull().any())"
      ],
      "metadata": {
        "colab": {
          "base_uri": "https://localhost:8080/"
        },
        "id": "WS-blyYdU8zk",
        "outputId": "fa2e73dd-440c-4563-ff9f-573ba6525430"
      },
      "execution_count": null,
      "outputs": [
        {
          "output_type": "stream",
          "name": "stdout",
          "text": [
            "Column with missing values :\n",
            " Name      True\n",
            "Marks    False\n",
            "Subj      True\n",
            "dtype: bool\n"
          ]
        }
      ]
    },
    {
      "cell_type": "code",
      "source": [
        "# rows with missing values \n",
        "print(\"Rows with missing values \\n\",dfobj.isnull().any(axis=1))"
      ],
      "metadata": {
        "colab": {
          "base_uri": "https://localhost:8080/"
        },
        "id": "Jd0Le2xXVItO",
        "outputId": "4d91ba2c-3dd3-4ba3-f2cc-c1133f377031"
      },
      "execution_count": null,
      "outputs": [
        {
          "output_type": "stream",
          "name": "stdout",
          "text": [
            "Rows with missing values \n",
            " 0     True\n",
            "1    False\n",
            "2     True\n",
            "dtype: bool\n"
          ]
        }
      ]
    },
    {
      "cell_type": "markdown",
      "source": [
        "how to filter not null values in pandas dataframe \n",
        "\n",
        "notnull() : This method creates a boolean series of False for missing values (NAN)"
      ],
      "metadata": {
        "id": "Ly0hrKkEVW8w"
      }
    },
    {
      "cell_type": "code",
      "source": [
        "Student_dict = {\n",
        "    'Name': [np.nan, 'Rack', 'Max'],\n",
        "    'Marks':[70,80, 100],\n",
        "    'Subj': ['Math', 'Math', np.nan]\n",
        "}\n",
        "  \n",
        " \n",
        "dfobj = pd.DataFrame(Student_dict)"
      ],
      "metadata": {
        "id": "LMC4az3eViLi"
      },
      "execution_count": null,
      "outputs": []
    },
    {
      "cell_type": "code",
      "source": [
        "print(dfobj.notnull())"
      ],
      "metadata": {
        "colab": {
          "base_uri": "https://localhost:8080/"
        },
        "id": "Vkqro2uMVmYp",
        "outputId": "70f83f4a-7c7a-46b0-e709-e47aeb895398"
      },
      "execution_count": null,
      "outputs": [
        {
          "output_type": "stream",
          "name": "stdout",
          "text": [
            "    Name  Marks   Subj\n",
            "0  False   True   True\n",
            "1   True   True   True\n",
            "2   True   True  False\n"
          ]
        }
      ]
    },
    {
      "cell_type": "markdown",
      "source": [
        "How to filter not null values of dataframe column "
      ],
      "metadata": {
        "id": "t20gTBnWVuhB"
      }
    },
    {
      "cell_type": "code",
      "source": [
        "Student_dict = {\n",
        "    'Name': [np.nan, 'Rack', 'Max'],\n",
        "    'Marks':[70,80, 100],\n",
        "    'Subj': ['Math', 'Math', np.nan]\n",
        "}\n",
        "  \n",
        " \n",
        "dfobj = pd.DataFrame(Student_dict)"
      ],
      "metadata": {
        "id": "vQvB_ZTRVx9N"
      },
      "execution_count": null,
      "outputs": []
    },
    {
      "cell_type": "code",
      "source": [
        "print(dfobj[\"Subj\"][pd.notnull(dfobj['Subj'])])"
      ],
      "metadata": {
        "colab": {
          "base_uri": "https://localhost:8080/"
        },
        "id": "Zg6QHZTkVzNI",
        "outputId": "b1788999-b616-47a9-9b6c-1a9522e2d1de"
      },
      "execution_count": null,
      "outputs": [
        {
          "output_type": "stream",
          "name": "stdout",
          "text": [
            "0    Math\n",
            "1    Math\n",
            "Name: Subj, dtype: object\n"
          ]
        }
      ]
    },
    {
      "cell_type": "markdown",
      "source": [
        "How to filter dataframe rows withhout Nan specified column using isna()"
      ],
      "metadata": {
        "id": "uSbkWUHnWBut"
      }
    },
    {
      "cell_type": "code",
      "source": [
        "Student_dict = {\n",
        "    'Name': [np.nan, 'Rack', 'Max'],\n",
        "    'Marks':[70,80, 100],\n",
        "    'Subj': ['Math', 'Math', 'Music']\n",
        "}\n",
        "  \n",
        " \n",
        "dfobj = pd.DataFrame(Student_dict)"
      ],
      "metadata": {
        "id": "msMsD5eQWM1V"
      },
      "execution_count": null,
      "outputs": []
    },
    {
      "cell_type": "code",
      "source": [
        "# Rows without nan/missing values\n",
        "print(dfobj[~dfobj['Name'].isna()])"
      ],
      "metadata": {
        "colab": {
          "base_uri": "https://localhost:8080/"
        },
        "id": "Rs7XBrSMWNqZ",
        "outputId": "dca7076d-945c-47c1-ea34-38d5504b0f81"
      },
      "execution_count": null,
      "outputs": [
        {
          "output_type": "stream",
          "name": "stdout",
          "text": [
            "   Name  Marks   Subj\n",
            "1  Rack     80   Math\n",
            "2   Max    100  Music\n"
          ]
        }
      ]
    },
    {
      "cell_type": "markdown",
      "source": [
        "How to filter dataframe by indexes single or multiple"
      ],
      "metadata": {
        "id": "agGHAQiCYV1V"
      }
    },
    {
      "cell_type": "code",
      "source": [
        "Student_dict = {\n",
        "    'Name': ['Jack', 'Rack', 'Max'],\n",
        "    'Marks':[70,80,100],\n",
        "    'Subj': ['Math', 'Math', 'Music']\n",
        "}\n",
        "  \n",
        " \n",
        "dfobj = pd.DataFrame(Student_dict)"
      ],
      "metadata": {
        "id": "aiNfYGrpYae9"
      },
      "execution_count": null,
      "outputs": []
    },
    {
      "cell_type": "code",
      "source": [
        "# single row \n",
        "\n",
        "df_one = dfobj.filter(items = [1],axis=0)\n",
        "print(df_one,\"\\n\")\n",
        "#multiple_rows\n",
        "df_muti = dfobj.filter(items = [0,1],axis=0)\n",
        "print(df_muti)"
      ],
      "metadata": {
        "colab": {
          "base_uri": "https://localhost:8080/"
        },
        "id": "FxQK_XIXYblK",
        "outputId": "cff12d01-88fb-4fd8-8f95-2ad7bfb41d34"
      },
      "execution_count": null,
      "outputs": [
        {
          "output_type": "stream",
          "name": "stdout",
          "text": [
            "   Name  Marks  Subj\n",
            "1  Rack     80  Math \n",
            "\n",
            "   Name  Marks  Subj\n",
            "0  Jack     70  Math\n",
            "1  Rack     80  Math\n"
          ]
        }
      ]
    },
    {
      "cell_type": "markdown",
      "source": [
        "How to filter dataframe based on no-numeric index"
      ],
      "metadata": {
        "id": "oDUbJAM2ZApA"
      }
    },
    {
      "cell_type": "code",
      "source": [
        " \n",
        "Student_dict = {\n",
        "    'Name': ['Jack', 'Rack', 'Max'],\n",
        "    'Marks':[70,80,100],\n",
        "    'Subj': ['Math', 'Math', 'Music']\n",
        "}\n",
        "\n",
        "dfobj = pd.DataFrame(Student_dict,index=['Row_1','Row_2','Row_3'])\n",
        "\n",
        "#single row \n",
        "\n",
        "df_one = dfobj.filter(items = ['Row_2'],axis= 0 )\n",
        "print(df_one)"
      ],
      "metadata": {
        "colab": {
          "base_uri": "https://localhost:8080/"
        },
        "id": "bXPFx7iAZrqv",
        "outputId": "8020f938-b989-4b1c-c8ee-40e3fdc007e7"
      },
      "execution_count": null,
      "outputs": [
        {
          "output_type": "stream",
          "name": "stdout",
          "text": [
            "       Name  Marks  Subj\n",
            "Row_2  Rack     80  Math\n"
          ]
        }
      ]
    },
    {
      "cell_type": "markdown",
      "source": [
        "How to filter dataframe with multiple columns in Pandas "
      ],
      "metadata": {
        "id": "Z6AZz57OZ90X"
      }
    },
    {
      "cell_type": "code",
      "source": [
        "import pandas as pd\n",
        "\n",
        "Student_dict = {\n",
        "    'Name' : ['Jack','Rack','Max'],\n",
        "    'Marks' :[100,80,100],\n",
        "    'Subj':['Math','Math','Music']\n",
        "}\n",
        "\n",
        "dfobj = pd.DataFrame(Student_dict,index=['Row_1','Row_2','Row_3'])\n",
        "\n",
        "#using query \n",
        "df_multi =dfobj.query('Marks>80 and Subj ==\"Math\" and Name ==\"Jack\"')\n",
        "\n",
        "#using Eval()\n",
        "df_eval = dfobj[dfobj.eval('Marks > 80 and Subj ==\"Math\" and Name==\"Jack\"')]\n",
        "\n",
        "#using logical operator\n",
        "df_log = dfobj[(dfobj[\"Name\"]==\"Jack\") & (dfobj[\"Subj\"]==\"Math\")]\n",
        "\n",
        "\n",
        "#using loc\n",
        "df_loc = dfobj.loc[(dfobj[\"Name\"].str.startswith(\"J\")* dfobj[\"Subj\"]==\"Math\")]\n",
        "\n",
        "print(\"\\n\",df_multi)\n",
        "print(\"\\n\",df_eval)\n",
        "print(\"\\n\",df_log)\n",
        "print(\"\\n\",df_loc)"
      ],
      "metadata": {
        "colab": {
          "base_uri": "https://localhost:8080/"
        },
        "id": "xj36L5G6kcx7",
        "outputId": "5c5adfe7-91ae-47be-e6d0-dee701cd96fc"
      },
      "execution_count": null,
      "outputs": [
        {
          "output_type": "stream",
          "name": "stdout",
          "text": [
            "\n",
            "        Name  Marks  Subj\n",
            "Row_1  Jack    100  Math\n",
            "\n",
            "        Name  Marks  Subj\n",
            "Row_1  Jack    100  Math\n",
            "\n",
            "        Name  Marks  Subj\n",
            "Row_1  Jack    100  Math\n",
            "\n",
            "        Name  Marks  Subj\n",
            "Row_1  Jack    100  Math\n"
          ]
        }
      ]
    },
    {
      "cell_type": "markdown",
      "source": [
        "How to filter Pandas DataFrame by Column Values\n",
        "\n"
      ],
      "metadata": {
        "id": "jHhQoxG_meGk"
      }
    },
    {
      "cell_type": "code",
      "source": [
        "options = ['Math','Music']\n",
        "\n",
        "df_loc = dfobj.loc[(dfobj[\"Name\"].str.startswith(\"J\") & (dfobj[\"Subj\"]==\"Math\")) & (dfobj[\"Marks\"]==100)]\n",
        "\n",
        "#using isin \n",
        "df_isin = dfobj[dfobj[\"Subj\"].isin(options)]\n",
        "\n",
        "print('\\n isin:\\n',df_isin)\n",
        "\n",
        "print('\\nloc:\\n',df_loc)"
      ],
      "metadata": {
        "colab": {
          "base_uri": "https://localhost:8080/"
        },
        "id": "h-l8-56Sm70H",
        "outputId": "8e793795-5806-4770-9b54-864f34c0b5ef"
      },
      "execution_count": null,
      "outputs": [
        {
          "output_type": "stream",
          "name": "stdout",
          "text": [
            "\n",
            " isin:\n",
            "        Name  Marks   Subj\n",
            "Row_1  Jack    100   Math\n",
            "Row_2  Rack     80   Math\n",
            "Row_3   Max    100  Music\n",
            "\n",
            "loc:\n",
            "        Name  Marks  Subj\n",
            "Row_1  Jack    100  Math\n"
          ]
        }
      ]
    },
    {
      "cell_type": "markdown",
      "source": [
        "How to Slice a dataframe by using loc"
      ],
      "metadata": {
        "id": "VYsDMx-xn6Fa"
      }
    },
    {
      "cell_type": "code",
      "source": [
        "dfobj = pd.DataFrame(Student_dict)\n",
        "\n",
        "#using loc 1,2 rows for 'Name' column \n",
        "\n",
        "df_loc1 = dfobj.loc[0:1,\"Name\"]\n",
        "print(df_loc1)"
      ],
      "metadata": {
        "colab": {
          "base_uri": "https://localhost:8080/"
        },
        "id": "qwh8akxNn8a6",
        "outputId": "fec4cf04-54aa-4b59-a6a8-8ab166753ccf"
      },
      "execution_count": null,
      "outputs": [
        {
          "output_type": "stream",
          "name": "stdout",
          "text": [
            "0    Jack\n",
            "1    Rack\n",
            "Name: Name, dtype: object\n"
          ]
        }
      ]
    },
    {
      "cell_type": "code",
      "source": [
        "import random\n",
        "from google.colab import drive\n",
        "drive.mount('/content/drive')"
      ],
      "metadata": {
        "colab": {
          "base_uri": "https://localhost:8080/"
        },
        "id": "WqnwX9i3qYvQ",
        "outputId": "d07396e6-2f6a-45b5-8e41-785d191e81c7"
      },
      "execution_count": null,
      "outputs": [
        {
          "output_type": "stream",
          "name": "stdout",
          "text": [
            "Mounted at /content/drive\n"
          ]
        }
      ]
    },
    {
      "cell_type": "code",
      "source": [
        "import seaborn as sns\n",
        "import random\n",
        "import matplotlib.pyplot as plt\n",
        "\n",
        "%cd /content/drive/My\\ Drive/colab_notebooks/machine_learning/Interview_prep/Python/"
      ],
      "metadata": {
        "colab": {
          "base_uri": "https://localhost:8080/"
        },
        "id": "o3v-2T1gq2m5",
        "outputId": "d339a9b5-c5c8-4d04-d8f1-41f35071d676"
      },
      "execution_count": null,
      "outputs": [
        {
          "output_type": "stream",
          "name": "stdout",
          "text": [
            "/content/drive/My Drive/colab_notebooks/machine_learning/Interview_prep/Python\n"
          ]
        }
      ]
    },
    {
      "cell_type": "code",
      "source": [
        "import pandas as pd\n",
        "nba = pd.read_csv('nba.csv')"
      ],
      "metadata": {
        "id": "epAYkBDQrAOY"
      },
      "execution_count": null,
      "outputs": []
    },
    {
      "cell_type": "code",
      "source": [
        "data_top  = nba.head()\n",
        "data_top"
      ],
      "metadata": {
        "colab": {
          "base_uri": "https://localhost:8080/",
          "height": 337
        },
        "id": "bEqZ3wMyrOhM",
        "outputId": "c6bc2799-702a-4a7d-d1bd-735d6a623bec"
      },
      "execution_count": null,
      "outputs": [
        {
          "output_type": "execute_result",
          "data": {
            "text/plain": [
              "            Name            Team  Number Position   Age Height  Weight  \\\n",
              "0  Avery Bradley  Boston Celtics     0.0       PG  25.0    6-2   180.0   \n",
              "1    Jae Crowder  Boston Celtics    99.0       SF  25.0    6-6   235.0   \n",
              "2   John Holland  Boston Celtics    30.0       SG  27.0    6-5   205.0   \n",
              "3    R.J. Hunter  Boston Celtics    28.0       SG  22.0    6-5   185.0   \n",
              "4  Jonas Jerebko  Boston Celtics     8.0       PF  29.0   6-10   231.0   \n",
              "\n",
              "             College     Salary  \n",
              "0              Texas  7730337.0  \n",
              "1          Marquette  6796117.0  \n",
              "2  Boston University        NaN  \n",
              "3      Georgia State  1148640.0  \n",
              "4                NaN  5000000.0  "
            ],
            "text/html": [
              "\n",
              "  <div id=\"df-ccc16ca2-0b88-48b9-aefc-5b5414aad163\">\n",
              "    <div class=\"colab-df-container\">\n",
              "      <div>\n",
              "<style scoped>\n",
              "    .dataframe tbody tr th:only-of-type {\n",
              "        vertical-align: middle;\n",
              "    }\n",
              "\n",
              "    .dataframe tbody tr th {\n",
              "        vertical-align: top;\n",
              "    }\n",
              "\n",
              "    .dataframe thead th {\n",
              "        text-align: right;\n",
              "    }\n",
              "</style>\n",
              "<table border=\"1\" class=\"dataframe\">\n",
              "  <thead>\n",
              "    <tr style=\"text-align: right;\">\n",
              "      <th></th>\n",
              "      <th>Name</th>\n",
              "      <th>Team</th>\n",
              "      <th>Number</th>\n",
              "      <th>Position</th>\n",
              "      <th>Age</th>\n",
              "      <th>Height</th>\n",
              "      <th>Weight</th>\n",
              "      <th>College</th>\n",
              "      <th>Salary</th>\n",
              "    </tr>\n",
              "  </thead>\n",
              "  <tbody>\n",
              "    <tr>\n",
              "      <th>0</th>\n",
              "      <td>Avery Bradley</td>\n",
              "      <td>Boston Celtics</td>\n",
              "      <td>0.0</td>\n",
              "      <td>PG</td>\n",
              "      <td>25.0</td>\n",
              "      <td>6-2</td>\n",
              "      <td>180.0</td>\n",
              "      <td>Texas</td>\n",
              "      <td>7730337.0</td>\n",
              "    </tr>\n",
              "    <tr>\n",
              "      <th>1</th>\n",
              "      <td>Jae Crowder</td>\n",
              "      <td>Boston Celtics</td>\n",
              "      <td>99.0</td>\n",
              "      <td>SF</td>\n",
              "      <td>25.0</td>\n",
              "      <td>6-6</td>\n",
              "      <td>235.0</td>\n",
              "      <td>Marquette</td>\n",
              "      <td>6796117.0</td>\n",
              "    </tr>\n",
              "    <tr>\n",
              "      <th>2</th>\n",
              "      <td>John Holland</td>\n",
              "      <td>Boston Celtics</td>\n",
              "      <td>30.0</td>\n",
              "      <td>SG</td>\n",
              "      <td>27.0</td>\n",
              "      <td>6-5</td>\n",
              "      <td>205.0</td>\n",
              "      <td>Boston University</td>\n",
              "      <td>NaN</td>\n",
              "    </tr>\n",
              "    <tr>\n",
              "      <th>3</th>\n",
              "      <td>R.J. Hunter</td>\n",
              "      <td>Boston Celtics</td>\n",
              "      <td>28.0</td>\n",
              "      <td>SG</td>\n",
              "      <td>22.0</td>\n",
              "      <td>6-5</td>\n",
              "      <td>185.0</td>\n",
              "      <td>Georgia State</td>\n",
              "      <td>1148640.0</td>\n",
              "    </tr>\n",
              "    <tr>\n",
              "      <th>4</th>\n",
              "      <td>Jonas Jerebko</td>\n",
              "      <td>Boston Celtics</td>\n",
              "      <td>8.0</td>\n",
              "      <td>PF</td>\n",
              "      <td>29.0</td>\n",
              "      <td>6-10</td>\n",
              "      <td>231.0</td>\n",
              "      <td>NaN</td>\n",
              "      <td>5000000.0</td>\n",
              "    </tr>\n",
              "  </tbody>\n",
              "</table>\n",
              "</div>\n",
              "      <button class=\"colab-df-convert\" onclick=\"convertToInteractive('df-ccc16ca2-0b88-48b9-aefc-5b5414aad163')\"\n",
              "              title=\"Convert this dataframe to an interactive table.\"\n",
              "              style=\"display:none;\">\n",
              "        \n",
              "  <svg xmlns=\"http://www.w3.org/2000/svg\" height=\"24px\"viewBox=\"0 0 24 24\"\n",
              "       width=\"24px\">\n",
              "    <path d=\"M0 0h24v24H0V0z\" fill=\"none\"/>\n",
              "    <path d=\"M18.56 5.44l.94 2.06.94-2.06 2.06-.94-2.06-.94-.94-2.06-.94 2.06-2.06.94zm-11 1L8.5 8.5l.94-2.06 2.06-.94-2.06-.94L8.5 2.5l-.94 2.06-2.06.94zm10 10l.94 2.06.94-2.06 2.06-.94-2.06-.94-.94-2.06-.94 2.06-2.06.94z\"/><path d=\"M17.41 7.96l-1.37-1.37c-.4-.4-.92-.59-1.43-.59-.52 0-1.04.2-1.43.59L10.3 9.45l-7.72 7.72c-.78.78-.78 2.05 0 2.83L4 21.41c.39.39.9.59 1.41.59.51 0 1.02-.2 1.41-.59l7.78-7.78 2.81-2.81c.8-.78.8-2.07 0-2.86zM5.41 20L4 18.59l7.72-7.72 1.47 1.35L5.41 20z\"/>\n",
              "  </svg>\n",
              "      </button>\n",
              "      \n",
              "  <style>\n",
              "    .colab-df-container {\n",
              "      display:flex;\n",
              "      flex-wrap:wrap;\n",
              "      gap: 12px;\n",
              "    }\n",
              "\n",
              "    .colab-df-convert {\n",
              "      background-color: #E8F0FE;\n",
              "      border: none;\n",
              "      border-radius: 50%;\n",
              "      cursor: pointer;\n",
              "      display: none;\n",
              "      fill: #1967D2;\n",
              "      height: 32px;\n",
              "      padding: 0 0 0 0;\n",
              "      width: 32px;\n",
              "    }\n",
              "\n",
              "    .colab-df-convert:hover {\n",
              "      background-color: #E2EBFA;\n",
              "      box-shadow: 0px 1px 2px rgba(60, 64, 67, 0.3), 0px 1px 3px 1px rgba(60, 64, 67, 0.15);\n",
              "      fill: #174EA6;\n",
              "    }\n",
              "\n",
              "    [theme=dark] .colab-df-convert {\n",
              "      background-color: #3B4455;\n",
              "      fill: #D2E3FC;\n",
              "    }\n",
              "\n",
              "    [theme=dark] .colab-df-convert:hover {\n",
              "      background-color: #434B5C;\n",
              "      box-shadow: 0px 1px 3px 1px rgba(0, 0, 0, 0.15);\n",
              "      filter: drop-shadow(0px 1px 2px rgba(0, 0, 0, 0.3));\n",
              "      fill: #FFFFFF;\n",
              "    }\n",
              "  </style>\n",
              "\n",
              "      <script>\n",
              "        const buttonEl =\n",
              "          document.querySelector('#df-ccc16ca2-0b88-48b9-aefc-5b5414aad163 button.colab-df-convert');\n",
              "        buttonEl.style.display =\n",
              "          google.colab.kernel.accessAllowed ? 'block' : 'none';\n",
              "\n",
              "        async function convertToInteractive(key) {\n",
              "          const element = document.querySelector('#df-ccc16ca2-0b88-48b9-aefc-5b5414aad163');\n",
              "          const dataTable =\n",
              "            await google.colab.kernel.invokeFunction('convertToInteractive',\n",
              "                                                     [key], {});\n",
              "          if (!dataTable) return;\n",
              "\n",
              "          const docLinkHtml = 'Like what you see? Visit the ' +\n",
              "            '<a target=\"_blank\" href=https://colab.research.google.com/notebooks/data_table.ipynb>data table notebook</a>'\n",
              "            + ' to learn more about interactive tables.';\n",
              "          element.innerHTML = '';\n",
              "          dataTable['output_type'] = 'display_data';\n",
              "          await google.colab.output.renderOutput(dataTable, element);\n",
              "          const docLink = document.createElement('div');\n",
              "          docLink.innerHTML = docLinkHtml;\n",
              "          element.appendChild(docLink);\n",
              "        }\n",
              "      </script>\n",
              "    </div>\n",
              "  </div>\n",
              "  "
            ]
          },
          "metadata": {},
          "execution_count": 6
        }
      ]
    },
    {
      "cell_type": "code",
      "source": [
        "n = 9\n",
        "series = nba['Name']\n",
        "top = series.head(n=n)\n",
        "top"
      ],
      "metadata": {
        "colab": {
          "base_uri": "https://localhost:8080/"
        },
        "id": "SRkQsEIZrbQk",
        "outputId": "f6563895-ce6b-4185-8088-dae16a844d1d"
      },
      "execution_count": null,
      "outputs": [
        {
          "output_type": "execute_result",
          "data": {
            "text/plain": [
              "0    Avery Bradley\n",
              "1      Jae Crowder\n",
              "2     John Holland\n",
              "3      R.J. Hunter\n",
              "4    Jonas Jerebko\n",
              "5     Amir Johnson\n",
              "6    Jordan Mickey\n",
              "7     Kelly Olynyk\n",
              "8     Terry Rozier\n",
              "Name: Name, dtype: object"
            ]
          },
          "metadata": {},
          "execution_count": 7
        }
      ]
    },
    {
      "cell_type": "code",
      "source": [
        "#rmoving null values to avoid errors \n",
        "nba.dropna(inplace=True)\n",
        "\n",
        "#percentile list\n",
        "perc = [.20,.40,.60,.80]\n",
        "\n",
        "#list of dtypes to include \n",
        "include = [ 'object','float','int']\n",
        "desc = nba.describe(percentiles=perc, include = include)\n",
        "desc"
      ],
      "metadata": {
        "colab": {
          "base_uri": "https://localhost:8080/",
          "height": 556
        },
        "id": "tUz51a44rqVx",
        "outputId": "b3498d6e-1ea0-462b-ee74-ff59ed2274a3"
      },
      "execution_count": null,
      "outputs": [
        {
          "output_type": "execute_result",
          "data": {
            "text/plain": [
              "                 Name                  Team      Number Position         Age  \\\n",
              "count             364                   364  364.000000      364  364.000000   \n",
              "unique            364                    30         NaN        5         NaN   \n",
              "top     Avery Bradley  New Orleans Pelicans         NaN       SG         NaN   \n",
              "freq                1                    16         NaN       87         NaN   \n",
              "mean              NaN                   NaN   16.829670      NaN   26.615385   \n",
              "std               NaN                   NaN   14.994162      NaN    4.233591   \n",
              "min               NaN                   NaN    0.000000      NaN   19.000000   \n",
              "20%               NaN                   NaN    4.000000      NaN   23.000000   \n",
              "40%               NaN                   NaN    9.000000      NaN   25.000000   \n",
              "50%               NaN                   NaN   12.000000      NaN   26.000000   \n",
              "60%               NaN                   NaN   17.000000      NaN   27.000000   \n",
              "80%               NaN                   NaN   30.000000      NaN   30.000000   \n",
              "max               NaN                   NaN   99.000000      NaN   40.000000   \n",
              "\n",
              "       Height      Weight   College        Salary  \n",
              "count     364  364.000000       364  3.640000e+02  \n",
              "unique     17         NaN       115           NaN  \n",
              "top       6-9         NaN  Kentucky           NaN  \n",
              "freq       49         NaN        22           NaN  \n",
              "mean      NaN  219.785714       NaN  4.620311e+06  \n",
              "std       NaN   24.793099       NaN  5.119716e+06  \n",
              "min       NaN  161.000000       NaN  5.572200e+04  \n",
              "20%       NaN  195.000000       NaN  9.472760e+05  \n",
              "40%       NaN  212.000000       NaN  1.638754e+06  \n",
              "50%       NaN  220.000000       NaN  2.515440e+06  \n",
              "60%       NaN  228.000000       NaN  3.429934e+06  \n",
              "80%       NaN  242.400000       NaN  7.838202e+06  \n",
              "max       NaN  279.000000       NaN  2.287500e+07  "
            ],
            "text/html": [
              "\n",
              "  <div id=\"df-905be493-1287-4520-8ef3-5e488b77f280\">\n",
              "    <div class=\"colab-df-container\">\n",
              "      <div>\n",
              "<style scoped>\n",
              "    .dataframe tbody tr th:only-of-type {\n",
              "        vertical-align: middle;\n",
              "    }\n",
              "\n",
              "    .dataframe tbody tr th {\n",
              "        vertical-align: top;\n",
              "    }\n",
              "\n",
              "    .dataframe thead th {\n",
              "        text-align: right;\n",
              "    }\n",
              "</style>\n",
              "<table border=\"1\" class=\"dataframe\">\n",
              "  <thead>\n",
              "    <tr style=\"text-align: right;\">\n",
              "      <th></th>\n",
              "      <th>Name</th>\n",
              "      <th>Team</th>\n",
              "      <th>Number</th>\n",
              "      <th>Position</th>\n",
              "      <th>Age</th>\n",
              "      <th>Height</th>\n",
              "      <th>Weight</th>\n",
              "      <th>College</th>\n",
              "      <th>Salary</th>\n",
              "    </tr>\n",
              "  </thead>\n",
              "  <tbody>\n",
              "    <tr>\n",
              "      <th>count</th>\n",
              "      <td>364</td>\n",
              "      <td>364</td>\n",
              "      <td>364.000000</td>\n",
              "      <td>364</td>\n",
              "      <td>364.000000</td>\n",
              "      <td>364</td>\n",
              "      <td>364.000000</td>\n",
              "      <td>364</td>\n",
              "      <td>3.640000e+02</td>\n",
              "    </tr>\n",
              "    <tr>\n",
              "      <th>unique</th>\n",
              "      <td>364</td>\n",
              "      <td>30</td>\n",
              "      <td>NaN</td>\n",
              "      <td>5</td>\n",
              "      <td>NaN</td>\n",
              "      <td>17</td>\n",
              "      <td>NaN</td>\n",
              "      <td>115</td>\n",
              "      <td>NaN</td>\n",
              "    </tr>\n",
              "    <tr>\n",
              "      <th>top</th>\n",
              "      <td>Avery Bradley</td>\n",
              "      <td>New Orleans Pelicans</td>\n",
              "      <td>NaN</td>\n",
              "      <td>SG</td>\n",
              "      <td>NaN</td>\n",
              "      <td>6-9</td>\n",
              "      <td>NaN</td>\n",
              "      <td>Kentucky</td>\n",
              "      <td>NaN</td>\n",
              "    </tr>\n",
              "    <tr>\n",
              "      <th>freq</th>\n",
              "      <td>1</td>\n",
              "      <td>16</td>\n",
              "      <td>NaN</td>\n",
              "      <td>87</td>\n",
              "      <td>NaN</td>\n",
              "      <td>49</td>\n",
              "      <td>NaN</td>\n",
              "      <td>22</td>\n",
              "      <td>NaN</td>\n",
              "    </tr>\n",
              "    <tr>\n",
              "      <th>mean</th>\n",
              "      <td>NaN</td>\n",
              "      <td>NaN</td>\n",
              "      <td>16.829670</td>\n",
              "      <td>NaN</td>\n",
              "      <td>26.615385</td>\n",
              "      <td>NaN</td>\n",
              "      <td>219.785714</td>\n",
              "      <td>NaN</td>\n",
              "      <td>4.620311e+06</td>\n",
              "    </tr>\n",
              "    <tr>\n",
              "      <th>std</th>\n",
              "      <td>NaN</td>\n",
              "      <td>NaN</td>\n",
              "      <td>14.994162</td>\n",
              "      <td>NaN</td>\n",
              "      <td>4.233591</td>\n",
              "      <td>NaN</td>\n",
              "      <td>24.793099</td>\n",
              "      <td>NaN</td>\n",
              "      <td>5.119716e+06</td>\n",
              "    </tr>\n",
              "    <tr>\n",
              "      <th>min</th>\n",
              "      <td>NaN</td>\n",
              "      <td>NaN</td>\n",
              "      <td>0.000000</td>\n",
              "      <td>NaN</td>\n",
              "      <td>19.000000</td>\n",
              "      <td>NaN</td>\n",
              "      <td>161.000000</td>\n",
              "      <td>NaN</td>\n",
              "      <td>5.572200e+04</td>\n",
              "    </tr>\n",
              "    <tr>\n",
              "      <th>20%</th>\n",
              "      <td>NaN</td>\n",
              "      <td>NaN</td>\n",
              "      <td>4.000000</td>\n",
              "      <td>NaN</td>\n",
              "      <td>23.000000</td>\n",
              "      <td>NaN</td>\n",
              "      <td>195.000000</td>\n",
              "      <td>NaN</td>\n",
              "      <td>9.472760e+05</td>\n",
              "    </tr>\n",
              "    <tr>\n",
              "      <th>40%</th>\n",
              "      <td>NaN</td>\n",
              "      <td>NaN</td>\n",
              "      <td>9.000000</td>\n",
              "      <td>NaN</td>\n",
              "      <td>25.000000</td>\n",
              "      <td>NaN</td>\n",
              "      <td>212.000000</td>\n",
              "      <td>NaN</td>\n",
              "      <td>1.638754e+06</td>\n",
              "    </tr>\n",
              "    <tr>\n",
              "      <th>50%</th>\n",
              "      <td>NaN</td>\n",
              "      <td>NaN</td>\n",
              "      <td>12.000000</td>\n",
              "      <td>NaN</td>\n",
              "      <td>26.000000</td>\n",
              "      <td>NaN</td>\n",
              "      <td>220.000000</td>\n",
              "      <td>NaN</td>\n",
              "      <td>2.515440e+06</td>\n",
              "    </tr>\n",
              "    <tr>\n",
              "      <th>60%</th>\n",
              "      <td>NaN</td>\n",
              "      <td>NaN</td>\n",
              "      <td>17.000000</td>\n",
              "      <td>NaN</td>\n",
              "      <td>27.000000</td>\n",
              "      <td>NaN</td>\n",
              "      <td>228.000000</td>\n",
              "      <td>NaN</td>\n",
              "      <td>3.429934e+06</td>\n",
              "    </tr>\n",
              "    <tr>\n",
              "      <th>80%</th>\n",
              "      <td>NaN</td>\n",
              "      <td>NaN</td>\n",
              "      <td>30.000000</td>\n",
              "      <td>NaN</td>\n",
              "      <td>30.000000</td>\n",
              "      <td>NaN</td>\n",
              "      <td>242.400000</td>\n",
              "      <td>NaN</td>\n",
              "      <td>7.838202e+06</td>\n",
              "    </tr>\n",
              "    <tr>\n",
              "      <th>max</th>\n",
              "      <td>NaN</td>\n",
              "      <td>NaN</td>\n",
              "      <td>99.000000</td>\n",
              "      <td>NaN</td>\n",
              "      <td>40.000000</td>\n",
              "      <td>NaN</td>\n",
              "      <td>279.000000</td>\n",
              "      <td>NaN</td>\n",
              "      <td>2.287500e+07</td>\n",
              "    </tr>\n",
              "  </tbody>\n",
              "</table>\n",
              "</div>\n",
              "      <button class=\"colab-df-convert\" onclick=\"convertToInteractive('df-905be493-1287-4520-8ef3-5e488b77f280')\"\n",
              "              title=\"Convert this dataframe to an interactive table.\"\n",
              "              style=\"display:none;\">\n",
              "        \n",
              "  <svg xmlns=\"http://www.w3.org/2000/svg\" height=\"24px\"viewBox=\"0 0 24 24\"\n",
              "       width=\"24px\">\n",
              "    <path d=\"M0 0h24v24H0V0z\" fill=\"none\"/>\n",
              "    <path d=\"M18.56 5.44l.94 2.06.94-2.06 2.06-.94-2.06-.94-.94-2.06-.94 2.06-2.06.94zm-11 1L8.5 8.5l.94-2.06 2.06-.94-2.06-.94L8.5 2.5l-.94 2.06-2.06.94zm10 10l.94 2.06.94-2.06 2.06-.94-2.06-.94-.94-2.06-.94 2.06-2.06.94z\"/><path d=\"M17.41 7.96l-1.37-1.37c-.4-.4-.92-.59-1.43-.59-.52 0-1.04.2-1.43.59L10.3 9.45l-7.72 7.72c-.78.78-.78 2.05 0 2.83L4 21.41c.39.39.9.59 1.41.59.51 0 1.02-.2 1.41-.59l7.78-7.78 2.81-2.81c.8-.78.8-2.07 0-2.86zM5.41 20L4 18.59l7.72-7.72 1.47 1.35L5.41 20z\"/>\n",
              "  </svg>\n",
              "      </button>\n",
              "      \n",
              "  <style>\n",
              "    .colab-df-container {\n",
              "      display:flex;\n",
              "      flex-wrap:wrap;\n",
              "      gap: 12px;\n",
              "    }\n",
              "\n",
              "    .colab-df-convert {\n",
              "      background-color: #E8F0FE;\n",
              "      border: none;\n",
              "      border-radius: 50%;\n",
              "      cursor: pointer;\n",
              "      display: none;\n",
              "      fill: #1967D2;\n",
              "      height: 32px;\n",
              "      padding: 0 0 0 0;\n",
              "      width: 32px;\n",
              "    }\n",
              "\n",
              "    .colab-df-convert:hover {\n",
              "      background-color: #E2EBFA;\n",
              "      box-shadow: 0px 1px 2px rgba(60, 64, 67, 0.3), 0px 1px 3px 1px rgba(60, 64, 67, 0.15);\n",
              "      fill: #174EA6;\n",
              "    }\n",
              "\n",
              "    [theme=dark] .colab-df-convert {\n",
              "      background-color: #3B4455;\n",
              "      fill: #D2E3FC;\n",
              "    }\n",
              "\n",
              "    [theme=dark] .colab-df-convert:hover {\n",
              "      background-color: #434B5C;\n",
              "      box-shadow: 0px 1px 3px 1px rgba(0, 0, 0, 0.15);\n",
              "      filter: drop-shadow(0px 1px 2px rgba(0, 0, 0, 0.3));\n",
              "      fill: #FFFFFF;\n",
              "    }\n",
              "  </style>\n",
              "\n",
              "      <script>\n",
              "        const buttonEl =\n",
              "          document.querySelector('#df-905be493-1287-4520-8ef3-5e488b77f280 button.colab-df-convert');\n",
              "        buttonEl.style.display =\n",
              "          google.colab.kernel.accessAllowed ? 'block' : 'none';\n",
              "\n",
              "        async function convertToInteractive(key) {\n",
              "          const element = document.querySelector('#df-905be493-1287-4520-8ef3-5e488b77f280');\n",
              "          const dataTable =\n",
              "            await google.colab.kernel.invokeFunction('convertToInteractive',\n",
              "                                                     [key], {});\n",
              "          if (!dataTable) return;\n",
              "\n",
              "          const docLinkHtml = 'Like what you see? Visit the ' +\n",
              "            '<a target=\"_blank\" href=https://colab.research.google.com/notebooks/data_table.ipynb>data table notebook</a>'\n",
              "            + ' to learn more about interactive tables.';\n",
              "          element.innerHTML = '';\n",
              "          dataTable['output_type'] = 'display_data';\n",
              "          await google.colab.output.renderOutput(dataTable, element);\n",
              "          const docLink = document.createElement('div');\n",
              "          docLink.innerHTML = docLinkHtml;\n",
              "          element.appendChild(docLink);\n",
              "        }\n",
              "      </script>\n",
              "    </div>\n",
              "  </div>\n",
              "  "
            ]
          },
          "metadata": {},
          "execution_count": 9
        }
      ]
    },
    {
      "cell_type": "markdown",
      "source": [
        "https://www.geeksforgeeks.org/pandas-groupby/"
      ],
      "metadata": {
        "id": "NNSIT5e55Yd7"
      }
    },
    {
      "cell_type": "markdown",
      "source": [
        "Groupby is a pretty simple concept. We can create a grouping of categories and apply a function to the categories. It's a simple concept but it's an extremenly valuable technique that's widely used in data science. \n",
        "In real data science project, you'll be dealing with large amount of data and trying things over and over, so for efficiency, we use Groupby concept. Groupby concept is really important because it's ability to aggregate data effeciently both in performance and the amount code is magnificient. \n",
        "\n",
        "Groupy mainly refers to a process involving one or more of the following steps they are: \n",
        "\n",
        "1. Splitting : It is a process in which we split data into group by applying some conditions on datasets.\n",
        "2. Applying : It is a process in which we apply a function to each group independently \n",
        "3. Combining : It is a process in which we combine different datasets after applying groupby and results into a data structure. "
      ],
      "metadata": {
        "id": "eNSsDoNnroC3"
      }
    },
    {
      "cell_type": "code",
      "source": [
        "import pandas as pd\n",
        "  \n",
        "# Define a dictionary containing employee data\n",
        "data1 = {'Name':['Jai', 'Anuj', 'Jai', 'Princi',\n",
        "                 'Gaurav', 'Anuj', 'Princi', 'Abhi'],\n",
        "        'Age':[27, 24, 22, 32,\n",
        "               33, 36, 27, 32],\n",
        "        'Address':['Nagpur', 'Kanpur', 'Allahabad', 'Kannuaj',\n",
        "                   'Jaunpur', 'Kanpur', 'Allahabad', 'Aligarh'],\n",
        "        'Qualification':['Msc', 'MA', 'MCA', 'Phd',\n",
        "                         'B.Tech', 'B.com', 'Msc', 'MA']}\n",
        "# Convert the dictionary into DataFrame \n",
        "df = pd.DataFrame(data1)\n",
        "  \n",
        "print(df)"
      ],
      "metadata": {
        "colab": {
          "base_uri": "https://localhost:8080/"
        },
        "id": "YEu71mxfvPjl",
        "outputId": "c8b3e721-1f61-4b11-b76a-d76ef39973d0"
      },
      "execution_count": null,
      "outputs": [
        {
          "output_type": "stream",
          "name": "stdout",
          "text": [
            "     Name  Age    Address Qualification\n",
            "0     Jai   27     Nagpur           Msc\n",
            "1    Anuj   24     Kanpur            MA\n",
            "2     Jai   22  Allahabad           MCA\n",
            "3  Princi   32    Kannuaj           Phd\n",
            "4  Gaurav   33    Jaunpur        B.Tech\n",
            "5    Anuj   36     Kanpur         B.com\n",
            "6  Princi   27  Allahabad           Msc\n",
            "7    Abhi   32    Aligarh            MA\n"
          ]
        }
      ]
    },
    {
      "cell_type": "code",
      "source": [
        "df.groupby('Name')\n",
        "print(df.groupby('Name').groups)"
      ],
      "metadata": {
        "colab": {
          "base_uri": "https://localhost:8080/"
        },
        "id": "6bKevo_fvU6R",
        "outputId": "22b27d43-d98b-48f3-d717-345bb1c3e54b"
      },
      "execution_count": null,
      "outputs": [
        {
          "output_type": "stream",
          "name": "stdout",
          "text": [
            "{'Abhi': [7], 'Anuj': [1, 5], 'Gaurav': [4], 'Jai': [0, 2], 'Princi': [3, 6]}\n"
          ]
        }
      ]
    },
    {
      "cell_type": "code",
      "source": [
        "# applying groupby() function to \n",
        "#group the data on Name value\n",
        "gk = df.groupby('Name')\n",
        "# Let's print the first entries\n",
        "# in all the groups formed.\n",
        "gk.first()"
      ],
      "metadata": {
        "colab": {
          "base_uri": "https://localhost:8080/",
          "height": 238
        },
        "id": "eZPNfyjrv-d-",
        "outputId": "1328e3d7-5505-4822-d9a7-1abbf3d2685c"
      },
      "execution_count": null,
      "outputs": [
        {
          "output_type": "execute_result",
          "data": {
            "text/plain": [
              "        Age  Address Qualification\n",
              "Name                              \n",
              "Abhi     32  Aligarh            MA\n",
              "Anuj     24   Kanpur            MA\n",
              "Gaurav   33  Jaunpur        B.Tech\n",
              "Jai      27   Nagpur           Msc\n",
              "Princi   32  Kannuaj           Phd"
            ],
            "text/html": [
              "\n",
              "  <div id=\"df-dec3aadd-521f-4fbd-8c12-b092696d2202\">\n",
              "    <div class=\"colab-df-container\">\n",
              "      <div>\n",
              "<style scoped>\n",
              "    .dataframe tbody tr th:only-of-type {\n",
              "        vertical-align: middle;\n",
              "    }\n",
              "\n",
              "    .dataframe tbody tr th {\n",
              "        vertical-align: top;\n",
              "    }\n",
              "\n",
              "    .dataframe thead th {\n",
              "        text-align: right;\n",
              "    }\n",
              "</style>\n",
              "<table border=\"1\" class=\"dataframe\">\n",
              "  <thead>\n",
              "    <tr style=\"text-align: right;\">\n",
              "      <th></th>\n",
              "      <th>Age</th>\n",
              "      <th>Address</th>\n",
              "      <th>Qualification</th>\n",
              "    </tr>\n",
              "    <tr>\n",
              "      <th>Name</th>\n",
              "      <th></th>\n",
              "      <th></th>\n",
              "      <th></th>\n",
              "    </tr>\n",
              "  </thead>\n",
              "  <tbody>\n",
              "    <tr>\n",
              "      <th>Abhi</th>\n",
              "      <td>32</td>\n",
              "      <td>Aligarh</td>\n",
              "      <td>MA</td>\n",
              "    </tr>\n",
              "    <tr>\n",
              "      <th>Anuj</th>\n",
              "      <td>24</td>\n",
              "      <td>Kanpur</td>\n",
              "      <td>MA</td>\n",
              "    </tr>\n",
              "    <tr>\n",
              "      <th>Gaurav</th>\n",
              "      <td>33</td>\n",
              "      <td>Jaunpur</td>\n",
              "      <td>B.Tech</td>\n",
              "    </tr>\n",
              "    <tr>\n",
              "      <th>Jai</th>\n",
              "      <td>27</td>\n",
              "      <td>Nagpur</td>\n",
              "      <td>Msc</td>\n",
              "    </tr>\n",
              "    <tr>\n",
              "      <th>Princi</th>\n",
              "      <td>32</td>\n",
              "      <td>Kannuaj</td>\n",
              "      <td>Phd</td>\n",
              "    </tr>\n",
              "  </tbody>\n",
              "</table>\n",
              "</div>\n",
              "      <button class=\"colab-df-convert\" onclick=\"convertToInteractive('df-dec3aadd-521f-4fbd-8c12-b092696d2202')\"\n",
              "              title=\"Convert this dataframe to an interactive table.\"\n",
              "              style=\"display:none;\">\n",
              "        \n",
              "  <svg xmlns=\"http://www.w3.org/2000/svg\" height=\"24px\"viewBox=\"0 0 24 24\"\n",
              "       width=\"24px\">\n",
              "    <path d=\"M0 0h24v24H0V0z\" fill=\"none\"/>\n",
              "    <path d=\"M18.56 5.44l.94 2.06.94-2.06 2.06-.94-2.06-.94-.94-2.06-.94 2.06-2.06.94zm-11 1L8.5 8.5l.94-2.06 2.06-.94-2.06-.94L8.5 2.5l-.94 2.06-2.06.94zm10 10l.94 2.06.94-2.06 2.06-.94-2.06-.94-.94-2.06-.94 2.06-2.06.94z\"/><path d=\"M17.41 7.96l-1.37-1.37c-.4-.4-.92-.59-1.43-.59-.52 0-1.04.2-1.43.59L10.3 9.45l-7.72 7.72c-.78.78-.78 2.05 0 2.83L4 21.41c.39.39.9.59 1.41.59.51 0 1.02-.2 1.41-.59l7.78-7.78 2.81-2.81c.8-.78.8-2.07 0-2.86zM5.41 20L4 18.59l7.72-7.72 1.47 1.35L5.41 20z\"/>\n",
              "  </svg>\n",
              "      </button>\n",
              "      \n",
              "  <style>\n",
              "    .colab-df-container {\n",
              "      display:flex;\n",
              "      flex-wrap:wrap;\n",
              "      gap: 12px;\n",
              "    }\n",
              "\n",
              "    .colab-df-convert {\n",
              "      background-color: #E8F0FE;\n",
              "      border: none;\n",
              "      border-radius: 50%;\n",
              "      cursor: pointer;\n",
              "      display: none;\n",
              "      fill: #1967D2;\n",
              "      height: 32px;\n",
              "      padding: 0 0 0 0;\n",
              "      width: 32px;\n",
              "    }\n",
              "\n",
              "    .colab-df-convert:hover {\n",
              "      background-color: #E2EBFA;\n",
              "      box-shadow: 0px 1px 2px rgba(60, 64, 67, 0.3), 0px 1px 3px 1px rgba(60, 64, 67, 0.15);\n",
              "      fill: #174EA6;\n",
              "    }\n",
              "\n",
              "    [theme=dark] .colab-df-convert {\n",
              "      background-color: #3B4455;\n",
              "      fill: #D2E3FC;\n",
              "    }\n",
              "\n",
              "    [theme=dark] .colab-df-convert:hover {\n",
              "      background-color: #434B5C;\n",
              "      box-shadow: 0px 1px 3px 1px rgba(0, 0, 0, 0.15);\n",
              "      filter: drop-shadow(0px 1px 2px rgba(0, 0, 0, 0.3));\n",
              "      fill: #FFFFFF;\n",
              "    }\n",
              "  </style>\n",
              "\n",
              "      <script>\n",
              "        const buttonEl =\n",
              "          document.querySelector('#df-dec3aadd-521f-4fbd-8c12-b092696d2202 button.colab-df-convert');\n",
              "        buttonEl.style.display =\n",
              "          google.colab.kernel.accessAllowed ? 'block' : 'none';\n",
              "\n",
              "        async function convertToInteractive(key) {\n",
              "          const element = document.querySelector('#df-dec3aadd-521f-4fbd-8c12-b092696d2202');\n",
              "          const dataTable =\n",
              "            await google.colab.kernel.invokeFunction('convertToInteractive',\n",
              "                                                     [key], {});\n",
              "          if (!dataTable) return;\n",
              "\n",
              "          const docLinkHtml = 'Like what you see? Visit the ' +\n",
              "            '<a target=\"_blank\" href=https://colab.research.google.com/notebooks/data_table.ipynb>data table notebook</a>'\n",
              "            + ' to learn more about interactive tables.';\n",
              "          element.innerHTML = '';\n",
              "          dataTable['output_type'] = 'display_data';\n",
              "          await google.colab.output.renderOutput(dataTable, element);\n",
              "          const docLink = document.createElement('div');\n",
              "          docLink.innerHTML = docLinkHtml;\n",
              "          element.appendChild(docLink);\n",
              "        }\n",
              "      </script>\n",
              "    </div>\n",
              "  </div>\n",
              "  "
            ]
          },
          "metadata": {},
          "execution_count": 13
        }
      ]
    },
    {
      "cell_type": "code",
      "source": [
        "#Grouping data with multiple keys: \n",
        "#In order to group data with multiple keys, \n",
        "# we pass multiple keys in groupby function  \n",
        "\n",
        "# Define a dictionary containing employee data\n",
        "data1 = {'Name':['Jai', 'Anuj', 'Jai', 'Princi',\n",
        "                 'Gaurav', 'Anuj', 'Princi', 'Abhi'],\n",
        "        'Age':[27, 24, 22, 32,\n",
        "               33, 36, 27, 32],\n",
        "        'Address':['Nagpur', 'Kanpur', 'Allahabad', 'Kannuaj',\n",
        "                   'Jaunpur', 'Kanpur', 'Allahabad', 'Aligarh'],\n",
        "        'Qualification':['Msc', 'MA', 'MCA', 'Phd',\n",
        "                         'B.Tech', 'B.com', 'Msc', 'MA']}\n",
        "\n",
        "# Convert the dictionary into DataFrame \n",
        "df = pd.DataFrame(data1)\n",
        "  \n",
        "print(df)\n"
      ],
      "metadata": {
        "colab": {
          "base_uri": "https://localhost:8080/"
        },
        "id": "cH6I5O9zwPq-",
        "outputId": "94b9d66d-bcd8-4ea9-e7a8-71367794a76f"
      },
      "execution_count": null,
      "outputs": [
        {
          "output_type": "stream",
          "name": "stdout",
          "text": [
            "     Name  Age    Address Qualification\n",
            "0     Jai   27     Nagpur           Msc\n",
            "1    Anuj   24     Kanpur            MA\n",
            "2     Jai   22  Allahabad           MCA\n",
            "3  Princi   32    Kannuaj           Phd\n",
            "4  Gaurav   33    Jaunpur        B.Tech\n",
            "5    Anuj   36     Kanpur         B.com\n",
            "6  Princi   27  Allahabad           Msc\n",
            "7    Abhi   32    Aligarh            MA\n"
          ]
        }
      ]
    },
    {
      "cell_type": "code",
      "source": [
        "#Useing multiple keys in \n",
        "#groupby() function\n",
        "\n",
        "df.groupby(['Name','Qualification'])\n",
        "print(df.groupby(['Name','Qualification']).groups)"
      ],
      "metadata": {
        "colab": {
          "base_uri": "https://localhost:8080/"
        },
        "id": "CsISsBK_wP17",
        "outputId": "d6830c8a-b200-411d-89ee-4a06dcaf5bfa"
      },
      "execution_count": null,
      "outputs": [
        {
          "output_type": "stream",
          "name": "stdout",
          "text": [
            "{('Abhi', 'MA'): [7], ('Anuj', 'B.com'): [5], ('Anuj', 'MA'): [1], ('Gaurav', 'B.Tech'): [4], ('Jai', 'MCA'): [2], ('Jai', 'Msc'): [0], ('Princi', 'Msc'): [6], ('Princi', 'Phd'): [3]}\n"
          ]
        }
      ]
    },
    {
      "cell_type": "code",
      "source": [
        "# importing pandas module\n",
        "import pandas as pd\n",
        "  \n",
        "# Define a dictionary containing employee data\n",
        "data1 = {'Name':['Jai', 'Anuj', 'Jai', 'Princi',\n",
        "                 'Gaurav', 'Anuj', 'Princi', 'Abhi'],\n",
        "        'Age':[27, 24, 22, 32,\n",
        "               33, 36, 27, 32], }\n",
        "    \n",
        "  \n",
        "# Convert the dictionary into DataFrame \n",
        "df = pd.DataFrame(data1)\n",
        "  \n",
        "print(df)"
      ],
      "metadata": {
        "colab": {
          "base_uri": "https://localhost:8080/"
        },
        "id": "x2nH0Sf-w5R5",
        "outputId": "16e9304f-9b59-4a70-fcca-be395548ca38"
      },
      "execution_count": null,
      "outputs": [
        {
          "output_type": "stream",
          "name": "stdout",
          "text": [
            "     Name  Age\n",
            "0     Jai   27\n",
            "1    Anuj   24\n",
            "2     Jai   22\n",
            "3  Princi   32\n",
            "4  Gaurav   33\n",
            "5    Anuj   36\n",
            "6  Princi   27\n",
            "7    Abhi   32\n"
          ]
        }
      ]
    },
    {
      "cell_type": "code",
      "source": [
        "df.groupby(['Name']).sum()"
      ],
      "metadata": {
        "colab": {
          "base_uri": "https://localhost:8080/",
          "height": 238
        },
        "id": "juvl0cA0w73u",
        "outputId": "60317176-5efd-49d5-dce3-4aebad967d64"
      },
      "execution_count": null,
      "outputs": [
        {
          "output_type": "execute_result",
          "data": {
            "text/plain": [
              "        Age\n",
              "Name       \n",
              "Abhi     32\n",
              "Anuj     60\n",
              "Gaurav   33\n",
              "Jai      49\n",
              "Princi   59"
            ],
            "text/html": [
              "\n",
              "  <div id=\"df-0e5c1051-b9c1-4ae1-ab28-00c0d89b9920\">\n",
              "    <div class=\"colab-df-container\">\n",
              "      <div>\n",
              "<style scoped>\n",
              "    .dataframe tbody tr th:only-of-type {\n",
              "        vertical-align: middle;\n",
              "    }\n",
              "\n",
              "    .dataframe tbody tr th {\n",
              "        vertical-align: top;\n",
              "    }\n",
              "\n",
              "    .dataframe thead th {\n",
              "        text-align: right;\n",
              "    }\n",
              "</style>\n",
              "<table border=\"1\" class=\"dataframe\">\n",
              "  <thead>\n",
              "    <tr style=\"text-align: right;\">\n",
              "      <th></th>\n",
              "      <th>Age</th>\n",
              "    </tr>\n",
              "    <tr>\n",
              "      <th>Name</th>\n",
              "      <th></th>\n",
              "    </tr>\n",
              "  </thead>\n",
              "  <tbody>\n",
              "    <tr>\n",
              "      <th>Abhi</th>\n",
              "      <td>32</td>\n",
              "    </tr>\n",
              "    <tr>\n",
              "      <th>Anuj</th>\n",
              "      <td>60</td>\n",
              "    </tr>\n",
              "    <tr>\n",
              "      <th>Gaurav</th>\n",
              "      <td>33</td>\n",
              "    </tr>\n",
              "    <tr>\n",
              "      <th>Jai</th>\n",
              "      <td>49</td>\n",
              "    </tr>\n",
              "    <tr>\n",
              "      <th>Princi</th>\n",
              "      <td>59</td>\n",
              "    </tr>\n",
              "  </tbody>\n",
              "</table>\n",
              "</div>\n",
              "      <button class=\"colab-df-convert\" onclick=\"convertToInteractive('df-0e5c1051-b9c1-4ae1-ab28-00c0d89b9920')\"\n",
              "              title=\"Convert this dataframe to an interactive table.\"\n",
              "              style=\"display:none;\">\n",
              "        \n",
              "  <svg xmlns=\"http://www.w3.org/2000/svg\" height=\"24px\"viewBox=\"0 0 24 24\"\n",
              "       width=\"24px\">\n",
              "    <path d=\"M0 0h24v24H0V0z\" fill=\"none\"/>\n",
              "    <path d=\"M18.56 5.44l.94 2.06.94-2.06 2.06-.94-2.06-.94-.94-2.06-.94 2.06-2.06.94zm-11 1L8.5 8.5l.94-2.06 2.06-.94-2.06-.94L8.5 2.5l-.94 2.06-2.06.94zm10 10l.94 2.06.94-2.06 2.06-.94-2.06-.94-.94-2.06-.94 2.06-2.06.94z\"/><path d=\"M17.41 7.96l-1.37-1.37c-.4-.4-.92-.59-1.43-.59-.52 0-1.04.2-1.43.59L10.3 9.45l-7.72 7.72c-.78.78-.78 2.05 0 2.83L4 21.41c.39.39.9.59 1.41.59.51 0 1.02-.2 1.41-.59l7.78-7.78 2.81-2.81c.8-.78.8-2.07 0-2.86zM5.41 20L4 18.59l7.72-7.72 1.47 1.35L5.41 20z\"/>\n",
              "  </svg>\n",
              "      </button>\n",
              "      \n",
              "  <style>\n",
              "    .colab-df-container {\n",
              "      display:flex;\n",
              "      flex-wrap:wrap;\n",
              "      gap: 12px;\n",
              "    }\n",
              "\n",
              "    .colab-df-convert {\n",
              "      background-color: #E8F0FE;\n",
              "      border: none;\n",
              "      border-radius: 50%;\n",
              "      cursor: pointer;\n",
              "      display: none;\n",
              "      fill: #1967D2;\n",
              "      height: 32px;\n",
              "      padding: 0 0 0 0;\n",
              "      width: 32px;\n",
              "    }\n",
              "\n",
              "    .colab-df-convert:hover {\n",
              "      background-color: #E2EBFA;\n",
              "      box-shadow: 0px 1px 2px rgba(60, 64, 67, 0.3), 0px 1px 3px 1px rgba(60, 64, 67, 0.15);\n",
              "      fill: #174EA6;\n",
              "    }\n",
              "\n",
              "    [theme=dark] .colab-df-convert {\n",
              "      background-color: #3B4455;\n",
              "      fill: #D2E3FC;\n",
              "    }\n",
              "\n",
              "    [theme=dark] .colab-df-convert:hover {\n",
              "      background-color: #434B5C;\n",
              "      box-shadow: 0px 1px 3px 1px rgba(0, 0, 0, 0.15);\n",
              "      filter: drop-shadow(0px 1px 2px rgba(0, 0, 0, 0.3));\n",
              "      fill: #FFFFFF;\n",
              "    }\n",
              "  </style>\n",
              "\n",
              "      <script>\n",
              "        const buttonEl =\n",
              "          document.querySelector('#df-0e5c1051-b9c1-4ae1-ab28-00c0d89b9920 button.colab-df-convert');\n",
              "        buttonEl.style.display =\n",
              "          google.colab.kernel.accessAllowed ? 'block' : 'none';\n",
              "\n",
              "        async function convertToInteractive(key) {\n",
              "          const element = document.querySelector('#df-0e5c1051-b9c1-4ae1-ab28-00c0d89b9920');\n",
              "          const dataTable =\n",
              "            await google.colab.kernel.invokeFunction('convertToInteractive',\n",
              "                                                     [key], {});\n",
              "          if (!dataTable) return;\n",
              "\n",
              "          const docLinkHtml = 'Like what you see? Visit the ' +\n",
              "            '<a target=\"_blank\" href=https://colab.research.google.com/notebooks/data_table.ipynb>data table notebook</a>'\n",
              "            + ' to learn more about interactive tables.';\n",
              "          element.innerHTML = '';\n",
              "          dataTable['output_type'] = 'display_data';\n",
              "          await google.colab.output.renderOutput(dataTable, element);\n",
              "          const docLink = document.createElement('div');\n",
              "          docLink.innerHTML = docLinkHtml;\n",
              "          element.appendChild(docLink);\n",
              "        }\n",
              "      </script>\n",
              "    </div>\n",
              "  </div>\n",
              "  "
            ]
          },
          "metadata": {},
          "execution_count": 18
        }
      ]
    },
    {
      "cell_type": "markdown",
      "source": [
        "Now we apply groupby () using sort in order to attain potential speedups "
      ],
      "metadata": {
        "id": "rBzkseRTxDBA"
      }
    },
    {
      "cell_type": "code",
      "source": [
        "df.groupby(['Name'],sort='False').sum()"
      ],
      "metadata": {
        "colab": {
          "base_uri": "https://localhost:8080/",
          "height": 238
        },
        "id": "7u64VxKTxISN",
        "outputId": "efe89f4d-0633-4a41-af39-63ebdeeba117"
      },
      "execution_count": null,
      "outputs": [
        {
          "output_type": "execute_result",
          "data": {
            "text/plain": [
              "        Age\n",
              "Name       \n",
              "Abhi     32\n",
              "Anuj     60\n",
              "Gaurav   33\n",
              "Jai      49\n",
              "Princi   59"
            ],
            "text/html": [
              "\n",
              "  <div id=\"df-6bf29c38-7ba1-4722-abb6-de929ccc193f\">\n",
              "    <div class=\"colab-df-container\">\n",
              "      <div>\n",
              "<style scoped>\n",
              "    .dataframe tbody tr th:only-of-type {\n",
              "        vertical-align: middle;\n",
              "    }\n",
              "\n",
              "    .dataframe tbody tr th {\n",
              "        vertical-align: top;\n",
              "    }\n",
              "\n",
              "    .dataframe thead th {\n",
              "        text-align: right;\n",
              "    }\n",
              "</style>\n",
              "<table border=\"1\" class=\"dataframe\">\n",
              "  <thead>\n",
              "    <tr style=\"text-align: right;\">\n",
              "      <th></th>\n",
              "      <th>Age</th>\n",
              "    </tr>\n",
              "    <tr>\n",
              "      <th>Name</th>\n",
              "      <th></th>\n",
              "    </tr>\n",
              "  </thead>\n",
              "  <tbody>\n",
              "    <tr>\n",
              "      <th>Abhi</th>\n",
              "      <td>32</td>\n",
              "    </tr>\n",
              "    <tr>\n",
              "      <th>Anuj</th>\n",
              "      <td>60</td>\n",
              "    </tr>\n",
              "    <tr>\n",
              "      <th>Gaurav</th>\n",
              "      <td>33</td>\n",
              "    </tr>\n",
              "    <tr>\n",
              "      <th>Jai</th>\n",
              "      <td>49</td>\n",
              "    </tr>\n",
              "    <tr>\n",
              "      <th>Princi</th>\n",
              "      <td>59</td>\n",
              "    </tr>\n",
              "  </tbody>\n",
              "</table>\n",
              "</div>\n",
              "      <button class=\"colab-df-convert\" onclick=\"convertToInteractive('df-6bf29c38-7ba1-4722-abb6-de929ccc193f')\"\n",
              "              title=\"Convert this dataframe to an interactive table.\"\n",
              "              style=\"display:none;\">\n",
              "        \n",
              "  <svg xmlns=\"http://www.w3.org/2000/svg\" height=\"24px\"viewBox=\"0 0 24 24\"\n",
              "       width=\"24px\">\n",
              "    <path d=\"M0 0h24v24H0V0z\" fill=\"none\"/>\n",
              "    <path d=\"M18.56 5.44l.94 2.06.94-2.06 2.06-.94-2.06-.94-.94-2.06-.94 2.06-2.06.94zm-11 1L8.5 8.5l.94-2.06 2.06-.94-2.06-.94L8.5 2.5l-.94 2.06-2.06.94zm10 10l.94 2.06.94-2.06 2.06-.94-2.06-.94-.94-2.06-.94 2.06-2.06.94z\"/><path d=\"M17.41 7.96l-1.37-1.37c-.4-.4-.92-.59-1.43-.59-.52 0-1.04.2-1.43.59L10.3 9.45l-7.72 7.72c-.78.78-.78 2.05 0 2.83L4 21.41c.39.39.9.59 1.41.59.51 0 1.02-.2 1.41-.59l7.78-7.78 2.81-2.81c.8-.78.8-2.07 0-2.86zM5.41 20L4 18.59l7.72-7.72 1.47 1.35L5.41 20z\"/>\n",
              "  </svg>\n",
              "      </button>\n",
              "      \n",
              "  <style>\n",
              "    .colab-df-container {\n",
              "      display:flex;\n",
              "      flex-wrap:wrap;\n",
              "      gap: 12px;\n",
              "    }\n",
              "\n",
              "    .colab-df-convert {\n",
              "      background-color: #E8F0FE;\n",
              "      border: none;\n",
              "      border-radius: 50%;\n",
              "      cursor: pointer;\n",
              "      display: none;\n",
              "      fill: #1967D2;\n",
              "      height: 32px;\n",
              "      padding: 0 0 0 0;\n",
              "      width: 32px;\n",
              "    }\n",
              "\n",
              "    .colab-df-convert:hover {\n",
              "      background-color: #E2EBFA;\n",
              "      box-shadow: 0px 1px 2px rgba(60, 64, 67, 0.3), 0px 1px 3px 1px rgba(60, 64, 67, 0.15);\n",
              "      fill: #174EA6;\n",
              "    }\n",
              "\n",
              "    [theme=dark] .colab-df-convert {\n",
              "      background-color: #3B4455;\n",
              "      fill: #D2E3FC;\n",
              "    }\n",
              "\n",
              "    [theme=dark] .colab-df-convert:hover {\n",
              "      background-color: #434B5C;\n",
              "      box-shadow: 0px 1px 3px 1px rgba(0, 0, 0, 0.15);\n",
              "      filter: drop-shadow(0px 1px 2px rgba(0, 0, 0, 0.3));\n",
              "      fill: #FFFFFF;\n",
              "    }\n",
              "  </style>\n",
              "\n",
              "      <script>\n",
              "        const buttonEl =\n",
              "          document.querySelector('#df-6bf29c38-7ba1-4722-abb6-de929ccc193f button.colab-df-convert');\n",
              "        buttonEl.style.display =\n",
              "          google.colab.kernel.accessAllowed ? 'block' : 'none';\n",
              "\n",
              "        async function convertToInteractive(key) {\n",
              "          const element = document.querySelector('#df-6bf29c38-7ba1-4722-abb6-de929ccc193f');\n",
              "          const dataTable =\n",
              "            await google.colab.kernel.invokeFunction('convertToInteractive',\n",
              "                                                     [key], {});\n",
              "          if (!dataTable) return;\n",
              "\n",
              "          const docLinkHtml = 'Like what you see? Visit the ' +\n",
              "            '<a target=\"_blank\" href=https://colab.research.google.com/notebooks/data_table.ipynb>data table notebook</a>'\n",
              "            + ' to learn more about interactive tables.';\n",
              "          element.innerHTML = '';\n",
              "          dataTable['output_type'] = 'display_data';\n",
              "          await google.colab.output.renderOutput(dataTable, element);\n",
              "          const docLink = document.createElement('div');\n",
              "          docLink.innerHTML = docLinkHtml;\n",
              "          element.appendChild(docLink);\n",
              "        }\n",
              "      </script>\n",
              "    </div>\n",
              "  </div>\n",
              "  "
            ]
          },
          "metadata": {},
          "execution_count": 19
        }
      ]
    },
    {
      "cell_type": "markdown",
      "source": [
        "Grouping Data with object Attributes: \n",
        "\n",
        "Groups attribute is like dictionary whose keys are the computer unique groups and corresponding values being the axis labels belonging to each group"
      ],
      "metadata": {
        "id": "bLBL1X3XxHeB"
      }
    },
    {
      "cell_type": "code",
      "source": [
        "# importing pandas module\n",
        "import pandas as pd\n",
        "  \n",
        "# Define a dictionary containing employee data\n",
        "data1 = {'Name':['Jai', 'Anuj', 'Jai', 'Princi',\n",
        "                 'Gaurav', 'Anuj', 'Princi', 'Abhi'],\n",
        "        'Age':[27, 24, 22, 32,\n",
        "               33, 36, 27, 32],\n",
        "        'Address':['Nagpur', 'Kanpur', 'Allahabad', 'Kannuaj',\n",
        "                   'Jaunpur', 'Kanpur', 'Allahabad', 'Aligarh'],\n",
        "        'Qualification':['Msc', 'MA', 'MCA', 'Phd',\n",
        "                         'B.Tech', 'B.com', 'Msc', 'MA']}\n",
        "    \n",
        "  \n",
        "# Convert the dictionary into DataFrame \n",
        "df = pd.DataFrame(data1)\n",
        "  \n",
        "print(df)"
      ],
      "metadata": {
        "colab": {
          "base_uri": "https://localhost:8080/"
        },
        "id": "nybFG-vixeac",
        "outputId": "3df84589-4a4f-476d-bf94-5079bbe32a71"
      },
      "execution_count": null,
      "outputs": [
        {
          "output_type": "stream",
          "name": "stdout",
          "text": [
            "     Name  Age    Address Qualification\n",
            "0     Jai   27     Nagpur           Msc\n",
            "1    Anuj   24     Kanpur            MA\n",
            "2     Jai   22  Allahabad           MCA\n",
            "3  Princi   32    Kannuaj           Phd\n",
            "4  Gaurav   33    Jaunpur        B.Tech\n",
            "5    Anuj   36     Kanpur         B.com\n",
            "6  Princi   27  Allahabad           Msc\n",
            "7    Abhi   32    Aligarh            MA\n"
          ]
        }
      ]
    },
    {
      "cell_type": "code",
      "source": [
        "df.groupby('Name').groups"
      ],
      "metadata": {
        "colab": {
          "base_uri": "https://localhost:8080/"
        },
        "id": "GYgHZvuUxiuO",
        "outputId": "4737a303-7e58-438c-8635-7ea65a915471"
      },
      "execution_count": null,
      "outputs": [
        {
          "output_type": "execute_result",
          "data": {
            "text/plain": [
              "{'Abhi': [7], 'Anuj': [1, 5], 'Gaurav': [4], 'Jai': [0, 2], 'Princi': [3, 6]}"
            ]
          },
          "metadata": {},
          "execution_count": 20
        }
      ]
    },
    {
      "cell_type": "markdown",
      "source": [
        ""
      ],
      "metadata": {
        "id": "gl165yvDxrnm"
      }
    },
    {
      "cell_type": "markdown",
      "source": [
        "Iterating through groups \n",
        "\n",
        "In order to iterate an element of groups, we can iterate through the object similar to itertools.obj "
      ],
      "metadata": {
        "id": "KfNiMRgBxrt1"
      }
    },
    {
      "cell_type": "code",
      "source": [
        "grp = df.groupby('Name')\n",
        "\n",
        "for name,group in grp:\n",
        "  print(name)\n",
        "  print(group)"
      ],
      "metadata": {
        "colab": {
          "base_uri": "https://localhost:8080/"
        },
        "id": "m5q_TRNwx03b",
        "outputId": "16527216-e3d8-4e2a-c6f6-947857135851"
      },
      "execution_count": null,
      "outputs": [
        {
          "output_type": "stream",
          "name": "stdout",
          "text": [
            "Abhi\n",
            "   Name  Age\n",
            "7  Abhi   32\n",
            "Anuj\n",
            "   Name  Age\n",
            "1  Anuj   24\n",
            "5  Anuj   36\n",
            "Gaurav\n",
            "     Name  Age\n",
            "4  Gaurav   33\n",
            "Jai\n",
            "  Name  Age\n",
            "0  Jai   27\n",
            "2  Jai   22\n",
            "Princi\n",
            "     Name  Age\n",
            "3  Princi   32\n",
            "6  Princi   27\n"
          ]
        }
      ]
    },
    {
      "cell_type": "markdown",
      "source": [
        "Now we iterate element of group containing multiple keys "
      ],
      "metadata": {
        "id": "4fu7aauyx-6r"
      }
    },
    {
      "cell_type": "code",
      "source": [
        "# iterating an element \n",
        "# of group containing \n",
        "# multiple keys \n",
        "\n",
        "grp = df.groupby(['Name','Qualification'])\n",
        "for name,group in grp:\n",
        "  print(name)\n",
        "  print(group)\n",
        "  print()"
      ],
      "metadata": {
        "colab": {
          "base_uri": "https://localhost:8080/"
        },
        "id": "POSWb1_jyLG5",
        "outputId": "cc6c4a73-519d-47b7-eb1c-63513cddbc96"
      },
      "execution_count": null,
      "outputs": [
        {
          "output_type": "stream",
          "name": "stdout",
          "text": [
            "('Abhi', 'MA')\n",
            "   Name  Age  Address Qualification\n",
            "7  Abhi   32  Aligarh            MA\n",
            "\n",
            "('Anuj', 'B.com')\n",
            "   Name  Age Address Qualification\n",
            "5  Anuj   36  Kanpur         B.com\n",
            "\n",
            "('Anuj', 'MA')\n",
            "   Name  Age Address Qualification\n",
            "1  Anuj   24  Kanpur            MA\n",
            "\n",
            "('Gaurav', 'B.Tech')\n",
            "     Name  Age  Address Qualification\n",
            "4  Gaurav   33  Jaunpur        B.Tech\n",
            "\n",
            "('Jai', 'MCA')\n",
            "  Name  Age    Address Qualification\n",
            "2  Jai   22  Allahabad           MCA\n",
            "\n",
            "('Jai', 'Msc')\n",
            "  Name  Age Address Qualification\n",
            "0  Jai   27  Nagpur           Msc\n",
            "\n",
            "('Princi', 'Msc')\n",
            "     Name  Age    Address Qualification\n",
            "6  Princi   27  Allahabad           Msc\n",
            "\n",
            "('Princi', 'Phd')\n",
            "     Name  Age  Address Qualification\n",
            "3  Princi   32  Kannuaj           Phd\n",
            "\n"
          ]
        }
      ]
    },
    {
      "cell_type": "markdown",
      "source": [
        "Selecting a groups\n",
        "\n",
        "In order to select a group , we can select using Groupby,get_group().\n",
        "We can select a group by applying a function Groupby.get_group this \n",
        "function select a single group \n"
      ],
      "metadata": {
        "id": "4VkZdWe2yuOT"
      }
    },
    {
      "cell_type": "code",
      "source": [
        "# importing pandas module\n",
        "import pandas as pd\n",
        "  \n",
        "# Define a dictionary containing employee data\n",
        "data1 = {'Name':['Jai', 'Anuj', 'Jai', 'Princi',\n",
        "                 'Gaurav', 'Anuj', 'Princi', 'Abhi'],\n",
        "        'Age':[27, 24, 22, 32,\n",
        "               33, 36, 27, 32],\n",
        "        'Address':['Nagpur', 'Kanpur', 'Allahabad', 'Kannuaj',\n",
        "                   'Jaunpur', 'Kanpur', 'Allahabad', 'Aligarh'],\n",
        "        'Qualification':['Msc', 'MA', 'MCA', 'Phd',\n",
        "                         'B.Tech', 'B.com', 'Msc', 'MA']}\n",
        "    \n",
        "  \n",
        "# Convert the dictionary into DataFrame \n",
        "df = pd.DataFrame(data1)\n",
        "  \n",
        "print(df)"
      ],
      "metadata": {
        "colab": {
          "base_uri": "https://localhost:8080/"
        },
        "id": "KlSA6Cm8y5Dr",
        "outputId": "c55e73a9-3e8e-4c95-d791-4902b25aa6c1"
      },
      "execution_count": null,
      "outputs": [
        {
          "output_type": "stream",
          "name": "stdout",
          "text": [
            "     Name  Age    Address Qualification\n",
            "0     Jai   27     Nagpur           Msc\n",
            "1    Anuj   24     Kanpur            MA\n",
            "2     Jai   22  Allahabad           MCA\n",
            "3  Princi   32    Kannuaj           Phd\n",
            "4  Gaurav   33    Jaunpur        B.Tech\n",
            "5    Anuj   36     Kanpur         B.com\n",
            "6  Princi   27  Allahabad           Msc\n",
            "7    Abhi   32    Aligarh            MA\n"
          ]
        }
      ]
    },
    {
      "cell_type": "code",
      "source": [
        "# now we select single group using Groupby.get_group\n",
        "\n",
        "grp = df.groupby('Name')\n",
        "grp.get_group('Jai')"
      ],
      "metadata": {
        "colab": {
          "base_uri": "https://localhost:8080/",
          "height": 112
        },
        "id": "4XVJSMh4y7Kk",
        "outputId": "805eabff-46fa-4b2a-e55f-509919c245c6"
      },
      "execution_count": null,
      "outputs": [
        {
          "output_type": "execute_result",
          "data": {
            "text/plain": [
              "  Name  Age    Address Qualification\n",
              "0  Jai   27     Nagpur           Msc\n",
              "2  Jai   22  Allahabad           MCA"
            ],
            "text/html": [
              "\n",
              "  <div id=\"df-8ae02df5-c77c-4cac-9d99-175f347be6f5\">\n",
              "    <div class=\"colab-df-container\">\n",
              "      <div>\n",
              "<style scoped>\n",
              "    .dataframe tbody tr th:only-of-type {\n",
              "        vertical-align: middle;\n",
              "    }\n",
              "\n",
              "    .dataframe tbody tr th {\n",
              "        vertical-align: top;\n",
              "    }\n",
              "\n",
              "    .dataframe thead th {\n",
              "        text-align: right;\n",
              "    }\n",
              "</style>\n",
              "<table border=\"1\" class=\"dataframe\">\n",
              "  <thead>\n",
              "    <tr style=\"text-align: right;\">\n",
              "      <th></th>\n",
              "      <th>Name</th>\n",
              "      <th>Age</th>\n",
              "      <th>Address</th>\n",
              "      <th>Qualification</th>\n",
              "    </tr>\n",
              "  </thead>\n",
              "  <tbody>\n",
              "    <tr>\n",
              "      <th>0</th>\n",
              "      <td>Jai</td>\n",
              "      <td>27</td>\n",
              "      <td>Nagpur</td>\n",
              "      <td>Msc</td>\n",
              "    </tr>\n",
              "    <tr>\n",
              "      <th>2</th>\n",
              "      <td>Jai</td>\n",
              "      <td>22</td>\n",
              "      <td>Allahabad</td>\n",
              "      <td>MCA</td>\n",
              "    </tr>\n",
              "  </tbody>\n",
              "</table>\n",
              "</div>\n",
              "      <button class=\"colab-df-convert\" onclick=\"convertToInteractive('df-8ae02df5-c77c-4cac-9d99-175f347be6f5')\"\n",
              "              title=\"Convert this dataframe to an interactive table.\"\n",
              "              style=\"display:none;\">\n",
              "        \n",
              "  <svg xmlns=\"http://www.w3.org/2000/svg\" height=\"24px\"viewBox=\"0 0 24 24\"\n",
              "       width=\"24px\">\n",
              "    <path d=\"M0 0h24v24H0V0z\" fill=\"none\"/>\n",
              "    <path d=\"M18.56 5.44l.94 2.06.94-2.06 2.06-.94-2.06-.94-.94-2.06-.94 2.06-2.06.94zm-11 1L8.5 8.5l.94-2.06 2.06-.94-2.06-.94L8.5 2.5l-.94 2.06-2.06.94zm10 10l.94 2.06.94-2.06 2.06-.94-2.06-.94-.94-2.06-.94 2.06-2.06.94z\"/><path d=\"M17.41 7.96l-1.37-1.37c-.4-.4-.92-.59-1.43-.59-.52 0-1.04.2-1.43.59L10.3 9.45l-7.72 7.72c-.78.78-.78 2.05 0 2.83L4 21.41c.39.39.9.59 1.41.59.51 0 1.02-.2 1.41-.59l7.78-7.78 2.81-2.81c.8-.78.8-2.07 0-2.86zM5.41 20L4 18.59l7.72-7.72 1.47 1.35L5.41 20z\"/>\n",
              "  </svg>\n",
              "      </button>\n",
              "      \n",
              "  <style>\n",
              "    .colab-df-container {\n",
              "      display:flex;\n",
              "      flex-wrap:wrap;\n",
              "      gap: 12px;\n",
              "    }\n",
              "\n",
              "    .colab-df-convert {\n",
              "      background-color: #E8F0FE;\n",
              "      border: none;\n",
              "      border-radius: 50%;\n",
              "      cursor: pointer;\n",
              "      display: none;\n",
              "      fill: #1967D2;\n",
              "      height: 32px;\n",
              "      padding: 0 0 0 0;\n",
              "      width: 32px;\n",
              "    }\n",
              "\n",
              "    .colab-df-convert:hover {\n",
              "      background-color: #E2EBFA;\n",
              "      box-shadow: 0px 1px 2px rgba(60, 64, 67, 0.3), 0px 1px 3px 1px rgba(60, 64, 67, 0.15);\n",
              "      fill: #174EA6;\n",
              "    }\n",
              "\n",
              "    [theme=dark] .colab-df-convert {\n",
              "      background-color: #3B4455;\n",
              "      fill: #D2E3FC;\n",
              "    }\n",
              "\n",
              "    [theme=dark] .colab-df-convert:hover {\n",
              "      background-color: #434B5C;\n",
              "      box-shadow: 0px 1px 3px 1px rgba(0, 0, 0, 0.15);\n",
              "      filter: drop-shadow(0px 1px 2px rgba(0, 0, 0, 0.3));\n",
              "      fill: #FFFFFF;\n",
              "    }\n",
              "  </style>\n",
              "\n",
              "      <script>\n",
              "        const buttonEl =\n",
              "          document.querySelector('#df-8ae02df5-c77c-4cac-9d99-175f347be6f5 button.colab-df-convert');\n",
              "        buttonEl.style.display =\n",
              "          google.colab.kernel.accessAllowed ? 'block' : 'none';\n",
              "\n",
              "        async function convertToInteractive(key) {\n",
              "          const element = document.querySelector('#df-8ae02df5-c77c-4cac-9d99-175f347be6f5');\n",
              "          const dataTable =\n",
              "            await google.colab.kernel.invokeFunction('convertToInteractive',\n",
              "                                                     [key], {});\n",
              "          if (!dataTable) return;\n",
              "\n",
              "          const docLinkHtml = 'Like what you see? Visit the ' +\n",
              "            '<a target=\"_blank\" href=https://colab.research.google.com/notebooks/data_table.ipynb>data table notebook</a>'\n",
              "            + ' to learn more about interactive tables.';\n",
              "          element.innerHTML = '';\n",
              "          dataTable['output_type'] = 'display_data';\n",
              "          await google.colab.output.renderOutput(dataTable, element);\n",
              "          const docLink = document.createElement('div');\n",
              "          docLink.innerHTML = docLinkHtml;\n",
              "          element.appendChild(docLink);\n",
              "        }\n",
              "      </script>\n",
              "    </div>\n",
              "  </div>\n",
              "  "
            ]
          },
          "metadata": {},
          "execution_count": 28
        }
      ]
    },
    {
      "cell_type": "code",
      "source": [
        "# Now we select an object grouped on multiple columns \n",
        "grp = df.groupby(['Name','Qualification'])\n",
        "grp.get_group(('Jai','Msc'))"
      ],
      "metadata": {
        "colab": {
          "base_uri": "https://localhost:8080/",
          "height": 81
        },
        "id": "7cZJaIASzFCy",
        "outputId": "131b7f4e-477a-456f-f7a3-07c4eb04e8f7"
      },
      "execution_count": null,
      "outputs": [
        {
          "output_type": "execute_result",
          "data": {
            "text/plain": [
              "  Name  Age Address Qualification\n",
              "0  Jai   27  Nagpur           Msc"
            ],
            "text/html": [
              "\n",
              "  <div id=\"df-6a225c84-7f33-42e2-a17a-40edfcf6d4f7\">\n",
              "    <div class=\"colab-df-container\">\n",
              "      <div>\n",
              "<style scoped>\n",
              "    .dataframe tbody tr th:only-of-type {\n",
              "        vertical-align: middle;\n",
              "    }\n",
              "\n",
              "    .dataframe tbody tr th {\n",
              "        vertical-align: top;\n",
              "    }\n",
              "\n",
              "    .dataframe thead th {\n",
              "        text-align: right;\n",
              "    }\n",
              "</style>\n",
              "<table border=\"1\" class=\"dataframe\">\n",
              "  <thead>\n",
              "    <tr style=\"text-align: right;\">\n",
              "      <th></th>\n",
              "      <th>Name</th>\n",
              "      <th>Age</th>\n",
              "      <th>Address</th>\n",
              "      <th>Qualification</th>\n",
              "    </tr>\n",
              "  </thead>\n",
              "  <tbody>\n",
              "    <tr>\n",
              "      <th>0</th>\n",
              "      <td>Jai</td>\n",
              "      <td>27</td>\n",
              "      <td>Nagpur</td>\n",
              "      <td>Msc</td>\n",
              "    </tr>\n",
              "  </tbody>\n",
              "</table>\n",
              "</div>\n",
              "      <button class=\"colab-df-convert\" onclick=\"convertToInteractive('df-6a225c84-7f33-42e2-a17a-40edfcf6d4f7')\"\n",
              "              title=\"Convert this dataframe to an interactive table.\"\n",
              "              style=\"display:none;\">\n",
              "        \n",
              "  <svg xmlns=\"http://www.w3.org/2000/svg\" height=\"24px\"viewBox=\"0 0 24 24\"\n",
              "       width=\"24px\">\n",
              "    <path d=\"M0 0h24v24H0V0z\" fill=\"none\"/>\n",
              "    <path d=\"M18.56 5.44l.94 2.06.94-2.06 2.06-.94-2.06-.94-.94-2.06-.94 2.06-2.06.94zm-11 1L8.5 8.5l.94-2.06 2.06-.94-2.06-.94L8.5 2.5l-.94 2.06-2.06.94zm10 10l.94 2.06.94-2.06 2.06-.94-2.06-.94-.94-2.06-.94 2.06-2.06.94z\"/><path d=\"M17.41 7.96l-1.37-1.37c-.4-.4-.92-.59-1.43-.59-.52 0-1.04.2-1.43.59L10.3 9.45l-7.72 7.72c-.78.78-.78 2.05 0 2.83L4 21.41c.39.39.9.59 1.41.59.51 0 1.02-.2 1.41-.59l7.78-7.78 2.81-2.81c.8-.78.8-2.07 0-2.86zM5.41 20L4 18.59l7.72-7.72 1.47 1.35L5.41 20z\"/>\n",
              "  </svg>\n",
              "      </button>\n",
              "      \n",
              "  <style>\n",
              "    .colab-df-container {\n",
              "      display:flex;\n",
              "      flex-wrap:wrap;\n",
              "      gap: 12px;\n",
              "    }\n",
              "\n",
              "    .colab-df-convert {\n",
              "      background-color: #E8F0FE;\n",
              "      border: none;\n",
              "      border-radius: 50%;\n",
              "      cursor: pointer;\n",
              "      display: none;\n",
              "      fill: #1967D2;\n",
              "      height: 32px;\n",
              "      padding: 0 0 0 0;\n",
              "      width: 32px;\n",
              "    }\n",
              "\n",
              "    .colab-df-convert:hover {\n",
              "      background-color: #E2EBFA;\n",
              "      box-shadow: 0px 1px 2px rgba(60, 64, 67, 0.3), 0px 1px 3px 1px rgba(60, 64, 67, 0.15);\n",
              "      fill: #174EA6;\n",
              "    }\n",
              "\n",
              "    [theme=dark] .colab-df-convert {\n",
              "      background-color: #3B4455;\n",
              "      fill: #D2E3FC;\n",
              "    }\n",
              "\n",
              "    [theme=dark] .colab-df-convert:hover {\n",
              "      background-color: #434B5C;\n",
              "      box-shadow: 0px 1px 3px 1px rgba(0, 0, 0, 0.15);\n",
              "      filter: drop-shadow(0px 1px 2px rgba(0, 0, 0, 0.3));\n",
              "      fill: #FFFFFF;\n",
              "    }\n",
              "  </style>\n",
              "\n",
              "      <script>\n",
              "        const buttonEl =\n",
              "          document.querySelector('#df-6a225c84-7f33-42e2-a17a-40edfcf6d4f7 button.colab-df-convert');\n",
              "        buttonEl.style.display =\n",
              "          google.colab.kernel.accessAllowed ? 'block' : 'none';\n",
              "\n",
              "        async function convertToInteractive(key) {\n",
              "          const element = document.querySelector('#df-6a225c84-7f33-42e2-a17a-40edfcf6d4f7');\n",
              "          const dataTable =\n",
              "            await google.colab.kernel.invokeFunction('convertToInteractive',\n",
              "                                                     [key], {});\n",
              "          if (!dataTable) return;\n",
              "\n",
              "          const docLinkHtml = 'Like what you see? Visit the ' +\n",
              "            '<a target=\"_blank\" href=https://colab.research.google.com/notebooks/data_table.ipynb>data table notebook</a>'\n",
              "            + ' to learn more about interactive tables.';\n",
              "          element.innerHTML = '';\n",
              "          dataTable['output_type'] = 'display_data';\n",
              "          await google.colab.output.renderOutput(dataTable, element);\n",
              "          const docLink = document.createElement('div');\n",
              "          docLink.innerHTML = docLinkHtml;\n",
              "          element.appendChild(docLink);\n",
              "        }\n",
              "      </script>\n",
              "    </div>\n",
              "  </div>\n",
              "  "
            ]
          },
          "metadata": {},
          "execution_count": 29
        }
      ]
    },
    {
      "cell_type": "markdown",
      "source": [
        "**Applying Function to Group**\n",
        "\n",
        "After splitting a data into a group, we apply a function to each group in order to do that we perform some operation they are: \n",
        "\n",
        "**Aggregation** : It is a process in which we compute a summary statistic ( or statistics) about each group. For example, Compute group sums or means \n",
        "\n",
        "**Transformation** : It is a process in which we perform some group-specific computations and return a like-indexed. For example, Filling NA's within groups with a value dervied from each group\n",
        "\n",
        "**Filtration** : It is a process in which we discard some groups, according to a group-wise computation that evaluates True or False. For example, Filtering out data based on the group sum or mean ."
      ],
      "metadata": {
        "id": "gnYh94C8zcXM"
      }
    },
    {
      "cell_type": "code",
      "source": [
        "import numpy as np\n",
        "grp1 = df.groupby('Name')\n",
        "grp1.aggregate(np.sum)"
      ],
      "metadata": {
        "colab": {
          "base_uri": "https://localhost:8080/",
          "height": 238
        },
        "id": "R973FsnT20S7",
        "outputId": "3e318b4a-bca6-4338-bcbf-c2f1399c305c"
      },
      "execution_count": null,
      "outputs": [
        {
          "output_type": "execute_result",
          "data": {
            "text/plain": [
              "        Age\n",
              "Name       \n",
              "Abhi     32\n",
              "Anuj     60\n",
              "Gaurav   33\n",
              "Jai      49\n",
              "Princi   59"
            ],
            "text/html": [
              "\n",
              "  <div id=\"df-e4e01f2a-0d91-4f54-89b8-b7996ff2661a\">\n",
              "    <div class=\"colab-df-container\">\n",
              "      <div>\n",
              "<style scoped>\n",
              "    .dataframe tbody tr th:only-of-type {\n",
              "        vertical-align: middle;\n",
              "    }\n",
              "\n",
              "    .dataframe tbody tr th {\n",
              "        vertical-align: top;\n",
              "    }\n",
              "\n",
              "    .dataframe thead th {\n",
              "        text-align: right;\n",
              "    }\n",
              "</style>\n",
              "<table border=\"1\" class=\"dataframe\">\n",
              "  <thead>\n",
              "    <tr style=\"text-align: right;\">\n",
              "      <th></th>\n",
              "      <th>Age</th>\n",
              "    </tr>\n",
              "    <tr>\n",
              "      <th>Name</th>\n",
              "      <th></th>\n",
              "    </tr>\n",
              "  </thead>\n",
              "  <tbody>\n",
              "    <tr>\n",
              "      <th>Abhi</th>\n",
              "      <td>32</td>\n",
              "    </tr>\n",
              "    <tr>\n",
              "      <th>Anuj</th>\n",
              "      <td>60</td>\n",
              "    </tr>\n",
              "    <tr>\n",
              "      <th>Gaurav</th>\n",
              "      <td>33</td>\n",
              "    </tr>\n",
              "    <tr>\n",
              "      <th>Jai</th>\n",
              "      <td>49</td>\n",
              "    </tr>\n",
              "    <tr>\n",
              "      <th>Princi</th>\n",
              "      <td>59</td>\n",
              "    </tr>\n",
              "  </tbody>\n",
              "</table>\n",
              "</div>\n",
              "      <button class=\"colab-df-convert\" onclick=\"convertToInteractive('df-e4e01f2a-0d91-4f54-89b8-b7996ff2661a')\"\n",
              "              title=\"Convert this dataframe to an interactive table.\"\n",
              "              style=\"display:none;\">\n",
              "        \n",
              "  <svg xmlns=\"http://www.w3.org/2000/svg\" height=\"24px\"viewBox=\"0 0 24 24\"\n",
              "       width=\"24px\">\n",
              "    <path d=\"M0 0h24v24H0V0z\" fill=\"none\"/>\n",
              "    <path d=\"M18.56 5.44l.94 2.06.94-2.06 2.06-.94-2.06-.94-.94-2.06-.94 2.06-2.06.94zm-11 1L8.5 8.5l.94-2.06 2.06-.94-2.06-.94L8.5 2.5l-.94 2.06-2.06.94zm10 10l.94 2.06.94-2.06 2.06-.94-2.06-.94-.94-2.06-.94 2.06-2.06.94z\"/><path d=\"M17.41 7.96l-1.37-1.37c-.4-.4-.92-.59-1.43-.59-.52 0-1.04.2-1.43.59L10.3 9.45l-7.72 7.72c-.78.78-.78 2.05 0 2.83L4 21.41c.39.39.9.59 1.41.59.51 0 1.02-.2 1.41-.59l7.78-7.78 2.81-2.81c.8-.78.8-2.07 0-2.86zM5.41 20L4 18.59l7.72-7.72 1.47 1.35L5.41 20z\"/>\n",
              "  </svg>\n",
              "      </button>\n",
              "      \n",
              "  <style>\n",
              "    .colab-df-container {\n",
              "      display:flex;\n",
              "      flex-wrap:wrap;\n",
              "      gap: 12px;\n",
              "    }\n",
              "\n",
              "    .colab-df-convert {\n",
              "      background-color: #E8F0FE;\n",
              "      border: none;\n",
              "      border-radius: 50%;\n",
              "      cursor: pointer;\n",
              "      display: none;\n",
              "      fill: #1967D2;\n",
              "      height: 32px;\n",
              "      padding: 0 0 0 0;\n",
              "      width: 32px;\n",
              "    }\n",
              "\n",
              "    .colab-df-convert:hover {\n",
              "      background-color: #E2EBFA;\n",
              "      box-shadow: 0px 1px 2px rgba(60, 64, 67, 0.3), 0px 1px 3px 1px rgba(60, 64, 67, 0.15);\n",
              "      fill: #174EA6;\n",
              "    }\n",
              "\n",
              "    [theme=dark] .colab-df-convert {\n",
              "      background-color: #3B4455;\n",
              "      fill: #D2E3FC;\n",
              "    }\n",
              "\n",
              "    [theme=dark] .colab-df-convert:hover {\n",
              "      background-color: #434B5C;\n",
              "      box-shadow: 0px 1px 3px 1px rgba(0, 0, 0, 0.15);\n",
              "      filter: drop-shadow(0px 1px 2px rgba(0, 0, 0, 0.3));\n",
              "      fill: #FFFFFF;\n",
              "    }\n",
              "  </style>\n",
              "\n",
              "      <script>\n",
              "        const buttonEl =\n",
              "          document.querySelector('#df-e4e01f2a-0d91-4f54-89b8-b7996ff2661a button.colab-df-convert');\n",
              "        buttonEl.style.display =\n",
              "          google.colab.kernel.accessAllowed ? 'block' : 'none';\n",
              "\n",
              "        async function convertToInteractive(key) {\n",
              "          const element = document.querySelector('#df-e4e01f2a-0d91-4f54-89b8-b7996ff2661a');\n",
              "          const dataTable =\n",
              "            await google.colab.kernel.invokeFunction('convertToInteractive',\n",
              "                                                     [key], {});\n",
              "          if (!dataTable) return;\n",
              "\n",
              "          const docLinkHtml = 'Like what you see? Visit the ' +\n",
              "            '<a target=\"_blank\" href=https://colab.research.google.com/notebooks/data_table.ipynb>data table notebook</a>'\n",
              "            + ' to learn more about interactive tables.';\n",
              "          element.innerHTML = '';\n",
              "          dataTable['output_type'] = 'display_data';\n",
              "          await google.colab.output.renderOutput(dataTable, element);\n",
              "          const docLink = document.createElement('div');\n",
              "          docLink.innerHTML = docLinkHtml;\n",
              "          element.appendChild(docLink);\n",
              "        }\n",
              "      </script>\n",
              "    </div>\n",
              "  </div>\n",
              "  "
            ]
          },
          "metadata": {},
          "execution_count": 31
        }
      ]
    },
    {
      "cell_type": "code",
      "source": [
        "grp2 = df.groupby(['Name','Qualification'])\n",
        "grp2.aggregate(np.sum)"
      ],
      "metadata": {
        "colab": {
          "base_uri": "https://localhost:8080/",
          "height": 331
        },
        "id": "Sc-Apvjq29Vq",
        "outputId": "3d03cb56-d884-485b-a1b3-af6e40d74850"
      },
      "execution_count": null,
      "outputs": [
        {
          "output_type": "execute_result",
          "data": {
            "text/plain": [
              "                      Age\n",
              "Name   Qualification     \n",
              "Abhi   MA              32\n",
              "Anuj   B.com           36\n",
              "       MA              24\n",
              "Gaurav B.Tech          33\n",
              "Jai    MCA             22\n",
              "       Msc             27\n",
              "Princi Msc             27\n",
              "       Phd             32"
            ],
            "text/html": [
              "\n",
              "  <div id=\"df-dfe98770-831c-4ea3-9ed4-b216fb91648f\">\n",
              "    <div class=\"colab-df-container\">\n",
              "      <div>\n",
              "<style scoped>\n",
              "    .dataframe tbody tr th:only-of-type {\n",
              "        vertical-align: middle;\n",
              "    }\n",
              "\n",
              "    .dataframe tbody tr th {\n",
              "        vertical-align: top;\n",
              "    }\n",
              "\n",
              "    .dataframe thead th {\n",
              "        text-align: right;\n",
              "    }\n",
              "</style>\n",
              "<table border=\"1\" class=\"dataframe\">\n",
              "  <thead>\n",
              "    <tr style=\"text-align: right;\">\n",
              "      <th></th>\n",
              "      <th></th>\n",
              "      <th>Age</th>\n",
              "    </tr>\n",
              "    <tr>\n",
              "      <th>Name</th>\n",
              "      <th>Qualification</th>\n",
              "      <th></th>\n",
              "    </tr>\n",
              "  </thead>\n",
              "  <tbody>\n",
              "    <tr>\n",
              "      <th>Abhi</th>\n",
              "      <th>MA</th>\n",
              "      <td>32</td>\n",
              "    </tr>\n",
              "    <tr>\n",
              "      <th rowspan=\"2\" valign=\"top\">Anuj</th>\n",
              "      <th>B.com</th>\n",
              "      <td>36</td>\n",
              "    </tr>\n",
              "    <tr>\n",
              "      <th>MA</th>\n",
              "      <td>24</td>\n",
              "    </tr>\n",
              "    <tr>\n",
              "      <th>Gaurav</th>\n",
              "      <th>B.Tech</th>\n",
              "      <td>33</td>\n",
              "    </tr>\n",
              "    <tr>\n",
              "      <th rowspan=\"2\" valign=\"top\">Jai</th>\n",
              "      <th>MCA</th>\n",
              "      <td>22</td>\n",
              "    </tr>\n",
              "    <tr>\n",
              "      <th>Msc</th>\n",
              "      <td>27</td>\n",
              "    </tr>\n",
              "    <tr>\n",
              "      <th rowspan=\"2\" valign=\"top\">Princi</th>\n",
              "      <th>Msc</th>\n",
              "      <td>27</td>\n",
              "    </tr>\n",
              "    <tr>\n",
              "      <th>Phd</th>\n",
              "      <td>32</td>\n",
              "    </tr>\n",
              "  </tbody>\n",
              "</table>\n",
              "</div>\n",
              "      <button class=\"colab-df-convert\" onclick=\"convertToInteractive('df-dfe98770-831c-4ea3-9ed4-b216fb91648f')\"\n",
              "              title=\"Convert this dataframe to an interactive table.\"\n",
              "              style=\"display:none;\">\n",
              "        \n",
              "  <svg xmlns=\"http://www.w3.org/2000/svg\" height=\"24px\"viewBox=\"0 0 24 24\"\n",
              "       width=\"24px\">\n",
              "    <path d=\"M0 0h24v24H0V0z\" fill=\"none\"/>\n",
              "    <path d=\"M18.56 5.44l.94 2.06.94-2.06 2.06-.94-2.06-.94-.94-2.06-.94 2.06-2.06.94zm-11 1L8.5 8.5l.94-2.06 2.06-.94-2.06-.94L8.5 2.5l-.94 2.06-2.06.94zm10 10l.94 2.06.94-2.06 2.06-.94-2.06-.94-.94-2.06-.94 2.06-2.06.94z\"/><path d=\"M17.41 7.96l-1.37-1.37c-.4-.4-.92-.59-1.43-.59-.52 0-1.04.2-1.43.59L10.3 9.45l-7.72 7.72c-.78.78-.78 2.05 0 2.83L4 21.41c.39.39.9.59 1.41.59.51 0 1.02-.2 1.41-.59l7.78-7.78 2.81-2.81c.8-.78.8-2.07 0-2.86zM5.41 20L4 18.59l7.72-7.72 1.47 1.35L5.41 20z\"/>\n",
              "  </svg>\n",
              "      </button>\n",
              "      \n",
              "  <style>\n",
              "    .colab-df-container {\n",
              "      display:flex;\n",
              "      flex-wrap:wrap;\n",
              "      gap: 12px;\n",
              "    }\n",
              "\n",
              "    .colab-df-convert {\n",
              "      background-color: #E8F0FE;\n",
              "      border: none;\n",
              "      border-radius: 50%;\n",
              "      cursor: pointer;\n",
              "      display: none;\n",
              "      fill: #1967D2;\n",
              "      height: 32px;\n",
              "      padding: 0 0 0 0;\n",
              "      width: 32px;\n",
              "    }\n",
              "\n",
              "    .colab-df-convert:hover {\n",
              "      background-color: #E2EBFA;\n",
              "      box-shadow: 0px 1px 2px rgba(60, 64, 67, 0.3), 0px 1px 3px 1px rgba(60, 64, 67, 0.15);\n",
              "      fill: #174EA6;\n",
              "    }\n",
              "\n",
              "    [theme=dark] .colab-df-convert {\n",
              "      background-color: #3B4455;\n",
              "      fill: #D2E3FC;\n",
              "    }\n",
              "\n",
              "    [theme=dark] .colab-df-convert:hover {\n",
              "      background-color: #434B5C;\n",
              "      box-shadow: 0px 1px 3px 1px rgba(0, 0, 0, 0.15);\n",
              "      filter: drop-shadow(0px 1px 2px rgba(0, 0, 0, 0.3));\n",
              "      fill: #FFFFFF;\n",
              "    }\n",
              "  </style>\n",
              "\n",
              "      <script>\n",
              "        const buttonEl =\n",
              "          document.querySelector('#df-dfe98770-831c-4ea3-9ed4-b216fb91648f button.colab-df-convert');\n",
              "        buttonEl.style.display =\n",
              "          google.colab.kernel.accessAllowed ? 'block' : 'none';\n",
              "\n",
              "        async function convertToInteractive(key) {\n",
              "          const element = document.querySelector('#df-dfe98770-831c-4ea3-9ed4-b216fb91648f');\n",
              "          const dataTable =\n",
              "            await google.colab.kernel.invokeFunction('convertToInteractive',\n",
              "                                                     [key], {});\n",
              "          if (!dataTable) return;\n",
              "\n",
              "          const docLinkHtml = 'Like what you see? Visit the ' +\n",
              "            '<a target=\"_blank\" href=https://colab.research.google.com/notebooks/data_table.ipynb>data table notebook</a>'\n",
              "            + ' to learn more about interactive tables.';\n",
              "          element.innerHTML = '';\n",
              "          dataTable['output_type'] = 'display_data';\n",
              "          await google.colab.output.renderOutput(dataTable, element);\n",
              "          const docLink = document.createElement('div');\n",
              "          docLink.innerHTML = docLinkHtml;\n",
              "          element.appendChild(docLink);\n",
              "        }\n",
              "      </script>\n",
              "    </div>\n",
              "  </div>\n",
              "  "
            ]
          },
          "metadata": {},
          "execution_count": 32
        }
      ]
    },
    {
      "cell_type": "markdown",
      "source": [
        "**Applying multiple functions at once**\n",
        "\n",
        "We can apply multiple functions at once by passing a list of dictionary of functions to do aggregation with , outputting a DataFrame"
      ],
      "metadata": {
        "id": "heNAvChx3IHX"
      }
    },
    {
      "cell_type": "code",
      "source": [
        "grp = df.groupby('Name')\n",
        "grp['Age'].agg([np.sum,np.mean,np.std])"
      ],
      "metadata": {
        "colab": {
          "base_uri": "https://localhost:8080/",
          "height": 238
        },
        "id": "niQA0k7X3TiM",
        "outputId": "26879731-de9d-4cad-b63f-309dd17e043a"
      },
      "execution_count": null,
      "outputs": [
        {
          "output_type": "execute_result",
          "data": {
            "text/plain": [
              "        sum  mean       std\n",
              "Name                       \n",
              "Abhi     32  32.0       NaN\n",
              "Anuj     60  30.0  8.485281\n",
              "Gaurav   33  33.0       NaN\n",
              "Jai      49  24.5  3.535534\n",
              "Princi   59  29.5  3.535534"
            ],
            "text/html": [
              "\n",
              "  <div id=\"df-9cbede2e-04a0-4abb-bb94-7bc4f33c7ab3\">\n",
              "    <div class=\"colab-df-container\">\n",
              "      <div>\n",
              "<style scoped>\n",
              "    .dataframe tbody tr th:only-of-type {\n",
              "        vertical-align: middle;\n",
              "    }\n",
              "\n",
              "    .dataframe tbody tr th {\n",
              "        vertical-align: top;\n",
              "    }\n",
              "\n",
              "    .dataframe thead th {\n",
              "        text-align: right;\n",
              "    }\n",
              "</style>\n",
              "<table border=\"1\" class=\"dataframe\">\n",
              "  <thead>\n",
              "    <tr style=\"text-align: right;\">\n",
              "      <th></th>\n",
              "      <th>sum</th>\n",
              "      <th>mean</th>\n",
              "      <th>std</th>\n",
              "    </tr>\n",
              "    <tr>\n",
              "      <th>Name</th>\n",
              "      <th></th>\n",
              "      <th></th>\n",
              "      <th></th>\n",
              "    </tr>\n",
              "  </thead>\n",
              "  <tbody>\n",
              "    <tr>\n",
              "      <th>Abhi</th>\n",
              "      <td>32</td>\n",
              "      <td>32.0</td>\n",
              "      <td>NaN</td>\n",
              "    </tr>\n",
              "    <tr>\n",
              "      <th>Anuj</th>\n",
              "      <td>60</td>\n",
              "      <td>30.0</td>\n",
              "      <td>8.485281</td>\n",
              "    </tr>\n",
              "    <tr>\n",
              "      <th>Gaurav</th>\n",
              "      <td>33</td>\n",
              "      <td>33.0</td>\n",
              "      <td>NaN</td>\n",
              "    </tr>\n",
              "    <tr>\n",
              "      <th>Jai</th>\n",
              "      <td>49</td>\n",
              "      <td>24.5</td>\n",
              "      <td>3.535534</td>\n",
              "    </tr>\n",
              "    <tr>\n",
              "      <th>Princi</th>\n",
              "      <td>59</td>\n",
              "      <td>29.5</td>\n",
              "      <td>3.535534</td>\n",
              "    </tr>\n",
              "  </tbody>\n",
              "</table>\n",
              "</div>\n",
              "      <button class=\"colab-df-convert\" onclick=\"convertToInteractive('df-9cbede2e-04a0-4abb-bb94-7bc4f33c7ab3')\"\n",
              "              title=\"Convert this dataframe to an interactive table.\"\n",
              "              style=\"display:none;\">\n",
              "        \n",
              "  <svg xmlns=\"http://www.w3.org/2000/svg\" height=\"24px\"viewBox=\"0 0 24 24\"\n",
              "       width=\"24px\">\n",
              "    <path d=\"M0 0h24v24H0V0z\" fill=\"none\"/>\n",
              "    <path d=\"M18.56 5.44l.94 2.06.94-2.06 2.06-.94-2.06-.94-.94-2.06-.94 2.06-2.06.94zm-11 1L8.5 8.5l.94-2.06 2.06-.94-2.06-.94L8.5 2.5l-.94 2.06-2.06.94zm10 10l.94 2.06.94-2.06 2.06-.94-2.06-.94-.94-2.06-.94 2.06-2.06.94z\"/><path d=\"M17.41 7.96l-1.37-1.37c-.4-.4-.92-.59-1.43-.59-.52 0-1.04.2-1.43.59L10.3 9.45l-7.72 7.72c-.78.78-.78 2.05 0 2.83L4 21.41c.39.39.9.59 1.41.59.51 0 1.02-.2 1.41-.59l7.78-7.78 2.81-2.81c.8-.78.8-2.07 0-2.86zM5.41 20L4 18.59l7.72-7.72 1.47 1.35L5.41 20z\"/>\n",
              "  </svg>\n",
              "      </button>\n",
              "      \n",
              "  <style>\n",
              "    .colab-df-container {\n",
              "      display:flex;\n",
              "      flex-wrap:wrap;\n",
              "      gap: 12px;\n",
              "    }\n",
              "\n",
              "    .colab-df-convert {\n",
              "      background-color: #E8F0FE;\n",
              "      border: none;\n",
              "      border-radius: 50%;\n",
              "      cursor: pointer;\n",
              "      display: none;\n",
              "      fill: #1967D2;\n",
              "      height: 32px;\n",
              "      padding: 0 0 0 0;\n",
              "      width: 32px;\n",
              "    }\n",
              "\n",
              "    .colab-df-convert:hover {\n",
              "      background-color: #E2EBFA;\n",
              "      box-shadow: 0px 1px 2px rgba(60, 64, 67, 0.3), 0px 1px 3px 1px rgba(60, 64, 67, 0.15);\n",
              "      fill: #174EA6;\n",
              "    }\n",
              "\n",
              "    [theme=dark] .colab-df-convert {\n",
              "      background-color: #3B4455;\n",
              "      fill: #D2E3FC;\n",
              "    }\n",
              "\n",
              "    [theme=dark] .colab-df-convert:hover {\n",
              "      background-color: #434B5C;\n",
              "      box-shadow: 0px 1px 3px 1px rgba(0, 0, 0, 0.15);\n",
              "      filter: drop-shadow(0px 1px 2px rgba(0, 0, 0, 0.3));\n",
              "      fill: #FFFFFF;\n",
              "    }\n",
              "  </style>\n",
              "\n",
              "      <script>\n",
              "        const buttonEl =\n",
              "          document.querySelector('#df-9cbede2e-04a0-4abb-bb94-7bc4f33c7ab3 button.colab-df-convert');\n",
              "        buttonEl.style.display =\n",
              "          google.colab.kernel.accessAllowed ? 'block' : 'none';\n",
              "\n",
              "        async function convertToInteractive(key) {\n",
              "          const element = document.querySelector('#df-9cbede2e-04a0-4abb-bb94-7bc4f33c7ab3');\n",
              "          const dataTable =\n",
              "            await google.colab.kernel.invokeFunction('convertToInteractive',\n",
              "                                                     [key], {});\n",
              "          if (!dataTable) return;\n",
              "\n",
              "          const docLinkHtml = 'Like what you see? Visit the ' +\n",
              "            '<a target=\"_blank\" href=https://colab.research.google.com/notebooks/data_table.ipynb>data table notebook</a>'\n",
              "            + ' to learn more about interactive tables.';\n",
              "          element.innerHTML = '';\n",
              "          dataTable['output_type'] = 'display_data';\n",
              "          await google.colab.output.renderOutput(dataTable, element);\n",
              "          const docLink = document.createElement('div');\n",
              "          docLink.innerHTML = docLinkHtml;\n",
              "          element.appendChild(docLink);\n",
              "        }\n",
              "      </script>\n",
              "    </div>\n",
              "  </div>\n",
              "  "
            ]
          },
          "metadata": {},
          "execution_count": 33
        }
      ]
    },
    {
      "cell_type": "markdown",
      "source": [
        "**Applying different functions to DataFrame columns**\n",
        "\n",
        "In order to apply a different aggregation to the columns of a DataFrame, we can pass a dictionary to aggregate. "
      ],
      "metadata": {
        "id": "elqA4pT-3fUu"
      }
    },
    {
      "cell_type": "code",
      "source": [
        "# Define a dictionary containing employee data\n",
        "data1 = {'Name':['Jai', 'Anuj', 'Jai', 'Princi',\n",
        "                 'Gaurav', 'Anuj', 'Princi', 'Abhi'],\n",
        "        'Age':[27, 24, 22, 32,\n",
        "               33, 36, 27, 32],\n",
        "        'Address':['Nagpur', 'Kanpur', 'Allahabad', 'Kannuaj',\n",
        "                   'Jaunpur', 'Kanpur', 'Allahabad', 'Aligarh'],\n",
        "        'Qualification':['Msc', 'MA', 'MCA', 'Phd',\n",
        "                         'B.Tech', 'B.com', 'Msc', 'MA'],\n",
        "        'Score': [23, 34, 35, 45, 47, 50, 52, 53]}\n",
        "    \n",
        "  \n",
        "# Convert the dictionary into DataFrame \n",
        "df = pd.DataFrame(data1)\n",
        "  \n",
        "print(df)"
      ],
      "metadata": {
        "colab": {
          "base_uri": "https://localhost:8080/"
        },
        "id": "g8pdgCcB30Fy",
        "outputId": "182e4e0a-d3f4-4f12-9bda-d9cc880636c0"
      },
      "execution_count": null,
      "outputs": [
        {
          "output_type": "stream",
          "name": "stdout",
          "text": [
            "     Name  Age    Address Qualification  Score\n",
            "0     Jai   27     Nagpur           Msc     23\n",
            "1    Anuj   24     Kanpur            MA     34\n",
            "2     Jai   22  Allahabad           MCA     35\n",
            "3  Princi   32    Kannuaj           Phd     45\n",
            "4  Gaurav   33    Jaunpur        B.Tech     47\n",
            "5    Anuj   36     Kanpur         B.com     50\n",
            "6  Princi   27  Allahabad           Msc     52\n",
            "7    Abhi   32    Aligarh            MA     53\n"
          ]
        }
      ]
    },
    {
      "cell_type": "code",
      "source": [
        "grp = df.groupby('Name')\n",
        "grp.agg({'Age': 'sum','Score':'std'})"
      ],
      "metadata": {
        "colab": {
          "base_uri": "https://localhost:8080/",
          "height": 238
        },
        "id": "tt9BAxip3pvL",
        "outputId": "a6f207a8-7582-4777-95d8-9ec6cbb5f4ef"
      },
      "execution_count": null,
      "outputs": [
        {
          "output_type": "execute_result",
          "data": {
            "text/plain": [
              "        Age      Score\n",
              "Name                  \n",
              "Abhi     32        NaN\n",
              "Anuj     60  11.313708\n",
              "Gaurav   33        NaN\n",
              "Jai      49   8.485281\n",
              "Princi   59   4.949747"
            ],
            "text/html": [
              "\n",
              "  <div id=\"df-3b36ba94-f225-414f-b95b-ee208d5289a1\">\n",
              "    <div class=\"colab-df-container\">\n",
              "      <div>\n",
              "<style scoped>\n",
              "    .dataframe tbody tr th:only-of-type {\n",
              "        vertical-align: middle;\n",
              "    }\n",
              "\n",
              "    .dataframe tbody tr th {\n",
              "        vertical-align: top;\n",
              "    }\n",
              "\n",
              "    .dataframe thead th {\n",
              "        text-align: right;\n",
              "    }\n",
              "</style>\n",
              "<table border=\"1\" class=\"dataframe\">\n",
              "  <thead>\n",
              "    <tr style=\"text-align: right;\">\n",
              "      <th></th>\n",
              "      <th>Age</th>\n",
              "      <th>Score</th>\n",
              "    </tr>\n",
              "    <tr>\n",
              "      <th>Name</th>\n",
              "      <th></th>\n",
              "      <th></th>\n",
              "    </tr>\n",
              "  </thead>\n",
              "  <tbody>\n",
              "    <tr>\n",
              "      <th>Abhi</th>\n",
              "      <td>32</td>\n",
              "      <td>NaN</td>\n",
              "    </tr>\n",
              "    <tr>\n",
              "      <th>Anuj</th>\n",
              "      <td>60</td>\n",
              "      <td>11.313708</td>\n",
              "    </tr>\n",
              "    <tr>\n",
              "      <th>Gaurav</th>\n",
              "      <td>33</td>\n",
              "      <td>NaN</td>\n",
              "    </tr>\n",
              "    <tr>\n",
              "      <th>Jai</th>\n",
              "      <td>49</td>\n",
              "      <td>8.485281</td>\n",
              "    </tr>\n",
              "    <tr>\n",
              "      <th>Princi</th>\n",
              "      <td>59</td>\n",
              "      <td>4.949747</td>\n",
              "    </tr>\n",
              "  </tbody>\n",
              "</table>\n",
              "</div>\n",
              "      <button class=\"colab-df-convert\" onclick=\"convertToInteractive('df-3b36ba94-f225-414f-b95b-ee208d5289a1')\"\n",
              "              title=\"Convert this dataframe to an interactive table.\"\n",
              "              style=\"display:none;\">\n",
              "        \n",
              "  <svg xmlns=\"http://www.w3.org/2000/svg\" height=\"24px\"viewBox=\"0 0 24 24\"\n",
              "       width=\"24px\">\n",
              "    <path d=\"M0 0h24v24H0V0z\" fill=\"none\"/>\n",
              "    <path d=\"M18.56 5.44l.94 2.06.94-2.06 2.06-.94-2.06-.94-.94-2.06-.94 2.06-2.06.94zm-11 1L8.5 8.5l.94-2.06 2.06-.94-2.06-.94L8.5 2.5l-.94 2.06-2.06.94zm10 10l.94 2.06.94-2.06 2.06-.94-2.06-.94-.94-2.06-.94 2.06-2.06.94z\"/><path d=\"M17.41 7.96l-1.37-1.37c-.4-.4-.92-.59-1.43-.59-.52 0-1.04.2-1.43.59L10.3 9.45l-7.72 7.72c-.78.78-.78 2.05 0 2.83L4 21.41c.39.39.9.59 1.41.59.51 0 1.02-.2 1.41-.59l7.78-7.78 2.81-2.81c.8-.78.8-2.07 0-2.86zM5.41 20L4 18.59l7.72-7.72 1.47 1.35L5.41 20z\"/>\n",
              "  </svg>\n",
              "      </button>\n",
              "      \n",
              "  <style>\n",
              "    .colab-df-container {\n",
              "      display:flex;\n",
              "      flex-wrap:wrap;\n",
              "      gap: 12px;\n",
              "    }\n",
              "\n",
              "    .colab-df-convert {\n",
              "      background-color: #E8F0FE;\n",
              "      border: none;\n",
              "      border-radius: 50%;\n",
              "      cursor: pointer;\n",
              "      display: none;\n",
              "      fill: #1967D2;\n",
              "      height: 32px;\n",
              "      padding: 0 0 0 0;\n",
              "      width: 32px;\n",
              "    }\n",
              "\n",
              "    .colab-df-convert:hover {\n",
              "      background-color: #E2EBFA;\n",
              "      box-shadow: 0px 1px 2px rgba(60, 64, 67, 0.3), 0px 1px 3px 1px rgba(60, 64, 67, 0.15);\n",
              "      fill: #174EA6;\n",
              "    }\n",
              "\n",
              "    [theme=dark] .colab-df-convert {\n",
              "      background-color: #3B4455;\n",
              "      fill: #D2E3FC;\n",
              "    }\n",
              "\n",
              "    [theme=dark] .colab-df-convert:hover {\n",
              "      background-color: #434B5C;\n",
              "      box-shadow: 0px 1px 3px 1px rgba(0, 0, 0, 0.15);\n",
              "      filter: drop-shadow(0px 1px 2px rgba(0, 0, 0, 0.3));\n",
              "      fill: #FFFFFF;\n",
              "    }\n",
              "  </style>\n",
              "\n",
              "      <script>\n",
              "        const buttonEl =\n",
              "          document.querySelector('#df-3b36ba94-f225-414f-b95b-ee208d5289a1 button.colab-df-convert');\n",
              "        buttonEl.style.display =\n",
              "          google.colab.kernel.accessAllowed ? 'block' : 'none';\n",
              "\n",
              "        async function convertToInteractive(key) {\n",
              "          const element = document.querySelector('#df-3b36ba94-f225-414f-b95b-ee208d5289a1');\n",
              "          const dataTable =\n",
              "            await google.colab.kernel.invokeFunction('convertToInteractive',\n",
              "                                                     [key], {});\n",
              "          if (!dataTable) return;\n",
              "\n",
              "          const docLinkHtml = 'Like what you see? Visit the ' +\n",
              "            '<a target=\"_blank\" href=https://colab.research.google.com/notebooks/data_table.ipynb>data table notebook</a>'\n",
              "            + ' to learn more about interactive tables.';\n",
              "          element.innerHTML = '';\n",
              "          dataTable['output_type'] = 'display_data';\n",
              "          await google.colab.output.renderOutput(dataTable, element);\n",
              "          const docLink = document.createElement('div');\n",
              "          docLink.innerHTML = docLinkHtml;\n",
              "          element.appendChild(docLink);\n",
              "        }\n",
              "      </script>\n",
              "    </div>\n",
              "  </div>\n",
              "  "
            ]
          },
          "metadata": {},
          "execution_count": 37
        }
      ]
    },
    {
      "cell_type": "markdown",
      "source": [
        "**Transformation:**\n",
        "\n",
        "Transformation is a process in whic hwe perform some group-specific computations and return a like-indexed. Transform method returns an object that is indexed the same (same size) as the one being grouped. The transform function must: \n",
        "\n",
        "1. Return a result that is either the same size as the group chunk\n",
        "2. Operate column-by-column on the group chunk\n",
        "3. Not perform in-place operations on the group chunk"
      ],
      "metadata": {
        "id": "Yk5lNRlc384e"
      }
    },
    {
      "cell_type": "code",
      "source": [
        "grp = df.groupby('Name')\n",
        "sc = lambda x: (x-x.mean()) /x.std() * 10\n",
        "grp.transform(sc)"
      ],
      "metadata": {
        "colab": {
          "base_uri": "https://localhost:8080/",
          "height": 355
        },
        "id": "dU_DFNsn4g9Z",
        "outputId": "ada81497-027d-4dd9-b55f-3a3b534f8f9f"
      },
      "execution_count": null,
      "outputs": [
        {
          "output_type": "stream",
          "name": "stderr",
          "text": [
            "/usr/local/lib/python3.7/dist-packages/ipykernel_launcher.py:3: FutureWarning: Indexing with multiple keys (implicitly converted to a tuple of keys) will be deprecated, use a list instead.\n",
            "  This is separate from the ipykernel package so we can avoid doing imports until\n"
          ]
        },
        {
          "output_type": "execute_result",
          "data": {
            "text/plain": [
              "        Age     Score\n",
              "0  7.071068 -7.071068\n",
              "1 -7.071068 -7.071068\n",
              "2 -7.071068  7.071068\n",
              "3  7.071068 -7.071068\n",
              "4       NaN       NaN\n",
              "5  7.071068  7.071068\n",
              "6 -7.071068  7.071068\n",
              "7       NaN       NaN"
            ],
            "text/html": [
              "\n",
              "  <div id=\"df-1e64cd7c-3894-449e-b557-637a1bbfc413\">\n",
              "    <div class=\"colab-df-container\">\n",
              "      <div>\n",
              "<style scoped>\n",
              "    .dataframe tbody tr th:only-of-type {\n",
              "        vertical-align: middle;\n",
              "    }\n",
              "\n",
              "    .dataframe tbody tr th {\n",
              "        vertical-align: top;\n",
              "    }\n",
              "\n",
              "    .dataframe thead th {\n",
              "        text-align: right;\n",
              "    }\n",
              "</style>\n",
              "<table border=\"1\" class=\"dataframe\">\n",
              "  <thead>\n",
              "    <tr style=\"text-align: right;\">\n",
              "      <th></th>\n",
              "      <th>Age</th>\n",
              "      <th>Score</th>\n",
              "    </tr>\n",
              "  </thead>\n",
              "  <tbody>\n",
              "    <tr>\n",
              "      <th>0</th>\n",
              "      <td>7.071068</td>\n",
              "      <td>-7.071068</td>\n",
              "    </tr>\n",
              "    <tr>\n",
              "      <th>1</th>\n",
              "      <td>-7.071068</td>\n",
              "      <td>-7.071068</td>\n",
              "    </tr>\n",
              "    <tr>\n",
              "      <th>2</th>\n",
              "      <td>-7.071068</td>\n",
              "      <td>7.071068</td>\n",
              "    </tr>\n",
              "    <tr>\n",
              "      <th>3</th>\n",
              "      <td>7.071068</td>\n",
              "      <td>-7.071068</td>\n",
              "    </tr>\n",
              "    <tr>\n",
              "      <th>4</th>\n",
              "      <td>NaN</td>\n",
              "      <td>NaN</td>\n",
              "    </tr>\n",
              "    <tr>\n",
              "      <th>5</th>\n",
              "      <td>7.071068</td>\n",
              "      <td>7.071068</td>\n",
              "    </tr>\n",
              "    <tr>\n",
              "      <th>6</th>\n",
              "      <td>-7.071068</td>\n",
              "      <td>7.071068</td>\n",
              "    </tr>\n",
              "    <tr>\n",
              "      <th>7</th>\n",
              "      <td>NaN</td>\n",
              "      <td>NaN</td>\n",
              "    </tr>\n",
              "  </tbody>\n",
              "</table>\n",
              "</div>\n",
              "      <button class=\"colab-df-convert\" onclick=\"convertToInteractive('df-1e64cd7c-3894-449e-b557-637a1bbfc413')\"\n",
              "              title=\"Convert this dataframe to an interactive table.\"\n",
              "              style=\"display:none;\">\n",
              "        \n",
              "  <svg xmlns=\"http://www.w3.org/2000/svg\" height=\"24px\"viewBox=\"0 0 24 24\"\n",
              "       width=\"24px\">\n",
              "    <path d=\"M0 0h24v24H0V0z\" fill=\"none\"/>\n",
              "    <path d=\"M18.56 5.44l.94 2.06.94-2.06 2.06-.94-2.06-.94-.94-2.06-.94 2.06-2.06.94zm-11 1L8.5 8.5l.94-2.06 2.06-.94-2.06-.94L8.5 2.5l-.94 2.06-2.06.94zm10 10l.94 2.06.94-2.06 2.06-.94-2.06-.94-.94-2.06-.94 2.06-2.06.94z\"/><path d=\"M17.41 7.96l-1.37-1.37c-.4-.4-.92-.59-1.43-.59-.52 0-1.04.2-1.43.59L10.3 9.45l-7.72 7.72c-.78.78-.78 2.05 0 2.83L4 21.41c.39.39.9.59 1.41.59.51 0 1.02-.2 1.41-.59l7.78-7.78 2.81-2.81c.8-.78.8-2.07 0-2.86zM5.41 20L4 18.59l7.72-7.72 1.47 1.35L5.41 20z\"/>\n",
              "  </svg>\n",
              "      </button>\n",
              "      \n",
              "  <style>\n",
              "    .colab-df-container {\n",
              "      display:flex;\n",
              "      flex-wrap:wrap;\n",
              "      gap: 12px;\n",
              "    }\n",
              "\n",
              "    .colab-df-convert {\n",
              "      background-color: #E8F0FE;\n",
              "      border: none;\n",
              "      border-radius: 50%;\n",
              "      cursor: pointer;\n",
              "      display: none;\n",
              "      fill: #1967D2;\n",
              "      height: 32px;\n",
              "      padding: 0 0 0 0;\n",
              "      width: 32px;\n",
              "    }\n",
              "\n",
              "    .colab-df-convert:hover {\n",
              "      background-color: #E2EBFA;\n",
              "      box-shadow: 0px 1px 2px rgba(60, 64, 67, 0.3), 0px 1px 3px 1px rgba(60, 64, 67, 0.15);\n",
              "      fill: #174EA6;\n",
              "    }\n",
              "\n",
              "    [theme=dark] .colab-df-convert {\n",
              "      background-color: #3B4455;\n",
              "      fill: #D2E3FC;\n",
              "    }\n",
              "\n",
              "    [theme=dark] .colab-df-convert:hover {\n",
              "      background-color: #434B5C;\n",
              "      box-shadow: 0px 1px 3px 1px rgba(0, 0, 0, 0.15);\n",
              "      filter: drop-shadow(0px 1px 2px rgba(0, 0, 0, 0.3));\n",
              "      fill: #FFFFFF;\n",
              "    }\n",
              "  </style>\n",
              "\n",
              "      <script>\n",
              "        const buttonEl =\n",
              "          document.querySelector('#df-1e64cd7c-3894-449e-b557-637a1bbfc413 button.colab-df-convert');\n",
              "        buttonEl.style.display =\n",
              "          google.colab.kernel.accessAllowed ? 'block' : 'none';\n",
              "\n",
              "        async function convertToInteractive(key) {\n",
              "          const element = document.querySelector('#df-1e64cd7c-3894-449e-b557-637a1bbfc413');\n",
              "          const dataTable =\n",
              "            await google.colab.kernel.invokeFunction('convertToInteractive',\n",
              "                                                     [key], {});\n",
              "          if (!dataTable) return;\n",
              "\n",
              "          const docLinkHtml = 'Like what you see? Visit the ' +\n",
              "            '<a target=\"_blank\" href=https://colab.research.google.com/notebooks/data_table.ipynb>data table notebook</a>'\n",
              "            + ' to learn more about interactive tables.';\n",
              "          element.innerHTML = '';\n",
              "          dataTable['output_type'] = 'display_data';\n",
              "          await google.colab.output.renderOutput(dataTable, element);\n",
              "          const docLink = document.createElement('div');\n",
              "          docLink.innerHTML = docLinkHtml;\n",
              "          element.appendChild(docLink);\n",
              "        }\n",
              "      </script>\n",
              "    </div>\n",
              "  </div>\n",
              "  "
            ]
          },
          "metadata": {},
          "execution_count": 39
        }
      ]
    },
    {
      "cell_type": "markdown",
      "source": [
        "**Filtration**\n",
        "\n",
        "Filtration is a process in which we discard some groups, according to a group-wise computation that evaluates True or False. In order to filter a group, we use filter method and apply some condition by which we filter group."
      ],
      "metadata": {
        "id": "XJCNvW234045"
      }
    },
    {
      "cell_type": "code",
      "source": [
        "grp = df.groupby('Name')\n",
        "sc = lambda x : len(x)>=2\n",
        "grp.filter(sc)"
      ],
      "metadata": {
        "colab": {
          "base_uri": "https://localhost:8080/",
          "height": 238
        },
        "id": "yktw2_IX5DoZ",
        "outputId": "c5132d76-147d-4e80-e46b-b29ed7723d65"
      },
      "execution_count": null,
      "outputs": [
        {
          "output_type": "execute_result",
          "data": {
            "text/plain": [
              "     Name  Age    Address Qualification  Score\n",
              "0     Jai   27     Nagpur           Msc     23\n",
              "1    Anuj   24     Kanpur            MA     34\n",
              "2     Jai   22  Allahabad           MCA     35\n",
              "3  Princi   32    Kannuaj           Phd     45\n",
              "5    Anuj   36     Kanpur         B.com     50\n",
              "6  Princi   27  Allahabad           Msc     52"
            ],
            "text/html": [
              "\n",
              "  <div id=\"df-10c5b0fb-1924-4a0f-998b-3db3130ceb6c\">\n",
              "    <div class=\"colab-df-container\">\n",
              "      <div>\n",
              "<style scoped>\n",
              "    .dataframe tbody tr th:only-of-type {\n",
              "        vertical-align: middle;\n",
              "    }\n",
              "\n",
              "    .dataframe tbody tr th {\n",
              "        vertical-align: top;\n",
              "    }\n",
              "\n",
              "    .dataframe thead th {\n",
              "        text-align: right;\n",
              "    }\n",
              "</style>\n",
              "<table border=\"1\" class=\"dataframe\">\n",
              "  <thead>\n",
              "    <tr style=\"text-align: right;\">\n",
              "      <th></th>\n",
              "      <th>Name</th>\n",
              "      <th>Age</th>\n",
              "      <th>Address</th>\n",
              "      <th>Qualification</th>\n",
              "      <th>Score</th>\n",
              "    </tr>\n",
              "  </thead>\n",
              "  <tbody>\n",
              "    <tr>\n",
              "      <th>0</th>\n",
              "      <td>Jai</td>\n",
              "      <td>27</td>\n",
              "      <td>Nagpur</td>\n",
              "      <td>Msc</td>\n",
              "      <td>23</td>\n",
              "    </tr>\n",
              "    <tr>\n",
              "      <th>1</th>\n",
              "      <td>Anuj</td>\n",
              "      <td>24</td>\n",
              "      <td>Kanpur</td>\n",
              "      <td>MA</td>\n",
              "      <td>34</td>\n",
              "    </tr>\n",
              "    <tr>\n",
              "      <th>2</th>\n",
              "      <td>Jai</td>\n",
              "      <td>22</td>\n",
              "      <td>Allahabad</td>\n",
              "      <td>MCA</td>\n",
              "      <td>35</td>\n",
              "    </tr>\n",
              "    <tr>\n",
              "      <th>3</th>\n",
              "      <td>Princi</td>\n",
              "      <td>32</td>\n",
              "      <td>Kannuaj</td>\n",
              "      <td>Phd</td>\n",
              "      <td>45</td>\n",
              "    </tr>\n",
              "    <tr>\n",
              "      <th>5</th>\n",
              "      <td>Anuj</td>\n",
              "      <td>36</td>\n",
              "      <td>Kanpur</td>\n",
              "      <td>B.com</td>\n",
              "      <td>50</td>\n",
              "    </tr>\n",
              "    <tr>\n",
              "      <th>6</th>\n",
              "      <td>Princi</td>\n",
              "      <td>27</td>\n",
              "      <td>Allahabad</td>\n",
              "      <td>Msc</td>\n",
              "      <td>52</td>\n",
              "    </tr>\n",
              "  </tbody>\n",
              "</table>\n",
              "</div>\n",
              "      <button class=\"colab-df-convert\" onclick=\"convertToInteractive('df-10c5b0fb-1924-4a0f-998b-3db3130ceb6c')\"\n",
              "              title=\"Convert this dataframe to an interactive table.\"\n",
              "              style=\"display:none;\">\n",
              "        \n",
              "  <svg xmlns=\"http://www.w3.org/2000/svg\" height=\"24px\"viewBox=\"0 0 24 24\"\n",
              "       width=\"24px\">\n",
              "    <path d=\"M0 0h24v24H0V0z\" fill=\"none\"/>\n",
              "    <path d=\"M18.56 5.44l.94 2.06.94-2.06 2.06-.94-2.06-.94-.94-2.06-.94 2.06-2.06.94zm-11 1L8.5 8.5l.94-2.06 2.06-.94-2.06-.94L8.5 2.5l-.94 2.06-2.06.94zm10 10l.94 2.06.94-2.06 2.06-.94-2.06-.94-.94-2.06-.94 2.06-2.06.94z\"/><path d=\"M17.41 7.96l-1.37-1.37c-.4-.4-.92-.59-1.43-.59-.52 0-1.04.2-1.43.59L10.3 9.45l-7.72 7.72c-.78.78-.78 2.05 0 2.83L4 21.41c.39.39.9.59 1.41.59.51 0 1.02-.2 1.41-.59l7.78-7.78 2.81-2.81c.8-.78.8-2.07 0-2.86zM5.41 20L4 18.59l7.72-7.72 1.47 1.35L5.41 20z\"/>\n",
              "  </svg>\n",
              "      </button>\n",
              "      \n",
              "  <style>\n",
              "    .colab-df-container {\n",
              "      display:flex;\n",
              "      flex-wrap:wrap;\n",
              "      gap: 12px;\n",
              "    }\n",
              "\n",
              "    .colab-df-convert {\n",
              "      background-color: #E8F0FE;\n",
              "      border: none;\n",
              "      border-radius: 50%;\n",
              "      cursor: pointer;\n",
              "      display: none;\n",
              "      fill: #1967D2;\n",
              "      height: 32px;\n",
              "      padding: 0 0 0 0;\n",
              "      width: 32px;\n",
              "    }\n",
              "\n",
              "    .colab-df-convert:hover {\n",
              "      background-color: #E2EBFA;\n",
              "      box-shadow: 0px 1px 2px rgba(60, 64, 67, 0.3), 0px 1px 3px 1px rgba(60, 64, 67, 0.15);\n",
              "      fill: #174EA6;\n",
              "    }\n",
              "\n",
              "    [theme=dark] .colab-df-convert {\n",
              "      background-color: #3B4455;\n",
              "      fill: #D2E3FC;\n",
              "    }\n",
              "\n",
              "    [theme=dark] .colab-df-convert:hover {\n",
              "      background-color: #434B5C;\n",
              "      box-shadow: 0px 1px 3px 1px rgba(0, 0, 0, 0.15);\n",
              "      filter: drop-shadow(0px 1px 2px rgba(0, 0, 0, 0.3));\n",
              "      fill: #FFFFFF;\n",
              "    }\n",
              "  </style>\n",
              "\n",
              "      <script>\n",
              "        const buttonEl =\n",
              "          document.querySelector('#df-10c5b0fb-1924-4a0f-998b-3db3130ceb6c button.colab-df-convert');\n",
              "        buttonEl.style.display =\n",
              "          google.colab.kernel.accessAllowed ? 'block' : 'none';\n",
              "\n",
              "        async function convertToInteractive(key) {\n",
              "          const element = document.querySelector('#df-10c5b0fb-1924-4a0f-998b-3db3130ceb6c');\n",
              "          const dataTable =\n",
              "            await google.colab.kernel.invokeFunction('convertToInteractive',\n",
              "                                                     [key], {});\n",
              "          if (!dataTable) return;\n",
              "\n",
              "          const docLinkHtml = 'Like what you see? Visit the ' +\n",
              "            '<a target=\"_blank\" href=https://colab.research.google.com/notebooks/data_table.ipynb>data table notebook</a>'\n",
              "            + ' to learn more about interactive tables.';\n",
              "          element.innerHTML = '';\n",
              "          dataTable['output_type'] = 'display_data';\n",
              "          await google.colab.output.renderOutput(dataTable, element);\n",
              "          const docLink = document.createElement('div');\n",
              "          docLink.innerHTML = docLinkHtml;\n",
              "          element.appendChild(docLink);\n",
              "        }\n",
              "      </script>\n",
              "    </div>\n",
              "  </div>\n",
              "  "
            ]
          },
          "metadata": {},
          "execution_count": 40
        }
      ]
    },
    {
      "cell_type": "markdown",
      "source": [
        "# Pandas : INNER JOIN & LEFT SEMI JOIN "
      ],
      "metadata": {
        "id": "rBiPI3Me5ezp"
      }
    },
    {
      "cell_type": "markdown",
      "source": [
        "An inner join requires two data set columns to be the same to fetch the common row data values or data from the data table. In simple words, and returns a data frame or values with only those rwos in the data frame that have common characteristics and behavior desired by the user. \n",
        "This is similar to the intersection of two sets in mathematics.  In short, we can say that Inner join or column ID will return columns from both the tables and only the matching records. "
      ],
      "metadata": {
        "id": "3A4OaMI_6lSp"
      }
    },
    {
      "cell_type": "code",
      "source": [
        "# importing pandas as pds\n",
        "import pandas as pd\n",
        "  \n",
        "# Creating dataframe for the data_set first\n",
        "data_Set1 = pd.DataFrame()\n",
        "  \n",
        "# Creating data list for the table 1\n",
        "# here Id 101 and 102 will be same like \n",
        "# in data set 2\n",
        "schema = {'Id': [101, 102, 106, 112],\n",
        "          'DATA 1': ['Abhilash', 'Raman', 'Pratap', 'James']}\n",
        "data_Set1 = pd.DataFrame(schema)\n",
        "  \n",
        "print(\"Data Set-1 \\n\", data_Set1, \"\\n\")\n",
        "  \n",
        "# Creating dataframe data_set second\n",
        "data_Set2 = pd.DataFrame()\n",
        "\n",
        "# Creating data list for the table 2\n",
        "# here Id 101 and 102 will be same like \n",
        "# in data set 1\n",
        "schema = {'Id': [101, 102, 109, 208],\n",
        "          'DATA 2': ['Abhirav', 'Abhigyan', 'John', 'Peter']}\n",
        "data_Set2 = pd.DataFrame(schema)\n",
        "  \n",
        "print(\"Data Set-2 \\n\", data_Set2, \"\\n\")\n"
      ],
      "metadata": {
        "colab": {
          "base_uri": "https://localhost:8080/"
        },
        "id": "uUBuzA975jRI",
        "outputId": "5a510c88-6e01-4cc0-e735-aeb722eea950"
      },
      "execution_count": null,
      "outputs": [
        {
          "output_type": "stream",
          "name": "stdout",
          "text": [
            "Data Set-1 \n",
            "     Id    DATA 1\n",
            "0  101  Abhilash\n",
            "1  102     Raman\n",
            "2  106    Pratap\n",
            "3  112     James \n",
            "\n",
            "Data Set-2 \n",
            "     Id    DATA 2\n",
            "0  101   Abhirav\n",
            "1  102  Abhigyan\n",
            "2  109      John\n",
            "3  208     Peter \n",
            "\n"
          ]
        }
      ]
    },
    {
      "cell_type": "code",
      "source": [
        "#inner join IN python \n",
        "inner_join = pd.merge(data_Set1,data_Set2,on='Id',how = 'inner')\n",
        "\n",
        "#display dataframe\n",
        "pd.DataFrame(inner_join)"
      ],
      "metadata": {
        "colab": {
          "base_uri": "https://localhost:8080/",
          "height": 112
        },
        "id": "BvDm46YW7PZF",
        "outputId": "f8034b3b-332f-4d41-bf9f-2ded92048e65"
      },
      "execution_count": null,
      "outputs": [
        {
          "output_type": "execute_result",
          "data": {
            "text/plain": [
              "    Id    DATA 1    DATA 2\n",
              "0  101  Abhilash   Abhirav\n",
              "1  102     Raman  Abhigyan"
            ],
            "text/html": [
              "\n",
              "  <div id=\"df-ed7fff73-2690-4c58-8ead-52fa25c090bf\">\n",
              "    <div class=\"colab-df-container\">\n",
              "      <div>\n",
              "<style scoped>\n",
              "    .dataframe tbody tr th:only-of-type {\n",
              "        vertical-align: middle;\n",
              "    }\n",
              "\n",
              "    .dataframe tbody tr th {\n",
              "        vertical-align: top;\n",
              "    }\n",
              "\n",
              "    .dataframe thead th {\n",
              "        text-align: right;\n",
              "    }\n",
              "</style>\n",
              "<table border=\"1\" class=\"dataframe\">\n",
              "  <thead>\n",
              "    <tr style=\"text-align: right;\">\n",
              "      <th></th>\n",
              "      <th>Id</th>\n",
              "      <th>DATA 1</th>\n",
              "      <th>DATA 2</th>\n",
              "    </tr>\n",
              "  </thead>\n",
              "  <tbody>\n",
              "    <tr>\n",
              "      <th>0</th>\n",
              "      <td>101</td>\n",
              "      <td>Abhilash</td>\n",
              "      <td>Abhirav</td>\n",
              "    </tr>\n",
              "    <tr>\n",
              "      <th>1</th>\n",
              "      <td>102</td>\n",
              "      <td>Raman</td>\n",
              "      <td>Abhigyan</td>\n",
              "    </tr>\n",
              "  </tbody>\n",
              "</table>\n",
              "</div>\n",
              "      <button class=\"colab-df-convert\" onclick=\"convertToInteractive('df-ed7fff73-2690-4c58-8ead-52fa25c090bf')\"\n",
              "              title=\"Convert this dataframe to an interactive table.\"\n",
              "              style=\"display:none;\">\n",
              "        \n",
              "  <svg xmlns=\"http://www.w3.org/2000/svg\" height=\"24px\"viewBox=\"0 0 24 24\"\n",
              "       width=\"24px\">\n",
              "    <path d=\"M0 0h24v24H0V0z\" fill=\"none\"/>\n",
              "    <path d=\"M18.56 5.44l.94 2.06.94-2.06 2.06-.94-2.06-.94-.94-2.06-.94 2.06-2.06.94zm-11 1L8.5 8.5l.94-2.06 2.06-.94-2.06-.94L8.5 2.5l-.94 2.06-2.06.94zm10 10l.94 2.06.94-2.06 2.06-.94-2.06-.94-.94-2.06-.94 2.06-2.06.94z\"/><path d=\"M17.41 7.96l-1.37-1.37c-.4-.4-.92-.59-1.43-.59-.52 0-1.04.2-1.43.59L10.3 9.45l-7.72 7.72c-.78.78-.78 2.05 0 2.83L4 21.41c.39.39.9.59 1.41.59.51 0 1.02-.2 1.41-.59l7.78-7.78 2.81-2.81c.8-.78.8-2.07 0-2.86zM5.41 20L4 18.59l7.72-7.72 1.47 1.35L5.41 20z\"/>\n",
              "  </svg>\n",
              "      </button>\n",
              "      \n",
              "  <style>\n",
              "    .colab-df-container {\n",
              "      display:flex;\n",
              "      flex-wrap:wrap;\n",
              "      gap: 12px;\n",
              "    }\n",
              "\n",
              "    .colab-df-convert {\n",
              "      background-color: #E8F0FE;\n",
              "      border: none;\n",
              "      border-radius: 50%;\n",
              "      cursor: pointer;\n",
              "      display: none;\n",
              "      fill: #1967D2;\n",
              "      height: 32px;\n",
              "      padding: 0 0 0 0;\n",
              "      width: 32px;\n",
              "    }\n",
              "\n",
              "    .colab-df-convert:hover {\n",
              "      background-color: #E2EBFA;\n",
              "      box-shadow: 0px 1px 2px rgba(60, 64, 67, 0.3), 0px 1px 3px 1px rgba(60, 64, 67, 0.15);\n",
              "      fill: #174EA6;\n",
              "    }\n",
              "\n",
              "    [theme=dark] .colab-df-convert {\n",
              "      background-color: #3B4455;\n",
              "      fill: #D2E3FC;\n",
              "    }\n",
              "\n",
              "    [theme=dark] .colab-df-convert:hover {\n",
              "      background-color: #434B5C;\n",
              "      box-shadow: 0px 1px 3px 1px rgba(0, 0, 0, 0.15);\n",
              "      filter: drop-shadow(0px 1px 2px rgba(0, 0, 0, 0.3));\n",
              "      fill: #FFFFFF;\n",
              "    }\n",
              "  </style>\n",
              "\n",
              "      <script>\n",
              "        const buttonEl =\n",
              "          document.querySelector('#df-ed7fff73-2690-4c58-8ead-52fa25c090bf button.colab-df-convert');\n",
              "        buttonEl.style.display =\n",
              "          google.colab.kernel.accessAllowed ? 'block' : 'none';\n",
              "\n",
              "        async function convertToInteractive(key) {\n",
              "          const element = document.querySelector('#df-ed7fff73-2690-4c58-8ead-52fa25c090bf');\n",
              "          const dataTable =\n",
              "            await google.colab.kernel.invokeFunction('convertToInteractive',\n",
              "                                                     [key], {});\n",
              "          if (!dataTable) return;\n",
              "\n",
              "          const docLinkHtml = 'Like what you see? Visit the ' +\n",
              "            '<a target=\"_blank\" href=https://colab.research.google.com/notebooks/data_table.ipynb>data table notebook</a>'\n",
              "            + ' to learn more about interactive tables.';\n",
              "          element.innerHTML = '';\n",
              "          dataTable['output_type'] = 'display_data';\n",
              "          await google.colab.output.renderOutput(dataTable, element);\n",
              "          const docLink = document.createElement('div');\n",
              "          docLink.innerHTML = docLinkHtml;\n",
              "          element.appendChild(docLink);\n",
              "        }\n",
              "      </script>\n",
              "    </div>\n",
              "  </div>\n",
              "  "
            ]
          },
          "metadata": {},
          "execution_count": 44
        }
      ]
    },
    {
      "cell_type": "markdown",
      "source": [
        "**Left Semi-Join**\n",
        "\n",
        "A left semi-join requires two data set columns to be the same to fetch the data and returns all columns data or values from the left dataset, and ignores all column data values from the right dataset. In simple words, we can say that **Left Semi Join** on column Id will return columns only from the left table and matching records only from the left table. "
      ],
      "metadata": {
        "id": "92elI_5i7m8H"
      }
    },
    {
      "cell_type": "code",
      "source": [
        "# Creating dataframe for the data_set first\n",
        "data_Set1 = pd.DataFrame()\n",
        "  \n",
        "# Creating data list for the table 1\n",
        "schema = {'Id': [101, 102, 106, 112],\n",
        "     'DATA 1': ['Abhilash', 'Raman', 'Pratap', 'James']} \n",
        "data_Set1= pd.DataFrame(schema)\n",
        "print(data_Set1,\"\\n\")\n",
        "  \n",
        "# Creating dataframe data_set second\n",
        "data_Set2 = pd.DataFrame()\n",
        "  \n",
        "# Creating data list for the table 2\n",
        "schema2 = {'Id': [101, 102, 109, 208],\n",
        "     'DATA 2': ['Abhirav', 'Abhigyan', 'John', 'Peter']}\n",
        "data_Set2= pd.DataFrame(schema2)\n",
        "  \n",
        "print(data_Set2,\"\\n\") "
      ],
      "metadata": {
        "colab": {
          "base_uri": "https://localhost:8080/"
        },
        "id": "9W7fcMas8GOQ",
        "outputId": "31c50bb2-5b98-47dc-ff45-302d4052214b"
      },
      "execution_count": null,
      "outputs": [
        {
          "output_type": "stream",
          "name": "stdout",
          "text": [
            "    Id    DATA 1\n",
            "0  101  Abhilash\n",
            "1  102     Raman\n",
            "2  106    Pratap\n",
            "3  112     James \n",
            "\n",
            "    Id    DATA 2\n",
            "0  101   Abhirav\n",
            "1  102  Abhigyan\n",
            "2  109      John\n",
            "3  208     Peter \n",
            "\n"
          ]
        }
      ]
    },
    {
      "cell_type": "code",
      "source": [
        "#setting the base for the left semi-join in python\n",
        "semi = data_Set1.merge(data_Set2,on='Id')\n",
        "print(semi,\"\\n\")\n",
        "data_Set1['Id'].isin(data_Set2['Id'])\n",
        "semi = data_Set1.merge(data_Set2,on='Id')"
      ],
      "metadata": {
        "id": "zvnMRkTL8KC8"
      },
      "execution_count": null,
      "outputs": []
    },
    {
      "cell_type": "code",
      "source": [
        "new_semi = data_Set1[data_Set1['Id'].isin(semi['Id'])]\n",
        "pd.DataFrame(new_semi)"
      ],
      "metadata": {
        "colab": {
          "base_uri": "https://localhost:8080/",
          "height": 112
        },
        "id": "82v8s1T48o8Y",
        "outputId": "289ac1f7-bd9f-45d5-9668-912c2f874eb3"
      },
      "execution_count": null,
      "outputs": [
        {
          "output_type": "execute_result",
          "data": {
            "text/plain": [
              "    Id    DATA 1\n",
              "0  101  Abhilash\n",
              "1  102     Raman"
            ],
            "text/html": [
              "\n",
              "  <div id=\"df-72608349-4a8d-49a4-ad1f-ea6d4c3524ee\">\n",
              "    <div class=\"colab-df-container\">\n",
              "      <div>\n",
              "<style scoped>\n",
              "    .dataframe tbody tr th:only-of-type {\n",
              "        vertical-align: middle;\n",
              "    }\n",
              "\n",
              "    .dataframe tbody tr th {\n",
              "        vertical-align: top;\n",
              "    }\n",
              "\n",
              "    .dataframe thead th {\n",
              "        text-align: right;\n",
              "    }\n",
              "</style>\n",
              "<table border=\"1\" class=\"dataframe\">\n",
              "  <thead>\n",
              "    <tr style=\"text-align: right;\">\n",
              "      <th></th>\n",
              "      <th>Id</th>\n",
              "      <th>DATA 1</th>\n",
              "    </tr>\n",
              "  </thead>\n",
              "  <tbody>\n",
              "    <tr>\n",
              "      <th>0</th>\n",
              "      <td>101</td>\n",
              "      <td>Abhilash</td>\n",
              "    </tr>\n",
              "    <tr>\n",
              "      <th>1</th>\n",
              "      <td>102</td>\n",
              "      <td>Raman</td>\n",
              "    </tr>\n",
              "  </tbody>\n",
              "</table>\n",
              "</div>\n",
              "      <button class=\"colab-df-convert\" onclick=\"convertToInteractive('df-72608349-4a8d-49a4-ad1f-ea6d4c3524ee')\"\n",
              "              title=\"Convert this dataframe to an interactive table.\"\n",
              "              style=\"display:none;\">\n",
              "        \n",
              "  <svg xmlns=\"http://www.w3.org/2000/svg\" height=\"24px\"viewBox=\"0 0 24 24\"\n",
              "       width=\"24px\">\n",
              "    <path d=\"M0 0h24v24H0V0z\" fill=\"none\"/>\n",
              "    <path d=\"M18.56 5.44l.94 2.06.94-2.06 2.06-.94-2.06-.94-.94-2.06-.94 2.06-2.06.94zm-11 1L8.5 8.5l.94-2.06 2.06-.94-2.06-.94L8.5 2.5l-.94 2.06-2.06.94zm10 10l.94 2.06.94-2.06 2.06-.94-2.06-.94-.94-2.06-.94 2.06-2.06.94z\"/><path d=\"M17.41 7.96l-1.37-1.37c-.4-.4-.92-.59-1.43-.59-.52 0-1.04.2-1.43.59L10.3 9.45l-7.72 7.72c-.78.78-.78 2.05 0 2.83L4 21.41c.39.39.9.59 1.41.59.51 0 1.02-.2 1.41-.59l7.78-7.78 2.81-2.81c.8-.78.8-2.07 0-2.86zM5.41 20L4 18.59l7.72-7.72 1.47 1.35L5.41 20z\"/>\n",
              "  </svg>\n",
              "      </button>\n",
              "      \n",
              "  <style>\n",
              "    .colab-df-container {\n",
              "      display:flex;\n",
              "      flex-wrap:wrap;\n",
              "      gap: 12px;\n",
              "    }\n",
              "\n",
              "    .colab-df-convert {\n",
              "      background-color: #E8F0FE;\n",
              "      border: none;\n",
              "      border-radius: 50%;\n",
              "      cursor: pointer;\n",
              "      display: none;\n",
              "      fill: #1967D2;\n",
              "      height: 32px;\n",
              "      padding: 0 0 0 0;\n",
              "      width: 32px;\n",
              "    }\n",
              "\n",
              "    .colab-df-convert:hover {\n",
              "      background-color: #E2EBFA;\n",
              "      box-shadow: 0px 1px 2px rgba(60, 64, 67, 0.3), 0px 1px 3px 1px rgba(60, 64, 67, 0.15);\n",
              "      fill: #174EA6;\n",
              "    }\n",
              "\n",
              "    [theme=dark] .colab-df-convert {\n",
              "      background-color: #3B4455;\n",
              "      fill: #D2E3FC;\n",
              "    }\n",
              "\n",
              "    [theme=dark] .colab-df-convert:hover {\n",
              "      background-color: #434B5C;\n",
              "      box-shadow: 0px 1px 3px 1px rgba(0, 0, 0, 0.15);\n",
              "      filter: drop-shadow(0px 1px 2px rgba(0, 0, 0, 0.3));\n",
              "      fill: #FFFFFF;\n",
              "    }\n",
              "  </style>\n",
              "\n",
              "      <script>\n",
              "        const buttonEl =\n",
              "          document.querySelector('#df-72608349-4a8d-49a4-ad1f-ea6d4c3524ee button.colab-df-convert');\n",
              "        buttonEl.style.display =\n",
              "          google.colab.kernel.accessAllowed ? 'block' : 'none';\n",
              "\n",
              "        async function convertToInteractive(key) {\n",
              "          const element = document.querySelector('#df-72608349-4a8d-49a4-ad1f-ea6d4c3524ee');\n",
              "          const dataTable =\n",
              "            await google.colab.kernel.invokeFunction('convertToInteractive',\n",
              "                                                     [key], {});\n",
              "          if (!dataTable) return;\n",
              "\n",
              "          const docLinkHtml = 'Like what you see? Visit the ' +\n",
              "            '<a target=\"_blank\" href=https://colab.research.google.com/notebooks/data_table.ipynb>data table notebook</a>'\n",
              "            + ' to learn more about interactive tables.';\n",
              "          element.innerHTML = '';\n",
              "          dataTable['output_type'] = 'display_data';\n",
              "          await google.colab.output.renderOutput(dataTable, element);\n",
              "          const docLink = document.createElement('div');\n",
              "          docLink.innerHTML = docLinkHtml;\n",
              "          element.appendChild(docLink);\n",
              "        }\n",
              "      </script>\n",
              "    </div>\n",
              "  </div>\n",
              "  "
            ]
          },
          "metadata": {},
          "execution_count": 47
        }
      ]
    }
  ]
}