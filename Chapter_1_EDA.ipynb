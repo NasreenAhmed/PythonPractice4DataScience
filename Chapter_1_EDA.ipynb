{
  "nbformat": 4,
  "nbformat_minor": 0,
  "metadata": {
    "colab": {
      "name": "Chapter-1.EDA.ipynb",
      "provenance": [],
      "collapsed_sections": []
    },
    "kernelspec": {
      "name": "python3",
      "display_name": "Python 3"
    },
    "language_info": {
      "name": "python"
    }
  },
  "cells": [
    {
      "cell_type": "code",
      "execution_count": null,
      "metadata": {
        "id": "Q1vzQinhELgP"
      },
      "outputs": [],
      "source": [
        "import pandas as pd\n",
        "import matplotlib.pyplot as plt\n",
        "import scipy.stats as stats\n",
        "import numpy as np\n",
        "import statistics"
      ]
    },
    {
      "cell_type": "code",
      "source": [
        "df = pd.read_csv('https://raw.githubusercontent.com/gedeck/practical-statistics-for-data-scientists/master/data/state.csv')"
      ],
      "metadata": {
        "id": "KPLvRiDxuiOV"
      },
      "execution_count": null,
      "outputs": []
    },
    {
      "cell_type": "code",
      "source": [
        "df.head()"
      ],
      "metadata": {
        "colab": {
          "base_uri": "https://localhost:8080/",
          "height": 206
        },
        "id": "gwTJbWOZur8h",
        "outputId": "47cb83a0-68df-4a5a-bfd1-86b1cbeb9323"
      },
      "execution_count": null,
      "outputs": [
        {
          "output_type": "execute_result",
          "data": {
            "text/plain": [
              "        State  Population  Murder.Rate Abbreviation\n",
              "0     Alabama     4779736          5.7           AL\n",
              "1      Alaska      710231          5.6           AK\n",
              "2     Arizona     6392017          4.7           AZ\n",
              "3    Arkansas     2915918          5.6           AR\n",
              "4  California    37253956          4.4           CA"
            ],
            "text/html": [
              "\n",
              "  <div id=\"df-1ddb4c21-cc73-42cb-8dc3-ddfd4dd2cd3d\">\n",
              "    <div class=\"colab-df-container\">\n",
              "      <div>\n",
              "<style scoped>\n",
              "    .dataframe tbody tr th:only-of-type {\n",
              "        vertical-align: middle;\n",
              "    }\n",
              "\n",
              "    .dataframe tbody tr th {\n",
              "        vertical-align: top;\n",
              "    }\n",
              "\n",
              "    .dataframe thead th {\n",
              "        text-align: right;\n",
              "    }\n",
              "</style>\n",
              "<table border=\"1\" class=\"dataframe\">\n",
              "  <thead>\n",
              "    <tr style=\"text-align: right;\">\n",
              "      <th></th>\n",
              "      <th>State</th>\n",
              "      <th>Population</th>\n",
              "      <th>Murder.Rate</th>\n",
              "      <th>Abbreviation</th>\n",
              "    </tr>\n",
              "  </thead>\n",
              "  <tbody>\n",
              "    <tr>\n",
              "      <th>0</th>\n",
              "      <td>Alabama</td>\n",
              "      <td>4779736</td>\n",
              "      <td>5.7</td>\n",
              "      <td>AL</td>\n",
              "    </tr>\n",
              "    <tr>\n",
              "      <th>1</th>\n",
              "      <td>Alaska</td>\n",
              "      <td>710231</td>\n",
              "      <td>5.6</td>\n",
              "      <td>AK</td>\n",
              "    </tr>\n",
              "    <tr>\n",
              "      <th>2</th>\n",
              "      <td>Arizona</td>\n",
              "      <td>6392017</td>\n",
              "      <td>4.7</td>\n",
              "      <td>AZ</td>\n",
              "    </tr>\n",
              "    <tr>\n",
              "      <th>3</th>\n",
              "      <td>Arkansas</td>\n",
              "      <td>2915918</td>\n",
              "      <td>5.6</td>\n",
              "      <td>AR</td>\n",
              "    </tr>\n",
              "    <tr>\n",
              "      <th>4</th>\n",
              "      <td>California</td>\n",
              "      <td>37253956</td>\n",
              "      <td>4.4</td>\n",
              "      <td>CA</td>\n",
              "    </tr>\n",
              "  </tbody>\n",
              "</table>\n",
              "</div>\n",
              "      <button class=\"colab-df-convert\" onclick=\"convertToInteractive('df-1ddb4c21-cc73-42cb-8dc3-ddfd4dd2cd3d')\"\n",
              "              title=\"Convert this dataframe to an interactive table.\"\n",
              "              style=\"display:none;\">\n",
              "        \n",
              "  <svg xmlns=\"http://www.w3.org/2000/svg\" height=\"24px\"viewBox=\"0 0 24 24\"\n",
              "       width=\"24px\">\n",
              "    <path d=\"M0 0h24v24H0V0z\" fill=\"none\"/>\n",
              "    <path d=\"M18.56 5.44l.94 2.06.94-2.06 2.06-.94-2.06-.94-.94-2.06-.94 2.06-2.06.94zm-11 1L8.5 8.5l.94-2.06 2.06-.94-2.06-.94L8.5 2.5l-.94 2.06-2.06.94zm10 10l.94 2.06.94-2.06 2.06-.94-2.06-.94-.94-2.06-.94 2.06-2.06.94z\"/><path d=\"M17.41 7.96l-1.37-1.37c-.4-.4-.92-.59-1.43-.59-.52 0-1.04.2-1.43.59L10.3 9.45l-7.72 7.72c-.78.78-.78 2.05 0 2.83L4 21.41c.39.39.9.59 1.41.59.51 0 1.02-.2 1.41-.59l7.78-7.78 2.81-2.81c.8-.78.8-2.07 0-2.86zM5.41 20L4 18.59l7.72-7.72 1.47 1.35L5.41 20z\"/>\n",
              "  </svg>\n",
              "      </button>\n",
              "      \n",
              "  <style>\n",
              "    .colab-df-container {\n",
              "      display:flex;\n",
              "      flex-wrap:wrap;\n",
              "      gap: 12px;\n",
              "    }\n",
              "\n",
              "    .colab-df-convert {\n",
              "      background-color: #E8F0FE;\n",
              "      border: none;\n",
              "      border-radius: 50%;\n",
              "      cursor: pointer;\n",
              "      display: none;\n",
              "      fill: #1967D2;\n",
              "      height: 32px;\n",
              "      padding: 0 0 0 0;\n",
              "      width: 32px;\n",
              "    }\n",
              "\n",
              "    .colab-df-convert:hover {\n",
              "      background-color: #E2EBFA;\n",
              "      box-shadow: 0px 1px 2px rgba(60, 64, 67, 0.3), 0px 1px 3px 1px rgba(60, 64, 67, 0.15);\n",
              "      fill: #174EA6;\n",
              "    }\n",
              "\n",
              "    [theme=dark] .colab-df-convert {\n",
              "      background-color: #3B4455;\n",
              "      fill: #D2E3FC;\n",
              "    }\n",
              "\n",
              "    [theme=dark] .colab-df-convert:hover {\n",
              "      background-color: #434B5C;\n",
              "      box-shadow: 0px 1px 3px 1px rgba(0, 0, 0, 0.15);\n",
              "      filter: drop-shadow(0px 1px 2px rgba(0, 0, 0, 0.3));\n",
              "      fill: #FFFFFF;\n",
              "    }\n",
              "  </style>\n",
              "\n",
              "      <script>\n",
              "        const buttonEl =\n",
              "          document.querySelector('#df-1ddb4c21-cc73-42cb-8dc3-ddfd4dd2cd3d button.colab-df-convert');\n",
              "        buttonEl.style.display =\n",
              "          google.colab.kernel.accessAllowed ? 'block' : 'none';\n",
              "\n",
              "        async function convertToInteractive(key) {\n",
              "          const element = document.querySelector('#df-1ddb4c21-cc73-42cb-8dc3-ddfd4dd2cd3d');\n",
              "          const dataTable =\n",
              "            await google.colab.kernel.invokeFunction('convertToInteractive',\n",
              "                                                     [key], {});\n",
              "          if (!dataTable) return;\n",
              "\n",
              "          const docLinkHtml = 'Like what you see? Visit the ' +\n",
              "            '<a target=\"_blank\" href=https://colab.research.google.com/notebooks/data_table.ipynb>data table notebook</a>'\n",
              "            + ' to learn more about interactive tables.';\n",
              "          element.innerHTML = '';\n",
              "          dataTable['output_type'] = 'display_data';\n",
              "          await google.colab.output.renderOutput(dataTable, element);\n",
              "          const docLink = document.createElement('div');\n",
              "          docLink.innerHTML = docLinkHtml;\n",
              "          element.appendChild(docLink);\n",
              "        }\n",
              "      </script>\n",
              "    </div>\n",
              "  </div>\n",
              "  "
            ]
          },
          "metadata": {},
          "execution_count": 4
        }
      ]
    },
    {
      "cell_type": "code",
      "source": [
        "#1. Compute mean, trimmed mean and median \n",
        "meancal = df['Population'].mean()\n",
        "trimmed_mean_cal =  stats.trim_mean(df['Population'],0.1)\n",
        "median1 = statistics.median(df['Population'])\n",
        "\n",
        "print(\"Mean : \",meancal)\n",
        "print(\"Trimmed Mean Call :\",trimmed_mean_cal)\n",
        "print(\"median cal :\",median1)"
      ],
      "metadata": {
        "colab": {
          "base_uri": "https://localhost:8080/"
        },
        "id": "kqm7r9Bmvfzh",
        "outputId": "b38607f2-815e-479c-8f1b-89557c55130a"
      },
      "execution_count": null,
      "outputs": [
        {
          "output_type": "stream",
          "name": "stdout",
          "text": [
            "Mean :  6162876.3\n",
            "Trimmed Mean Call : 4783697.125\n",
            "median cal : 4436369.5\n"
          ]
        }
      ]
    },
    {
      "cell_type": "markdown",
      "source": [
        "The mean is bigger than the trimmed mean, which is bigger than the median.\n",
        "This is because the trimmed mean excludes the largest and smallest five states\n",
        "(trim=0.1 drops 10% from each end). If we want to compute the average murder rate\n",
        "for the country, we need to use a weighted mean or median to account for different\n",
        "populations in the states.\n",
        "\n",
        "Weighted mean is available with NumPy. For weighted median, we can use the specialized\n",
        "package wquantiles:"
      ],
      "metadata": {
        "id": "KmZvqt_Mw8BY"
      }
    },
    {
      "cell_type": "code",
      "source": [
        "weighted_mean  = np.average(df['Murder.Rate'], weights=df['Population'])\n",
        "weighted_median = wquantiles.median(df['Murder.Rate'],weights = df['Population'])\n",
        "\n",
        "print(\"Weighted Mean :\",weighted_mean)\n",
        "print(\"weighted_median :\",weighted_median)"
      ],
      "metadata": {
        "colab": {
          "base_uri": "https://localhost:8080/"
        },
        "id": "BpVh7qc3xRyu",
        "outputId": "7863b5b0-de21-4f48-e6d6-62e1369b8d88"
      },
      "execution_count": null,
      "outputs": [
        {
          "output_type": "stream",
          "name": "stdout",
          "text": [
            "Weighted Mean : 4.445833981123393\n",
            "weighted_median : 4.4\n"
          ]
        }
      ]
    },
    {
      "cell_type": "markdown",
      "source": [
        "## Estimates of Variability\n",
        "Location is just one dimension in summarizing a feature. A second dimension, variability, also referred to as dispersion, measures whether the data values are tightly clustered or spread out. At the heart of statistics lies variability: measuring it, reducing it, distinguishing random from real variability, identifying the various sources of real variability, and making decisions in the presence of it."
      ],
      "metadata": {
        "id": "Qv1rd58KxRE1"
      }
    },
    {
      "cell_type": "code",
      "source": [
        "import statsmodels\n",
        "stdval = df['Population'].std()\n",
        "iqr = df[\"Population\"].quantile(0.75) -  df[\"Population\"].quantile(0.25)\n",
        "#mad = statsmodels.robust.scale.mad(df['Population'])\n",
        "print(\"Standard Deviation :\",stdval)\n",
        "print(\"Interquartile range :\", iqr)\n",
        "#print(\"Median Absolute Deviation :\".mad)"
      ],
      "metadata": {
        "colab": {
          "base_uri": "https://localhost:8080/"
        },
        "id": "Eh8nb7Xb04hk",
        "outputId": "4f2bf947-6fe3-4e83-c848-9c1ac99c04fe"
      },
      "execution_count": null,
      "outputs": [
        {
          "output_type": "stream",
          "name": "stdout",
          "text": [
            "Standard Deviation : 6848235.347401142\n",
            "Interquartile range : 4847308.0\n"
          ]
        }
      ]
    },
    {
      "cell_type": "markdown",
      "source": [
        "## Estimates based on Percentiles\n",
        "\n",
        "A different approach to estimating dispersion is based on looking at the spread of the sorted data.\n",
        "Statistics based on sorted (ranked) data are referred to as order statistics.\n",
        "The most basic measure is the range: the difference between the largest and smallest numbers. The minimum and maximum values themselves are useful to know and are helpful in identifying outliers, but the range is extremely sensitive to outliers and not very useful as a general measure of dispersion in the data.\n",
        "\n",
        "To avoid the sensitivity to outliers, we can look at the range of the data after dropping values from each end.\n",
        "\n",
        "\n",
        "In a data set, the $P$th percentile is a value such that at least $P$ percent\n",
        "of the values take on this value or less and at least $(100 – P)$ percent of the values take on this value or more.\n",
        "\n",
        "For example, to find the 80th percentile, sort the data.\n",
        "Then, starting with the smallest value, proceed 80 percent of the way to the largest\n",
        "value. Note that the median is the same thing as the 50th percentile. The percentile is essentially the same as a quantile, with quantiles indexed by fractions (so the $.8$ quantile is the same as the $80$th percentile).\n",
        "\n",
        "A common measurement of variability is the difference between the $25$th percentile\n",
        "and the $75$th percentile, called the **interquartile range (or IQR)**. Here is a simple example:\n",
        "${3,1,5,3,6,7,2,9}$. We sort these to get ${1,2,3,3,5,6,7,9}$. The 25th percentile is at $2.5$,\n",
        "and the $75$th percentile is at $6.5$, so the interquartile range is $6.5 – 2.5 = 4.$\n",
        "\n",
        "## Percentiles and Boxplots \n",
        "\n",
        "It is common to report the quartiles $(25th, 50th, and 75th$ percentiles)\n",
        "and the deciles (the $10th, 20th, …, 90th$ percentiles).\n",
        "\n",
        "Percentiles are especially valuable for summarizing the tails (the outer range) of the distribution. Popular culture has coined the term one-percenters to refer to the people in the top $99$th percentile of wealth."
      ],
      "metadata": {
        "id": "0bdFz9SH3kiF"
      }
    },
    {
      "cell_type": "code",
      "source": [
        "df['Murder.Rate'].quantile([0.05,0.25,0.5,0.75,0.95])"
      ],
      "metadata": {
        "colab": {
          "base_uri": "https://localhost:8080/"
        },
        "id": "3QyX6LG61mlZ",
        "outputId": "c3681a84-0456-437a-8a08-06d3d94465a9"
      },
      "execution_count": null,
      "outputs": [
        {
          "output_type": "execute_result",
          "data": {
            "text/plain": [
              "0.05    1.600\n",
              "0.25    2.425\n",
              "0.50    4.000\n",
              "0.75    5.550\n",
              "0.95    6.510\n",
              "Name: Murder.Rate, dtype: float64"
            ]
          },
          "metadata": {},
          "execution_count": 30
        }
      ]
    },
    {
      "cell_type": "code",
      "source": [
        "\"\"\"The median is 4 murders per 100,000 people, although there is quite a bit of variability:\n",
        "the 5th percentile is only 1.6 and the 95th percentile is 6.51.\"\"\""
      ],
      "metadata": {
        "id": "SzQOy-nE5fFQ"
      },
      "execution_count": null,
      "outputs": []
    },
    {
      "cell_type": "code",
      "source": [
        "ax = (df['Population']/1000000).plot.box()\n",
        "ax.set_ylabel('Population(millions')"
      ],
      "metadata": {
        "colab": {
          "base_uri": "https://localhost:8080/",
          "height": 282
        },
        "id": "7eyxP_FF5pBO",
        "outputId": "3ade6786-c2aa-48e8-c0ef-972fd9b6dd35"
      },
      "execution_count": null,
      "outputs": [
        {
          "output_type": "execute_result",
          "data": {
            "text/plain": [
              "Text(0, 0.5, 'Population(millions')"
            ]
          },
          "metadata": {},
          "execution_count": 32
        },
        {
          "output_type": "display_data",
          "data": {
            "text/plain": [
              "<Figure size 432x288 with 1 Axes>"
            ],
            "image/png": "[encoded data removed]"
          },
          "metadata": {
            "needs_background": "light"
          }
        }
      ]
    },
    {
      "cell_type": "markdown",
      "source": [
        "From this boxplot we can immediately see that the median state population is about $5$ million, half the states fall between about $2$ million and about $7$ million, and there are some high population outliers. \n",
        "\n",
        "The top and bottom of the box are the $75$th and $25$th\n",
        "percentiles, respectively. The median is shown by the horizontal line in the box. \n",
        "\n",
        "The dashed lines, referred to as whiskers, extend from the top and bottom of the box to indicate the range for the bulk of the data."
      ],
      "metadata": {
        "id": "rfeu-hON6RdX"
      }
    },
    {
      "cell_type": "markdown",
      "source": [
        "### Frquency Tables and Histograms \n",
        "\n",
        "A frequency table of a variable divides up the variable range into equally spaced segments and tells us how many values fall within each segment"
      ],
      "metadata": {
        "id": "bIQK0NrE6kIH"
      }
    },
    {
      "cell_type": "code",
      "source": [
        "binnedpopulation = pd.cut(df['Population'],10)\n",
        "binnedpopulation.value_counts()"
      ],
      "metadata": {
        "colab": {
          "base_uri": "https://localhost:8080/"
        },
        "id": "f9H6imGL6tCK",
        "outputId": "4cc9ea23-a26d-4bbf-9e58-38d9fe6f1861"
      },
      "execution_count": null,
      "outputs": [
        {
          "output_type": "execute_result",
          "data": {
            "text/plain": [
              "(526935.67, 4232659.0]      24\n",
              "(4232659.0, 7901692.0]      14\n",
              "(7901692.0, 11570725.0]      6\n",
              "(11570725.0, 15239758.0]     2\n",
              "(15239758.0, 18908791.0]     1\n",
              "(18908791.0, 22577824.0]     1\n",
              "(22577824.0, 26246857.0]     1\n",
              "(33584923.0, 37253956.0]     1\n",
              "(26246857.0, 29915890.0]     0\n",
              "(29915890.0, 33584923.0]     0\n",
              "Name: Population, dtype: int64"
            ]
          },
          "metadata": {},
          "execution_count": 33
        }
      ]
    },
    {
      "cell_type": "code",
      "source": [
        "from pandas.io.formats.info import DataFrameInfo\n",
        "arr = np.array([[526935.67, 4232659.0],   \n",
        "                [4232659.0, 7901692.0],   \n",
        "                [7901692.0, 11570725.0],      \n",
        "                [11570725.0, 15239758.0],     \n",
        "                [15239758.0, 18908791.0],    \n",
        "                [18908791.0, 22577824.0],    \n",
        "                [22577824.0, 26246857.0],     \n",
        "                [33584923.0, 37253956.0],     \n",
        "                [26246857.0, 29915890.0],     \n",
        "                [29915890.0, 33584923.0]])\n",
        "# Just to check that every bin in the histogram, has the same \n",
        "#range.\n",
        "diff = arr[:,1] - arr[:,0]\n",
        "print(diff)"
      ],
      "metadata": {
        "colab": {
          "base_uri": "https://localhost:8080/"
        },
        "id": "Ks3fNOjq7TgS",
        "outputId": "a41ca980-cca8-4b59-e64b-a6ce14791a5d"
      },
      "execution_count": null,
      "outputs": [
        {
          "output_type": "stream",
          "name": "stdout",
          "text": [
            "[3705723.33 3669033.   3669033.   3669033.   3669033.   3669033.\n",
            " 3669033.   3669033.   3669033.   3669033.  ]\n"
          ]
        }
      ]
    },
    {
      "cell_type": "code",
      "source": [
        "ax = (df['Population']/1000000).plot.hist(figsize=(4,4))\n",
        "ax.set_xlabel('Population(millions')"
      ],
      "metadata": {
        "colab": {
          "base_uri": "https://localhost:8080/",
          "height": 299
        },
        "id": "moHgYFsW76IV",
        "outputId": "f7cefa7b-bddc-414f-be82-21718986064b"
      },
      "execution_count": null,
      "outputs": [
        {
          "output_type": "execute_result",
          "data": {
            "text/plain": [
              "Text(0.5, 0, 'Population(millions')"
            ]
          },
          "metadata": {},
          "execution_count": 36
        },
        {
          "output_type": "display_data",
          "data": {
            "text/plain": [
              "<Figure size 288x288 with 1 Axes>"
            ],
            "image/png": "[encoded data removed]"
          },
          "metadata": {
            "needs_background": "light"
          }
        }
      ]
    },
    {
      "cell_type": "code",
      "source": [
        "ax = df['Murder.Rate'].plot.hist(density=True, xlim=[0,12], bins=range(1,12),alpha=0.5,color='skyblue')\n",
        "df['Murder.Rate'].plot.density(ax=ax)\n",
        "ax.set_xlabel('Murder Rate (per 100,000)')"
      ],
      "metadata": {
        "colab": {
          "base_uri": "https://localhost:8080/",
          "height": 296
        },
        "id": "M4nbPm-k_6Th",
        "outputId": "581437be-69f1-4378-bf91-3e4ad3f1dd9a"
      },
      "execution_count": null,
      "outputs": [
        {
          "output_type": "execute_result",
          "data": {
            "text/plain": [
              "Text(0.5, 0, 'Murder Rate (per 100,000)')"
            ]
          },
          "metadata": {},
          "execution_count": 38
        },
        {
          "output_type": "display_data",
          "data": {
            "text/plain": [
              "<Figure size 432x288 with 1 Axes>"
            ],
            "image/png": "[encoded data removed]"
          },
          "metadata": {
            "needs_background": "light"
          }
        }
      ]
    },
    {
      "cell_type": "code",
      "source": [
        "plt.hist(df['Murder.Rate'],density=True,range=(0,12), bins=range(1,12),alpha=0.5,color='skyblue')\n",
        "df['Murder.Rate'].plot.density(color='green')\n",
        "plt.xlim(0, 12)\n",
        "plt.xlabel('Murder Rate (per 100,000)')"
      ],
      "metadata": {
        "colab": {
          "base_uri": "https://localhost:8080/",
          "height": 296
        },
        "id": "vLaqp09yARia",
        "outputId": "ccc4bcf7-71ac-4ade-c3bb-982cc8134217"
      },
      "execution_count": null,
      "outputs": [
        {
          "output_type": "execute_result",
          "data": {
            "text/plain": [
              "Text(0.5, 0, 'Murder Rate (per 100,000)')"
            ]
          },
          "metadata": {},
          "execution_count": 49
        },
        {
          "output_type": "display_data",
          "data": {
            "text/plain": [
              "<Figure size 432x288 with 1 Axes>"
            ],
            "image/png": "[encoded data removed]"
          },
          "metadata": {
            "needs_background": "light"
          }
        }
      ]
    },
    {
      "cell_type": "markdown",
      "source": [
        "A key distinction from the histogram plotted in Figure 1-3 is the scale of the y-axis: a density plot corresponds to plotting the histogram as a proportion rather than counts."
      ],
      "metadata": {
        "id": "jKstPy9xBvgk"
      }
    },
    {
      "cell_type": "markdown",
      "source": [
        "## Exploring Binary or Categorical Data"
      ],
      "metadata": {
        "id": "HPV4knzHCJb2"
      }
    },
    {
      "cell_type": "code",
      "source": [
        "import random\n",
        "from google.colab import drive\n",
        "drive.mount('/content/drive')"
      ],
      "metadata": {
        "colab": {
          "base_uri": "https://localhost:8080/"
        },
        "id": "ucBMAh5Zoi-w",
        "outputId": "c7ec11f2-a403-4e26-f959-7cd2202121a2"
      },
      "execution_count": null,
      "outputs": [
        {
          "output_type": "stream",
          "name": "stdout",
          "text": [
            "Mounted at /content/drive\n"
          ]
        }
      ]
    },
    {
      "cell_type": "code",
      "source": [
        "import seaborn as sns\n",
        "import random\n",
        "import matplotlib.pyplot as plt\n",
        "\n",
        "\n",
        "%cd /content/drive/My\\ Drive/colab_notebooks/machine_learning/Interview_prep/Statistics4DataScientist/\n",
        "df = pd.read_csv(\"sp500_data.csv.gz\")"
      ],
      "metadata": {
        "colab": {
          "base_uri": "https://localhost:8080/"
        },
        "id": "9IfQS9rPox3S",
        "outputId": "fa206e37-5ea7-4342-c18e-9d7cd819bb31"
      },
      "execution_count": null,
      "outputs": [
        {
          "output_type": "stream",
          "name": "stdout",
          "text": [
            "/content/drive/My Drive/colab_notebooks/machine_learning/Interview_prep/Statistics4DataScientist\n"
          ]
        }
      ]
    },
    {
      "cell_type": "code",
      "source": [
        "df.head()\n"
      ],
      "metadata": {
        "colab": {
          "base_uri": "https://localhost:8080/",
          "height": 235
        },
        "id": "2-ALM848pPCy",
        "outputId": "db3ff76c-187b-4ace-853a-8d704c56b5b2"
      },
      "execution_count": null,
      "outputs": [
        {
          "output_type": "execute_result",
          "data": {
            "text/plain": [
              "   Unnamed: 0  ADS        CA      MSFT  RHT  CTSH       CSC       EMC  \\\n",
              "0  1993-01-29  0.0  0.060124 -0.022100  0.0   0.0  0.018897  0.007368   \n",
              "1  1993-02-01  0.0 -0.180389  0.027621  0.0   0.0  0.018889  0.018425   \n",
              "2  1993-02-02  0.0 -0.120257  0.035900  0.0   0.0 -0.075573  0.029482   \n",
              "3  1993-02-03  0.0  0.060124 -0.024857  0.0   0.0 -0.151128  0.003689   \n",
              "4  1993-02-04  0.0 -0.360770 -0.060757  0.0   0.0  0.113350 -0.022114   \n",
              "\n",
              "        IBM       XRX  ...  WAT  ALXN     AMGN  BXLT     BIIB     CELG  \\\n",
              "0  0.092165  0.259140  ...  0.0   0.0  0.34716   0.0  0.04167  0.00000   \n",
              "1  0.115207 -0.100775  ...  0.0   0.0 -0.23144   0.0  0.00000 -0.01041   \n",
              "2 -0.023041  0.028796  ...  0.0   0.0 -0.11572   0.0  0.00000  0.00000   \n",
              "3 -0.253454 -0.043190  ...  0.0   0.0 -0.08679   0.0  0.04167 -0.04167   \n",
              "4  0.069862  0.000000  ...  0.0   0.0  0.14465   0.0 -0.04166 -0.03126   \n",
              "\n",
              "       GILD  REGN    VRTX  HSIC  \n",
              "0  0.015564  1.75  0.1250   0.0  \n",
              "1  0.007782  1.25  0.1250   0.0  \n",
              "2 -0.007792 -0.25  0.0000   0.0  \n",
              "3 -0.038919 -0.50  0.0625   0.0  \n",
              "4 -0.046711  0.00  0.0625   0.0  \n",
              "\n",
              "[5 rows x 518 columns]"
            ],
            "text/html": [
              "\n",
              "  <div id=\"df-6537cb2f-4af0-4d85-8b9c-6e516f14e58a\">\n",
              "    <div class=\"colab-df-container\">\n",
              "      <div>\n",
              "<style scoped>\n",
              "    .dataframe tbody tr th:only-of-type {\n",
              "        vertical-align: middle;\n",
              "    }\n",
              "\n",
              "    .dataframe tbody tr th {\n",
              "        vertical-align: top;\n",
              "    }\n",
              "\n",
              "    .dataframe thead th {\n",
              "        text-align: right;\n",
              "    }\n",
              "</style>\n",
              "<table border=\"1\" class=\"dataframe\">\n",
              "  <thead>\n",
              "    <tr style=\"text-align: right;\">\n",
              "      <th></th>\n",
              "      <th>Unnamed: 0</th>\n",
              "      <th>ADS</th>\n",
              "      <th>CA</th>\n",
              "      <th>MSFT</th>\n",
              "      <th>RHT</th>\n",
              "      <th>CTSH</th>\n",
              "      <th>CSC</th>\n",
              "      <th>EMC</th>\n",
              "      <th>IBM</th>\n",
              "      <th>XRX</th>\n",
              "      <th>...</th>\n",
              "      <th>WAT</th>\n",
              "      <th>ALXN</th>\n",
              "      <th>AMGN</th>\n",
              "      <th>BXLT</th>\n",
              "      <th>BIIB</th>\n",
              "      <th>CELG</th>\n",
              "      <th>GILD</th>\n",
              "      <th>REGN</th>\n",
              "      <th>VRTX</th>\n",
              "      <th>HSIC</th>\n",
              "    </tr>\n",
              "  </thead>\n",
              "  <tbody>\n",
              "    <tr>\n",
              "      <th>0</th>\n",
              "      <td>1993-01-29</td>\n",
              "      <td>0.0</td>\n",
              "      <td>0.060124</td>\n",
              "      <td>-0.022100</td>\n",
              "      <td>0.0</td>\n",
              "      <td>0.0</td>\n",
              "      <td>0.018897</td>\n",
              "      <td>0.007368</td>\n",
              "      <td>0.092165</td>\n",
              "      <td>0.259140</td>\n",
              "      <td>...</td>\n",
              "      <td>0.0</td>\n",
              "      <td>0.0</td>\n",
              "      <td>0.34716</td>\n",
              "      <td>0.0</td>\n",
              "      <td>0.04167</td>\n",
              "      <td>0.00000</td>\n",
              "      <td>0.015564</td>\n",
              "      <td>1.75</td>\n",
              "      <td>0.1250</td>\n",
              "      <td>0.0</td>\n",
              "    </tr>\n",
              "    <tr>\n",
              "      <th>1</th>\n",
              "      <td>1993-02-01</td>\n",
              "      <td>0.0</td>\n",
              "      <td>-0.180389</td>\n",
              "      <td>0.027621</td>\n",
              "      <td>0.0</td>\n",
              "      <td>0.0</td>\n",
              "      <td>0.018889</td>\n",
              "      <td>0.018425</td>\n",
              "      <td>0.115207</td>\n",
              "      <td>-0.100775</td>\n",
              "      <td>...</td>\n",
              "      <td>0.0</td>\n",
              "      <td>0.0</td>\n",
              "      <td>-0.23144</td>\n",
              "      <td>0.0</td>\n",
              "      <td>0.00000</td>\n",
              "      <td>-0.01041</td>\n",
              "      <td>0.007782</td>\n",
              "      <td>1.25</td>\n",
              "      <td>0.1250</td>\n",
              "      <td>0.0</td>\n",
              "    </tr>\n",
              "    <tr>\n",
              "      <th>2</th>\n",
              "      <td>1993-02-02</td>\n",
              "      <td>0.0</td>\n",
              "      <td>-0.120257</td>\n",
              "      <td>0.035900</td>\n",
              "      <td>0.0</td>\n",
              "      <td>0.0</td>\n",
              "      <td>-0.075573</td>\n",
              "      <td>0.029482</td>\n",
              "      <td>-0.023041</td>\n",
              "      <td>0.028796</td>\n",
              "      <td>...</td>\n",
              "      <td>0.0</td>\n",
              "      <td>0.0</td>\n",
              "      <td>-0.11572</td>\n",
              "      <td>0.0</td>\n",
              "      <td>0.00000</td>\n",
              "      <td>0.00000</td>\n",
              "      <td>-0.007792</td>\n",
              "      <td>-0.25</td>\n",
              "      <td>0.0000</td>\n",
              "      <td>0.0</td>\n",
              "    </tr>\n",
              "    <tr>\n",
              "      <th>3</th>\n",
              "      <td>1993-02-03</td>\n",
              "      <td>0.0</td>\n",
              "      <td>0.060124</td>\n",
              "      <td>-0.024857</td>\n",
              "      <td>0.0</td>\n",
              "      <td>0.0</td>\n",
              "      <td>-0.151128</td>\n",
              "      <td>0.003689</td>\n",
              "      <td>-0.253454</td>\n",
              "      <td>-0.043190</td>\n",
              "      <td>...</td>\n",
              "      <td>0.0</td>\n",
              "      <td>0.0</td>\n",
              "      <td>-0.08679</td>\n",
              "      <td>0.0</td>\n",
              "      <td>0.04167</td>\n",
              "      <td>-0.04167</td>\n",
              "      <td>-0.038919</td>\n",
              "      <td>-0.50</td>\n",
              "      <td>0.0625</td>\n",
              "      <td>0.0</td>\n",
              "    </tr>\n",
              "    <tr>\n",
              "      <th>4</th>\n",
              "      <td>1993-02-04</td>\n",
              "      <td>0.0</td>\n",
              "      <td>-0.360770</td>\n",
              "      <td>-0.060757</td>\n",
              "      <td>0.0</td>\n",
              "      <td>0.0</td>\n",
              "      <td>0.113350</td>\n",
              "      <td>-0.022114</td>\n",
              "      <td>0.069862</td>\n",
              "      <td>0.000000</td>\n",
              "      <td>...</td>\n",
              "      <td>0.0</td>\n",
              "      <td>0.0</td>\n",
              "      <td>0.14465</td>\n",
              "      <td>0.0</td>\n",
              "      <td>-0.04166</td>\n",
              "      <td>-0.03126</td>\n",
              "      <td>-0.046711</td>\n",
              "      <td>0.00</td>\n",
              "      <td>0.0625</td>\n",
              "      <td>0.0</td>\n",
              "    </tr>\n",
              "  </tbody>\n",
              "</table>\n",
              "<p>5 rows × 518 columns</p>\n",
              "</div>\n",
              "      <button class=\"colab-df-convert\" onclick=\"convertToInteractive('df-6537cb2f-4af0-4d85-8b9c-6e516f14e58a')\"\n",
              "              title=\"Convert this dataframe to an interactive table.\"\n",
              "              style=\"display:none;\">\n",
              "        \n",
              "  <svg xmlns=\"http://www.w3.org/2000/svg\" height=\"24px\"viewBox=\"0 0 24 24\"\n",
              "       width=\"24px\">\n",
              "    <path d=\"M0 0h24v24H0V0z\" fill=\"none\"/>\n",
              "    <path d=\"M18.56 5.44l.94 2.06.94-2.06 2.06-.94-2.06-.94-.94-2.06-.94 2.06-2.06.94zm-11 1L8.5 8.5l.94-2.06 2.06-.94-2.06-.94L8.5 2.5l-.94 2.06-2.06.94zm10 10l.94 2.06.94-2.06 2.06-.94-2.06-.94-.94-2.06-.94 2.06-2.06.94z\"/><path d=\"M17.41 7.96l-1.37-1.37c-.4-.4-.92-.59-1.43-.59-.52 0-1.04.2-1.43.59L10.3 9.45l-7.72 7.72c-.78.78-.78 2.05 0 2.83L4 21.41c.39.39.9.59 1.41.59.51 0 1.02-.2 1.41-.59l7.78-7.78 2.81-2.81c.8-.78.8-2.07 0-2.86zM5.41 20L4 18.59l7.72-7.72 1.47 1.35L5.41 20z\"/>\n",
              "  </svg>\n",
              "      </button>\n",
              "      \n",
              "  <style>\n",
              "    .colab-df-container {\n",
              "      display:flex;\n",
              "      flex-wrap:wrap;\n",
              "      gap: 12px;\n",
              "    }\n",
              "\n",
              "    .colab-df-convert {\n",
              "      background-color: #E8F0FE;\n",
              "      border: none;\n",
              "      border-radius: 50%;\n",
              "      cursor: pointer;\n",
              "      display: none;\n",
              "      fill: #1967D2;\n",
              "      height: 32px;\n",
              "      padding: 0 0 0 0;\n",
              "      width: 32px;\n",
              "    }\n",
              "\n",
              "    .colab-df-convert:hover {\n",
              "      background-color: #E2EBFA;\n",
              "      box-shadow: 0px 1px 2px rgba(60, 64, 67, 0.3), 0px 1px 3px 1px rgba(60, 64, 67, 0.15);\n",
              "      fill: #174EA6;\n",
              "    }\n",
              "\n",
              "    [theme=dark] .colab-df-convert {\n",
              "      background-color: #3B4455;\n",
              "      fill: #D2E3FC;\n",
              "    }\n",
              "\n",
              "    [theme=dark] .colab-df-convert:hover {\n",
              "      background-color: #434B5C;\n",
              "      box-shadow: 0px 1px 3px 1px rgba(0, 0, 0, 0.15);\n",
              "      filter: drop-shadow(0px 1px 2px rgba(0, 0, 0, 0.3));\n",
              "      fill: #FFFFFF;\n",
              "    }\n",
              "  </style>\n",
              "\n",
              "      <script>\n",
              "        const buttonEl =\n",
              "          document.querySelector('#df-6537cb2f-4af0-4d85-8b9c-6e516f14e58a button.colab-df-convert');\n",
              "        buttonEl.style.display =\n",
              "          google.colab.kernel.accessAllowed ? 'block' : 'none';\n",
              "\n",
              "        async function convertToInteractive(key) {\n",
              "          const element = document.querySelector('#df-6537cb2f-4af0-4d85-8b9c-6e516f14e58a');\n",
              "          const dataTable =\n",
              "            await google.colab.kernel.invokeFunction('convertToInteractive',\n",
              "                                                     [key], {});\n",
              "          if (!dataTable) return;\n",
              "\n",
              "          const docLinkHtml = 'Like what you see? Visit the ' +\n",
              "            '<a target=\"_blank\" href=https://colab.research.google.com/notebooks/data_table.ipynb>data table notebook</a>'\n",
              "            + ' to learn more about interactive tables.';\n",
              "          element.innerHTML = '';\n",
              "          dataTable['output_type'] = 'display_data';\n",
              "          await google.colab.output.renderOutput(dataTable, element);\n",
              "          const docLink = document.createElement('div');\n",
              "          docLink.innerHTML = docLinkHtml;\n",
              "          element.appendChild(docLink);\n",
              "        }\n",
              "      </script>\n",
              "    </div>\n",
              "  </div>\n",
              "  "
            ]
          },
          "metadata": {},
          "execution_count": 14
        }
      ]
    },
    {
      "cell_type": "code",
      "source": [
        "df = pd.read_csv('https://raw.githubusercontent.com/gedeck/practical-statistics-for-data-scientists/master/data/sp500_sectors.csv')"
      ],
      "metadata": {
        "id": "1OpJ2JEZuEoq"
      },
      "execution_count": null,
      "outputs": []
    },
    {
      "cell_type": "code",
      "source": [
        "df"
      ],
      "metadata": {
        "colab": {
          "base_uri": "https://localhost:8080/",
          "height": 423
        },
        "id": "96K6hQK9uJCu",
        "outputId": "0d1c75cd-4707-46a4-afb1-47fb60476f65"
      },
      "execution_count": null,
      "outputs": [
        {
          "output_type": "execute_result",
          "data": {
            "text/plain": [
              "                     sector sector_label  \\\n",
              "0    information_technology   Technology   \n",
              "1    information_technology   Technology   \n",
              "2    information_technology   Technology   \n",
              "3    information_technology   Technology   \n",
              "4    information_technology   Technology   \n",
              "..                      ...          ...   \n",
              "512             health_care  Health Care   \n",
              "513             health_care  Health Care   \n",
              "514             health_care  Health Care   \n",
              "515             health_care  Health Care   \n",
              "516             health_care  Health Care   \n",
              "\n",
              "                                sub_sector symbol  \n",
              "0    data_processing_&_outsourced_services    ADS  \n",
              "1                         systems_software     CA  \n",
              "2                         systems_software   MSFT  \n",
              "3                         systems_software    RHT  \n",
              "4                 it_consulting_&_services   CTSH  \n",
              "..                                     ...    ...  \n",
              "512                          biotechnology   CELG  \n",
              "513                          biotechnology   GILD  \n",
              "514                          biotechnology   REGN  \n",
              "515                          biotechnology   VRTX  \n",
              "516               health_care_distributors   HSIC  \n",
              "\n",
              "[517 rows x 4 columns]"
            ],
            "text/html": [
              "\n",
              "  <div id=\"df-4dc8db3b-06cc-40e2-a8d9-5327daa1f00a\">\n",
              "    <div class=\"colab-df-container\">\n",
              "      <div>\n",
              "<style scoped>\n",
              "    .dataframe tbody tr th:only-of-type {\n",
              "        vertical-align: middle;\n",
              "    }\n",
              "\n",
              "    .dataframe tbody tr th {\n",
              "        vertical-align: top;\n",
              "    }\n",
              "\n",
              "    .dataframe thead th {\n",
              "        text-align: right;\n",
              "    }\n",
              "</style>\n",
              "<table border=\"1\" class=\"dataframe\">\n",
              "  <thead>\n",
              "    <tr style=\"text-align: right;\">\n",
              "      <th></th>\n",
              "      <th>sector</th>\n",
              "      <th>sector_label</th>\n",
              "      <th>sub_sector</th>\n",
              "      <th>symbol</th>\n",
              "    </tr>\n",
              "  </thead>\n",
              "  <tbody>\n",
              "    <tr>\n",
              "      <th>0</th>\n",
              "      <td>information_technology</td>\n",
              "      <td>Technology</td>\n",
              "      <td>data_processing_&amp;_outsourced_services</td>\n",
              "      <td>ADS</td>\n",
              "    </tr>\n",
              "    <tr>\n",
              "      <th>1</th>\n",
              "      <td>information_technology</td>\n",
              "      <td>Technology</td>\n",
              "      <td>systems_software</td>\n",
              "      <td>CA</td>\n",
              "    </tr>\n",
              "    <tr>\n",
              "      <th>2</th>\n",
              "      <td>information_technology</td>\n",
              "      <td>Technology</td>\n",
              "      <td>systems_software</td>\n",
              "      <td>MSFT</td>\n",
              "    </tr>\n",
              "    <tr>\n",
              "      <th>3</th>\n",
              "      <td>information_technology</td>\n",
              "      <td>Technology</td>\n",
              "      <td>systems_software</td>\n",
              "      <td>RHT</td>\n",
              "    </tr>\n",
              "    <tr>\n",
              "      <th>4</th>\n",
              "      <td>information_technology</td>\n",
              "      <td>Technology</td>\n",
              "      <td>it_consulting_&amp;_services</td>\n",
              "      <td>CTSH</td>\n",
              "    </tr>\n",
              "    <tr>\n",
              "      <th>...</th>\n",
              "      <td>...</td>\n",
              "      <td>...</td>\n",
              "      <td>...</td>\n",
              "      <td>...</td>\n",
              "    </tr>\n",
              "    <tr>\n",
              "      <th>512</th>\n",
              "      <td>health_care</td>\n",
              "      <td>Health Care</td>\n",
              "      <td>biotechnology</td>\n",
              "      <td>CELG</td>\n",
              "    </tr>\n",
              "    <tr>\n",
              "      <th>513</th>\n",
              "      <td>health_care</td>\n",
              "      <td>Health Care</td>\n",
              "      <td>biotechnology</td>\n",
              "      <td>GILD</td>\n",
              "    </tr>\n",
              "    <tr>\n",
              "      <th>514</th>\n",
              "      <td>health_care</td>\n",
              "      <td>Health Care</td>\n",
              "      <td>biotechnology</td>\n",
              "      <td>REGN</td>\n",
              "    </tr>\n",
              "    <tr>\n",
              "      <th>515</th>\n",
              "      <td>health_care</td>\n",
              "      <td>Health Care</td>\n",
              "      <td>biotechnology</td>\n",
              "      <td>VRTX</td>\n",
              "    </tr>\n",
              "    <tr>\n",
              "      <th>516</th>\n",
              "      <td>health_care</td>\n",
              "      <td>Health Care</td>\n",
              "      <td>health_care_distributors</td>\n",
              "      <td>HSIC</td>\n",
              "    </tr>\n",
              "  </tbody>\n",
              "</table>\n",
              "<p>517 rows × 4 columns</p>\n",
              "</div>\n",
              "      <button class=\"colab-df-convert\" onclick=\"convertToInteractive('df-4dc8db3b-06cc-40e2-a8d9-5327daa1f00a')\"\n",
              "              title=\"Convert this dataframe to an interactive table.\"\n",
              "              style=\"display:none;\">\n",
              "        \n",
              "  <svg xmlns=\"http://www.w3.org/2000/svg\" height=\"24px\"viewBox=\"0 0 24 24\"\n",
              "       width=\"24px\">\n",
              "    <path d=\"M0 0h24v24H0V0z\" fill=\"none\"/>\n",
              "    <path d=\"M18.56 5.44l.94 2.06.94-2.06 2.06-.94-2.06-.94-.94-2.06-.94 2.06-2.06.94zm-11 1L8.5 8.5l.94-2.06 2.06-.94-2.06-.94L8.5 2.5l-.94 2.06-2.06.94zm10 10l.94 2.06.94-2.06 2.06-.94-2.06-.94-.94-2.06-.94 2.06-2.06.94z\"/><path d=\"M17.41 7.96l-1.37-1.37c-.4-.4-.92-.59-1.43-.59-.52 0-1.04.2-1.43.59L10.3 9.45l-7.72 7.72c-.78.78-.78 2.05 0 2.83L4 21.41c.39.39.9.59 1.41.59.51 0 1.02-.2 1.41-.59l7.78-7.78 2.81-2.81c.8-.78.8-2.07 0-2.86zM5.41 20L4 18.59l7.72-7.72 1.47 1.35L5.41 20z\"/>\n",
              "  </svg>\n",
              "      </button>\n",
              "      \n",
              "  <style>\n",
              "    .colab-df-container {\n",
              "      display:flex;\n",
              "      flex-wrap:wrap;\n",
              "      gap: 12px;\n",
              "    }\n",
              "\n",
              "    .colab-df-convert {\n",
              "      background-color: #E8F0FE;\n",
              "      border: none;\n",
              "      border-radius: 50%;\n",
              "      cursor: pointer;\n",
              "      display: none;\n",
              "      fill: #1967D2;\n",
              "      height: 32px;\n",
              "      padding: 0 0 0 0;\n",
              "      width: 32px;\n",
              "    }\n",
              "\n",
              "    .colab-df-convert:hover {\n",
              "      background-color: #E2EBFA;\n",
              "      box-shadow: 0px 1px 2px rgba(60, 64, 67, 0.3), 0px 1px 3px 1px rgba(60, 64, 67, 0.15);\n",
              "      fill: #174EA6;\n",
              "    }\n",
              "\n",
              "    [theme=dark] .colab-df-convert {\n",
              "      background-color: #3B4455;\n",
              "      fill: #D2E3FC;\n",
              "    }\n",
              "\n",
              "    [theme=dark] .colab-df-convert:hover {\n",
              "      background-color: #434B5C;\n",
              "      box-shadow: 0px 1px 3px 1px rgba(0, 0, 0, 0.15);\n",
              "      filter: drop-shadow(0px 1px 2px rgba(0, 0, 0, 0.3));\n",
              "      fill: #FFFFFF;\n",
              "    }\n",
              "  </style>\n",
              "\n",
              "      <script>\n",
              "        const buttonEl =\n",
              "          document.querySelector('#df-4dc8db3b-06cc-40e2-a8d9-5327daa1f00a button.colab-df-convert');\n",
              "        buttonEl.style.display =\n",
              "          google.colab.kernel.accessAllowed ? 'block' : 'none';\n",
              "\n",
              "        async function convertToInteractive(key) {\n",
              "          const element = document.querySelector('#df-4dc8db3b-06cc-40e2-a8d9-5327daa1f00a');\n",
              "          const dataTable =\n",
              "            await google.colab.kernel.invokeFunction('convertToInteractive',\n",
              "                                                     [key], {});\n",
              "          if (!dataTable) return;\n",
              "\n",
              "          const docLinkHtml = 'Like what you see? Visit the ' +\n",
              "            '<a target=\"_blank\" href=https://colab.research.google.com/notebooks/data_table.ipynb>data table notebook</a>'\n",
              "            + ' to learn more about interactive tables.';\n",
              "          element.innerHTML = '';\n",
              "          dataTable['output_type'] = 'display_data';\n",
              "          await google.colab.output.renderOutput(dataTable, element);\n",
              "          const docLink = document.createElement('div');\n",
              "          docLink.innerHTML = docLinkHtml;\n",
              "          element.appendChild(docLink);\n",
              "        }\n",
              "      </script>\n",
              "    </div>\n",
              "  </div>\n",
              "  "
            ]
          },
          "metadata": {},
          "execution_count": 22
        }
      ]
    }
  ]
}